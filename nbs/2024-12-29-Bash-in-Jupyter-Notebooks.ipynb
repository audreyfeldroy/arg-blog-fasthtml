{
 "cells": [
  {
   "cell_type": "markdown",
   "id": "aa5cb4b4",
   "metadata": {},
   "source": [
    "# Bash in Jupyter Notebooks"
   ]
  },
  {
   "cell_type": "markdown",
   "id": "25e816b8",
   "metadata": {},
   "source": [
    "## Variables"
   ]
  },
  {
   "cell_type": "code",
   "execution_count": 69,
   "id": "3b7cc57c",
   "metadata": {},
   "outputs": [
    {
     "name": "stdout",
     "output_type": "stream",
     "text": [
      "Hi Uma\n",
      "Note: it's safer to quote variables like Uma\n"
     ]
    }
   ],
   "source": [
    "%%bash\n",
    "name=\"Uma\"\n",
    "echo \"Hi $name\"\n",
    "echo \"Note: it's safer to quote variables like ${name}\""
   ]
  },
  {
   "cell_type": "code",
   "execution_count": 70,
   "id": "9b7e90ce",
   "metadata": {},
   "outputs": [
    {
     "name": "stdout",
     "output_type": "stream",
     "text": [
      "\n"
     ]
    }
   ],
   "source": [
    "%%bash\n",
    "echo \"${name}\""
   ]
  },
  {
   "cell_type": "markdown",
   "id": "50aa4cf3",
   "metadata": {},
   "source": [
    "`!` is like `%%bash` for one-line commands:"
   ]
  },
  {
   "cell_type": "code",
   "execution_count": 71,
   "id": "4ad8467a",
   "metadata": {},
   "outputs": [
    {
     "name": "stdout",
     "output_type": "stream",
     "text": [
      "Hi Daniel\r\n"
     ]
    }
   ],
   "source": [
    "!name=\"Daniel\"; echo \"Hi ${name}\""
   ]
  },
  {
   "cell_type": "code",
   "execution_count": 72,
   "id": "337fa4d9",
   "metadata": {},
   "outputs": [
    {
     "name": "stdout",
     "output_type": "stream",
     "text": [
      "Hi \r\n"
     ]
    }
   ],
   "source": [
    "!echo \"Hi ${name}\""
   ]
  },
  {
   "cell_type": "markdown",
   "id": "214f7886",
   "metadata": {},
   "source": [
    "Variables don't persist across cells, for `%%bash` or `!`. Each cell's commands run in its own subshell."
   ]
  },
  {
   "cell_type": "markdown",
   "id": "d6a6decf",
   "metadata": {},
   "source": [
    "## Constants"
   ]
  },
  {
   "cell_type": "code",
   "execution_count": 68,
   "id": "5cefac68",
   "metadata": {},
   "outputs": [
    {
     "name": "stdout",
     "output_type": "stream",
     "text": [
      "Uma is the sweetest\n"
     ]
    }
   ],
   "source": [
    "%%bash\n",
    "readonly UMA=\"the sweetest\"\n",
    "echo \"Uma is ${UMA}\""
   ]
  },
  {
   "cell_type": "markdown",
   "id": "0389cfa5",
   "metadata": {},
   "source": [
    "## Control Flow"
   ]
  },
  {
   "cell_type": "code",
   "execution_count": 42,
   "id": "5760c905",
   "metadata": {},
   "outputs": [
    {
     "name": "stdout",
     "output_type": "stream",
     "text": [
      "Greater\n"
     ]
    }
   ],
   "source": [
    "%%bash\n",
    "a=5\n",
    "b=4\n",
    "if [ \"$a\" -eq \"$b\" ]; then\n",
    "    echo \"Equal\"\n",
    "elif [ \"$a\" -gt \"$b\" ]; then\n",
    "    echo \"Greater\"\n",
    "else\n",
    "    echo \"Less\"\n",
    "fi"
   ]
  },
  {
   "cell_type": "code",
   "execution_count": 43,
   "id": "e14e8141",
   "metadata": {},
   "outputs": [
    {
     "name": "stdout",
     "output_type": "stream",
     "text": [
      "1\n",
      "2\n",
      "3\n",
      "4\n",
      "5\n"
     ]
    }
   ],
   "source": [
    "%%bash\n",
    "for i in {1..5}; do\n",
    "    echo $i\n",
    "done"
   ]
  },
  {
   "cell_type": "code",
   "execution_count": 48,
   "id": "6130c212",
   "metadata": {},
   "outputs": [
    {
     "name": "stdout",
     "output_type": "stream",
     "text": [
      "2\n",
      "3\n",
      "4\n"
     ]
    }
   ],
   "source": [
    "%%bash\n",
    "count=2\n",
    "while [ $count -lt 5 ]; do\n",
    "    echo $count\n",
    "    ((count++))\n",
    "done"
   ]
  },
  {
   "cell_type": "markdown",
   "id": "f8588db5",
   "metadata": {},
   "source": [
    "## Functions"
   ]
  },
  {
   "cell_type": "code",
   "execution_count": 49,
   "id": "e9c4d3c0",
   "metadata": {},
   "outputs": [
    {
     "name": "stdout",
     "output_type": "stream",
     "text": [
      "Hello Uma the cutie\n"
     ]
    }
   ],
   "source": [
    "%%bash\n",
    "greet() {\n",
    "    echo \"Hello $1\"  # $1 is first argument\n",
    "    return 0\n",
    "}\n",
    "greet \"Uma the cutie\""
   ]
  },
  {
   "cell_type": "markdown",
   "id": "caa963cc",
   "metadata": {},
   "source": [
    "## Arrays"
   ]
  },
  {
   "cell_type": "code",
   "execution_count": 61,
   "id": "d9536d51",
   "metadata": {},
   "outputs": [
    {
     "name": "stdout",
     "output_type": "stream",
     "text": [
      "First fruit: apple\n",
      "All fruits: apple banana orange\n"
     ]
    }
   ],
   "source": [
    "%%bash\n",
    "fruits=(\"apple\" \"banana\" \"orange\")\n",
    "echo \"First fruit: ${fruits[0]}\"\n",
    "echo \"All fruits: ${fruits[@]}\""
   ]
  }
 ],
 "metadata": {
  "kernelspec": {
   "display_name": "Python 3 (ipykernel)",
   "language": "python",
   "name": "python3"
  },
  "language_info": {
   "codemirror_mode": {
    "name": "ipython",
    "version": 3
   },
   "file_extension": ".py",
   "mimetype": "text/x-python",
   "name": "python",
   "nbconvert_exporter": "python",
   "pygments_lexer": "ipython3",
   "version": "3.12.7"
  }
 },
 "nbformat": 4,
 "nbformat_minor": 5
}
