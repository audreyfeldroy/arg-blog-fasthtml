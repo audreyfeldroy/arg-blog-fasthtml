{
 "cells": [
  {
   "cell_type": "markdown",
   "id": "7bf09c73",
   "metadata": {},
   "source": [
    "# Troubleshooting MonsterUI on This Site"
   ]
  },
  {
   "cell_type": "markdown",
   "id": "e3fedd3d",
   "metadata": {},
   "source": [
    "My first MonsterUI notebook isn't rendering correctly. Here I debug it."
   ]
  },
  {
   "cell_type": "code",
   "execution_count": 2,
   "id": "8bff65e3",
   "metadata": {},
   "outputs": [],
   "source": [
    "from fasthtml.common import *\n",
    "from monsterui.all import *"
   ]
  },
  {
   "cell_type": "markdown",
   "id": "88ebf8e6",
   "metadata": {},
   "source": [
    "## Understand the Problem"
   ]
  },
  {
   "cell_type": "markdown",
   "id": "b91fdff1",
   "metadata": {},
   "source": [
    "[MonsterUI Buttons and Links](https://audrey.feldroy.com/nbs/2025-01-22-MonsterUI-Buttons-and-Links) is the notebook with the problem.\n",
    "\n",
    "Let's start with a subset of the problem: the H1 text \"MonsterUI Buttons and Links\" is showing up as normal text."
   ]
  },
  {
   "cell_type": "code",
   "execution_count": 3,
   "id": "cb344dfb",
   "metadata": {},
   "outputs": [
    {
     "data": {
      "text/markdown": [
       "```html\n",
       "<h1 class=\"uk-h1 \">Hi</h1>\n",
       "\n",
       "```"
      ],
      "text/plain": [
       "h1(('Hi',),{'class': 'uk-h1 '})"
      ]
     },
     "execution_count": 3,
     "metadata": {},
     "output_type": "execute_result"
    }
   ],
   "source": [
    "H1(\"Hi\")"
   ]
  },
  {
   "cell_type": "code",
   "execution_count": 4,
   "id": "b86c1d3c",
   "metadata": {},
   "outputs": [
    {
     "data": {
      "text/markdown": [
       "```html\n",
       "<a href=\"https://audrey.feldroy.com\">My Blog</a>\n",
       "```"
      ],
      "text/plain": [
       "a(('My Blog',),{'href': 'https://audrey.feldroy.com'})"
      ]
     },
     "execution_count": 4,
     "metadata": {},
     "output_type": "execute_result"
    }
   ],
   "source": [
    "A(\"My Blog\", href=\"https://audrey.feldroy.com\")"
   ]
  },
  {
   "cell_type": "markdown",
   "id": "26803b10",
   "metadata": {},
   "source": [
    "## Solution in Next Notebook"
   ]
  },
  {
   "cell_type": "markdown",
   "id": "1f2dbef1",
   "metadata": {},
   "source": [
    "I ended up rewriting the MonsterUI rendering part of main.py from scratch in https://audrey.feldroy.com/nbs/2025-01-23-This-Site-Is-Now-Powered-by-This-Blog-Post"
   ]
  },
  {
   "cell_type": "markdown",
   "id": "2fc8ff9b",
   "metadata": {},
   "source": [
    "Sometimes it's easier to rewrite than debug."
   ]
  }
 ],
 "metadata": {
  "kernelspec": {
   "display_name": "Python 3 (ipykernel)",
   "language": "python",
   "name": "python3"
  },
  "language_info": {
   "codemirror_mode": {
    "name": "ipython",
    "version": 3
   },
   "file_extension": ".py",
   "mimetype": "text/x-python",
   "name": "python",
   "nbconvert_exporter": "python",
   "pygments_lexer": "ipython3",
   "version": "3.12.8"
  }
 },
 "nbformat": 4,
 "nbformat_minor": 5
}
