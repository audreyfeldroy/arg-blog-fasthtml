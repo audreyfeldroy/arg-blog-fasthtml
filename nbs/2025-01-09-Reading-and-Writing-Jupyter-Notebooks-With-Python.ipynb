{
 "cells": [
  {
   "cell_type": "markdown",
   "id": "0",
   "metadata": {},
   "source": [
    "# Reading and Writing Jupyter Notebooks With Python"
   ]
  },
  {
   "cell_type": "code",
   "execution_count": null,
   "id": "1",
   "metadata": {},
   "outputs": [],
   "source": [
    "from execnb.nbio import new_nb\n",
    "from execnb.shell import exec_nb\n",
    "from pathlib import Path"
   ]
  },
  {
   "cell_type": "markdown",
   "id": "2",
   "metadata": {},
   "source": [
    "## Exploring This Snippet"
   ]
  },
  {
   "cell_type": "markdown",
   "id": "3",
   "metadata": {},
   "source": [
    "I'm starting with a snippet of code from the bottom of execnb's 01_nbio.ipynb, breaking it down into pieces and seeing each part:\n",
    "\n",
    "```python\n",
    "nb = new_nb([mk_cell('print(1)')])\n",
    "path = Path('test.ipynb')\n",
    "write_nb(nb, path)\n",
    "nb2 = read_nb(path)\n",
    "print(nb2.cells)\n",
    "path.unlink()\n",
    "```"
   ]
  },
  {
   "cell_type": "markdown",
   "id": "4",
   "metadata": {},
   "source": [
    "Funny, that original notebook built it up one cell at a time to get to that cell. Now I'm breaking down the finished result for myself to understand it better.\n",
    "\n",
    "It looks clear and understandable enough. But just reading code doesn't build mental muscle memory. To truly learn I find I have to interact, evaluate cells, print things, and see what everything even the obvious does."
   ]
  },
  {
   "cell_type": "markdown",
   "id": "5",
   "metadata": {},
   "source": [
    "## About Post-Cell Explanations"
   ]
  },
  {
   "cell_type": "markdown",
   "id": "6",
   "metadata": {},
   "source": [
    "I realize I've been writing before each cell instead of after. I'll try explaining after cells to better emulate Jeremy Howard's style. It's nice in a way because you get to look at the code and try to understand it for yourself first."
   ]
  },
  {
   "cell_type": "markdown",
   "id": "7",
   "metadata": {},
   "source": [
    "## Creating a Jupyter Notebook Programmatically"
   ]
  },
  {
   "cell_type": "code",
   "execution_count": null,
   "id": "8",
   "metadata": {},
   "outputs": [],
   "source": [
    "nb = new_nb([mk_cell('print(1)')])\n",
    "nb"
   ]
  },
  {
   "cell_type": "markdown",
   "id": "9",
   "metadata": {},
   "source": [
    "Here I create a new notebook via `new_nb`. The outputs list is empty because this notebook cell hasn't been executed yet - I've only created the notebook structure in memory."
   ]
  },
  {
   "cell_type": "markdown",
   "id": "10",
   "metadata": {},
   "source": [
    "## Creating a Path to Write It To"
   ]
  },
  {
   "cell_type": "code",
   "execution_count": null,
   "id": "11",
   "metadata": {},
   "outputs": [],
   "source": [
    "path = Path('test.ipynb')\n",
    "path"
   ]
  },
  {
   "cell_type": "markdown",
   "id": "12",
   "metadata": {},
   "source": [
    "Using standard pathlib here to create a path."
   ]
  },
  {
   "cell_type": "code",
   "execution_count": null,
   "id": "13",
   "metadata": {},
   "outputs": [],
   "source": [
    "print(path)"
   ]
  },
  {
   "cell_type": "markdown",
   "id": "14",
   "metadata": {},
   "source": [
    "Printing it shows the relative path."
   ]
  },
  {
   "cell_type": "code",
   "execution_count": null,
   "id": "15",
   "metadata": {},
   "outputs": [],
   "source": [
    "path.absolute()"
   ]
  },
  {
   "cell_type": "markdown",
   "id": "16",
   "metadata": {},
   "source": [
    "Here we can now see we're somewhere fun! So, relax and enjoy the rest of this experience."
   ]
  },
  {
   "cell_type": "markdown",
   "id": "17",
   "metadata": {},
   "source": [
    "## Writing and Rereading `test.ipynb`"
   ]
  },
  {
   "cell_type": "code",
   "execution_count": null,
   "id": "18",
   "metadata": {},
   "outputs": [],
   "source": [
    "write_nb(nb, path)"
   ]
  },
  {
   "cell_type": "code",
   "execution_count": null,
   "id": "19",
   "metadata": {},
   "outputs": [],
   "source": [
    "nb2 = read_nb(path)\n",
    "nb2"
   ]
  },
  {
   "cell_type": "markdown",
   "id": "20",
   "metadata": {},
   "source": [
    "Yay, we have written the notebook to test.ipynb and read it back in as nb2 successfully!"
   ]
  },
  {
   "cell_type": "markdown",
   "id": "21",
   "metadata": {},
   "source": [
    "## Exploring the Cells"
   ]
  },
  {
   "cell_type": "code",
   "execution_count": null,
   "id": "22",
   "metadata": {},
   "outputs": [],
   "source": [
    "nb2.cells"
   ]
  },
  {
   "cell_type": "markdown",
   "id": "23",
   "metadata": {},
   "source": [
    "Here we see there's 1 cell, the one we originally created, as expected. This would be `nb2['cells']` if this were a normal dict, but we've got a nice fastcore `AttrDict` here with dot access."
   ]
  },
  {
   "cell_type": "code",
   "execution_count": null,
   "id": "24",
   "metadata": {},
   "outputs": [],
   "source": [
    "print(nb2.cells)"
   ]
  },
  {
   "cell_type": "markdown",
   "id": "25",
   "metadata": {},
   "source": [
    "Printing the cells shows them on a single line."
   ]
  },
  {
   "cell_type": "markdown",
   "id": "26",
   "metadata": {},
   "source": [
    "## Cleaning Up Our Chef's Station"
   ]
  },
  {
   "cell_type": "code",
   "execution_count": null,
   "id": "27",
   "metadata": {},
   "outputs": [],
   "source": [
    "path.unlink()"
   ]
  },
  {
   "cell_type": "markdown",
   "id": "28",
   "metadata": {},
   "source": [
    "In pathlib, `unlink` deletes a file or symlink. We just deleted test.ipynb."
   ]
  },
  {
   "cell_type": "markdown",
   "id": "29",
   "metadata": {},
   "source": [
    "Careful with programmatic deletion of files. Keep the code as simple as possible. Here it's super-simple so we're fine."
   ]
  }
 ],
 "metadata": {
  "kernelspec": {
   "display_name": "Python 3 (ipykernel)",
   "language": "python",
   "name": "python3"
  },
  "language_info": {
   "codemirror_mode": {
    "name": "ipython",
    "version": 3
   },
   "file_extension": ".py",
   "mimetype": "text/x-python",
   "name": "python",
   "nbconvert_exporter": "python",
   "pygments_lexer": "ipython3",
   "version": "3.12.8"
  }
 },
 "nbformat": 4,
 "nbformat_minor": 5
}
