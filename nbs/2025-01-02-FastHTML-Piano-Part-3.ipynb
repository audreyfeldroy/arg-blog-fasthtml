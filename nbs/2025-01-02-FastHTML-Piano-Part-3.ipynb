{
 "cells": [
  {
   "cell_type": "markdown",
   "id": "0",
   "metadata": {},
   "source": [
    "# FastHTML Piano, Part 3"
   ]
  },
  {
   "cell_type": "code",
   "execution_count": null,
   "id": "1",
   "metadata": {},
   "outputs": [],
   "source": [
    "from fastcore.all import *\n",
    "from fasthtml.common import *"
   ]
  },
  {
   "cell_type": "code",
   "execution_count": null,
   "id": "2",
   "metadata": {},
   "outputs": [],
   "source": [
    "settings_js = \"\"\"window.audioContext = new AudioContext();\n",
    "window.gainNode = audioContext.createGain();\n",
    "window.gainNode.gain.value = 0.5;\n",
    "window.activeOscillators = new Map();\n",
    "\"\"\""
   ]
  },
  {
   "cell_type": "markdown",
   "id": "3",
   "metadata": {},
   "source": [
    "## Piano Settings Bar"
   ]
  },
  {
   "cell_type": "markdown",
   "id": "4",
   "metadata": {},
   "source": [
    "A volume slider to change the gainNode's value:"
   ]
  },
  {
   "cell_type": "code",
   "execution_count": null,
   "id": "5",
   "metadata": {},
   "outputs": [],
   "source": [
    "def VolumeInput(v=0.5):\n",
    "    return Div(\n",
    "            Span(\"Volume: \",style=\"vertical-align:middle;\"),\n",
    "            Input(type=\"range\",min=0,max=1.0,step=0.01,value=v,name=\"volume\",\n",
    "                onchange=f\"window.gainNode.gain.value=event.target.value;console.log('Volume changed to ', event.target.value);\"))\n",
    "show(VolumeInput())"
   ]
  },
  {
   "cell_type": "code",
   "execution_count": null,
   "id": "6",
   "metadata": {},
   "outputs": [],
   "source": [
    "show(VolumeInput(0.8))"
   ]
  },
  {
   "cell_type": "markdown",
   "id": "7",
   "metadata": {},
   "source": [
    "A dropdown to choose a waveform type:"
   ]
  },
  {
   "cell_type": "code",
   "execution_count": null,
   "id": "8",
   "metadata": {},
   "outputs": [],
   "source": [
    "def WaveformInput():\n",
    "    return Div(\n",
    "            Script(\"function updateWaveform(type) {window.waveformType = type;console.log('Waveform set to', type)}\"),\n",
    "            Span(\"Waveform: \"),\n",
    "            Select(\n",
    "                Option(\"Sine\", value=\"sine\"),\n",
    "                Option(\"Square\", value=\"square\"),\n",
    "                Option(\"Sawtooth\", value=\"sawtooth\"),\n",
    "                Option(\"Triangle\", value=\"triangle\"),\n",
    "                Option(\"Custom\", value=\"custom\"),\n",
    "                onchange=\"updateWaveform(event.target.value)\",\n",
    "                name=\"waveform\"))\n",
    "show(WaveformInput())"
   ]
  },
  {
   "cell_type": "markdown",
   "id": "9",
   "metadata": {},
   "source": [
    "Note: I defined a JS function in `Script` just to see if I can do that and call it in `onchange`. But it's simple enough that inline would have been fine."
   ]
  },
  {
   "cell_type": "markdown",
   "id": "10",
   "metadata": {},
   "source": [
    "The `SettingsBar` combines both inputs:"
   ]
  },
  {
   "cell_type": "code",
   "execution_count": null,
   "id": "11",
   "metadata": {},
   "outputs": [],
   "source": [
    "def SettingsBar():\n",
    "    return Div(\n",
    "        Script(settings_js),\n",
    "        VolumeInput(),\n",
    "        WaveformInput())\n",
    "show(SettingsBar())"
   ]
  },
  {
   "cell_type": "markdown",
   "id": "12",
   "metadata": {},
   "source": [
    "## Notes and Frequencies"
   ]
  },
  {
   "cell_type": "markdown",
   "id": "13",
   "metadata": {},
   "source": [
    "Let's modify the Key function to add click handling, and create the corresponding JavaScript to start and stop the oscillator when clicking. Here's how:"
   ]
  },
  {
   "cell_type": "code",
   "execution_count": null,
   "id": "14",
   "metadata": {},
   "outputs": [],
   "source": [
    "notes_in_octave = L(['C', 'C#', 'D', 'D#', 'E', 'F', 'F#', 'G', 'G#', 'A', 'A#', 'B'])\n",
    "notes_in_octave"
   ]
  },
  {
   "cell_type": "code",
   "execution_count": null,
   "id": "15",
   "metadata": {},
   "outputs": [],
   "source": [
    "npo = len(notes_in_octave)\n",
    "a4_freq = 440.0\n",
    "a4i = notes_in_octave.index('A') + (4 * npo)"
   ]
  },
  {
   "cell_type": "code",
   "execution_count": null,
   "id": "16",
   "metadata": {},
   "outputs": [],
   "source": [
    "def freq(note, octave):\n",
    "    ni = notes_in_octave.index(note) + (octave * npo)\n",
    "    semitones_from_a4 = ni - a4i\n",
    "    freq = a4_freq * (2 ** (semitones_from_a4 / npo))\n",
    "    return round(freq, ndigits=1)"
   ]
  },
  {
   "cell_type": "code",
   "execution_count": null,
   "id": "17",
   "metadata": {},
   "outputs": [],
   "source": [
    "key_js = \"\"\"\n",
    "function playTone(freq) {\n",
    "    const osc = window.audioContext.createOscillator();\n",
    "    osc.type = window.waveformType || 'sine';\n",
    "    osc.frequency.value = freq;\n",
    "    osc.connect(window.gainNode);\n",
    "    window.gainNode.connect(window.audioContext.destination);\n",
    "    osc.start();\n",
    "    window.activeOscillators.set(freq, osc);\n",
    "}\n",
    "\n",
    "function stopTone(freq) {\n",
    "    const osc = window.activeOscillators.get(freq);\n",
    "    if (osc) {\n",
    "        osc.stop();\n",
    "        osc.disconnect();\n",
    "        window.activeOscillators.delete(freq);\n",
    "    }\n",
    "}\"\"\""
   ]
  },
  {
   "cell_type": "code",
   "execution_count": null,
   "id": "18",
   "metadata": {},
   "outputs": [],
   "source": [
    "def Key(note, octave): \n",
    "    f = freq(note,octave)\n",
    "    is_black = '#' in note\n",
    "    style = ('cursor:pointer;font:10px \"Open Sans\",\"Lucida Grande\",\"Arial\",sans-serif;text-align:center;'\n",
    "            f'border:1px solid black;border-radius:5px;width:{20 if not is_black else 16}px;'\n",
    "            f'height:{80 if not is_black else 50}px;'\n",
    "            f'background-color:{\" black\" if is_black else \"white\"};color:{\" white\" if is_black else \"black\"};'\n",
    "            f'box-shadow:2px 2px darkgray;display:inline-block;position:relative;'\n",
    "            f'{\"top:-30px;\" if is_black else \"\"}'\n",
    "            'user-select:none;-moz-user-select:none;-webkit-user-select:none;-ms-user-select:none;')\n",
    "    return Div(\n",
    "        Script(key_js),\n",
    "        Div(Div(f, style=f'font-size:10px;transform:rotate(90deg);position:absolute;left:-6px;{\"bottom:24px;\" if is_black else \"bottom:50px;\"}'), \n",
    "            note.replace('#','♯'), Sub(octave, style='font-size:10px;pointer-events:none;'), \n",
    "            style='position:absolute;bottom:1px;text-align:center;width:100%;pointer-events:none;'),\n",
    "        onmouseover=\"event.target.style.backgroundColor = '#eef';\",\n",
    "        onmouseout=f\"event.target.style.backgroundColor = '#{'000' if is_black else 'fff'}';\",\n",
    "        onmousedown=f\"playTone({f})\",\n",
    "        onmouseup=f\"stopTone({f})\",\n",
    "        onmouseleave=f\"stopTone({f})\",\n",
    "        style=style)"
   ]
  },
  {
   "cell_type": "code",
   "execution_count": null,
   "id": "19",
   "metadata": {},
   "outputs": [],
   "source": [
    "def Octave(n):\n",
    "    return Div(*notes_in_octave.map(partial(Key,octave=n)),\n",
    "        style='display:inline-block;padding:0 6px 0 0;')"
   ]
  },
  {
   "cell_type": "code",
   "execution_count": null,
   "id": "20",
   "metadata": {},
   "outputs": [],
   "source": [
    "show(Octave(4))"
   ]
  },
  {
   "cell_type": "code",
   "execution_count": null,
   "id": "21",
   "metadata": {},
   "outputs": [],
   "source": [
    "def Keyboard(): return Div(*L(range(8)).map(Octave), style=\"width:auto;padding:0;margin:0;\")\n",
    "show(Keyboard())"
   ]
  },
  {
   "cell_type": "markdown",
   "id": "22",
   "metadata": {},
   "source": [
    "It's coming together! \n",
    "\n",
    "Remaining TODOs that I may or may not get to, depending on motivation, time, and interest from others:\n",
    "\n",
    "* Simplify to a list of one oscillator per note\n",
    "* Connect waveform select\n",
    "* Allow user to hold down the mouse and slide across keys\n",
    "* Computer keyboard control to allow for chords\n",
    "* Get it working on mobile and check non-Chrome browsers\n",
    "* Limit octaves to the audible ones\n",
    "\n",
    "Bonus nice-to-haves:\n",
    "\n",
    "* Make the black keys overlap the white ones correctly so it looks more pianolike\n",
    "* Songs\n",
    "\n",
    "We'll see though, no promises."
   ]
  }
 ],
 "metadata": {
  "kernelspec": {
   "display_name": "Python 3 (ipykernel)",
   "language": "python",
   "name": "python3"
  },
  "language_info": {
   "codemirror_mode": {
    "name": "ipython",
    "version": 3
   },
   "file_extension": ".py",
   "mimetype": "text/x-python",
   "name": "python",
   "nbconvert_exporter": "python",
   "pygments_lexer": "ipython3",
   "version": "3.12.8"
  }
 },
 "nbformat": 4,
 "nbformat_minor": 5
}
