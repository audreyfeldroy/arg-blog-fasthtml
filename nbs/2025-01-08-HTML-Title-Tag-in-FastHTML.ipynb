{
 "cells": [
  {
   "cell_type": "markdown",
   "id": "0",
   "metadata": {},
   "source": [
    "# HTML Title Tag in FastHTML"
   ]
  },
  {
   "cell_type": "markdown",
   "id": "1",
   "metadata": {},
   "source": [
    "I get so lazy about title tags. The point of today's notebook is to make me less lazy, so I actually fix the title of this site. Oh, and to explore `Title` and `Titled` in FastHTML."
   ]
  },
  {
   "cell_type": "code",
   "execution_count": null,
   "id": "2",
   "metadata": {},
   "outputs": [],
   "source": [
    "from fasthtml.common import *\n",
    "from fasthtml.jupyter import *\n",
    "from nb2fasthtml.core import render_nb"
   ]
  },
  {
   "cell_type": "markdown",
   "id": "3",
   "metadata": {},
   "source": [
    "To create a `<title>` tag, you use the Title FT:"
   ]
  },
  {
   "cell_type": "code",
   "execution_count": null,
   "id": "4",
   "metadata": {},
   "outputs": [],
   "source": [
    "Title(\"Hey\")"
   ]
  },
  {
   "cell_type": "markdown",
   "id": "5",
   "metadata": {},
   "source": [
    "`Titled` is a shortcut to give you `<title>` and `<h1>` containing the same thing, with the `<h1>` wrapped in a main container:"
   ]
  },
  {
   "cell_type": "code",
   "execution_count": null,
   "id": "6",
   "metadata": {},
   "outputs": [],
   "source": [
    "to_xml(Titled(\"Hey this is Titled\"))"
   ]
  },
  {
   "cell_type": "markdown",
   "id": "7",
   "metadata": {},
   "source": [
    "It doesn't make much sense until you add a list of FTs to `Titled`:"
   ]
  },
  {
   "cell_type": "code",
   "execution_count": null,
   "id": "8",
   "metadata": {},
   "outputs": [],
   "source": [
    "print(to_xml(Titled(\"Hey this is Titled\", P(\"Here's some page content in a paragraph.\"), \n",
    "             Div(P(\"And here's a paragraph in a div.\")),\n",
    "             Ol(Li(\"You can add stuff here\"), Li(\"And more stuff\"), Li(\"And the page can go on and on.\")))))"
   ]
  },
  {
   "cell_type": "markdown",
   "id": "9",
   "metadata": {},
   "source": [
    "## FastHTML App With Titled Pages"
   ]
  },
  {
   "cell_type": "markdown",
   "id": "10",
   "metadata": {},
   "source": [
    "Here's a FastHTML app I'm running from this notebook. "
   ]
  },
  {
   "cell_type": "code",
   "execution_count": null,
   "id": "11",
   "metadata": {},
   "outputs": [],
   "source": [
    "app,rt = fast_app(pico=False)"
   ]
  },
  {
   "cell_type": "code",
   "execution_count": null,
   "id": "12",
   "metadata": {},
   "outputs": [],
   "source": [
    "@rt\n",
    "def index():\n",
    "    return Titled(\"My Homepage\",\n",
    "        Div(P(\"This page has a title and h1.\")),\n",
    "        P(\"Here's some page content in a paragraph.\"), \n",
    "        Div(P(\"And here's a paragraph in a div.\")),\n",
    "        Ol(Li(\"You can add stuff here\"), Li(\"And more stuff\"), Li(\"The page can go on and on.\")))"
   ]
  },
  {
   "cell_type": "code",
   "execution_count": null,
   "id": "13",
   "metadata": {},
   "outputs": [],
   "source": [
    "server = JupyUvi(app)"
   ]
  },
  {
   "cell_type": "code",
   "execution_count": null,
   "id": "14",
   "metadata": {},
   "outputs": [],
   "source": [
    "@rt('/pages/{title}')\n",
    "def page(title:str):\n",
    "    return Titled(title,\n",
    "        Div(P(\"The title and h1 match the title page URL slug\")))"
   ]
  },
  {
   "cell_type": "code",
   "execution_count": null,
   "id": "15",
   "metadata": {},
   "outputs": [],
   "source": [
    "server.stop()"
   ]
  },
  {
   "cell_type": "markdown",
   "id": "16",
   "metadata": {},
   "source": [
    "## Titles From `nb2fasthtml`"
   ]
  },
  {
   "cell_type": "code",
   "execution_count": null,
   "id": "17",
   "metadata": {},
   "outputs": [],
   "source": [
    "name = \"2025-01-07-Verifying-Bluesky-Domain-in-FastHTML\"\n",
    "css = ':root {font-family: system-ui, -apple-system, \"Segoe UI\", Roboto, \"Helvetica Neue\", sans-serif;} p {line-height: 1.5;}'\n",
    "nb = Path(f'{name}.ipynb')"
   ]
  },
  {
   "cell_type": "markdown",
   "id": "18",
   "metadata": {},
   "source": [
    "`render_nb` from the `nb2fasthtml` package already turns the notebook's title into an h1, but it appears it doesn't add a title tag.\n",
    "\n",
    "To get around that, I have my notebook route handler return:"
   ]
  },
  {
   "cell_type": "code",
   "execution_count": null,
   "id": "19",
   "metadata": {},
   "outputs": [],
   "source": [
    "r = (Title(name[11:].replace('-', ' ').replace('_', ' ')),\n",
    "Style(css),\n",
    "render_nb(nb, wrapper=Div))\n",
    "r"
   ]
  },
  {
   "cell_type": "markdown",
   "id": "20",
   "metadata": {},
   "source": [
    "Which we can see generally more readably with:"
   ]
  },
  {
   "cell_type": "code",
   "execution_count": null,
   "id": "21",
   "metadata": {},
   "outputs": [],
   "source": [
    "print(to_xml(r))"
   ]
  }
 ],
 "metadata": {
  "kernelspec": {
   "display_name": "Python 3 (ipykernel)",
   "language": "python",
   "name": "python3"
  },
  "language_info": {
   "codemirror_mode": {
    "name": "ipython",
    "version": 3
   },
   "file_extension": ".py",
   "mimetype": "text/x-python",
   "name": "python",
   "nbconvert_exporter": "python",
   "pygments_lexer": "ipython3",
   "version": "3.12.8"
  }
 },
 "nbformat": 4,
 "nbformat_minor": 5
}
