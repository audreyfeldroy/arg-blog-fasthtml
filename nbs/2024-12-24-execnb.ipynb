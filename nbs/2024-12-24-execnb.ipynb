{
 "cells": [
  {
   "cell_type": "markdown",
   "id": "9d2ccc51",
   "metadata": {},
   "source": [
    "# What Can `execnb` do?"
   ]
  },
  {
   "cell_type": "markdown",
   "id": "4e55b7d0",
   "metadata": {},
   "source": [
    "This notebook is a [SolveIt](https://solveit.fast.ai/)-style exploration of [https://github.com/AnswerDotAI/execnb/](https://github.com/AnswerDotAI/execnb/). Here I am following the SolveIt process in a Jupyter notebook to learn new things."
   ]
  },
  {
   "cell_type": "markdown",
   "id": "03f2b6e2",
   "metadata": {},
   "source": [
    "## Understand the Problem"
   ]
  },
  {
   "cell_type": "markdown",
   "id": "42b7bb70",
   "metadata": {},
   "source": [
    "I've been interested in learning what the open-source `execnb` package does and how it works. I don't have a particular use case, other than wanting to know more so I can contribute to it or to code that uses it."
   ]
  },
  {
   "cell_type": "markdown",
   "id": "b4591af6",
   "metadata": {},
   "source": [
    "## Devise a Plan"
   ]
  },
  {
   "cell_type": "markdown",
   "id": "8197ed79",
   "metadata": {},
   "source": [
    "* Study the examples defined in the `execnb` notebooks\n",
    "* Create my own examples patterning them after those examples\n",
    "* Use literate programming in this notebook to write about my findings"
   ]
  },
  {
   "cell_type": "markdown",
   "id": "a6e68dca",
   "metadata": {},
   "source": [
    "## Carry Out the Plan"
   ]
  },
  {
   "cell_type": "markdown",
   "id": "322e010e",
   "metadata": {},
   "source": [
    "Let's see what execnb can do!"
   ]
  },
  {
   "cell_type": "code",
   "execution_count": 60,
   "id": "e9b4c651",
   "metadata": {},
   "outputs": [],
   "source": [
    "from execnb.nbio import *\n",
    "from execnb.shell import *\n",
    "from fastcore.all import *\n",
    "from fasthtml.common import *\n",
    "from IPython.display import HTML\n",
    "from pathlib import Path"
   ]
  },
  {
   "cell_type": "markdown",
   "id": "36feead5",
   "metadata": {},
   "source": [
    "## Setup: Let's Grab Some Jupyter Notebooks"
   ]
  },
  {
   "cell_type": "markdown",
   "id": "d7ecc152",
   "metadata": {},
   "source": [
    "We have notebooks in `nbs/` in this repo which we can look at."
   ]
  },
  {
   "cell_type": "code",
   "execution_count": 10,
   "id": "69428595",
   "metadata": {},
   "outputs": [
    {
     "data": {
      "text/plain": [
       "Path('../nbs')"
      ]
     },
     "execution_count": 10,
     "metadata": {},
     "output_type": "execute_result"
    }
   ],
   "source": [
    "root = Path('../nbs').parent\n",
    "nb_dir = root/'nbs'\n",
    "nb_dir"
   ]
  },
  {
   "cell_type": "markdown",
   "id": "9838bb3f",
   "metadata": {},
   "source": [
    "Yay for fastcore `L` lists and chainable operations like `sorted`:"
   ]
  },
  {
   "cell_type": "code",
   "execution_count": 38,
   "id": "58ed3911",
   "metadata": {},
   "outputs": [
    {
     "data": {
      "text/plain": [
       "(#13) [Path('../nbs/2023-07-29-nbdev.ipynb'),Path('../nbs/2024-07-14_SemanticUI_Cards.ipynb'),Path('../nbs/2024-07-15-Printing_Components.ipynb'),Path('../nbs/2024-07-16_Xtend_Pico.ipynb'),Path('../nbs/2024-07-29-Auth.ipynb'),Path('../nbs/2024-07-29-Delegates-Decorator.ipynb'),Path('../nbs/2024-07-29-FH-by-Example.ipynb'),Path('../nbs/2024-08-04-Claudette.ipynb'),Path('../nbs/2024-08-05-Claudette-FastHTML.ipynb'),Path('../nbs/2024-12-23-Daddys_Snowman_Card.ipynb'),Path('../nbs/2024-12-23-print.ipynb'),Path('../nbs/2024-12-23-read_nb_and_render_nb.ipynb'),Path('../nbs/2024-12-24-execnb.ipynb')]"
      ]
     },
     "execution_count": 38,
     "metadata": {},
     "output_type": "execute_result"
    }
   ],
   "source": [
    "nbs = L(nb_dir.glob('*.ipynb')).sorted()\n",
    "nbs"
   ]
  },
  {
   "cell_type": "markdown",
   "id": "a9ebebc6",
   "metadata": {},
   "source": [
    "## Reading a Jupyter Notebook with `read_nb`"
   ]
  },
  {
   "cell_type": "markdown",
   "id": "3d206065",
   "metadata": {},
   "source": [
    "`read_nb` comes from `execnb.nbio`:"
   ]
  },
  {
   "cell_type": "code",
   "execution_count": 18,
   "id": "5f11ba07",
   "metadata": {
    "scrolled": false
   },
   "outputs": [
    {
     "data": {
      "text/markdown": [
       "```json\n",
       "{ 'cell_type': 'markdown',\n",
       "  'idx_': 1,\n",
       "  'metadata': {},\n",
       "  'source': \"Here we are checking the numbers from our daughter's snowman card \"\n",
       "            'to Daddy. She gave him math problems to solve and a snowman joke.'}\n",
       "```"
      ],
      "text/plain": [
       "{'cell_type': 'markdown',\n",
       " 'metadata': {},\n",
       " 'source': \"Here we are checking the numbers from our daughter's snowman card to Daddy. She gave him math problems to solve and a snowman joke.\",\n",
       " 'idx_': 1}"
      ]
     },
     "execution_count": 18,
     "metadata": {},
     "output_type": "execute_result"
    }
   ],
   "source": [
    "nb = read_nb(nbs[9])\n",
    "L(nb['cells'])[1]"
   ]
  },
  {
   "cell_type": "markdown",
   "id": "ecbef9f1",
   "metadata": {},
   "source": [
    "That's nice that we can get any cell, and get its info!"
   ]
  },
  {
   "cell_type": "markdown",
   "id": "627ce9c6",
   "metadata": {},
   "source": [
    "## Jupyter Notebook Cells"
   ]
  },
  {
   "cell_type": "markdown",
   "id": "8f3129eb",
   "metadata": {},
   "source": [
    "Okay, let's grab the source of cells:"
   ]
  },
  {
   "cell_type": "code",
   "execution_count": 39,
   "id": "04da6713",
   "metadata": {},
   "outputs": [],
   "source": [
    "def get_source(cell): return cell['source']"
   ]
  },
  {
   "cell_type": "code",
   "execution_count": 21,
   "id": "3a2751de",
   "metadata": {},
   "outputs": [
    {
     "data": {
      "text/plain": [
       "(#6) [\"# Daddy's Snowman Card\",\"Here we are checking the numbers from our daughter's snowman card to Daddy. She gave him math problems to solve and a snowman joke.\",'200000','**AI Prompt**\\n\\nWhat is 200000 (2 followed by 5 zeroes)?',\"**AI Response**\\n\\nThat's two hundred thousand.\",'100+200000']"
      ]
     },
     "execution_count": 21,
     "metadata": {},
     "output_type": "execute_result"
    }
   ],
   "source": [
    "cells = L(nb['cells']).map(get_source)\n",
    "cells"
   ]
  },
  {
   "cell_type": "markdown",
   "id": "db8e226c",
   "metadata": {},
   "source": [
    "Let's see if those are AttrDicts:"
   ]
  },
  {
   "cell_type": "code",
   "execution_count": 29,
   "id": "15a14330",
   "metadata": {
    "scrolled": true
   },
   "outputs": [
    {
     "data": {
      "text/markdown": [
       "```json\n",
       "{ 'cell_type': 'markdown',\n",
       "  'idx_': 0,\n",
       "  'metadata': {},\n",
       "  'source': \"# Daddy's Snowman Card\"}\n",
       "```"
      ],
      "text/plain": [
       "{'cell_type': 'markdown',\n",
       " 'metadata': {},\n",
       " 'source': \"# Daddy's Snowman Card\",\n",
       " 'idx_': 0}"
      ]
     },
     "execution_count": 29,
     "metadata": {},
     "output_type": "execute_result"
    }
   ],
   "source": [
    "nb.cells[0]"
   ]
  },
  {
   "cell_type": "markdown",
   "id": "eca21e60",
   "metadata": {},
   "source": [
    "Yes!"
   ]
  },
  {
   "cell_type": "markdown",
   "id": "80bfe742",
   "metadata": {},
   "source": [
    "Let's use this nice AttrDict to get the source of a cell:"
   ]
  },
  {
   "cell_type": "code",
   "execution_count": 31,
   "id": "2e0214e3",
   "metadata": {},
   "outputs": [
    {
     "data": {
      "text/plain": [
       "\"Here we are checking the numbers from our daughter's snowman card to Daddy. She gave him math problems to solve and a snowman joke.\""
      ]
     },
     "execution_count": 31,
     "metadata": {},
     "output_type": "execute_result"
    }
   ],
   "source": [
    "L(nb.cells)[1].source"
   ]
  },
  {
   "cell_type": "code",
   "execution_count": 30,
   "id": "accd11db",
   "metadata": {
    "scrolled": true
   },
   "outputs": [
    {
     "data": {
      "text/plain": [
       "(#6) [\"# Daddy's Snowman Card\",\"Here we are checking the numbers from our daughter's snowman card to Daddy. She gave him math problems to solve and a snowman joke.\",'200000','**AI Prompt**\\n\\nWhat is 200000 (2 followed by 5 zeroes)?',\"**AI Response**\\n\\nThat's two hundred thousand.\",'100+200000']"
      ]
     },
     "execution_count": 30,
     "metadata": {},
     "output_type": "execute_result"
    }
   ],
   "source": [
    "def get_source(cell): return cell.source\n",
    "cells = L(nb.cells).map(get_source)\n",
    "cells"
   ]
  },
  {
   "cell_type": "markdown",
   "id": "a14b4d60",
   "metadata": {},
   "source": [
    "Yes, did it!"
   ]
  },
  {
   "cell_type": "markdown",
   "id": "d8ee384b",
   "metadata": {},
   "source": [
    "## Jupyter Notebook Metadata"
   ]
  },
  {
   "cell_type": "markdown",
   "id": "65738429",
   "metadata": {},
   "source": [
    "Sooo...besides cells there's metadata, right?"
   ]
  },
  {
   "cell_type": "code",
   "execution_count": 33,
   "id": "8d2d1cd3",
   "metadata": {
    "scrolled": true
   },
   "outputs": [
    {
     "data": {
      "text/markdown": [
       "```json\n",
       "{ 'kernelspec': { 'display_name': '.venv',\n",
       "                  'language': 'python',\n",
       "                  'name': 'python3'},\n",
       "  'language_info': { 'codemirror_mode': {'name': 'ipython', 'version': 3},\n",
       "                     'file_extension': '.py',\n",
       "                     'mimetype': 'text/x-python',\n",
       "                     'name': 'python',\n",
       "                     'nbconvert_exporter': 'python',\n",
       "                     'pygments_lexer': 'ipython3',\n",
       "                     'version': '3.12.7'}}\n",
       "```"
      ],
      "text/plain": [
       "{'kernelspec': {'display_name': '.venv',\n",
       "  'language': 'python',\n",
       "  'name': 'python3'},\n",
       " 'language_info': {'codemirror_mode': {'name': 'ipython', 'version': 3},\n",
       "  'file_extension': '.py',\n",
       "  'mimetype': 'text/x-python',\n",
       "  'name': 'python',\n",
       "  'nbconvert_exporter': 'python',\n",
       "  'pygments_lexer': 'ipython3',\n",
       "  'version': '3.12.7'}}"
      ]
     },
     "execution_count": 33,
     "metadata": {},
     "output_type": "execute_result"
    }
   ],
   "source": [
    "nb.metadata"
   ]
  },
  {
   "cell_type": "markdown",
   "id": "3f25a3c8",
   "metadata": {},
   "source": [
    "Seems useful. Might be worth printing the Python version at least:"
   ]
  },
  {
   "cell_type": "code",
   "execution_count": 36,
   "id": "3c196a2f",
   "metadata": {},
   "outputs": [
    {
     "data": {
      "text/plain": [
       "'3.12.7'"
      ]
     },
     "execution_count": 36,
     "metadata": {},
     "output_type": "execute_result"
    }
   ],
   "source": [
    "nb.metadata.language_info.version"
   ]
  },
  {
   "cell_type": "markdown",
   "id": "00917fe1",
   "metadata": {},
   "source": [
    "I feel like I'd want to print the Python version for every notebook I'm publishing."
   ]
  },
  {
   "cell_type": "markdown",
   "id": "e0c6365f",
   "metadata": {},
   "source": [
    "The version of each imported package would be nice too. Looks like that's beyond the scope of execnb most likely. Or is it?"
   ]
  },
  {
   "cell_type": "markdown",
   "id": "e76c1077",
   "metadata": {},
   "source": [
    "## CaptureShell"
   ]
  },
  {
   "cell_type": "markdown",
   "id": "74af682a",
   "metadata": {},
   "source": [
    "Looks like we can run a Jupyter notebook cell:"
   ]
  },
  {
   "cell_type": "code",
   "execution_count": 41,
   "id": "f3deb584",
   "metadata": {},
   "outputs": [
    {
     "data": {
      "text/plain": [
       "<execnb.shell.CaptureShell at 0x10a7a94f0>"
      ]
     },
     "execution_count": 41,
     "metadata": {},
     "output_type": "execute_result"
    }
   ],
   "source": [
    "s = CaptureShell(mpl_format='retina')\n",
    "s"
   ]
  },
  {
   "cell_type": "code",
   "execution_count": 43,
   "id": "f4888f08",
   "metadata": {},
   "outputs": [
    {
     "data": {
      "text/markdown": [
       "```json\n",
       "{ 'display_objects': [],\n",
       "  'exception': None,\n",
       "  'quiet': False,\n",
       "  'result': result: None; err: None; info: <cell: print(\"hi\"); id: None>,\n",
       "  'stderr': '',\n",
       "  'stdout': 'hi\\n'}\n",
       "```"
      ],
      "text/plain": [
       "{'result': result: None; err: None; info: <cell: print(\"hi\"); id: None>,\n",
       " 'stdout': 'hi\\n',\n",
       " 'stderr': '',\n",
       " 'display_objects': [],\n",
       " 'exception': None,\n",
       " 'quiet': False}"
      ]
     },
     "execution_count": 43,
     "metadata": {},
     "output_type": "execute_result"
    }
   ],
   "source": [
    "s.run_cell('print(\"hi\")')"
   ]
  },
  {
   "cell_type": "markdown",
   "id": "3f2fd522",
   "metadata": {},
   "source": [
    "Printing didn't have a result. How about a Python expression:"
   ]
  },
  {
   "cell_type": "code",
   "execution_count": 44,
   "id": "6b4ef36f",
   "metadata": {},
   "outputs": [
    {
     "data": {
      "text/markdown": [
       "```json\n",
       "{ 'display_objects': [],\n",
       "  'exception': None,\n",
       "  'quiet': False,\n",
       "  'result': result: 3; err: None; info: <cell: 1+1+1; id: None>,\n",
       "  'stderr': '',\n",
       "  'stdout': ''}\n",
       "```"
      ],
      "text/plain": [
       "{'result': result: 3; err: None; info: <cell: 1+1+1; id: None>,\n",
       " 'stdout': '',\n",
       " 'stderr': '',\n",
       " 'display_objects': [],\n",
       " 'exception': None,\n",
       " 'quiet': False}"
      ]
     },
     "execution_count": 44,
     "metadata": {},
     "output_type": "execute_result"
    }
   ],
   "source": [
    "s.run_cell('1+1+1')"
   ]
  },
  {
   "cell_type": "markdown",
   "id": "7bfd81a3",
   "metadata": {},
   "source": [
    "Ah, so we can see the result of evaluating it."
   ]
  },
  {
   "cell_type": "markdown",
   "id": "11ab97d6",
   "metadata": {},
   "source": [
    "What about a Markdown cell?"
   ]
  },
  {
   "cell_type": "code",
   "execution_count": 47,
   "id": "f14f9be0",
   "metadata": {
    "scrolled": true
   },
   "outputs": [
    {
     "data": {
      "text/markdown": [
       "```json\n",
       "{ 'display_objects': [],\n",
       "  'exception': None,\n",
       "  'quiet': False,\n",
       "  'result': result: None; err: None; info: <cell: # Hi; id: None>,\n",
       "  'stderr': '',\n",
       "  'stdout': ''}\n",
       "```"
      ],
      "text/plain": [
       "{'result': result: None; err: None; info: <cell: # Hi; id: None>,\n",
       " 'stdout': '',\n",
       " 'stderr': '',\n",
       " 'display_objects': [],\n",
       " 'exception': None,\n",
       " 'quiet': False}"
      ]
     },
     "execution_count": 47,
     "metadata": {},
     "output_type": "execute_result"
    }
   ],
   "source": [
    "s.run_cell('# Hi')"
   ]
  },
  {
   "cell_type": "code",
   "execution_count": 49,
   "id": "313473ec",
   "metadata": {},
   "outputs": [
    {
     "data": {
      "text/plain": [
       "[]"
      ]
     },
     "execution_count": 49,
     "metadata": {},
     "output_type": "execute_result"
    }
   ],
   "source": [
    "s.run('# Hi')"
   ]
  },
  {
   "cell_type": "markdown",
   "id": "ebca51f5",
   "metadata": {},
   "source": [
    "Looking at `execnb.shell`, I think it's just for Python code right now."
   ]
  },
  {
   "cell_type": "code",
   "execution_count": 48,
   "id": "0ae5db7c",
   "metadata": {},
   "outputs": [
    {
     "data": {
      "text/plain": [
       "[{'name': 'stdout', 'output_type': 'stream', 'text': ['1\\n']}]"
      ]
     },
     "execution_count": 48,
     "metadata": {},
     "output_type": "execute_result"
    }
   ],
   "source": [
    "s.run(\"print(1)\")"
   ]
  },
  {
   "cell_type": "markdown",
   "id": "8e1ddee4",
   "metadata": {},
   "source": [
    "## Rendering cell outputs"
   ]
  },
  {
   "cell_type": "markdown",
   "id": "45b8eb53",
   "metadata": {},
   "source": [
    "I'm offline and can't install dependencies, but I can see that `render_outputs` can render some outputs of executed cells like matplotlib plots."
   ]
  },
  {
   "cell_type": "markdown",
   "id": "f30122c8",
   "metadata": {},
   "source": [
    "What about a simple Python expression?"
   ]
  },
  {
   "cell_type": "code",
   "execution_count": 51,
   "id": "c38f0aec",
   "metadata": {},
   "outputs": [
    {
     "data": {
      "text/plain": [
       "[{'data': {'text/plain': ['6']},\n",
       "  'metadata': {},\n",
       "  'output_type': 'execute_result',\n",
       "  'execution_count': None}]"
      ]
     },
     "execution_count": 51,
     "metadata": {},
     "output_type": "execute_result"
    }
   ],
   "source": [
    "o = s.run(\"1+2+3\")\n",
    "o"
   ]
  },
  {
   "cell_type": "code",
   "execution_count": 52,
   "id": "f4e8f311",
   "metadata": {},
   "outputs": [
    {
     "data": {
      "text/plain": [
       "'<pre ><code>6</code></pre>'"
      ]
     },
     "execution_count": 52,
     "metadata": {},
     "output_type": "execute_result"
    }
   ],
   "source": [
    "render_outputs(o)"
   ]
  },
  {
   "cell_type": "markdown",
   "id": "8e6697b6",
   "metadata": {},
   "source": [
    "What about some FastHTML?"
   ]
  },
  {
   "cell_type": "code",
   "execution_count": 55,
   "id": "5f9886a9",
   "metadata": {},
   "outputs": [
    {
     "data": {
      "text/plain": [
       "[{'data': {'text/plain': [\"p(('Hi',),{})\"],\n",
       "   'text/markdown': ['```html\\n', '<p>Hi</p>\\n', '\\n', '```']},\n",
       "  'metadata': {},\n",
       "  'output_type': 'execute_result',\n",
       "  'execution_count': None}]"
      ]
     },
     "execution_count": 55,
     "metadata": {},
     "output_type": "execute_result"
    }
   ],
   "source": [
    "o = s.run(\"\"\"from fasthtml.common import *\n",
    "P(\"Hi\")\"\"\")\n",
    "o"
   ]
  },
  {
   "cell_type": "code",
   "execution_count": 56,
   "id": "9bb9b8f9",
   "metadata": {},
   "outputs": [
    {
     "data": {
      "text/plain": [
       "'<pre><code class=\"language-html\">&lt;p&gt;Hi&lt;/p&gt;\\n\\n</code></pre>\\n'"
      ]
     },
     "execution_count": 56,
     "metadata": {},
     "output_type": "execute_result"
    }
   ],
   "source": [
    "render_outputs(o)"
   ]
  },
  {
   "cell_type": "markdown",
   "id": "f892c1b8",
   "metadata": {},
   "source": [
    "The `HTML` function from `IPython.display` looks useful here:"
   ]
  },
  {
   "cell_type": "code",
   "execution_count": 61,
   "id": "d76340b7",
   "metadata": {},
   "outputs": [
    {
     "data": {
      "text/html": [
       "<pre><code class=\"language-html\">&lt;p&gt;Hi&lt;/p&gt;\n",
       "\n",
       "</code></pre>\n"
      ],
      "text/plain": [
       "<IPython.core.display.HTML object>"
      ]
     },
     "execution_count": 61,
     "metadata": {},
     "output_type": "execute_result"
    }
   ],
   "source": [
    "HTML(render_outputs(o))"
   ]
  },
  {
   "cell_type": "markdown",
   "id": "0d94ccf1",
   "metadata": {},
   "source": [
    "## Completions"
   ]
  },
  {
   "cell_type": "markdown",
   "id": "4c851e22",
   "metadata": {},
   "source": [
    "`SmartCompleter` extends `IPCompleter` from `IPython.core.completer`. We can try instantiating one and seeing what it does:"
   ]
  },
  {
   "cell_type": "code",
   "execution_count": 62,
   "id": "e4303056",
   "metadata": {},
   "outputs": [
    {
     "data": {
      "text/plain": [
       "<execnb.shell.SmartCompleter at 0x10b3ae6f0>"
      ]
     },
     "execution_count": 62,
     "metadata": {},
     "output_type": "execute_result"
    }
   ],
   "source": [
    "cc = SmartCompleter(get_ipython())\n",
    "cc"
   ]
  },
  {
   "cell_type": "code",
   "execution_count": 65,
   "id": "b379bbfe",
   "metadata": {
    "scrolled": false
   },
   "outputs": [
    {
     "data": {
      "text/plain": [
       "['print', 'properties', 'property']"
      ]
     },
     "execution_count": 65,
     "metadata": {},
     "output_type": "execute_result"
    }
   ],
   "source": [
    "cc(\"pr\")"
   ]
  },
  {
   "cell_type": "markdown",
   "id": "34667224",
   "metadata": {},
   "source": [
    "This is quite interesting!\n",
    "\n",
    "I'm currently offline and feel like I need to read the IPython docs and source to understand more."
   ]
  },
  {
   "cell_type": "markdown",
   "id": "d8784fc9",
   "metadata": {},
   "source": [
    "## Reflect"
   ]
  },
  {
   "cell_type": "code",
   "execution_count": null,
   "id": "963f3ba7",
   "metadata": {},
   "outputs": [],
   "source": [
    "I've studied the 2 notebooks in `execnb`: `nbio` and `shell`\n",
    "\n",
    "I created examples to explore:\n",
    "* `read_nb`'s returned nb cells and metadata\n",
    "* `CaptureShell` and its `run_cell()` and `run()` methods\n",
    "* `render_outputs()` and `HTML()`\n",
    "* `SmartComplete"
   ]
  }
 ],
 "metadata": {
  "kernelspec": {
   "display_name": "Python 3 (ipykernel)",
   "language": "python",
   "name": "python3"
  },
  "language_info": {
   "codemirror_mode": {
    "name": "ipython",
    "version": 3
   },
   "file_extension": ".py",
   "mimetype": "text/x-python",
   "name": "python",
   "nbconvert_exporter": "python",
   "pygments_lexer": "ipython3",
   "version": "3.12.7"
  },
  "toc": {
   "base_numbering": 1,
   "nav_menu": {},
   "number_sections": true,
   "sideBar": true,
   "skip_h1_title": false,
   "title_cell": "Table of Contents",
   "title_sidebar": "Contents",
   "toc_cell": false,
   "toc_position": {},
   "toc_section_display": true,
   "toc_window_display": false
  }
 },
 "nbformat": 4,
 "nbformat_minor": 5
}
