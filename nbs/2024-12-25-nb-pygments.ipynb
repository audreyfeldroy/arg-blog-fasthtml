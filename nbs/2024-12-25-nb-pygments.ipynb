{
 "cells": [
  {
   "cell_type": "markdown",
   "id": "92630208",
   "metadata": {},
   "source": [
    "# Converting Jupyter Notebook Cells to Pygments Syntax-Highlighted HTML"
   ]
  },
  {
   "cell_type": "markdown",
   "id": "3ed916ba",
   "metadata": {},
   "source": [
    "## Understand the Problem\n",
    "\n",
    "Can a Jupyter notebook be converted to syntax-highlighted HTML easily with Pygments?\n",
    "\n",
    "Side note: Highlight.js is what Danny and Isaac use for syntax highlighting in FastHTML apps. I'll try that in another notebook later. I started this on a plane where I only had Pygments installed."
   ]
  },
  {
   "cell_type": "markdown",
   "id": "05a8148a",
   "metadata": {},
   "source": [
    "## Devise a Plan\n",
    "\n",
    "* Get the code cells of a sample notebook\n",
    "* Convert one to syntax-highlighted HTML\n",
    "* View it\n",
    "* Convert all to syntax-highlighted HTML"
   ]
  },
  {
   "cell_type": "markdown",
   "id": "5b7783d8",
   "metadata": {},
   "source": [
    "## Carry Out Plan"
   ]
  },
  {
   "cell_type": "code",
   "execution_count": 72,
   "id": "c004ca0a",
   "metadata": {},
   "outputs": [],
   "source": [
    "from execnb.nbio import *\n",
    "from fastcore.all import *\n",
    "from fasthtml.common import *\n",
    "from fasthtml.jupyter import *\n",
    "from IPython.display import HTML, Markdown\n",
    "from mistletoe import markdown, HTMLRenderer\n",
    "from mistletoe.contrib.pygments_renderer import PygmentsRenderer\n",
    "from nb2fasthtml.core import *\n",
    "from pathlib import Path\n",
    "import pygments\n",
    "from pygments import highlight\n",
    "from pygments.lexers import PythonLexer\n",
    "from pygments.formatters import HtmlFormatter\n",
    "from random import choice"
   ]
  },
  {
   "cell_type": "code",
   "execution_count": 26,
   "id": "458858ae",
   "metadata": {},
   "outputs": [
    {
     "data": {
      "text/markdown": [
       "```json\n",
       "{ 'kernelspec': { 'display_name': 'Python 3 (ipykernel)',\n",
       "                  'language': 'python',\n",
       "                  'name': 'python3'},\n",
       "  'language_info': { 'codemirror_mode': {'name': 'ipython', 'version': 3},\n",
       "                     'file_extension': '.py',\n",
       "                     'mimetype': 'text/x-python',\n",
       "                     'name': 'python',\n",
       "                     'nbconvert_exporter': 'python',\n",
       "                     'pygments_lexer': 'ipython3',\n",
       "                     'version': '3.12.7'},\n",
       "  'toc': { 'base_numbering': 1,\n",
       "           'nav_menu': {},\n",
       "           'number_sections': True,\n",
       "           'sideBar': True,\n",
       "           'skip_h1_title': False,\n",
       "           'title_cell': 'Table of Contents',\n",
       "           'title_sidebar': 'Contents',\n",
       "           'toc_cell': False,\n",
       "           'toc_position': {},\n",
       "           'toc_section_display': True,\n",
       "           'toc_window_display': False}}\n",
       "```"
      ],
      "text/plain": [
       "{'kernelspec': {'display_name': 'Python 3 (ipykernel)',\n",
       "  'language': 'python',\n",
       "  'name': 'python3'},\n",
       " 'language_info': {'codemirror_mode': {'name': 'ipython', 'version': 3},\n",
       "  'file_extension': '.py',\n",
       "  'mimetype': 'text/x-python',\n",
       "  'name': 'python',\n",
       "  'nbconvert_exporter': 'python',\n",
       "  'pygments_lexer': 'ipython3',\n",
       "  'version': '3.12.7'},\n",
       " 'toc': {'base_numbering': 1,\n",
       "  'nav_menu': {},\n",
       "  'number_sections': True,\n",
       "  'sideBar': True,\n",
       "  'skip_h1_title': False,\n",
       "  'title_cell': 'Table of Contents',\n",
       "  'title_sidebar': 'Contents',\n",
       "  'toc_cell': False,\n",
       "  'toc_position': {},\n",
       "  'toc_section_display': True,\n",
       "  'toc_window_display': False}}"
      ]
     },
     "execution_count": 26,
     "metadata": {},
     "output_type": "execute_result"
    }
   ],
   "source": [
    "nb = read_nb(Path(\"../nbs/2024-12-24-deck-the-halls.ipynb\"))\n",
    "nb.metadata"
   ]
  },
  {
   "cell_type": "code",
   "execution_count": 27,
   "id": "e46ce57b",
   "metadata": {},
   "outputs": [
    {
     "data": {
      "text/plain": [
       "[{'cell_type': 'markdown',\n",
       "  'id': '6c0b43cc',\n",
       "  'metadata': {},\n",
       "  'source': '# Deck the Halls',\n",
       "  'idx_': 0},\n",
       " {'cell_type': 'code',\n",
       "  'execution_count': 3,\n",
       "  'id': '2c5c8d57',\n",
       "  'metadata': {},\n",
       "  'outputs': [],\n",
       "  'source': 'from fastcore.all import *',\n",
       "  'idx_': 1},\n",
       " {'cell_type': 'code',\n",
       "  'execution_count': 2,\n",
       "  'id': 'a31573bc',\n",
       "  'metadata': {},\n",
       "  'outputs': [{'data': {'text/plain': [\"'Deck the halls with boughs of holly'\"]},\n",
       "    'execution_count': 2,\n",
       "    'metadata': {},\n",
       "    'output_type': 'execute_result'}],\n",
       "  'source': 'x = \"Deck the halls with boughs of holly\"\\nx',\n",
       "  'idx_': 2},\n",
       " {'cell_type': 'code',\n",
       "  'execution_count': 12,\n",
       "  'id': 'f66cd4ca',\n",
       "  'metadata': {},\n",
       "  'outputs': [{'data': {'text/plain': [\"(#8) ['la','la','la','la','la','la','la','la']\"]},\n",
       "    'execution_count': 12,\n",
       "    'metadata': {},\n",
       "    'output_type': 'execute_result'}],\n",
       "  'source': 'L(\"la\")*8',\n",
       "  'idx_': 3},\n",
       " {'cell_type': 'code',\n",
       "  'execution_count': 20,\n",
       "  'id': '5679e31d',\n",
       "  'metadata': {},\n",
       "  'outputs': [],\n",
       "  'source': 'def sing(): return L(\"Fa\", *L(\"la\")*8)',\n",
       "  'idx_': 4},\n",
       " {'cell_type': 'code',\n",
       "  'execution_count': 21,\n",
       "  'id': 'f7a31a21',\n",
       "  'metadata': {},\n",
       "  'outputs': [{'data': {'text/plain': [\"(#9) ['Fa','la','la','la','la','la','la','la','la']\"]},\n",
       "    'execution_count': 21,\n",
       "    'metadata': {},\n",
       "    'output_type': 'execute_result'}],\n",
       "  'source': 'sing()',\n",
       "  'idx_': 5},\n",
       " {'cell_type': 'code',\n",
       "  'execution_count': 22,\n",
       "  'id': '8814096d',\n",
       "  'metadata': {},\n",
       "  'outputs': [{'name': 'stdout',\n",
       "    'output_type': 'stream',\n",
       "    'text': ['Tis the season to be jolly\\n']}],\n",
       "  'source': 'print(\"Tis the season to be jolly\")',\n",
       "  'idx_': 6},\n",
       " {'cell_type': 'code',\n",
       "  'execution_count': 24,\n",
       "  'id': '80737234',\n",
       "  'metadata': {},\n",
       "  'outputs': [{'data': {'text/plain': [\"'Fa la la la la la la la la'\"]},\n",
       "    'execution_count': 24,\n",
       "    'metadata': {},\n",
       "    'output_type': 'execute_result'}],\n",
       "  'source': '\" \".join(sing())',\n",
       "  'idx_': 7},\n",
       " {'cell_type': 'code',\n",
       "  'execution_count': 28,\n",
       "  'id': '5ba2904c',\n",
       "  'metadata': {},\n",
       "  'outputs': [{'data': {'text/plain': ['\"\\'Don we now our gay apparel\\'\"']},\n",
       "    'execution_count': 28,\n",
       "    'metadata': {},\n",
       "    'output_type': 'execute_result'}],\n",
       "  'source': 'repr(\"Don we now our gay apparel\")',\n",
       "  'idx_': 8},\n",
       " {'cell_type': 'code',\n",
       "  'execution_count': 29,\n",
       "  'id': 'd94365b6',\n",
       "  'metadata': {},\n",
       "  'outputs': [{'data': {'text/plain': [\"(#9) ['Fa','la','la','la','la','la','la','la','la']\"]},\n",
       "    'execution_count': 29,\n",
       "    'metadata': {},\n",
       "    'output_type': 'execute_result'}],\n",
       "  'source': 's = sing()\\ns',\n",
       "  'idx_': 9},\n",
       " {'cell_type': 'code',\n",
       "  'execution_count': 31,\n",
       "  'id': '159e7dc1',\n",
       "  'metadata': {},\n",
       "  'outputs': [{'data': {'text/plain': [\"'Falala'\"]},\n",
       "    'execution_count': 31,\n",
       "    'metadata': {},\n",
       "    'output_type': 'execute_result'}],\n",
       "  'source': '\"\".join(s[0:3])',\n",
       "  'idx_': 10},\n",
       " {'cell_type': 'code',\n",
       "  'execution_count': 32,\n",
       "  'id': '1c60d90d',\n",
       "  'metadata': {},\n",
       "  'outputs': [{'name': 'stdout',\n",
       "    'output_type': 'stream',\n",
       "    'text': ['Falala\\n', 'lalala\\n', 'lalala\\n']}],\n",
       "  'source': 'for i in range(0,3): print(\"\".join(s[i:i+3]))',\n",
       "  'idx_': 11},\n",
       " {'cell_type': 'code',\n",
       "  'execution_count': 33,\n",
       "  'id': '9e2e2d82',\n",
       "  'metadata': {},\n",
       "  'outputs': [{'data': {'text/plain': [\"'Troll the ancient yuletide carol'\"]},\n",
       "    'execution_count': 33,\n",
       "    'metadata': {},\n",
       "    'output_type': 'execute_result'}],\n",
       "  'source': '\"Troll the ancient yuletide carol\"',\n",
       "  'idx_': 12},\n",
       " {'cell_type': 'code',\n",
       "  'execution_count': 63,\n",
       "  'id': '1dcfca68',\n",
       "  'metadata': {},\n",
       "  'outputs': [{'data': {'text/plain': [\"(#5) [('Fa', 'la'),('la', 'la'),('la', 'la'),('la', 'la'),'la']\"]},\n",
       "    'execution_count': 63,\n",
       "    'metadata': {},\n",
       "    'output_type': 'execute_result'}],\n",
       "  'source': \"L(zip(s[0:5], s[1:5])) + 'la'\",\n",
       "  'idx_': 13}]"
      ]
     },
     "execution_count": 27,
     "metadata": {},
     "output_type": "execute_result"
    }
   ],
   "source": [
    "nb.cells"
   ]
  },
  {
   "cell_type": "code",
   "execution_count": 28,
   "id": "bacc2b3d",
   "metadata": {},
   "outputs": [
    {
     "data": {
      "text/plain": [
       "(#14) ['# Deck the Halls','from fastcore.all import *','x = \"Deck the halls with boughs of holly\"\\nx','L(\"la\")*8','def sing(): return L(\"Fa\", *L(\"la\")*8)','sing()','print(\"Tis the season to be jolly\")','\" \".join(sing())','repr(\"Don we now our gay apparel\")','s = sing()\\ns','\"\".join(s[0:3])','for i in range(0,3): print(\"\".join(s[i:i+3]))','\"Troll the ancient yuletide carol\"',\"L(zip(s[0:5], s[1:5])) + 'la'\"]"
      ]
     },
     "execution_count": 28,
     "metadata": {},
     "output_type": "execute_result"
    }
   ],
   "source": [
    "sources = L(nb.cells).itemgot('source')\n",
    "sources"
   ]
  },
  {
   "cell_type": "code",
   "execution_count": 29,
   "id": "cd5f9a5c",
   "metadata": {},
   "outputs": [
    {
     "data": {
      "text/plain": [
       "(#14) [div(('# Deck the Halls',),{}),div(('from fastcore.all import *',),{}),div(('x = \"Deck the halls with boughs of holly\"\\nx',),{}),div(('L(\"la\")*8',),{}),div(('def sing(): return L(\"Fa\", *L(\"la\")*8)',),{}),div(('sing()',),{}),div(('print(\"Tis the season to be jolly\")',),{}),div(('\" \".join(sing())',),{}),div(('repr(\"Don we now our gay apparel\")',),{}),div(('s = sing()\\ns',),{}),div(('\"\".join(s[0:3])',),{}),div(('for i in range(0,3): print(\"\".join(s[i:i+3]))',),{}),div(('\"Troll the ancient yuletide carol\"',),{}),div((\"L(zip(s[0:5], s[1:5])) + 'la'\",),{})]"
      ]
     },
     "execution_count": 29,
     "metadata": {},
     "output_type": "execute_result"
    }
   ],
   "source": [
    "sources.map(Div)"
   ]
  },
  {
   "cell_type": "code",
   "execution_count": 30,
   "id": "b5f0752a",
   "metadata": {},
   "outputs": [
    {
     "data": {
      "text/plain": [
       "(#4) [{'cell_type': 'code', 'execution_count': 3, 'id': '2c5c8d57', 'metadata': {}, 'outputs': [], 'source': 'from fastcore.all import *', 'idx_': 1},{'cell_type': 'code', 'execution_count': 2, 'id': 'a31573bc', 'metadata': {}, 'outputs': [{'data': {'text/plain': [\"'Deck the halls with boughs of holly'\"]}, 'execution_count': 2, 'metadata': {}, 'output_type': 'execute_result'}], 'source': 'x = \"Deck the halls with boughs of holly\"\\nx', 'idx_': 2},{'cell_type': 'code', 'execution_count': 12, 'id': 'f66cd4ca', 'metadata': {}, 'outputs': [{'data': {'text/plain': [\"(#8) ['la','la','la','la','la','la','la','la']\"]}, 'execution_count': 12, 'metadata': {}, 'output_type': 'execute_result'}], 'source': 'L(\"la\")*8', 'idx_': 3},{'cell_type': 'code', 'execution_count': 20, 'id': '5679e31d', 'metadata': {}, 'outputs': [], 'source': 'def sing(): return L(\"Fa\", *L(\"la\")*8)', 'idx_': 4}]"
      ]
     },
     "execution_count": 30,
     "metadata": {},
     "output_type": "execute_result"
    }
   ],
   "source": [
    "code_cells = L(nb.cells).filter(lambda x: x.cell_type == 'code')\n",
    "code_cells[:4]"
   ]
  },
  {
   "cell_type": "code",
   "execution_count": 31,
   "id": "d69ec693",
   "metadata": {},
   "outputs": [
    {
     "data": {
      "text/markdown": [
       "```json\n",
       "{ 'cell_type': 'code',\n",
       "  'execution_count': 12,\n",
       "  'id': 'f66cd4ca',\n",
       "  'idx_': 3,\n",
       "  'metadata': {},\n",
       "  'outputs': [ { 'data': { 'text/plain': [ '(#8) '\n",
       "                                           \"['la','la','la','la','la','la','la','la']\"]},\n",
       "                 'execution_count': 12,\n",
       "                 'metadata': {},\n",
       "                 'output_type': 'execute_result'}],\n",
       "  'source': 'L(\"la\")*8'}\n",
       "```"
      ],
      "text/plain": [
       "{'cell_type': 'code',\n",
       " 'execution_count': 12,\n",
       " 'id': 'f66cd4ca',\n",
       " 'metadata': {},\n",
       " 'outputs': [{'data': {'text/plain': [\"(#8) ['la','la','la','la','la','la','la','la']\"]},\n",
       "   'execution_count': 12,\n",
       "   'metadata': {},\n",
       "   'output_type': 'execute_result'}],\n",
       " 'source': 'L(\"la\")*8',\n",
       " 'idx_': 3}"
      ]
     },
     "execution_count": 31,
     "metadata": {},
     "output_type": "execute_result"
    }
   ],
   "source": [
    "code_cells[2]"
   ]
  },
  {
   "cell_type": "markdown",
   "id": "0f49a524",
   "metadata": {},
   "source": [
    "## Code Highlighting With Pygments"
   ]
  },
  {
   "cell_type": "code",
   "execution_count": 32,
   "id": "7e33ecf9",
   "metadata": {},
   "outputs": [],
   "source": [
    "fm = HtmlFormatter(style='colorful')\n",
    "pl = PythonLexer()"
   ]
  },
  {
   "cell_type": "code",
   "execution_count": 33,
   "id": "a6801a15",
   "metadata": {},
   "outputs": [
    {
     "data": {
      "text/plain": [
       "'<div class=\"highlight\"><pre><span></span><span class=\"nb\">print</span><span class=\"p\">(</span><span class=\"s1\">&#39;Hi&#39;</span><span class=\"p\">)</span>\\n</pre></div>\\n'"
      ]
     },
     "execution_count": 33,
     "metadata": {},
     "output_type": "execute_result"
    }
   ],
   "source": [
    "highlight(\"print('Hi')\", lexer=pl, formatter=fm)"
   ]
  },
  {
   "cell_type": "code",
   "execution_count": 34,
   "id": "67e71732",
   "metadata": {},
   "outputs": [
    {
     "data": {
      "text/plain": [
       "'<div class=\"highlight\"><pre><span></span><span class=\"n\">L</span><span class=\"p\">(</span><span class=\"s2\">&quot;la&quot;</span><span class=\"p\">)</span><span class=\"o\">*</span><span class=\"mi\">8</span>\\n</pre></div>\\n'"
      ]
     },
     "execution_count": 34,
     "metadata": {},
     "output_type": "execute_result"
    }
   ],
   "source": [
    "highlight(code_cells[2].source, lexer=pl, formatter=fm)"
   ]
  },
  {
   "cell_type": "code",
   "execution_count": 35,
   "id": "5cd93106",
   "metadata": {},
   "outputs": [
    {
     "data": {
      "text/html": [
       "<div class=\"highlight\"><pre><span></span><span class=\"n\">L</span><span class=\"p\">(</span><span class=\"s2\">&quot;la&quot;</span><span class=\"p\">)</span><span class=\"o\">*</span><span class=\"mi\">8</span>\n",
       "</pre></div>\n"
      ],
      "text/plain": [
       "<IPython.core.display.HTML object>"
      ]
     },
     "execution_count": 35,
     "metadata": {},
     "output_type": "execute_result"
    }
   ],
   "source": [
    "HTML(highlight(code_cells[2].source, lexer=pl, formatter=fm))"
   ]
  },
  {
   "cell_type": "markdown",
   "id": "b1259f8e",
   "metadata": {},
   "source": [
    "The previous cell should show colors but doesn't. Not sure how to show them here in this notebook."
   ]
  },
  {
   "cell_type": "code",
   "execution_count": 36,
   "id": "b22a0d37",
   "metadata": {},
   "outputs": [],
   "source": [
    "def colorize(c): return highlight(c.source, lexer=pl, formatter=fm)"
   ]
  },
  {
   "cell_type": "code",
   "execution_count": 37,
   "id": "0f661cec",
   "metadata": {},
   "outputs": [
    {
     "data": {
      "text/plain": [
       "(#2) ['<div class=\"highlight\"><pre><span></span><span class=\"kn\">from</span> <span class=\"nn\">fastcore.all</span> <span class=\"kn\">import</span> <span class=\"o\">*</span>\\n</pre></div>\\n','<div class=\"highlight\"><pre><span></span><span class=\"n\">x</span> <span class=\"o\">=</span> <span class=\"s2\">&quot;Deck the halls with boughs of holly&quot;</span>\\n<span class=\"n\">x</span>\\n</pre></div>\\n']"
      ]
     },
     "execution_count": 37,
     "metadata": {},
     "output_type": "execute_result"
    }
   ],
   "source": [
    "colorized = code_cells.map(colorize).map(NotStr)\n",
    "colorized[:2]"
   ]
  },
  {
   "cell_type": "code",
   "execution_count": 50,
   "id": "7b188b2d",
   "metadata": {},
   "outputs": [],
   "source": [
    "def colorized_cells(cells): return cells.map(colorize).map(NotStr)"
   ]
  },
  {
   "cell_type": "markdown",
   "id": "b6a9885f",
   "metadata": {},
   "source": [
    "## Formatter Styles"
   ]
  },
  {
   "cell_type": "code",
   "execution_count": 64,
   "id": "8f1a6539",
   "metadata": {},
   "outputs": [
    {
     "data": {
      "text/plain": [
       "(#49) [('AbapStyle', ('pygments.styles.abap', 'abap', ())),('AlgolStyle', ('pygments.styles.algol', 'algol', ())),('Algol_NuStyle', ('pygments.styles.algol_nu', 'algol_nu', ())),('ArduinoStyle', ('pygments.styles.arduino', 'arduino', ())),('AutumnStyle', ('pygments.styles.autumn', 'autumn', ())),('BlackWhiteStyle', ('pygments.styles.bw', 'bw', ())),('BorlandStyle', ('pygments.styles.borland', 'borland', ())),('CoffeeStyle', ('pygments.styles.coffee', 'coffee', ())),('ColorfulStyle', ('pygments.styles.colorful', 'colorful', ())),('DefaultStyle', ('pygments.styles.default', 'default', ())),('DraculaStyle', ('pygments.styles.dracula', 'dracula', ())),('EmacsStyle', ('pygments.styles.emacs', 'emacs', ())),('FriendlyGrayscaleStyle', ('pygments.styles.friendly_grayscale', 'friendly_grayscale', ())),('FriendlyStyle', ('pygments.styles.friendly', 'friendly', ())),('FruityStyle', ('pygments.styles.fruity', 'fruity', ())),('GhDarkStyle', ('pygments.styles.gh_dark', 'github-dark', ())),('GruvboxDarkStyle', ('pygments.styles.gruvbox', 'gruvbox-dark', ())),('GruvboxLightStyle', ('pygments.styles.gruvbox', 'gruvbox-light', ())),('IgorStyle', ('pygments.styles.igor', 'igor', ())),('InkPotStyle', ('pygments.styles.inkpot', 'inkpot', ()))...]"
      ]
     },
     "execution_count": 64,
     "metadata": {},
     "output_type": "execute_result"
    }
   ],
   "source": [
    "L(pygments.styles.STYLES.items())"
   ]
  },
  {
   "cell_type": "code",
   "execution_count": 67,
   "id": "f23488c8",
   "metadata": {},
   "outputs": [
    {
     "data": {
      "text/plain": [
       "(#49) [('pygments.styles.abap', 'abap', ()),('pygments.styles.algol', 'algol', ()),('pygments.styles.algol_nu', 'algol_nu', ()),('pygments.styles.arduino', 'arduino', ()),('pygments.styles.autumn', 'autumn', ()),('pygments.styles.bw', 'bw', ()),('pygments.styles.borland', 'borland', ()),('pygments.styles.coffee', 'coffee', ()),('pygments.styles.colorful', 'colorful', ()),('pygments.styles.default', 'default', ()),('pygments.styles.dracula', 'dracula', ()),('pygments.styles.emacs', 'emacs', ()),('pygments.styles.friendly_grayscale', 'friendly_grayscale', ()),('pygments.styles.friendly', 'friendly', ()),('pygments.styles.fruity', 'fruity', ()),('pygments.styles.gh_dark', 'github-dark', ()),('pygments.styles.gruvbox', 'gruvbox-dark', ()),('pygments.styles.gruvbox', 'gruvbox-light', ()),('pygments.styles.igor', 'igor', ()),('pygments.styles.inkpot', 'inkpot', ())...]"
      ]
     },
     "execution_count": 67,
     "metadata": {},
     "output_type": "execute_result"
    }
   ],
   "source": [
    "L(pygments.styles.STYLES.items()).itemgot(1)"
   ]
  },
  {
   "cell_type": "code",
   "execution_count": 70,
   "id": "d06e9b4c",
   "metadata": {},
   "outputs": [
    {
     "data": {
      "text/plain": [
       "(#49) ['abap','algol','algol_nu','arduino','autumn','bw','borland','coffee','colorful','default','dracula','emacs','friendly_grayscale','friendly','fruity','github-dark','gruvbox-dark','gruvbox-light','igor','inkpot'...]"
      ]
     },
     "execution_count": 70,
     "metadata": {},
     "output_type": "execute_result"
    }
   ],
   "source": [
    "styles = L(pygments.styles.STYLES.items()).itemgot(1).itemgot(1)\n",
    "styles"
   ]
  },
  {
   "cell_type": "code",
   "execution_count": 71,
   "id": "21b05efd",
   "metadata": {},
   "outputs": [],
   "source": [
    "%%aip\n",
    "Get a random style from that list"
   ]
  },
  {
   "cell_type": "code",
   "execution_count": 75,
   "id": "1332c27a",
   "metadata": {},
   "outputs": [
    {
     "data": {
      "text/plain": [
       "'autumn'"
      ]
     },
     "execution_count": 75,
     "metadata": {},
     "output_type": "execute_result"
    }
   ],
   "source": [
    "style = choice(styles)\n",
    "style"
   ]
  },
  {
   "cell_type": "markdown",
   "id": "a7aba375",
   "metadata": {},
   "source": [
    "## CSS Styles"
   ]
  },
  {
   "cell_type": "code",
   "execution_count": 49,
   "id": "49534761",
   "metadata": {},
   "outputs": [],
   "source": [
    "fm = HtmlFormatter(style='stata-dark')"
   ]
  },
  {
   "cell_type": "code",
   "execution_count": 58,
   "id": "09932bac",
   "metadata": {},
   "outputs": [
    {
     "data": {
      "text/plain": [
       "'pre { line-height: 125%; }\\ntd.linenos .normal { color: inherit; background-color: transparent; paddi'"
      ]
     },
     "execution_count": 58,
     "metadata": {},
     "output_type": "execute_result"
    }
   ],
   "source": [
    "fm.get_style_defs()[:100]"
   ]
  },
  {
   "cell_type": "markdown",
   "id": "d9a8ab3d",
   "metadata": {},
   "source": [
    "## FastHTML app"
   ]
  },
  {
   "cell_type": "code",
   "execution_count": 15,
   "id": "4987fd98",
   "metadata": {},
   "outputs": [],
   "source": [
    "app,rt = fast_app()"
   ]
  },
  {
   "cell_type": "code",
   "execution_count": 56,
   "id": "eeb1498e",
   "metadata": {},
   "outputs": [
    {
     "data": {
      "text/html": [
       "\n",
       "<script>\n",
       "document.body.addEventListener('htmx:configRequest', (event) => {\n",
       "    if(event.detail.path.includes('://')) return;\n",
       "    htmx.config.selfRequestsOnly=false;\n",
       "    event.detail.path = `${location.protocol}//${location.hostname}:8000${event.detail.path}`;\n",
       "});\n",
       "</script>"
      ],
      "text/plain": [
       "<IPython.core.display.HTML object>"
      ]
     },
     "metadata": {},
     "output_type": "display_data"
    }
   ],
   "source": [
    "server = JupyUvi(app)"
   ]
  },
  {
   "cell_type": "code",
   "execution_count": 81,
   "id": "4d595181",
   "metadata": {},
   "outputs": [],
   "source": [
    "@rt\n",
    "def index():\n",
    "    nb = read_nb(Path(\"../nbs/2024-12-24-deck-the-halls.ipynb\"))\n",
    "    code_cells = L(nb.cells).filter(lambda x: x.cell_type == 'code')\n",
    "    style = choice(styles)\n",
    "    fm = HtmlFormatter(style=style)\n",
    "    return (\n",
    "        H1(f\"Random style: {style}\"),\n",
    "        P(\"This page gets a random \",\n",
    "            A(\"Pygments\", href=\"https://pygments.org/\"),\n",
    "            \" HtmlFormatter style and applies it to \",\n",
    "            A(\"my Deck the Halls Jupyter notebook\", href=\"https://nbsanity.com/static/a426287f3fbfc5a38c99291beadc77d3/2024-12-24-deck-the-halls.html\")),\n",
    "        Style(fm.get_style_defs()),\n",
    "        Style(\".highlight{border:1px solid gray;margin:10px;}\"),\n",
    "        Div(*colorized_cells(code_cells))\n",
    "    )"
   ]
  },
  {
   "cell_type": "markdown",
   "id": "fc1138d5",
   "metadata": {},
   "source": [
    "## Stopping the Server"
   ]
  },
  {
   "cell_type": "code",
   "execution_count": 82,
   "id": "3e397cc1",
   "metadata": {},
   "outputs": [],
   "source": [
    "if 'server' in globals(): server.stop()"
   ]
  },
  {
   "cell_type": "code",
   "execution_count": null,
   "id": "07d6ee09",
   "metadata": {},
   "outputs": [],
   "source": []
  }
 ],
 "metadata": {
  "kernelspec": {
   "display_name": "Python 3 (ipykernel)",
   "language": "python",
   "name": "python3"
  },
  "language_info": {
   "codemirror_mode": {
    "name": "ipython",
    "version": 3
   },
   "file_extension": ".py",
   "mimetype": "text/x-python",
   "name": "python",
   "nbconvert_exporter": "python",
   "pygments_lexer": "ipython3",
   "version": "3.12.7"
  },
  "toc": {
   "base_numbering": 1,
   "nav_menu": {},
   "number_sections": true,
   "sideBar": true,
   "skip_h1_title": false,
   "title_cell": "Table of Contents",
   "title_sidebar": "Contents",
   "toc_cell": false,
   "toc_position": {},
   "toc_section_display": true,
   "toc_window_display": false
  }
 },
 "nbformat": 4,
 "nbformat_minor": 5
}
