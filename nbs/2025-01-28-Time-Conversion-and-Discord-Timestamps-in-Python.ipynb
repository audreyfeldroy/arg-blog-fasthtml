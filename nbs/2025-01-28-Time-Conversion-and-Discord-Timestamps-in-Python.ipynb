{
 "cells": [
  {
   "cell_type": "markdown",
   "id": "bb49fbfe",
   "metadata": {},
   "source": [
    "# Time Conversion and Discord Timestamps in Python"
   ]
  },
  {
   "cell_type": "markdown",
   "id": "7a0abdbc",
   "metadata": {},
   "source": [
    "Converting datetimes between various timezones and to Discord timestamps."
   ]
  },
  {
   "cell_type": "code",
   "execution_count": 166,
   "id": "a6f3fe5d",
   "metadata": {},
   "outputs": [],
   "source": [
    "from datetime import *\n",
    "from functools import partial"
   ]
  },
  {
   "cell_type": "markdown",
   "id": "49272053",
   "metadata": {},
   "source": [
    "## Converting the Current Time"
   ]
  },
  {
   "cell_type": "code",
   "execution_count": 167,
   "id": "9ae98112",
   "metadata": {},
   "outputs": [
    {
     "data": {
      "text/plain": [
       "datetime.datetime(2025, 1, 29, 0, 45, 56, 637900)"
      ]
     },
     "execution_count": 167,
     "metadata": {},
     "output_type": "execute_result"
    }
   ],
   "source": [
    "datetime.now()"
   ]
  },
  {
   "cell_type": "markdown",
   "id": "27e7e640",
   "metadata": {},
   "source": [
    "`now()` can take a timezone:"
   ]
  },
  {
   "cell_type": "code",
   "execution_count": 168,
   "id": "5d8eeac0",
   "metadata": {},
   "outputs": [
    {
     "data": {
      "text/plain": [
       "datetime.datetime(2025, 1, 29, 0, 45, 57, 32061, tzinfo=zoneinfo.ZoneInfo(key='Europe/London'))"
      ]
     },
     "execution_count": 168,
     "metadata": {},
     "output_type": "execute_result"
    }
   ],
   "source": [
    "dt = datetime.now(tz=ZoneInfo('Europe/London'))\n",
    "dt"
   ]
  },
  {
   "cell_type": "code",
   "execution_count": 169,
   "id": "a0fb3e02",
   "metadata": {},
   "outputs": [
    {
     "data": {
      "text/plain": [
       "datetime.datetime(2025, 1, 28, 19, 45, 57, 32061, tzinfo=zoneinfo.ZoneInfo(key='America/New_York'))"
      ]
     },
     "execution_count": 169,
     "metadata": {},
     "output_type": "execute_result"
    }
   ],
   "source": [
    "nyc = dt.astimezone(ZoneInfo('America/New_York'))\n",
    "nyc"
   ]
  },
  {
   "cell_type": "markdown",
   "id": "f3db3569",
   "metadata": {},
   "source": [
    "Let's make a list of timezones:"
   ]
  },
  {
   "cell_type": "code",
   "execution_count": 170,
   "id": "0ce10183",
   "metadata": {},
   "outputs": [
    {
     "data": {
      "text/plain": [
       "(#6) ['America/Los_Angeles','America/Chicago','America/New_York','Europe/London','Europe/Istanbul','Australia/Brisbane']"
      ]
     },
     "execution_count": 170,
     "metadata": {},
     "output_type": "execute_result"
    }
   ],
   "source": [
    "tzs = L('America/Los_Angeles', 'America/Chicago', 'America/New_York', 'Europe/London', 'Europe/Istanbul', 'Australia/Brisbane',)\n",
    "tzs"
   ]
  },
  {
   "cell_type": "markdown",
   "id": "23956647",
   "metadata": {},
   "source": [
    "Now we map that timezone list to a \"time in that timezone\" function:"
   ]
  },
  {
   "cell_type": "code",
   "execution_count": 171,
   "id": "9816952d",
   "metadata": {
    "scrolled": true
   },
   "outputs": [
    {
     "name": "stdout",
     "output_type": "stream",
     "text": [
      "America/Los_Angeles  16:45\n",
      "America/Chicago      18:45\n",
      "America/New_York     19:45\n",
      "Europe/London        00:45\n",
      "Europe/Istanbul      03:45\n",
      "Australia/Brisbane   10:45\n"
     ]
    },
    {
     "data": {
      "text/plain": [
       "(#6) [None,None,None,None,None,None]"
      ]
     },
     "execution_count": 171,
     "metadata": {},
     "output_type": "execute_result"
    }
   ],
   "source": [
    "def time_in_tz(tz:str, dt:datetime|None=None) -> str: \n",
    "    if dt is None: dt = datetime.now()\n",
    "    dt = dt.astimezone(ZoneInfo(tz))\n",
    "    return f\"{tz:20} {dt:%H:%M}\"\n",
    "tzs.map(time_in_tz).map(print)"
   ]
  },
  {
   "cell_type": "markdown",
   "id": "190020fc",
   "metadata": {},
   "source": [
    "## Converting a Future Time With Timezone"
   ]
  },
  {
   "cell_type": "markdown",
   "id": "88691f44",
   "metadata": {},
   "source": [
    "To get a time in the future for a particular timezone:"
   ]
  },
  {
   "cell_type": "code",
   "execution_count": 172,
   "id": "6a6b4c34",
   "metadata": {},
   "outputs": [],
   "source": [
    "tomorrow_3pm_est = datetime.now(ZoneInfo('America/New_York')).replace(hour=15, minute=0, second=0, microsecond=0) + timedelta(days=1)"
   ]
  },
  {
   "cell_type": "markdown",
   "id": "f1e72b4d",
   "metadata": {},
   "source": [
    "This also works and is more readable:"
   ]
  },
  {
   "cell_type": "code",
   "execution_count": 173,
   "id": "50c73962",
   "metadata": {},
   "outputs": [
    {
     "data": {
      "text/plain": [
       "datetime.datetime(2025, 1, 30, 15, 0, tzinfo=zoneinfo.ZoneInfo(key='America/New_York'))"
      ]
     },
     "execution_count": 173,
     "metadata": {},
     "output_type": "execute_result"
    }
   ],
   "source": [
    "datetime.fromisoformat('2025-01-30 15:00').replace(tzinfo=ZoneInfo('America/New_York'))"
   ]
  },
  {
   "cell_type": "code",
   "execution_count": 174,
   "id": "5db4eda1",
   "metadata": {},
   "outputs": [
    {
     "name": "stdout",
     "output_type": "stream",
     "text": [
      "America/Los_Angeles  12:00\n",
      "America/Chicago      14:00\n",
      "America/New_York     15:00\n",
      "Europe/London        20:00\n",
      "Europe/Istanbul      23:00\n",
      "Australia/Brisbane   06:00\n"
     ]
    },
    {
     "data": {
      "text/plain": [
       "(#6) [None,None,None,None,None,None]"
      ]
     },
     "execution_count": 174,
     "metadata": {},
     "output_type": "execute_result"
    }
   ],
   "source": [
    "current_times = partial(time_in_tz, dt=tomorrow_3pm_est)\n",
    "tzs.map(current_times).map(print)"
   ]
  },
  {
   "cell_type": "markdown",
   "id": "eee10970",
   "metadata": {},
   "source": [
    "## Adding Discord Timestamp"
   ]
  },
  {
   "cell_type": "markdown",
   "id": "efa72adb",
   "metadata": {},
   "source": [
    "A Discord timestamp looks like <t:1738094460:F> where:\n",
    "\n",
    "* 1738094460 is a Unix timestamp\n",
    "* F is long date/time like \"Tuesday, January 28, 2025 2:20 PM\"\n",
    "\n",
    "When you put one of those into a Discord message, it automatically shows in each user's local timezone."
   ]
  },
  {
   "cell_type": "code",
   "execution_count": 175,
   "id": "2ded5265",
   "metadata": {},
   "outputs": [
    {
     "data": {
      "text/plain": [
       "'<t:1738111557:f>'"
      ]
     },
     "execution_count": 175,
     "metadata": {},
     "output_type": "execute_result"
    }
   ],
   "source": [
    "f\"<t:{int(dt.timestamp())}:f>\""
   ]
  },
  {
   "cell_type": "code",
   "execution_count": 176,
   "id": "f3ec6e69",
   "metadata": {},
   "outputs": [
    {
     "name": "stdout",
     "output_type": "stream",
     "text": [
      "Discord              <t:1738111561:f>\n"
     ]
    }
   ],
   "source": [
    "def print_discord_time(dt:datetime|None=None) -> None:\n",
    "    if dt is None: dt = datetime.now()\n",
    "    print(f\"{\"Discord\":20} <t:{int(dt.timestamp())}:f>\")\n",
    "print_discord_time()"
   ]
  },
  {
   "cell_type": "code",
   "execution_count": 177,
   "id": "9b6901ae",
   "metadata": {},
   "outputs": [
    {
     "name": "stdout",
     "output_type": "stream",
     "text": [
      "Discord              <t:1738180800:f>\n"
     ]
    }
   ],
   "source": [
    "print_discord_time(tomorrow_3pm_est)"
   ]
  },
  {
   "cell_type": "markdown",
   "id": "3f820923",
   "metadata": {},
   "source": [
    "## Printing It All"
   ]
  },
  {
   "cell_type": "code",
   "execution_count": 178,
   "id": "90be2c23",
   "metadata": {},
   "outputs": [
    {
     "name": "stdout",
     "output_type": "stream",
     "text": [
      "America/Los_Angeles  16:46\n",
      "America/Chicago      18:46\n",
      "America/New_York     19:46\n",
      "Europe/London        00:46\n",
      "Europe/Istanbul      03:46\n",
      "Australia/Brisbane   10:46\n",
      "Discord              <t:1738111208:f>\n"
     ]
    }
   ],
   "source": [
    "def print_times(dt:datetime|None=None) -> None:\n",
    "    if dt is None: dt = datetime.now()\n",
    "    tzs = L('America/Los_Angeles', 'America/Chicago', 'America/New_York', 'Europe/London', 'Europe/Istanbul', 'Australia/Brisbane')\n",
    "    tzs.map(time_in_tz).map(print)\n",
    "    print_discord_time(dt)\n",
    "times()"
   ]
  },
  {
   "cell_type": "markdown",
   "id": "519e6ca0",
   "metadata": {},
   "source": [
    "## Takeaway"
   ]
  },
  {
   "cell_type": "markdown",
   "id": "862beb4a",
   "metadata": {},
   "source": [
    "Oh look at the time! It's already past 12:30am here in London. The clock has rolled over, and this notebook still has yesterday's date on it technically. "
   ]
  },
  {
   "cell_type": "markdown",
   "id": "1e5599d6",
   "metadata": {},
   "source": [
    "Fortunately, my notebooks don't keep track of my current timezone. And it's still 2025-01-28 in timezones west of here, so this definitely counts for a post on the 28th of January."
   ]
  }
 ],
 "metadata": {
  "kernelspec": {
   "display_name": "Python 3 (ipykernel)",
   "language": "python",
   "name": "python3"
  },
  "language_info": {
   "codemirror_mode": {
    "name": "ipython",
    "version": 3
   },
   "file_extension": ".py",
   "mimetype": "text/x-python",
   "name": "python",
   "nbconvert_exporter": "python",
   "pygments_lexer": "ipython3",
   "version": "3.12.8"
  }
 },
 "nbformat": 4,
 "nbformat_minor": 5
}
