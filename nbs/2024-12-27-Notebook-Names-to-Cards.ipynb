{
 "cells": [
  {
   "cell_type": "markdown",
   "id": "a6749812",
   "metadata": {},
   "source": [
    "# Transforming Notebook Names to Cards"
   ]
  },
  {
   "cell_type": "markdown",
   "id": "bccb1eb4",
   "metadata": {},
   "source": [
    "I have Jupyter notebooks in `nbs/`. I want to turn them into cards from the filenames, without having to read the file contents."
   ]
  },
  {
   "cell_type": "markdown",
   "id": "cce5e05e",
   "metadata": {},
   "source": [
    "I'm on a train without wifi, so I'll make simple cards for now and maybe later convert them to MonsterUI."
   ]
  },
  {
   "cell_type": "code",
   "execution_count": 24,
   "id": "06930419",
   "metadata": {},
   "outputs": [],
   "source": [
    "from fasthtml.common import *\n",
    "from IPython.display import display, HTML\n",
    "from pathlib import Path\n",
    "import regex"
   ]
  },
  {
   "cell_type": "code",
   "execution_count": 25,
   "id": "ea067a20",
   "metadata": {},
   "outputs": [
    {
     "data": {
      "text/plain": [
       "(#22) ['2024-12-28-Minimal-Typography-for-FastHTML-Apps.ipynb','2024-12-27-Selectively-Using-MonsterUI.ipynb','2024-12-27-Scoped-Syntax-Highlighting.ipynb','2024-12-27-Notebook-Names-to-Cards.ipynb','2024-12-27-Colors.ipynb','2024-12-26-Showing-FTs-in-Jupyter-Notebooks.ipynb','2024-12-26-New-PyPI-Library-deckthehalls.ipynb','2024-12-25-Notebook-Pygments.ipynb','2024-12-24-Trying-execnb.ipynb','2024-12-24-Deck-the-Halls-With-fastcore.ipynb','2024-12-23-print.ipynb','2024-12-23-Exploring-execnb-and-nb2fasthtml.ipynb','2024-12-23-Daddys_Snowman_Card.ipynb','2024-08-05-Claudette-FastHTML.ipynb','2024-08-04-Claudette.ipynb','2024-07-29-FH-by-Example.ipynb','2024-07-29-Delegates-Decorator.ipynb','2024-07-29-Auth-in-FastHTML.ipynb','2024-07-16_Xtend_Pico.ipynb','2024-07-15-Printing_Components.ipynb'...]"
      ]
     },
     "execution_count": 25,
     "metadata": {},
     "output_type": "execute_result"
    }
   ],
   "source": [
    "nb_dir = Path('.')\n",
    "nbs = L(sorted(nb_dir.glob('*.ipynb'), reverse=True)).map(str)\n",
    "nbs"
   ]
  },
  {
   "cell_type": "code",
   "execution_count": 26,
   "id": "2675087a",
   "metadata": {},
   "outputs": [
    {
     "data": {
      "text/plain": [
       "'2024-12-28-Minimal-Typography-for-FastHTML-Apps.ipynb'"
      ]
     },
     "execution_count": 26,
     "metadata": {},
     "output_type": "execute_result"
    }
   ],
   "source": [
    "nbs[0]"
   ]
  },
  {
   "cell_type": "code",
   "execution_count": 27,
   "id": "2a15e24b",
   "metadata": {},
   "outputs": [
    {
     "data": {
      "text/plain": [
       "'2024-12-28-Minimal-Typography-for-FastHTML-Apps.ipynb'"
      ]
     },
     "execution_count": 27,
     "metadata": {},
     "output_type": "execute_result"
    }
   ],
   "source": [
    "x = nbs[0]\n",
    "x"
   ]
  },
  {
   "cell_type": "code",
   "execution_count": 28,
   "id": "90e80aec",
   "metadata": {},
   "outputs": [
    {
     "data": {
      "text/plain": [
       "(#3) ['2024','12','28']"
      ]
     },
     "execution_count": 28,
     "metadata": {},
     "output_type": "execute_result"
    }
   ],
   "source": [
    "L(regex.findall(r\"\\d+\", x))"
   ]
  },
  {
   "cell_type": "code",
   "execution_count": 46,
   "id": "eab0d6d3",
   "metadata": {},
   "outputs": [],
   "source": [
    "def get_date_from_fname(fname):\n",
    "    year, month, day = L(regex.findall(r\"\\d+\", fname))[0:3]\n",
    "    return f\"{year}-{month}-{day}\""
   ]
  },
  {
   "cell_type": "code",
   "execution_count": 47,
   "id": "c265fca2",
   "metadata": {},
   "outputs": [
    {
     "data": {
      "text/plain": [
       "'2024-12-28'"
      ]
     },
     "execution_count": 47,
     "metadata": {},
     "output_type": "execute_result"
    }
   ],
   "source": [
    "get_date_from_fname(x)"
   ]
  },
  {
   "cell_type": "code",
   "execution_count": 48,
   "id": "b598eba4",
   "metadata": {},
   "outputs": [
    {
     "data": {
      "text/plain": [
       "'2024-12-23'"
      ]
     },
     "execution_count": 48,
     "metadata": {},
     "output_type": "execute_result"
    }
   ],
   "source": [
    "get_date_from_fname('2024-12-23-Exploring-execnb-and-nb2fasthtml.ipynb')"
   ]
  },
  {
   "cell_type": "code",
   "execution_count": 49,
   "id": "984c65e0",
   "metadata": {},
   "outputs": [
    {
     "data": {
      "text/plain": [
       "(#3) [<regex.Match object; span=(0, 4), match='2024'>,<regex.Match object; span=(5, 7), match='12'>,<regex.Match object; span=(8, 10), match='28'>]"
      ]
     },
     "execution_count": 49,
     "metadata": {},
     "output_type": "execute_result"
    }
   ],
   "source": [
    "L(regex.finditer(r\"\\d+\", x))"
   ]
  },
  {
   "cell_type": "code",
   "execution_count": 32,
   "id": "dd4979af",
   "metadata": {},
   "outputs": [
    {
     "data": {
      "text/plain": [
       "'Minimal Typography for FastHTML Apps'"
      ]
     },
     "execution_count": 32,
     "metadata": {},
     "output_type": "execute_result"
    }
   ],
   "source": [
    "x[11:][:-6].replace('-', ' ')"
   ]
  },
  {
   "cell_type": "code",
   "execution_count": 33,
   "id": "7117b351",
   "metadata": {},
   "outputs": [],
   "source": [
    "def get_title_from_fname(fname): return fname[11:][:-6].replace('-', ' ').replace('_', ' ')"
   ]
  },
  {
   "cell_type": "code",
   "execution_count": 34,
   "id": "865016b9",
   "metadata": {},
   "outputs": [
    {
     "data": {
      "text/plain": [
       "['Minimal Typography for FastHTML Apps',\n",
       " 'Selectively Using MonsterUI',\n",
       " 'Scoped Syntax Highlighting',\n",
       " 'Notebook Names to Cards',\n",
       " 'Colors',\n",
       " 'Showing FTs in Jupyter Notebooks',\n",
       " 'New PyPI Library deckthehalls',\n",
       " 'Notebook Pygments',\n",
       " 'Trying execnb',\n",
       " 'Deck the Halls With fastcore',\n",
       " 'print',\n",
       " 'Exploring execnb and nb2fasthtml',\n",
       " 'Daddys Snowman Card',\n",
       " 'Claudette FastHTML',\n",
       " 'Claudette',\n",
       " 'FH by Example',\n",
       " 'Delegates Decorator',\n",
       " 'Auth in FastHTML',\n",
       " 'Xtend Pico',\n",
       " 'Printing Components',\n",
       " 'SemanticUI Cards',\n",
       " 'Blogging With nbdev']"
      ]
     },
     "execution_count": 34,
     "metadata": {},
     "output_type": "execute_result"
    }
   ],
   "source": [
    "[get_title_from_fname(x) for x in nbs]"
   ]
  },
  {
   "cell_type": "code",
   "execution_count": 35,
   "id": "aa11c4b2",
   "metadata": {},
   "outputs": [
    {
     "data": {
      "text/plain": [
       "(#22) ['Minimal Typography for FastHTML Apps','Selectively Using MonsterUI','Scoped Syntax Highlighting','Notebook Names to Cards','Colors','Showing FTs in Jupyter Notebooks','New PyPI Library deckthehalls','Notebook Pygments','Trying execnb','Deck the Halls With fastcore','print','Exploring execnb and nb2fasthtml','Daddys Snowman Card','Claudette FastHTML','Claudette','FH by Example','Delegates Decorator','Auth in FastHTML','Xtend Pico','Printing Components'...]"
      ]
     },
     "execution_count": 35,
     "metadata": {},
     "output_type": "execute_result"
    }
   ],
   "source": [
    "L(nbs).map(get_title_from_fname)"
   ]
  },
  {
   "cell_type": "code",
   "execution_count": 36,
   "id": "21624043",
   "metadata": {},
   "outputs": [
    {
     "data": {
      "text/markdown": [
       "```html\n",
       "<div style=\"border:1px lightgray solid;padding:10px;\">\n",
       "  <header>\n",
       "    <h2>Minimal Typography for FastHTML Apps</h2>\n",
       "  </header>\n",
       "<i>2024-12-28</i></div>\n",
       "\n",
       "```"
      ],
      "text/plain": [
       "div((header((h2(('Minimal Typography for FastHTML Apps',),{}),),{}), i(('2024-12-28',),{})),{'style': 'border:1px lightgray solid;padding:10px;'})"
      ]
     },
     "execution_count": 36,
     "metadata": {},
     "output_type": "execute_result"
    }
   ],
   "source": [
    "date = get_date_from_fname(x)\n",
    "title = get_title_from_fname(x)\n",
    "a = Div(Header(H2(title)),I(date),style=\"border:1px lightgray solid;padding:10px;\")\n",
    "a"
   ]
  },
  {
   "cell_type": "code",
   "execution_count": 37,
   "id": "e6688981",
   "metadata": {},
   "outputs": [
    {
     "data": {
      "text/html": [
       "<div style=\"border:1px lightgray solid;padding:10px;\">\n",
       "  <header>\n",
       "    <h2>Minimal Typography for FastHTML Apps</h2>\n",
       "  </header>\n",
       "<i>2024-12-28</i></div>\n"
      ],
      "text/plain": [
       "<IPython.core.display.HTML object>"
      ]
     },
     "execution_count": 37,
     "metadata": {},
     "output_type": "execute_result"
    }
   ],
   "source": [
    "HTML(to_xml(a))"
   ]
  },
  {
   "cell_type": "markdown",
   "id": "3bb3c221",
   "metadata": {},
   "source": [
    "I have wifi now! Monster UI cards use FrankenUI Card CSS, which is defined in https://github.com/franken-ui/ui/blob/master/src/lib/shadcn-ui/components/card.ts which apply Tailwind classes like [pt-0](https://tailwindcss.com/docs/padding). It's a bit involved to set up that whole build pipeline to extract and modify card styles, and I have to get off this train in 2 stops, so for now I'll continue with the simple CSS one-liner."
   ]
  },
  {
   "cell_type": "code",
   "execution_count": 38,
   "id": "1d19eb36",
   "metadata": {},
   "outputs": [
    {
     "data": {
      "text/html": [
       "<div style=\"border:1px lightgray solid;padding:10px;display:grid;grid-template-rows: max-content 30px 1fr;\">\n",
       "  <header>\n",
       "    <h2>Minimal Typography for FastHTML Apps</h2>\n",
       "  </header>\n",
       "<i>2024-12-28</i></div>\n"
      ],
      "text/plain": [
       "<IPython.core.display.HTML object>"
      ]
     },
     "execution_count": 38,
     "metadata": {},
     "output_type": "execute_result"
    }
   ],
   "source": [
    "def Card(fname):\n",
    "    date = get_date_from_fname(fname)\n",
    "    title = get_title_from_fname(fname)\n",
    "    c = Div(Header(H2(title)),I(date),style=\"border:1px lightgray solid;padding:10px;display:grid;grid-template-rows: max-content 30px 1fr;\")\n",
    "    return c\n",
    "HTML(to_xml(Card(x)))"
   ]
  },
  {
   "cell_type": "code",
   "execution_count": 39,
   "id": "50630590",
   "metadata": {
    "scrolled": false
   },
   "outputs": [
    {
     "ename": "ValueError",
     "evalue": "too many values to unpack (expected 3)",
     "output_type": "error",
     "traceback": [
      "\u001b[0;31m---------------------------------------------------------------------------\u001b[0m",
      "\u001b[0;31mValueError\u001b[0m                                Traceback (most recent call last)",
      "Cell \u001b[0;32mIn[39], line 1\u001b[0m\n\u001b[0;32m----> 1\u001b[0m HTML(to_xml(Div(\u001b[38;5;241m*\u001b[39m\u001b[43mL\u001b[49m\u001b[43m(\u001b[49m\u001b[43mnbs\u001b[49m\u001b[43m)\u001b[49m\u001b[38;5;241;43m.\u001b[39;49m\u001b[43mmap\u001b[49m\u001b[43m(\u001b[49m\u001b[43mCard\u001b[49m\u001b[43m)\u001b[49m, style\u001b[38;5;241m=\u001b[39m\u001b[38;5;124m\"\u001b[39m\u001b[38;5;124mmargin:1em auto;display:grid;grid-template-columns:repeat(auto-fill, minmax(180px,1fr));grid-gap:20px;\u001b[39m\u001b[38;5;124m\"\u001b[39m)))\n",
      "File \u001b[0;32m~/git/fastcore/fastcore/foundation.py:163\u001b[0m, in \u001b[0;36mL.map\u001b[0;34m(self, f, *args, **kwargs)\u001b[0m\n\u001b[0;32m--> 163\u001b[0m \u001b[38;5;28;01mdef\u001b[39;00m \u001b[38;5;21mmap\u001b[39m(\u001b[38;5;28mself\u001b[39m, f, \u001b[38;5;241m*\u001b[39margs, \u001b[38;5;241m*\u001b[39m\u001b[38;5;241m*\u001b[39mkwargs): \u001b[38;5;28;01mreturn\u001b[39;00m \u001b[38;5;28mself\u001b[39m\u001b[38;5;241m.\u001b[39m_new(\u001b[43mmap_ex\u001b[49m\u001b[43m(\u001b[49m\u001b[38;5;28;43mself\u001b[39;49m\u001b[43m,\u001b[49m\u001b[43m \u001b[49m\u001b[43mf\u001b[49m\u001b[43m,\u001b[49m\u001b[43m \u001b[49m\u001b[38;5;241;43m*\u001b[39;49m\u001b[43margs\u001b[49m\u001b[43m,\u001b[49m\u001b[43m \u001b[49m\u001b[43mgen\u001b[49m\u001b[38;5;241;43m=\u001b[39;49m\u001b[38;5;28;43;01mFalse\u001b[39;49;00m\u001b[43m,\u001b[49m\u001b[43m \u001b[49m\u001b[38;5;241;43m*\u001b[39;49m\u001b[38;5;241;43m*\u001b[39;49m\u001b[43mkwargs\u001b[49m\u001b[43m)\u001b[49m)\n",
      "File \u001b[0;32m~/git/fastcore/fastcore/basics.py:927\u001b[0m, in \u001b[0;36mmap_ex\u001b[0;34m(iterable, f, gen, *args, **kwargs)\u001b[0m\n\u001b[1;32m    925\u001b[0m res \u001b[38;5;241m=\u001b[39m \u001b[38;5;28mmap\u001b[39m(g, iterable)\n\u001b[1;32m    926\u001b[0m \u001b[38;5;28;01mif\u001b[39;00m gen: \u001b[38;5;28;01mreturn\u001b[39;00m res\n\u001b[0;32m--> 927\u001b[0m \u001b[38;5;28;01mreturn\u001b[39;00m \u001b[38;5;28;43mlist\u001b[39;49m\u001b[43m(\u001b[49m\u001b[43mres\u001b[49m\u001b[43m)\u001b[49m\n",
      "File \u001b[0;32m~/git/fastcore/fastcore/basics.py:912\u001b[0m, in \u001b[0;36mbind.__call__\u001b[0;34m(self, *args, **kwargs)\u001b[0m\n\u001b[1;32m    910\u001b[0m     \u001b[38;5;28;01mif\u001b[39;00m \u001b[38;5;28misinstance\u001b[39m(v,_Arg): kwargs[k] \u001b[38;5;241m=\u001b[39m args\u001b[38;5;241m.\u001b[39mpop(v\u001b[38;5;241m.\u001b[39mi)\n\u001b[1;32m    911\u001b[0m fargs \u001b[38;5;241m=\u001b[39m [args[x\u001b[38;5;241m.\u001b[39mi] \u001b[38;5;28;01mif\u001b[39;00m \u001b[38;5;28misinstance\u001b[39m(x, _Arg) \u001b[38;5;28;01melse\u001b[39;00m x \u001b[38;5;28;01mfor\u001b[39;00m x \u001b[38;5;129;01min\u001b[39;00m \u001b[38;5;28mself\u001b[39m\u001b[38;5;241m.\u001b[39mpargs] \u001b[38;5;241m+\u001b[39m args[\u001b[38;5;28mself\u001b[39m\u001b[38;5;241m.\u001b[39mmaxi\u001b[38;5;241m+\u001b[39m\u001b[38;5;241m1\u001b[39m:]\n\u001b[0;32m--> 912\u001b[0m \u001b[38;5;28;01mreturn\u001b[39;00m \u001b[38;5;28;43mself\u001b[39;49m\u001b[38;5;241;43m.\u001b[39;49m\u001b[43mfunc\u001b[49m\u001b[43m(\u001b[49m\u001b[38;5;241;43m*\u001b[39;49m\u001b[43mfargs\u001b[49m\u001b[43m,\u001b[49m\u001b[43m \u001b[49m\u001b[38;5;241;43m*\u001b[39;49m\u001b[38;5;241;43m*\u001b[39;49m\u001b[43mkwargs\u001b[49m\u001b[43m)\u001b[49m\n",
      "Cell \u001b[0;32mIn[38], line 2\u001b[0m, in \u001b[0;36mCard\u001b[0;34m(fname)\u001b[0m\n\u001b[1;32m      1\u001b[0m \u001b[38;5;28;01mdef\u001b[39;00m \u001b[38;5;21mCard\u001b[39m(fname):\n\u001b[0;32m----> 2\u001b[0m     date \u001b[38;5;241m=\u001b[39m \u001b[43mget_date_from_fname\u001b[49m\u001b[43m(\u001b[49m\u001b[43mfname\u001b[49m\u001b[43m)\u001b[49m\n\u001b[1;32m      3\u001b[0m     title \u001b[38;5;241m=\u001b[39m get_title_from_fname(fname)\n\u001b[1;32m      4\u001b[0m     c \u001b[38;5;241m=\u001b[39m Div(Header(H2(title)),I(date),style\u001b[38;5;241m=\u001b[39m\u001b[38;5;124m\"\u001b[39m\u001b[38;5;124mborder:1px lightgray solid;padding:10px;display:grid;grid-template-rows: max-content 30px 1fr;\u001b[39m\u001b[38;5;124m\"\u001b[39m)\n",
      "Cell \u001b[0;32mIn[29], line 2\u001b[0m, in \u001b[0;36mget_date_from_fname\u001b[0;34m(fname)\u001b[0m\n\u001b[1;32m      1\u001b[0m \u001b[38;5;28;01mdef\u001b[39;00m \u001b[38;5;21mget_date_from_fname\u001b[39m(fname):\n\u001b[0;32m----> 2\u001b[0m     year, month, day \u001b[38;5;241m=\u001b[39m L(regex\u001b[38;5;241m.\u001b[39mfindall(\u001b[38;5;124mr\u001b[39m\u001b[38;5;124m\"\u001b[39m\u001b[38;5;124m\\\u001b[39m\u001b[38;5;124md+\u001b[39m\u001b[38;5;124m\"\u001b[39m, fname))\n\u001b[1;32m      3\u001b[0m     \u001b[38;5;28;01mreturn\u001b[39;00m \u001b[38;5;124mf\u001b[39m\u001b[38;5;124m\"\u001b[39m\u001b[38;5;132;01m{\u001b[39;00myear\u001b[38;5;132;01m}\u001b[39;00m\u001b[38;5;124m-\u001b[39m\u001b[38;5;132;01m{\u001b[39;00mmonth\u001b[38;5;132;01m}\u001b[39;00m\u001b[38;5;124m-\u001b[39m\u001b[38;5;132;01m{\u001b[39;00mday\u001b[38;5;132;01m}\u001b[39;00m\u001b[38;5;124m\"\u001b[39m\n",
      "\u001b[0;31mValueError\u001b[0m: too many values to unpack (expected 3)"
     ]
    }
   ],
   "source": [
    "HTML(to_xml(Div(*L(nbs).map(Card), style=\"margin:1em auto;display:grid;grid-template-columns:repeat(auto-fill, minmax(180px,1fr));grid-gap:20px;\")))"
   ]
  },
  {
   "cell_type": "markdown",
   "id": "f25c2fd8",
   "metadata": {},
   "source": [
    "I asked AI: How to make the cards look better?"
   ]
  },
  {
   "cell_type": "code",
   "execution_count": 21,
   "id": "596677d0",
   "metadata": {},
   "outputs": [],
   "source": [
    "def Card(fname):\n",
    "    date = get_date_from_fname(fname)\n",
    "    title = get_title_from_fname(fname)\n",
    "    style = \"\"\"\n",
    "        border: 1px solid #e2e8f0;\n",
    "        padding: 1.25rem;\n",
    "        border-radius: 0.5rem;\n",
    "        background: white;\n",
    "        box-shadow: 0 1px 3px rgba(0,0,0,0.12);\n",
    "        transition: transform 0.2s ease;\n",
    "        cursor: pointer;\n",
    "    \"\"\"\n",
    "    header_style = \"margin-bottom: 0.5rem; font-weight: 600;\"\n",
    "    date_style = \"color: #666; font-size: 0.875rem;\"\n",
    "    \n",
    "    c = Div(\n",
    "        Header(H2(title, style=header_style)),\n",
    "        I(date, style=date_style),\n",
    "        style=style,\n",
    "        onmouseover=\"this.style.transform='translateY(-2px)';this.style.boxShadow='0 4px 6px rgba(0,0,0,0.1)'\",\n",
    "        onmouseout=\"this.style.transform='none';this.style.boxShadow='0 1px 3px rgba(0,0,0,0.12)'\"\n",
    "    )\n",
    "    return c"
   ]
  },
  {
   "cell_type": "code",
   "execution_count": 22,
   "id": "7fd1b9ac",
   "metadata": {},
   "outputs": [
    {
     "data": {
      "text/html": [
       "<div style=\"\n",
       "    margin: 2em auto;\n",
       "    display: grid;\n",
       "    grid-template-columns: repeat(auto-fill, minmax(220px,1fr));\n",
       "    grid-gap: 1.5rem;\n",
       "    padding: 1rem;\n",
       "    max-width: 1200px;\n",
       "\">\n",
       "  <div onmouseover=\"this.style.transform='translateY(-2px)';this.style.boxShadow='0 4px 6px rgba(0,0,0,0.1)'\" onmouseout=\"this.style.transform='none';this.style.boxShadow='0 1px 3px rgba(0,0,0,0.12)'\" style=\"\n",
       "        border: 1px solid #e2e8f0;\n",
       "        padding: 1.25rem;\n",
       "        border-radius: 0.5rem;\n",
       "        background: white;\n",
       "        box-shadow: 0 1px 3px rgba(0,0,0,0.12);\n",
       "        transition: transform 0.2s ease;\n",
       "        cursor: pointer;\n",
       "    \">\n",
       "    <header>\n",
       "      <h2 style=\"margin-bottom: 0.5rem; font-weight: 600;\">Minimal Typography for FastHTML Apps</h2>\n",
       "    </header>\n",
       "<i style=\"color: #666; font-size: 0.875rem;\">2024-12-28</i>  </div>\n",
       "  <div onmouseover=\"this.style.transform='translateY(-2px)';this.style.boxShadow='0 4px 6px rgba(0,0,0,0.1)'\" onmouseout=\"this.style.transform='none';this.style.boxShadow='0 1px 3px rgba(0,0,0,0.12)'\" style=\"\n",
       "        border: 1px solid #e2e8f0;\n",
       "        padding: 1.25rem;\n",
       "        border-radius: 0.5rem;\n",
       "        background: white;\n",
       "        box-shadow: 0 1px 3px rgba(0,0,0,0.12);\n",
       "        transition: transform 0.2s ease;\n",
       "        cursor: pointer;\n",
       "    \">\n",
       "    <header>\n",
       "      <h2 style=\"margin-bottom: 0.5rem; font-weight: 600;\">Selectively Using MonsterUI</h2>\n",
       "    </header>\n",
       "<i style=\"color: #666; font-size: 0.875rem;\">2024-12-27</i>  </div>\n",
       "  <div onmouseover=\"this.style.transform='translateY(-2px)';this.style.boxShadow='0 4px 6px rgba(0,0,0,0.1)'\" onmouseout=\"this.style.transform='none';this.style.boxShadow='0 1px 3px rgba(0,0,0,0.12)'\" style=\"\n",
       "        border: 1px solid #e2e8f0;\n",
       "        padding: 1.25rem;\n",
       "        border-radius: 0.5rem;\n",
       "        background: white;\n",
       "        box-shadow: 0 1px 3px rgba(0,0,0,0.12);\n",
       "        transition: transform 0.2s ease;\n",
       "        cursor: pointer;\n",
       "    \">\n",
       "    <header>\n",
       "      <h2 style=\"margin-bottom: 0.5rem; font-weight: 600;\">Scoped Syntax Highlighting</h2>\n",
       "    </header>\n",
       "<i style=\"color: #666; font-size: 0.875rem;\">2024-12-27</i>  </div>\n",
       "  <div onmouseover=\"this.style.transform='translateY(-2px)';this.style.boxShadow='0 4px 6px rgba(0,0,0,0.1)'\" onmouseout=\"this.style.transform='none';this.style.boxShadow='0 1px 3px rgba(0,0,0,0.12)'\" style=\"\n",
       "        border: 1px solid #e2e8f0;\n",
       "        padding: 1.25rem;\n",
       "        border-radius: 0.5rem;\n",
       "        background: white;\n",
       "        box-shadow: 0 1px 3px rgba(0,0,0,0.12);\n",
       "        transition: transform 0.2s ease;\n",
       "        cursor: pointer;\n",
       "    \">\n",
       "    <header>\n",
       "      <h2 style=\"margin-bottom: 0.5rem; font-weight: 600;\">Notebook Names to Cards</h2>\n",
       "    </header>\n",
       "<i style=\"color: #666; font-size: 0.875rem;\">2024-12-27</i>  </div>\n",
       "  <div onmouseover=\"this.style.transform='translateY(-2px)';this.style.boxShadow='0 4px 6px rgba(0,0,0,0.1)'\" onmouseout=\"this.style.transform='none';this.style.boxShadow='0 1px 3px rgba(0,0,0,0.12)'\" style=\"\n",
       "        border: 1px solid #e2e8f0;\n",
       "        padding: 1.25rem;\n",
       "        border-radius: 0.5rem;\n",
       "        background: white;\n",
       "        box-shadow: 0 1px 3px rgba(0,0,0,0.12);\n",
       "        transition: transform 0.2s ease;\n",
       "        cursor: pointer;\n",
       "    \">\n",
       "    <header>\n",
       "      <h2 style=\"margin-bottom: 0.5rem; font-weight: 600;\">Colors</h2>\n",
       "    </header>\n",
       "<i style=\"color: #666; font-size: 0.875rem;\">2024-12-27</i>  </div>\n",
       "  <div onmouseover=\"this.style.transform='translateY(-2px)';this.style.boxShadow='0 4px 6px rgba(0,0,0,0.1)'\" onmouseout=\"this.style.transform='none';this.style.boxShadow='0 1px 3px rgba(0,0,0,0.12)'\" style=\"\n",
       "        border: 1px solid #e2e8f0;\n",
       "        padding: 1.25rem;\n",
       "        border-radius: 0.5rem;\n",
       "        background: white;\n",
       "        box-shadow: 0 1px 3px rgba(0,0,0,0.12);\n",
       "        transition: transform 0.2s ease;\n",
       "        cursor: pointer;\n",
       "    \">\n",
       "    <header>\n",
       "      <h2 style=\"margin-bottom: 0.5rem; font-weight: 600;\">showing components in jupyter notebooks</h2>\n",
       "    </header>\n",
       "<i style=\"color: #666; font-size: 0.875rem;\">2024-12-26</i>  </div>\n",
       "  <div onmouseover=\"this.style.transform='translateY(-2px)';this.style.boxShadow='0 4px 6px rgba(0,0,0,0.1)'\" onmouseout=\"this.style.transform='none';this.style.boxShadow='0 1px 3px rgba(0,0,0,0.12)'\" style=\"\n",
       "        border: 1px solid #e2e8f0;\n",
       "        padding: 1.25rem;\n",
       "        border-radius: 0.5rem;\n",
       "        background: white;\n",
       "        box-shadow: 0 1px 3px rgba(0,0,0,0.12);\n",
       "        transition: transform 0.2s ease;\n",
       "        cursor: pointer;\n",
       "    \">\n",
       "    <header>\n",
       "      <h2 style=\"margin-bottom: 0.5rem; font-weight: 600;\">deckthehalls</h2>\n",
       "    </header>\n",
       "<i style=\"color: #666; font-size: 0.875rem;\">2024-12-26</i>  </div>\n",
       "  <div onmouseover=\"this.style.transform='translateY(-2px)';this.style.boxShadow='0 4px 6px rgba(0,0,0,0.1)'\" onmouseout=\"this.style.transform='none';this.style.boxShadow='0 1px 3px rgba(0,0,0,0.12)'\" style=\"\n",
       "        border: 1px solid #e2e8f0;\n",
       "        padding: 1.25rem;\n",
       "        border-radius: 0.5rem;\n",
       "        background: white;\n",
       "        box-shadow: 0 1px 3px rgba(0,0,0,0.12);\n",
       "        transition: transform 0.2s ease;\n",
       "        cursor: pointer;\n",
       "    \">\n",
       "    <header>\n",
       "      <h2 style=\"margin-bottom: 0.5rem; font-weight: 600;\">nb pygments</h2>\n",
       "    </header>\n",
       "<i style=\"color: #666; font-size: 0.875rem;\">2024-12-25</i>  </div>\n",
       "  <div onmouseover=\"this.style.transform='translateY(-2px)';this.style.boxShadow='0 4px 6px rgba(0,0,0,0.1)'\" onmouseout=\"this.style.transform='none';this.style.boxShadow='0 1px 3px rgba(0,0,0,0.12)'\" style=\"\n",
       "        border: 1px solid #e2e8f0;\n",
       "        padding: 1.25rem;\n",
       "        border-radius: 0.5rem;\n",
       "        background: white;\n",
       "        box-shadow: 0 1px 3px rgba(0,0,0,0.12);\n",
       "        transition: transform 0.2s ease;\n",
       "        cursor: pointer;\n",
       "    \">\n",
       "    <header>\n",
       "      <h2 style=\"margin-bottom: 0.5rem; font-weight: 600;\">execnb</h2>\n",
       "    </header>\n",
       "<i style=\"color: #666; font-size: 0.875rem;\">2024-12-24</i>  </div>\n",
       "  <div onmouseover=\"this.style.transform='translateY(-2px)';this.style.boxShadow='0 4px 6px rgba(0,0,0,0.1)'\" onmouseout=\"this.style.transform='none';this.style.boxShadow='0 1px 3px rgba(0,0,0,0.12)'\" style=\"\n",
       "        border: 1px solid #e2e8f0;\n",
       "        padding: 1.25rem;\n",
       "        border-radius: 0.5rem;\n",
       "        background: white;\n",
       "        box-shadow: 0 1px 3px rgba(0,0,0,0.12);\n",
       "        transition: transform 0.2s ease;\n",
       "        cursor: pointer;\n",
       "    \">\n",
       "    <header>\n",
       "      <h2 style=\"margin-bottom: 0.5rem; font-weight: 600;\">deck the halls</h2>\n",
       "    </header>\n",
       "<i style=\"color: #666; font-size: 0.875rem;\">2024-12-24</i>  </div>\n",
       "  <div onmouseover=\"this.style.transform='translateY(-2px)';this.style.boxShadow='0 4px 6px rgba(0,0,0,0.1)'\" onmouseout=\"this.style.transform='none';this.style.boxShadow='0 1px 3px rgba(0,0,0,0.12)'\" style=\"\n",
       "        border: 1px solid #e2e8f0;\n",
       "        padding: 1.25rem;\n",
       "        border-radius: 0.5rem;\n",
       "        background: white;\n",
       "        box-shadow: 0 1px 3px rgba(0,0,0,0.12);\n",
       "        transition: transform 0.2s ease;\n",
       "        cursor: pointer;\n",
       "    \">\n",
       "    <header>\n",
       "      <h2 style=\"margin-bottom: 0.5rem; font-weight: 600;\">read nb and render nb</h2>\n",
       "    </header>\n",
       "<i style=\"color: #666; font-size: 0.875rem;\">2024-12-23</i>  </div>\n",
       "  <div onmouseover=\"this.style.transform='translateY(-2px)';this.style.boxShadow='0 4px 6px rgba(0,0,0,0.1)'\" onmouseout=\"this.style.transform='none';this.style.boxShadow='0 1px 3px rgba(0,0,0,0.12)'\" style=\"\n",
       "        border: 1px solid #e2e8f0;\n",
       "        padding: 1.25rem;\n",
       "        border-radius: 0.5rem;\n",
       "        background: white;\n",
       "        box-shadow: 0 1px 3px rgba(0,0,0,0.12);\n",
       "        transition: transform 0.2s ease;\n",
       "        cursor: pointer;\n",
       "    \">\n",
       "    <header>\n",
       "      <h2 style=\"margin-bottom: 0.5rem; font-weight: 600;\">print</h2>\n",
       "    </header>\n",
       "<i style=\"color: #666; font-size: 0.875rem;\">2024-12-23</i>  </div>\n",
       "  <div onmouseover=\"this.style.transform='translateY(-2px)';this.style.boxShadow='0 4px 6px rgba(0,0,0,0.1)'\" onmouseout=\"this.style.transform='none';this.style.boxShadow='0 1px 3px rgba(0,0,0,0.12)'\" style=\"\n",
       "        border: 1px solid #e2e8f0;\n",
       "        padding: 1.25rem;\n",
       "        border-radius: 0.5rem;\n",
       "        background: white;\n",
       "        box-shadow: 0 1px 3px rgba(0,0,0,0.12);\n",
       "        transition: transform 0.2s ease;\n",
       "        cursor: pointer;\n",
       "    \">\n",
       "    <header>\n",
       "      <h2 style=\"margin-bottom: 0.5rem; font-weight: 600;\">Daddys Snowman Card</h2>\n",
       "    </header>\n",
       "<i style=\"color: #666; font-size: 0.875rem;\">2024-12-23</i>  </div>\n",
       "  <div onmouseover=\"this.style.transform='translateY(-2px)';this.style.boxShadow='0 4px 6px rgba(0,0,0,0.1)'\" onmouseout=\"this.style.transform='none';this.style.boxShadow='0 1px 3px rgba(0,0,0,0.12)'\" style=\"\n",
       "        border: 1px solid #e2e8f0;\n",
       "        padding: 1.25rem;\n",
       "        border-radius: 0.5rem;\n",
       "        background: white;\n",
       "        box-shadow: 0 1px 3px rgba(0,0,0,0.12);\n",
       "        transition: transform 0.2s ease;\n",
       "        cursor: pointer;\n",
       "    \">\n",
       "    <header>\n",
       "      <h2 style=\"margin-bottom: 0.5rem; font-weight: 600;\">Claudette FastHTML</h2>\n",
       "    </header>\n",
       "<i style=\"color: #666; font-size: 0.875rem;\">2024-08-05</i>  </div>\n",
       "  <div onmouseover=\"this.style.transform='translateY(-2px)';this.style.boxShadow='0 4px 6px rgba(0,0,0,0.1)'\" onmouseout=\"this.style.transform='none';this.style.boxShadow='0 1px 3px rgba(0,0,0,0.12)'\" style=\"\n",
       "        border: 1px solid #e2e8f0;\n",
       "        padding: 1.25rem;\n",
       "        border-radius: 0.5rem;\n",
       "        background: white;\n",
       "        box-shadow: 0 1px 3px rgba(0,0,0,0.12);\n",
       "        transition: transform 0.2s ease;\n",
       "        cursor: pointer;\n",
       "    \">\n",
       "    <header>\n",
       "      <h2 style=\"margin-bottom: 0.5rem; font-weight: 600;\">Claudette</h2>\n",
       "    </header>\n",
       "<i style=\"color: #666; font-size: 0.875rem;\">2024-08-04</i>  </div>\n",
       "  <div onmouseover=\"this.style.transform='translateY(-2px)';this.style.boxShadow='0 4px 6px rgba(0,0,0,0.1)'\" onmouseout=\"this.style.transform='none';this.style.boxShadow='0 1px 3px rgba(0,0,0,0.12)'\" style=\"\n",
       "        border: 1px solid #e2e8f0;\n",
       "        padding: 1.25rem;\n",
       "        border-radius: 0.5rem;\n",
       "        background: white;\n",
       "        box-shadow: 0 1px 3px rgba(0,0,0,0.12);\n",
       "        transition: transform 0.2s ease;\n",
       "        cursor: pointer;\n",
       "    \">\n",
       "    <header>\n",
       "      <h2 style=\"margin-bottom: 0.5rem; font-weight: 600;\">FH by Example</h2>\n",
       "    </header>\n",
       "<i style=\"color: #666; font-size: 0.875rem;\">2024-07-29</i>  </div>\n",
       "  <div onmouseover=\"this.style.transform='translateY(-2px)';this.style.boxShadow='0 4px 6px rgba(0,0,0,0.1)'\" onmouseout=\"this.style.transform='none';this.style.boxShadow='0 1px 3px rgba(0,0,0,0.12)'\" style=\"\n",
       "        border: 1px solid #e2e8f0;\n",
       "        padding: 1.25rem;\n",
       "        border-radius: 0.5rem;\n",
       "        background: white;\n",
       "        box-shadow: 0 1px 3px rgba(0,0,0,0.12);\n",
       "        transition: transform 0.2s ease;\n",
       "        cursor: pointer;\n",
       "    \">\n",
       "    <header>\n",
       "      <h2 style=\"margin-bottom: 0.5rem; font-weight: 600;\">Delegates Decorator</h2>\n",
       "    </header>\n",
       "<i style=\"color: #666; font-size: 0.875rem;\">2024-07-29</i>  </div>\n",
       "  <div onmouseover=\"this.style.transform='translateY(-2px)';this.style.boxShadow='0 4px 6px rgba(0,0,0,0.1)'\" onmouseout=\"this.style.transform='none';this.style.boxShadow='0 1px 3px rgba(0,0,0,0.12)'\" style=\"\n",
       "        border: 1px solid #e2e8f0;\n",
       "        padding: 1.25rem;\n",
       "        border-radius: 0.5rem;\n",
       "        background: white;\n",
       "        box-shadow: 0 1px 3px rgba(0,0,0,0.12);\n",
       "        transition: transform 0.2s ease;\n",
       "        cursor: pointer;\n",
       "    \">\n",
       "    <header>\n",
       "      <h2 style=\"margin-bottom: 0.5rem; font-weight: 600;\">Auth</h2>\n",
       "    </header>\n",
       "<i style=\"color: #666; font-size: 0.875rem;\">2024-07-29</i>  </div>\n",
       "  <div onmouseover=\"this.style.transform='translateY(-2px)';this.style.boxShadow='0 4px 6px rgba(0,0,0,0.1)'\" onmouseout=\"this.style.transform='none';this.style.boxShadow='0 1px 3px rgba(0,0,0,0.12)'\" style=\"\n",
       "        border: 1px solid #e2e8f0;\n",
       "        padding: 1.25rem;\n",
       "        border-radius: 0.5rem;\n",
       "        background: white;\n",
       "        box-shadow: 0 1px 3px rgba(0,0,0,0.12);\n",
       "        transition: transform 0.2s ease;\n",
       "        cursor: pointer;\n",
       "    \">\n",
       "    <header>\n",
       "      <h2 style=\"margin-bottom: 0.5rem; font-weight: 600;\">Xtend Pico</h2>\n",
       "    </header>\n",
       "<i style=\"color: #666; font-size: 0.875rem;\">2024-07-16</i>  </div>\n",
       "  <div onmouseover=\"this.style.transform='translateY(-2px)';this.style.boxShadow='0 4px 6px rgba(0,0,0,0.1)'\" onmouseout=\"this.style.transform='none';this.style.boxShadow='0 1px 3px rgba(0,0,0,0.12)'\" style=\"\n",
       "        border: 1px solid #e2e8f0;\n",
       "        padding: 1.25rem;\n",
       "        border-radius: 0.5rem;\n",
       "        background: white;\n",
       "        box-shadow: 0 1px 3px rgba(0,0,0,0.12);\n",
       "        transition: transform 0.2s ease;\n",
       "        cursor: pointer;\n",
       "    \">\n",
       "    <header>\n",
       "      <h2 style=\"margin-bottom: 0.5rem; font-weight: 600;\">Printing Components</h2>\n",
       "    </header>\n",
       "<i style=\"color: #666; font-size: 0.875rem;\">2024-07-15</i>  </div>\n",
       "  <div onmouseover=\"this.style.transform='translateY(-2px)';this.style.boxShadow='0 4px 6px rgba(0,0,0,0.1)'\" onmouseout=\"this.style.transform='none';this.style.boxShadow='0 1px 3px rgba(0,0,0,0.12)'\" style=\"\n",
       "        border: 1px solid #e2e8f0;\n",
       "        padding: 1.25rem;\n",
       "        border-radius: 0.5rem;\n",
       "        background: white;\n",
       "        box-shadow: 0 1px 3px rgba(0,0,0,0.12);\n",
       "        transition: transform 0.2s ease;\n",
       "        cursor: pointer;\n",
       "    \">\n",
       "    <header>\n",
       "      <h2 style=\"margin-bottom: 0.5rem; font-weight: 600;\">SemanticUI Cards</h2>\n",
       "    </header>\n",
       "<i style=\"color: #666; font-size: 0.875rem;\">2024-07-14</i>  </div>\n",
       "  <div onmouseover=\"this.style.transform='translateY(-2px)';this.style.boxShadow='0 4px 6px rgba(0,0,0,0.1)'\" onmouseout=\"this.style.transform='none';this.style.boxShadow='0 1px 3px rgba(0,0,0,0.12)'\" style=\"\n",
       "        border: 1px solid #e2e8f0;\n",
       "        padding: 1.25rem;\n",
       "        border-radius: 0.5rem;\n",
       "        background: white;\n",
       "        box-shadow: 0 1px 3px rgba(0,0,0,0.12);\n",
       "        transition: transform 0.2s ease;\n",
       "        cursor: pointer;\n",
       "    \">\n",
       "    <header>\n",
       "      <h2 style=\"margin-bottom: 0.5rem; font-weight: 600;\">nbdev</h2>\n",
       "    </header>\n",
       "<i style=\"color: #666; font-size: 0.875rem;\">2023-07-29</i>  </div>\n",
       "</div>\n"
      ],
      "text/plain": [
       "<IPython.core.display.HTML object>"
      ]
     },
     "execution_count": 22,
     "metadata": {},
     "output_type": "execute_result"
    }
   ],
   "source": [
    "# Container style with some padding and max-width\n",
    "container_style = \"\"\"\n",
    "    margin: 2em auto;\n",
    "    display: grid;\n",
    "    grid-template-columns: repeat(auto-fill, minmax(220px,1fr));\n",
    "    grid-gap: 1.5rem;\n",
    "    padding: 1rem;\n",
    "    max-width: 1200px;\n",
    "\"\"\"\n",
    "\n",
    "HTML(to_xml(Div(*L(nbs).map(Card), style=container_style)))"
   ]
  },
  {
   "cell_type": "markdown",
   "id": "a6a48acb",
   "metadata": {},
   "source": [
    "This adds:\n",
    "- Softer borders and subtle shadow\n",
    "- Hover effect with lift animation\n",
    "- Better spacing and typography\n",
    "- Rounded corners\n",
    "- Wider cards and more gap between them\n",
    "- Container max-width and padding\n",
    "- Pointer cursor to indicate clickable"
   ]
  },
  {
   "cell_type": "code",
   "execution_count": null,
   "id": "4bdeadde",
   "metadata": {},
   "outputs": [],
   "source": []
  }
 ],
 "metadata": {
  "kernelspec": {
   "display_name": "Python 3 (ipykernel)",
   "language": "python",
   "name": "python3"
  },
  "language_info": {
   "codemirror_mode": {
    "name": "ipython",
    "version": 3
   },
   "file_extension": ".py",
   "mimetype": "text/x-python",
   "name": "python",
   "nbconvert_exporter": "python",
   "pygments_lexer": "ipython3",
   "version": "3.12.7"
  },
  "toc": {
   "base_numbering": 1,
   "nav_menu": {},
   "number_sections": true,
   "sideBar": true,
   "skip_h1_title": false,
   "title_cell": "Table of Contents",
   "title_sidebar": "Contents",
   "toc_cell": false,
   "toc_position": {},
   "toc_section_display": true,
   "toc_window_display": false
  }
 },
 "nbformat": 4,
 "nbformat_minor": 5
}
