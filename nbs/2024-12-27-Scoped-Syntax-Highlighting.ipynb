{
 "cells": [
  {
   "cell_type": "markdown",
   "id": "57788184",
   "metadata": {},
   "source": [
    "# Scoped Syntax Highlighting with Pygments, Jupyter, and FastHTML"
   ]
  },
  {
   "cell_type": "markdown",
   "id": "09643040",
   "metadata": {},
   "source": [
    "This notebook shows how to:\n",
    "\n",
    "* Get and use Pygments styles programmatically\n",
    "* Extract and display the source code from Python functions\n",
    "* Apply different Pygments syntax highlighting to different cells of the same notebook with proper CSS scoping\n",
    "* Use Pygments-highlighted code in a FastHTML FastTag"
   ]
  },
  {
   "cell_type": "code",
   "execution_count": 131,
   "id": "cd8afe8c",
   "metadata": {},
   "outputs": [],
   "source": [
    "from execnb.nbio import *\n",
    "from fastcore.all import *\n",
    "from fasthtml.common import *\n",
    "from inspect import getsource\n",
    "from IPython.display import display, HTML\n",
    "import pygments\n",
    "from pygments import highlight\n",
    "from pygments.lexers import PythonLexer\n",
    "from pygments.formatters import HtmlFormatter"
   ]
  },
  {
   "cell_type": "markdown",
   "id": "cde8d33c",
   "metadata": {},
   "source": [
    "## Pygments Styles"
   ]
  },
  {
   "cell_type": "markdown",
   "id": "20449b21",
   "metadata": {},
   "source": [
    "I was getting all Pygments styles the hard way in [my previous notebooks](https://github.com/audreyfeldroy/arg-blog-fasthtml/tree/main/nbs). There's a method for getting the highlight style names via Python:"
   ]
  },
  {
   "cell_type": "code",
   "execution_count": 59,
   "id": "286597be",
   "metadata": {
    "scrolled": true
   },
   "outputs": [
    {
     "name": "stdout",
     "output_type": "stream",
     "text": [
      "['abap', 'algol', 'algol_nu', 'arduino', 'autumn', 'bw', 'borland', 'coffee', 'colorful', 'default', 'dracula', 'emacs', 'friendly_grayscale', 'friendly', 'fruity', 'github-dark', 'gruvbox-dark', 'gruvbox-light', 'igor', 'inkpot', 'lightbulb', 'lilypond', 'lovelace', 'manni', 'material', 'monokai', 'murphy', 'native', 'nord-darker', 'nord', 'one-dark', 'paraiso-dark', 'paraiso-light', 'pastie', 'perldoc', 'rainbow_dash', 'rrt', 'sas', 'solarized-dark', 'solarized-light', 'staroffice', 'stata-dark', 'stata-light', 'tango', 'trac', 'vim', 'vs', 'xcode', 'zenburn']\n"
     ]
    }
   ],
   "source": [
    "styles = L(pygments.styles.get_all_styles())\n",
    "print(styles)"
   ]
  },
  {
   "cell_type": "markdown",
   "id": "f92d2e3c",
   "metadata": {},
   "source": [
    "## Inspect and `getsource`"
   ]
  },
  {
   "cell_type": "markdown",
   "id": "7615425e",
   "metadata": {},
   "source": [
    "Let's grab a function to highlight. How about `read_nb` from execnb:"
   ]
  },
  {
   "cell_type": "code",
   "execution_count": 66,
   "id": "14c3f93e",
   "metadata": {},
   "outputs": [
    {
     "data": {
      "text/plain": [
       "'def read_nb(path):\\n    \"Return notebook at `path`\"\\n    res = dict2nb(_read_json(path, encoding=\\'utf-8\\'))\\n    res[\\'path_\\'] = str(path)\\n    return res\\n'"
      ]
     },
     "execution_count": 66,
     "metadata": {},
     "output_type": "execute_result"
    }
   ],
   "source": [
    "rn = getsource(read_nb)\n",
    "rn"
   ]
  },
  {
   "cell_type": "markdown",
   "id": "015343b1",
   "metadata": {},
   "source": [
    "We have to print it to see it nicely:"
   ]
  },
  {
   "cell_type": "code",
   "execution_count": 64,
   "id": "7f0cca72",
   "metadata": {},
   "outputs": [
    {
     "name": "stdout",
     "output_type": "stream",
     "text": [
      "def read_nb(path):\n",
      "    \"Return notebook at `path`\"\n",
      "    res = dict2nb(_read_json(path, encoding='utf-8'))\n",
      "    res['path_'] = str(path)\n",
      "    return res\n",
      "\n"
     ]
    }
   ],
   "source": [
    "print(rn)"
   ]
  },
  {
   "cell_type": "markdown",
   "id": "01643353",
   "metadata": {},
   "source": [
    "## Pygments `highlight`"
   ]
  },
  {
   "cell_type": "markdown",
   "id": "8b7bdc9f",
   "metadata": {},
   "source": [
    "As in previous posts, we call `highlight` to highlight a Python code block like this:"
   ]
  },
  {
   "cell_type": "code",
   "execution_count": 68,
   "id": "d5d721c1",
   "metadata": {},
   "outputs": [
    {
     "data": {
      "text/plain": [
       "'<div class=\"highlight\"><pre><span></span><span class=\"k\">def</span> <span class=\"nf\">read_nb</span><span class=\"p\">(</span><span class=\"n\">path</span><span class=\"p\">):</span>\\n    <span class=\"s2\">&quot;Return notebook at `path`&quot;</span>\\n    <span class=\"n\">res</span> <span class=\"o\">=</span> <span class=\"n\">dict2nb</span><span class=\"p\">(</span><span class=\"n\">_read_json</span><span class=\"p\">(</span><span class=\"n\">path</span><span class=\"p\">,</span> <span class=\"n\">encoding</span><span class=\"o\">=</span><span class=\"s1\">&#39;utf-8&#39;</span><span class=\"p\">))</span>\\n    <span class=\"n\">res</span><span class=\"p\">[</span><span class=\"s1\">&#39;path_&#39;</span><span class=\"p\">]</span> <span class=\"o\">=</span> <span class=\"nb\">str</span><span class=\"p\">(</span><span class=\"n\">path</span><span class=\"p\">)</span>\\n    <span class=\"k\">return</span> <span class=\"n\">res</span>\\n</pre></div>\\n'"
      ]
     },
     "execution_count": 68,
     "metadata": {},
     "output_type": "execute_result"
    }
   ],
   "source": [
    "h = highlight(rn, PythonLexer(), HtmlFormatter(style='tango'))\n",
    "h"
   ]
  },
  {
   "cell_type": "markdown",
   "id": "6fd52e15",
   "metadata": {},
   "source": [
    "Then to display that in a notebook:"
   ]
  },
  {
   "cell_type": "code",
   "execution_count": 69,
   "id": "20428615",
   "metadata": {},
   "outputs": [
    {
     "data": {
      "text/html": [
       "<div class=\"highlight\"><pre><span></span><span class=\"k\">def</span> <span class=\"nf\">read_nb</span><span class=\"p\">(</span><span class=\"n\">path</span><span class=\"p\">):</span>\n",
       "    <span class=\"s2\">&quot;Return notebook at `path`&quot;</span>\n",
       "    <span class=\"n\">res</span> <span class=\"o\">=</span> <span class=\"n\">dict2nb</span><span class=\"p\">(</span><span class=\"n\">_read_json</span><span class=\"p\">(</span><span class=\"n\">path</span><span class=\"p\">,</span> <span class=\"n\">encoding</span><span class=\"o\">=</span><span class=\"s1\">&#39;utf-8&#39;</span><span class=\"p\">))</span>\n",
       "    <span class=\"n\">res</span><span class=\"p\">[</span><span class=\"s1\">&#39;path_&#39;</span><span class=\"p\">]</span> <span class=\"o\">=</span> <span class=\"nb\">str</span><span class=\"p\">(</span><span class=\"n\">path</span><span class=\"p\">)</span>\n",
       "    <span class=\"k\">return</span> <span class=\"n\">res</span>\n",
       "</pre></div>\n"
      ],
      "text/plain": [
       "<IPython.core.display.HTML object>"
      ]
     },
     "execution_count": 69,
     "metadata": {},
     "output_type": "execute_result"
    }
   ],
   "source": [
    "HTML(h)"
   ]
  },
  {
   "cell_type": "markdown",
   "id": "6eb7563c",
   "metadata": {},
   "source": [
    "## Highlighting Code In-Notebook"
   ]
  },
  {
   "cell_type": "markdown",
   "id": "4ac2d664",
   "metadata": {},
   "source": [
    "Putting `highlight` and `HTML` into a function together, building up from above:"
   ]
  },
  {
   "cell_type": "code",
   "execution_count": 71,
   "id": "3e2adec0",
   "metadata": {},
   "outputs": [],
   "source": [
    "def show(c): return HTML(highlight(c, PythonLexer(), HtmlFormatter(style='tango')))"
   ]
  },
  {
   "cell_type": "code",
   "execution_count": 73,
   "id": "585da74f",
   "metadata": {},
   "outputs": [
    {
     "data": {
      "text/html": [
       "<div class=\"highlight\"><pre><span></span><span class=\"k\">def</span> <span class=\"nf\">read_nb</span><span class=\"p\">(</span><span class=\"n\">path</span><span class=\"p\">):</span>\n",
       "    <span class=\"s2\">&quot;Return notebook at `path`&quot;</span>\n",
       "    <span class=\"n\">res</span> <span class=\"o\">=</span> <span class=\"n\">dict2nb</span><span class=\"p\">(</span><span class=\"n\">_read_json</span><span class=\"p\">(</span><span class=\"n\">path</span><span class=\"p\">,</span> <span class=\"n\">encoding</span><span class=\"o\">=</span><span class=\"s1\">&#39;utf-8&#39;</span><span class=\"p\">))</span>\n",
       "    <span class=\"n\">res</span><span class=\"p\">[</span><span class=\"s1\">&#39;path_&#39;</span><span class=\"p\">]</span> <span class=\"o\">=</span> <span class=\"nb\">str</span><span class=\"p\">(</span><span class=\"n\">path</span><span class=\"p\">)</span>\n",
       "    <span class=\"k\">return</span> <span class=\"n\">res</span>\n",
       "</pre></div>\n"
      ],
      "text/plain": [
       "<IPython.core.display.HTML object>"
      ]
     },
     "execution_count": 73,
     "metadata": {},
     "output_type": "execute_result"
    }
   ],
   "source": [
    "show(rn)"
   ]
  },
  {
   "cell_type": "markdown",
   "id": "bdd2ee6e",
   "metadata": {},
   "source": [
    "## Function Getting Its Own Source"
   ]
  },
  {
   "cell_type": "markdown",
   "id": "25bbb1cc",
   "metadata": {},
   "source": [
    "To get some source code to highlight without having to read a notebook:"
   ]
  },
  {
   "cell_type": "code",
   "execution_count": 88,
   "id": "e8807006",
   "metadata": {},
   "outputs": [],
   "source": [
    "def get_myself(): return getsource(get_myself)"
   ]
  },
  {
   "cell_type": "code",
   "execution_count": 89,
   "id": "cff6b071",
   "metadata": {},
   "outputs": [
    {
     "data": {
      "text/plain": [
       "'def get_myself(): return getsource(get_myself)\\n'"
      ]
     },
     "execution_count": 89,
     "metadata": {},
     "output_type": "execute_result"
    }
   ],
   "source": [
    "get_myself()"
   ]
  },
  {
   "cell_type": "markdown",
   "id": "205f3dc6",
   "metadata": {},
   "source": [
    "## Function Highlighting Itself"
   ]
  },
  {
   "cell_type": "markdown",
   "id": "8a01d2c4",
   "metadata": {},
   "source": [
    "Putting together `highlight`, `HTML`, and `getsource`:"
   ]
  },
  {
   "cell_type": "code",
   "execution_count": 96,
   "id": "b5ca96e5",
   "metadata": {},
   "outputs": [],
   "source": [
    "def show(c=None): \n",
    "    if not c: c = getsource(show)\n",
    "    return HTML(highlight(c, PythonLexer(), HtmlFormatter(style='tango')))"
   ]
  },
  {
   "cell_type": "code",
   "execution_count": 97,
   "id": "7312c9ad",
   "metadata": {},
   "outputs": [
    {
     "data": {
      "text/html": [
       "<div class=\"highlight\"><pre><span></span><span class=\"k\">def</span> <span class=\"nf\">show</span><span class=\"p\">(</span><span class=\"n\">c</span><span class=\"o\">=</span><span class=\"kc\">None</span><span class=\"p\">):</span> \n",
       "    <span class=\"k\">if</span> <span class=\"ow\">not</span> <span class=\"n\">c</span><span class=\"p\">:</span> <span class=\"n\">c</span> <span class=\"o\">=</span> <span class=\"n\">getsource</span><span class=\"p\">(</span><span class=\"n\">show</span><span class=\"p\">)</span>\n",
       "    <span class=\"k\">return</span> <span class=\"n\">HTML</span><span class=\"p\">(</span><span class=\"n\">highlight</span><span class=\"p\">(</span><span class=\"n\">c</span><span class=\"p\">,</span> <span class=\"n\">PythonLexer</span><span class=\"p\">(),</span> <span class=\"n\">HtmlFormatter</span><span class=\"p\">(</span><span class=\"n\">style</span><span class=\"o\">=</span><span class=\"s1\">&#39;tango&#39;</span><span class=\"p\">)))</span>\n",
       "</pre></div>\n"
      ],
      "text/plain": [
       "<IPython.core.display.HTML object>"
      ]
     },
     "execution_count": 97,
     "metadata": {},
     "output_type": "execute_result"
    }
   ],
   "source": [
    "show()"
   ]
  },
  {
   "cell_type": "markdown",
   "id": "11a83524",
   "metadata": {},
   "source": [
    "## Adding a `style` Arg"
   ]
  },
  {
   "cell_type": "markdown",
   "id": "8579b332",
   "metadata": {},
   "source": [
    "I wanted to show my code with a particular Pygments style:"
   ]
  },
  {
   "cell_type": "code",
   "execution_count": 99,
   "id": "3569b277",
   "metadata": {},
   "outputs": [],
   "source": [
    "def show(c=None, style='tango'): \n",
    "    if not c: c = getsource(show)\n",
    "    return HTML(highlight(c, PythonLexer(), HtmlFormatter(style=style)))"
   ]
  },
  {
   "cell_type": "code",
   "execution_count": 102,
   "id": "7718e12d",
   "metadata": {},
   "outputs": [
    {
     "data": {
      "text/html": [
       "<div class=\"highlight\"><pre><span></span><span class=\"k\">def</span> <span class=\"nf\">show</span><span class=\"p\">(</span><span class=\"n\">c</span><span class=\"o\">=</span><span class=\"kc\">None</span><span class=\"p\">,</span> <span class=\"n\">style</span><span class=\"o\">=</span><span class=\"s1\">&#39;tango&#39;</span><span class=\"p\">):</span> \n",
       "    <span class=\"k\">if</span> <span class=\"ow\">not</span> <span class=\"n\">c</span><span class=\"p\">:</span> <span class=\"n\">c</span> <span class=\"o\">=</span> <span class=\"n\">getsource</span><span class=\"p\">(</span><span class=\"n\">show</span><span class=\"p\">)</span>\n",
       "    <span class=\"k\">return</span> <span class=\"n\">HTML</span><span class=\"p\">(</span><span class=\"n\">highlight</span><span class=\"p\">(</span><span class=\"n\">c</span><span class=\"p\">,</span> <span class=\"n\">PythonLexer</span><span class=\"p\">(),</span> <span class=\"n\">HtmlFormatter</span><span class=\"p\">(</span><span class=\"n\">style</span><span class=\"o\">=</span><span class=\"n\">style</span><span class=\"p\">)))</span>\n",
       "</pre></div>\n"
      ],
      "text/plain": [
       "<IPython.core.display.HTML object>"
      ]
     },
     "execution_count": 102,
     "metadata": {},
     "output_type": "execute_result"
    }
   ],
   "source": [
    "show(style='zenburn')"
   ]
  },
  {
   "cell_type": "markdown",
   "id": "16ba7a00",
   "metadata": {},
   "source": [
    "Something's not right here. That showed no colors."
   ]
  },
  {
   "cell_type": "markdown",
   "id": "bfa2cc6a",
   "metadata": {},
   "source": [
    "## Understanding Pygments Style Defs"
   ]
  },
  {
   "cell_type": "markdown",
   "id": "669458be",
   "metadata": {},
   "source": [
    "In Pygments, style defs are CSS style definitions:"
   ]
  },
  {
   "cell_type": "code",
   "execution_count": 108,
   "id": "ee552f68",
   "metadata": {
    "scrolled": false
   },
   "outputs": [
    {
     "data": {
      "text/plain": [
       "'pre { line-height: 125%; }\\ntd.linenos .normal { color: #5d6262; background-color: #353535; padding-left: 5px; padding-right: 5px; }\\nspan.linenos { color: #5d6262; background-color: #353535; padding-le'"
      ]
     },
     "execution_count": 108,
     "metadata": {},
     "output_type": "execute_result"
    }
   ],
   "source": [
    "sd = HtmlFormatter(style='zenburn').get_style_defs()\n",
    "sd[:200]"
   ]
  },
  {
   "cell_type": "code",
   "execution_count": 116,
   "id": "0b455251",
   "metadata": {},
   "outputs": [
    {
     "data": {
      "text/plain": [
       "(#84) ['pre { line-height: 125%; }','td.linenos .normal { color: #5d6262; background-color: #353535; padding-left: 5px; padding-right: 5px; }','span.linenos { color: #5d6262; background-color: #353535; padding-left: 5px; padding-right: 5px; }','td.linenos .special { color: #7a8080; background-color: #353535; padding-left: 5px; padding-right: 5px; }','span.linenos.special { color: #7a8080; background-color: #353535; padding-left: 5px; padding-right: 5px; }','.hll { background-color: #484848 }','.c { color: #7f9f7f; font-style: italic } /* Comment */','.err { color: #e37170; font-weight: bold } /* Error */','.esc { color: #dcdccc } /* Escape */','.g { color: #ecbcbc; font-weight: bold } /* Generic */','.k { color: #efdcbc } /* Keyword */','.l { color: #9fafaf } /* Literal */','.n { color: #dcdccc } /* Name */','.o { color: #f0efd0 } /* Operator */','.x { color: #dcdccc } /* Other */','.p { color: #f0efd0 } /* Punctuation */','.ch { color: #7f9f7f; font-style: italic } /* Comment.Hashbang */','.cm { color: #7f9f7f; font-style: italic } /* Comment.Multiline */','.cp { color: #dfaf8f; font-weight: bold; font-style: italic } /* Comment.Preproc */','.cpf { color: #cc9393; font-style: italic } /* Comment.PreprocFile */'...]"
      ]
     },
     "execution_count": 116,
     "metadata": {},
     "output_type": "execute_result"
    }
   ],
   "source": [
    "s = L(sd.splitlines())\n",
    "s"
   ]
  },
  {
   "cell_type": "code",
   "execution_count": 117,
   "id": "cfdc83f7",
   "metadata": {},
   "outputs": [
    {
     "data": {
      "text/plain": [
       "'pre { line-height: 125%; }'"
      ]
     },
     "execution_count": 117,
     "metadata": {},
     "output_type": "execute_result"
    }
   ],
   "source": [
    "s[0]"
   ]
  },
  {
   "cell_type": "code",
   "execution_count": 123,
   "id": "41c3fa53",
   "metadata": {},
   "outputs": [
    {
     "data": {
      "text/plain": [
       "'.c { color: #7f9f7f; font-style: italic } /* Comment */'"
      ]
     },
     "execution_count": 123,
     "metadata": {},
     "output_type": "execute_result"
    }
   ],
   "source": [
    "s[6]"
   ]
  },
  {
   "cell_type": "code",
   "execution_count": 127,
   "id": "3108d604",
   "metadata": {},
   "outputs": [
    {
     "data": {
      "text/plain": [
       "'.k { color: #efdcbc } /* Keyword */'"
      ]
     },
     "execution_count": 127,
     "metadata": {},
     "output_type": "execute_result"
    }
   ],
   "source": [
    "s[10]"
   ]
  },
  {
   "cell_type": "markdown",
   "id": "7c3ee9c1",
   "metadata": {},
   "source": [
    "## Looking at Hex Colors With FastTags"
   ]
  },
  {
   "cell_type": "markdown",
   "id": "b0cd61f5",
   "metadata": {},
   "source": [
    "In style `zenburn`, comments are colored in `#7f9f7f`. Let's see what this looks like with a `Div` FastTag:"
   ]
  },
  {
   "cell_type": "code",
   "execution_count": 134,
   "id": "1ff22a86",
   "metadata": {},
   "outputs": [
    {
     "data": {
      "text/markdown": [
       "```html\n",
       "<div style=\"background-color:#7f9f7f;\">#7f9f7f</div>\n",
       "\n",
       "```"
      ],
      "text/plain": [
       "div(('#7f9f7f',),{'style': 'background-color:#7f9f7f;'})"
      ]
     },
     "execution_count": 134,
     "metadata": {},
     "output_type": "execute_result"
    }
   ],
   "source": [
    "cdiv = Div('#7f9f7f', style=\"background-color:#7f9f7f;\")\n",
    "cdiv"
   ]
  },
  {
   "cell_type": "code",
   "execution_count": 143,
   "id": "77d59e0d",
   "metadata": {},
   "outputs": [
    {
     "data": {
      "text/html": [
       "<div style=\"background-color:#7f9f7f;\">#7f9f7f</div>\n"
      ],
      "text/plain": [
       "<IPython.core.display.HTML object>"
      ]
     },
     "execution_count": 143,
     "metadata": {},
     "output_type": "execute_result"
    }
   ],
   "source": [
    "HTML(to_xml(cdiv))"
   ]
  },
  {
   "cell_type": "code",
   "execution_count": 144,
   "id": "68684a56",
   "metadata": {},
   "outputs": [],
   "source": [
    "def show_color(c): return HTML(to_xml(Div(c, style=f\"background-color:{c};\")))"
   ]
  },
  {
   "cell_type": "markdown",
   "id": "27157515",
   "metadata": {},
   "source": [
    "Keywords in `zenburn` are colored with `#efdcbc`:"
   ]
  },
  {
   "cell_type": "code",
   "execution_count": 142,
   "id": "0caa7a33",
   "metadata": {},
   "outputs": [
    {
     "data": {
      "text/html": [
       "<div style=\"background-color:#efdcbc;\">#efdcbc</div>\n"
      ],
      "text/plain": [
       "<IPython.core.display.HTML object>"
      ]
     },
     "execution_count": 142,
     "metadata": {},
     "output_type": "execute_result"
    }
   ],
   "source": [
    "show_color(\"#efdcbc\")"
   ]
  },
  {
   "cell_type": "markdown",
   "id": "c5d16e26",
   "metadata": {},
   "source": [
    "## Pygments Styles in FastHTML FastTags"
   ]
  },
  {
   "cell_type": "markdown",
   "id": "9757712d",
   "metadata": {},
   "source": [
    "Putting `zenburn` comment and keyword styles in a `Style` FastTag:"
   ]
  },
  {
   "cell_type": "code",
   "execution_count": 151,
   "id": "fa74a6f7",
   "metadata": {},
   "outputs": [
    {
     "data": {
      "text/markdown": [
       "```html\n",
       "<style>\n",
       ".c { color: #7f9f7f; font-style: italic } /* Comment */.k { color: #efdcbc } /* Keyword */</style>\n",
       "\n",
       "```"
      ],
      "text/plain": [
       "style(('.c { color: #7f9f7f; font-style: italic } /* Comment */', '.k { color: #efdcbc } /* Keyword */'),{})"
      ]
     },
     "execution_count": 151,
     "metadata": {},
     "output_type": "execute_result"
    }
   ],
   "source": [
    "Style(s[6], s[10])"
   ]
  },
  {
   "cell_type": "markdown",
   "id": "1f6c865f",
   "metadata": {},
   "source": [
    "## Pygments Highlighting in FastTags"
   ]
  },
  {
   "cell_type": "markdown",
   "id": "d28fa67d",
   "metadata": {},
   "source": [
    "Recall Pygments `highlight` from earlier generates a `div` containing `pre` full of `span` tags: "
   ]
  },
  {
   "cell_type": "code",
   "execution_count": 155,
   "id": "4e79475b",
   "metadata": {},
   "outputs": [
    {
     "name": "stdout",
     "output_type": "stream",
     "text": [
      "<div class=\"highlight\"><pre><span></span><span class=\"k\">def</span> <span class=\"nf\">read_nb</span><span class=\"p\">(</span><span class=\"n\">path</span><span class=\"p\">):</span>\n",
      "    <span class=\"s2\">&quot;Return notebook at `path`&quot;</span>\n",
      "    <span class=\"n\">res</span> <span class=\"o\">=</span> <span class=\"n\">dict2nb</span><span class=\"p\">(</span><span class=\"n\">_read_json</span><span class=\"p\">(</span><span class=\"n\">path</span><span class=\"p\">,</span> <span class=\"n\">encoding</span><span class=\"o\">=</span><span class=\"s1\">&#39;utf-8&#39;</span><span class=\"p\">))</span>\n",
      "    <span class=\"n\">res</span><span class=\"p\">[</span><span class=\"s1\">&#39;path_&#39;</span><span class=\"p\">]</span> <span class=\"o\">=</span> <span class=\"nb\">str</span><span class=\"p\">(</span><span class=\"n\">path</span><span class=\"p\">)</span>\n",
      "    <span class=\"k\">return</span> <span class=\"n\">res</span>\n",
      "</pre></div>\n",
      "\n"
     ]
    }
   ],
   "source": [
    "h = highlight(rn, PythonLexer(), HtmlFormatter(style='tango'))\n",
    "print(h)"
   ]
  },
  {
   "cell_type": "markdown",
   "id": "507ae34f",
   "metadata": {},
   "source": [
    "This is a nice string of HTML to use with FastTags. I use `NotStr` to make it work well with a `Div` FastTag:"
   ]
  },
  {
   "cell_type": "code",
   "execution_count": 157,
   "id": "23b0abb8",
   "metadata": {},
   "outputs": [
    {
     "data": {
      "text/markdown": [
       "```html\n",
       "<div id=\"container\"><div class=\"highlight\"><pre><span></span><span class=\"k\">def</span> <span class=\"nf\">read_nb</span><span class=\"p\">(</span><span class=\"n\">path</span><span class=\"p\">):</span>\n",
       "    <span class=\"s2\">&quot;Return notebook at `path`&quot;</span>\n",
       "    <span class=\"n\">res</span> <span class=\"o\">=</span> <span class=\"n\">dict2nb</span><span class=\"p\">(</span><span class=\"n\">_read_json</span><span class=\"p\">(</span><span class=\"n\">path</span><span class=\"p\">,</span> <span class=\"n\">encoding</span><span class=\"o\">=</span><span class=\"s1\">&#39;utf-8&#39;</span><span class=\"p\">))</span>\n",
       "    <span class=\"n\">res</span><span class=\"p\">[</span><span class=\"s1\">&#39;path_&#39;</span><span class=\"p\">]</span> <span class=\"o\">=</span> <span class=\"nb\">str</span><span class=\"p\">(</span><span class=\"n\">path</span><span class=\"p\">)</span>\n",
       "    <span class=\"k\">return</span> <span class=\"n\">res</span>\n",
       "</pre></div>\n",
       "</div>\n",
       "\n",
       "```"
      ],
      "text/plain": [
       "div(('<div class=\"highlight\"><pre><span></span><span class=\"k\">def</span> <span class=\"nf\">read_nb</span><span class=\"p\">(</span><span class=\"n\">path</span><span class=\"p\">):</span>\\n    <span class=\"s2\">&quot;Return notebook at `path`&quot;</span>\\n    <span class=\"n\">res</span> <span class=\"o\">=</span> <span class=\"n\">dict2nb</span><span class=\"p\">(</span><span class=\"n\">_read_json</span><span class=\"p\">(</span><span class=\"n\">path</span><span class=\"p\">,</span> <span class=\"n\">encoding</span><span class=\"o\">=</span><span class=\"s1\">&#39;utf-8&#39;</span><span class=\"p\">))</span>\\n    <span class=\"n\">res</span><span class=\"p\">[</span><span class=\"s1\">&#39;path_&#39;</span><span class=\"p\">]</span> <span class=\"o\">=</span> <span class=\"nb\">str</span><span class=\"p\">(</span><span class=\"n\">path</span><span class=\"p\">)</span>\\n    <span class=\"k\">return</span> <span class=\"n\">res</span>\\n</pre></div>\\n',),{'id': 'container'})"
      ]
     },
     "execution_count": 157,
     "metadata": {},
     "output_type": "execute_result"
    }
   ],
   "source": [
    "Div(NotStr(h), id=\"container\")"
   ]
  },
  {
   "cell_type": "markdown",
   "id": "441e0e71",
   "metadata": {},
   "source": [
    "Adding style:"
   ]
  },
  {
   "cell_type": "code",
   "execution_count": 160,
   "id": "98f379f8",
   "metadata": {},
   "outputs": [
    {
     "data": {
      "text/markdown": [
       "```html\n",
       "<div id=\"container\">\n",
       "  <style>\n",
       ".c { color: #7f9f7f; font-style: italic } /* Comment */.k { color: #efdcbc } /* Keyword */  </style>\n",
       "<div class=\"highlight\"><pre><span></span><span class=\"k\">def</span> <span class=\"nf\">read_nb</span><span class=\"p\">(</span><span class=\"n\">path</span><span class=\"p\">):</span>\n",
       "    <span class=\"s2\">&quot;Return notebook at `path`&quot;</span>\n",
       "    <span class=\"n\">res</span> <span class=\"o\">=</span> <span class=\"n\">dict2nb</span><span class=\"p\">(</span><span class=\"n\">_read_json</span><span class=\"p\">(</span><span class=\"n\">path</span><span class=\"p\">,</span> <span class=\"n\">encoding</span><span class=\"o\">=</span><span class=\"s1\">&#39;utf-8&#39;</span><span class=\"p\">))</span>\n",
       "    <span class=\"n\">res</span><span class=\"p\">[</span><span class=\"s1\">&#39;path_&#39;</span><span class=\"p\">]</span> <span class=\"o\">=</span> <span class=\"nb\">str</span><span class=\"p\">(</span><span class=\"n\">path</span><span class=\"p\">)</span>\n",
       "    <span class=\"k\">return</span> <span class=\"n\">res</span>\n",
       "</pre></div>\n",
       "</div>\n",
       "\n",
       "```"
      ],
      "text/plain": [
       "div((style(('.c { color: #7f9f7f; font-style: italic } /* Comment */', '.k { color: #efdcbc } /* Keyword */'),{}), '<div class=\"highlight\"><pre><span></span><span class=\"k\">def</span> <span class=\"nf\">read_nb</span><span class=\"p\">(</span><span class=\"n\">path</span><span class=\"p\">):</span>\\n    <span class=\"s2\">&quot;Return notebook at `path`&quot;</span>\\n    <span class=\"n\">res</span> <span class=\"o\">=</span> <span class=\"n\">dict2nb</span><span class=\"p\">(</span><span class=\"n\">_read_json</span><span class=\"p\">(</span><span class=\"n\">path</span><span class=\"p\">,</span> <span class=\"n\">encoding</span><span class=\"o\">=</span><span class=\"s1\">&#39;utf-8&#39;</span><span class=\"p\">))</span>\\n    <span class=\"n\">res</span><span class=\"p\">[</span><span class=\"s1\">&#39;path_&#39;</span><span class=\"p\">]</span> <span class=\"o\">=</span> <span class=\"nb\">str</span><span class=\"p\">(</span><span class=\"n\">path</span><span class=\"p\">)</span>\\n    <span class=\"k\">return</span> <span class=\"n\">res</span>\\n</pre></div>\\n'),{'id': 'container'})"
      ]
     },
     "execution_count": 160,
     "metadata": {},
     "output_type": "execute_result"
    }
   ],
   "source": [
    "styled_container = Div(Style(s[6], s[10]), NotStr(h), id=\"container\")\n",
    "styled_container"
   ]
  },
  {
   "cell_type": "markdown",
   "id": "35594ef2",
   "metadata": {},
   "source": [
    "To display it in-notebook here:"
   ]
  },
  {
   "cell_type": "code",
   "execution_count": 161,
   "id": "a5535dd8",
   "metadata": {
    "scrolled": true
   },
   "outputs": [
    {
     "data": {
      "text/html": [
       "<div id=\"container\">\n",
       "  <style>\n",
       ".c { color: #7f9f7f; font-style: italic } /* Comment */.k { color: #efdcbc } /* Keyword */  </style>\n",
       "<div class=\"highlight\"><pre><span></span><span class=\"k\">def</span> <span class=\"nf\">read_nb</span><span class=\"p\">(</span><span class=\"n\">path</span><span class=\"p\">):</span>\n",
       "    <span class=\"s2\">&quot;Return notebook at `path`&quot;</span>\n",
       "    <span class=\"n\">res</span> <span class=\"o\">=</span> <span class=\"n\">dict2nb</span><span class=\"p\">(</span><span class=\"n\">_read_json</span><span class=\"p\">(</span><span class=\"n\">path</span><span class=\"p\">,</span> <span class=\"n\">encoding</span><span class=\"o\">=</span><span class=\"s1\">&#39;utf-8&#39;</span><span class=\"p\">))</span>\n",
       "    <span class=\"n\">res</span><span class=\"p\">[</span><span class=\"s1\">&#39;path_&#39;</span><span class=\"p\">]</span> <span class=\"o\">=</span> <span class=\"nb\">str</span><span class=\"p\">(</span><span class=\"n\">path</span><span class=\"p\">)</span>\n",
       "    <span class=\"k\">return</span> <span class=\"n\">res</span>\n",
       "</pre></div>\n",
       "</div>\n"
      ],
      "text/plain": [
       "<IPython.core.display.HTML object>"
      ]
     },
     "execution_count": 161,
     "metadata": {},
     "output_type": "execute_result"
    }
   ],
   "source": [
    "HTML(to_xml(styled_container))"
   ]
  },
  {
   "cell_type": "markdown",
   "id": "1e1f496d",
   "metadata": {},
   "source": [
    "## Pygments Background Color"
   ]
  },
  {
   "cell_type": "markdown",
   "id": "b3ef9292",
   "metadata": {},
   "source": [
    "The Pygments [`get_style_defs` docs](https://pygments.org/docs/api/#pygments.formatter.Formatter.get_style_defs) say you can specify a CSS selector to prefix styles with:"
   ]
  },
  {
   "cell_type": "code",
   "execution_count": 185,
   "id": "319db05b",
   "metadata": {},
   "outputs": [
    {
     "data": {
      "text/plain": [
       "'pre { line-height: 125%; }\\ntd.linenos .normal { color: #5d6262; background-color: #353535; padding-left: 5px; padding-right: 5px; }\\nspan.linenos { color: #5d6262; background-color: #353535; padding-left: 5px; padding-right: 5px; }\\ntd.linenos .special { color: #7a8080; background-color: #353535; padding-left: 5px; padding-right: 5px; }\\nspan.linenos.special { color: #7a8080; background-color: #353535; padding-left: 5px; padding-right: 5px; }\\n.highlight .hll { background-color: #484848 }\\n.highlight'"
      ]
     },
     "execution_count": 185,
     "metadata": {},
     "output_type": "execute_result"
    }
   ],
   "source": [
    "sd = HtmlFormatter(style='zenburn').get_style_defs('.highlight')\n",
    "sd[:500]"
   ]
  },
  {
   "cell_type": "markdown",
   "id": "6ca6469c",
   "metadata": {},
   "source": [
    "I see all the zenburn style defs with background colors are early on:"
   ]
  },
  {
   "cell_type": "code",
   "execution_count": 187,
   "id": "46345c7d",
   "metadata": {},
   "outputs": [
    {
     "data": {
      "text/markdown": [
       "```html\n",
       "<style>pre { line-height: 125%; }\n",
       "td.linenos .normal { color: #5d6262; background-color: #353535; padding-left: 5px; padding-right: 5px; }\n",
       "span.linenos { color: #5d6262; background-color: #353535; padding-left: 5px; padding-right: 5px; }\n",
       "td.linenos .special { color: #7a8080; background-color: #353535; padding-left: 5px; padding-right: 5px; }\n",
       "span.linenos.special { color: #7a8080; background-color: #353535; padding-left: 5px; padding-right: 5px; }\n",
       ".highlight .hll { background-color: #484848 }\n",
       ".highlight { background: #3f3f3f; color: #dcdccc }\n",
       ".highlight .c { color: #7f9f7f; font-style: italic } /* Com</style>\n",
       "\n",
       "```"
      ],
      "text/plain": [
       "style(('pre { line-height: 125%; }\\ntd.linenos .normal { color: #5d6262; background-color: #353535; padding-left: 5px; padding-right: 5px; }\\nspan.linenos { color: #5d6262; background-color: #353535; padding-left: 5px; padding-right: 5px; }\\ntd.linenos .special { color: #7a8080; background-color: #353535; padding-left: 5px; padding-right: 5px; }\\nspan.linenos.special { color: #7a8080; background-color: #353535; padding-left: 5px; padding-right: 5px; }\\n.highlight .hll { background-color: #484848 }\\n.highlight { background: #3f3f3f; color: #dcdccc }\\n.highlight .c { color: #7f9f7f; font-style: italic } /* Com',),{})"
      ]
     },
     "execution_count": 187,
     "metadata": {},
     "output_type": "execute_result"
    }
   ],
   "source": [
    "Style(sd[:600])"
   ]
  },
  {
   "cell_type": "code",
   "execution_count": 178,
   "id": "5bd5590b",
   "metadata": {},
   "outputs": [
    {
     "data": {
      "text/html": [
       "<div style=\"background-color:#484848;\">#484848</div>\n"
      ],
      "text/plain": [
       "<IPython.core.display.HTML object>"
      ]
     },
     "execution_count": 178,
     "metadata": {},
     "output_type": "execute_result"
    }
   ],
   "source": [
    "show_color(\"#484848\")"
   ]
  },
  {
   "cell_type": "code",
   "execution_count": 179,
   "id": "1f10c96b",
   "metadata": {
    "scrolled": true
   },
   "outputs": [
    {
     "data": {
      "text/html": [
       "<div style=\"background-color:#353535;\">#353535</div>\n"
      ],
      "text/plain": [
       "<IPython.core.display.HTML object>"
      ]
     },
     "execution_count": 179,
     "metadata": {},
     "output_type": "execute_result"
    }
   ],
   "source": [
    "show_color(\"#353535\")"
   ]
  },
  {
   "cell_type": "code",
   "execution_count": 194,
   "id": "5fafd8b7",
   "metadata": {},
   "outputs": [
    {
     "data": {
      "text/html": [
       "<div id=\"container\">\n",
       "  <style>pre { line-height: 125%; }\n",
       "td.linenos .normal { color: #5d6262; background-color: #353535; padding-left: 5px; padding-right: 5px; }\n",
       "span.linenos { color: #5d6262; background-color: #353535; padding-left: 5px; padding-right: 5px; }\n",
       "td.linenos .special { color: #7a8080; background-color: #353535; padding-left: 5px; padding-right: 5px; }\n",
       "span.linenos.special { color: #7a8080; background-color: #353535; padding-left: 5px; padding-right: 5px; }\n",
       ".highlight .hll { background-color: #484848 }\n",
       ".highlight { background: #3f3f3f; color: #dcdccc }\n",
       ".highlight .c { color: #7f9f7f; font-style: italic } /* Comment */\n",
       ".highlight .err { color: #e37170; font-weight: bold } /* Error */\n",
       ".highlight .esc { color: #dcdccc } /* Escape */\n",
       ".highlight .g { color: #ecbcbc; font-weight: bold } /* Generic */\n",
       ".highlight .k { color: #efdcbc } /* Keyword */\n",
       ".highlight .l { color: #9fafaf } /* Literal */\n",
       ".highlight .n { color: #dcdccc } /* Name */\n",
       ".highlight .o { color: #f0efd0 } /* Operator */\n",
       ".highlight .x { color: #dcdccc } /* Other */\n",
       ".highlight .p { color: #f0efd0 } /* Punctuation */\n",
       ".highlight .ch { color: #7f9f7f; font-style: italic } /* Comment.Hashbang */\n",
       ".highlight .cm { color: #7f9f7f; font-style: italic } /* Comment.Multiline */\n",
       ".highlight .cp { color: #dfaf8f; font-weight: bold; font-style: italic } /* Comment.Preproc */\n",
       ".highlight .cpf { color: #cc9393; font-style: italic } /* Comment.PreprocFile */\n",
       ".highlight .c1 { color: #7f9f7f; font-style: italic } /* Comment.Single */\n",
       ".highlight .cs { color: #dfdfdf; font-weight: bold; font-style: italic } /* Comment.Special */\n",
       ".highlight .gd { color: #c3bf9f; font-weight: bold; background-color: #313c36 } /* Generic.Deleted */\n",
       ".highlight .ge { color: #ffffff; font-weight: bold } /* Generic.Emph */\n",
       ".highlight .ges { color: #ecbcbc; font-weight: bold } /* Generic.EmphStrong */\n",
       ".highlight .gr { color: #ecbcbc; font-weight: bold } /* Generic.Error */\n",
       ".highlight .gh { color: #efefef; font-weight: bold } /* Generic.Heading */\n",
       ".highlight .gi { color: #709080; font-weight: bold; background-color: #313c36 } /* Generic.Inserted */\n",
       ".highlight .go { color: #5b605e; font-weight: bold } /* Generic.Output */\n",
       ".highlight .gp { color: #ecbcbc; font-weight: bold } /* Generic.Prompt */\n",
       ".highlight .gs { color: #ecbcbc; font-weight: bold } /* Generic.Strong */\n",
       ".highlight .gu { color: #efefef; font-weight: bold } /* Generic.Subheading */\n",
       ".highlight .gt { color: #80d4aa; font-weight: bold; background-color: #2f2f2f } /* Generic.Traceback */\n",
       ".highlight .kc { color: #dca3a3 } /* Keyword.Constant */\n",
       ".highlight .kd { color: #f0dfaf } /* Keyword.Declaration */\n",
       ".highlight .kn { color: #f0dfaf } /* Keyword.Namespace */\n",
       ".highlight .kp { color: #efdcbc } /* Keyword.Pseudo */\n",
       ".highlight .kr { color: #efdcbc } /* Keyword.Reserved */\n",
       ".highlight .kt { color: #dfdfbf; font-weight: bold } /* Keyword.Type */\n",
       ".highlight .ld { color: #9fafaf } /* Literal.Date */\n",
       ".highlight .m { color: #8cd0d3 } /* Literal.Number */\n",
       ".highlight .s { color: #cc9393 } /* Literal.String */\n",
       ".highlight .na { color: #efef8f } /* Name.Attribute */\n",
       ".highlight .nb { color: #efef8f } /* Name.Builtin */\n",
       ".highlight .nc { color: #efef8f } /* Name.Class */\n",
       ".highlight .no { color: #dca3a3 } /* Name.Constant */\n",
       ".highlight .nd { color: #dcdccc } /* Name.Decorator */\n",
       ".highlight .ni { color: #cfbfaf } /* Name.Entity */\n",
       ".highlight .ne { color: #c3bf9f; font-weight: bold } /* Name.Exception */\n",
       ".highlight .nf { color: #efef8f } /* Name.Function */\n",
       ".highlight .nl { color: #dcdccc } /* Name.Label */\n",
       ".highlight .nn { color: #dcdccc } /* Name.Namespace */\n",
       ".highlight .nx { color: #dcdccc } /* Name.Other */\n",
       ".highlight .py { color: #dcdccc } /* Name.Property */\n",
       ".highlight .nt { color: #e89393; font-weight: bold } /* Name.Tag */\n",
       ".highlight .nv { color: #dcdccc } /* Name.Variable */\n",
       ".highlight .ow { color: #f0efd0 } /* Operator.Word */\n",
       ".highlight .pm { color: #f0efd0 } /* Punctuation.Marker */\n",
       ".highlight .w { color: #dcdccc } /* Text.Whitespace */\n",
       ".highlight .mb { color: #8cd0d3 } /* Literal.Number.Bin */\n",
       ".highlight .mf { color: #c0bed1 } /* Literal.Number.Float */\n",
       ".highlight .mh { color: #8cd0d3 } /* Literal.Number.Hex */\n",
       ".highlight .mi { color: #8cd0d3 } /* Literal.Number.Integer */\n",
       ".highlight .mo { color: #8cd0d3 } /* Literal.Number.Oct */\n",
       ".highlight .sa { color: #cc9393 } /* Literal.String.Affix */\n",
       ".highlight .sb { color: #cc9393 } /* Literal.String.Backtick */\n",
       ".highlight .sc { color: #cc9393 } /* Literal.String.Char */\n",
       ".highlight .dl { color: #cc9393 } /* Literal.String.Delimiter */\n",
       ".highlight .sd { color: #7f9f7f } /* Literal.String.Doc */\n",
       ".highlight .s2 { color: #cc9393 } /* Literal.String.Double */\n",
       ".highlight .se { color: #cc9393 } /* Literal.String.Escape */\n",
       ".highlight .sh { color: #cc9393 } /* Literal.String.Heredoc */\n",
       ".highlight .si { color: #dca3a3; font-weight: bold } /* Literal.String.Interpol */\n",
       ".highlight .sx { color: #cc9393 } /* Literal.String.Other */\n",
       ".highlight .sr { color: #cc9393 } /* Literal.String.Regex */\n",
       ".highlight .s1 { color: #cc9393 } /* Literal.String.Single */\n",
       ".highlight .ss { color: #cc9393 } /* Literal.String.Symbol */\n",
       ".highlight .bp { color: #dcdccc } /* Name.Builtin.Pseudo */\n",
       ".highlight .fm { color: #efef8f } /* Name.Function.Magic */\n",
       ".highlight .vc { color: #dcdccc } /* Name.Variable.Class */\n",
       ".highlight .vg { color: #dcdccc } /* Name.Variable.Global */\n",
       ".highlight .vi { color: #dcdccc } /* Name.Variable.Instance */\n",
       ".highlight .vm { color: #dcdccc } /* Name.Variable.Magic */\n",
       ".highlight .il { color: #8cd0d3 } /* Literal.Number.Integer.Long */</style>\n",
       "<div class=\"highlight\"><pre><span></span><span class=\"k\">def</span> <span class=\"nf\">read_nb</span><span class=\"p\">(</span><span class=\"n\">path</span><span class=\"p\">):</span>\n",
       "    <span class=\"s2\">&quot;Return notebook at `path`&quot;</span>\n",
       "    <span class=\"n\">res</span> <span class=\"o\">=</span> <span class=\"n\">dict2nb</span><span class=\"p\">(</span><span class=\"n\">_read_json</span><span class=\"p\">(</span><span class=\"n\">path</span><span class=\"p\">,</span> <span class=\"n\">encoding</span><span class=\"o\">=</span><span class=\"s1\">&#39;utf-8&#39;</span><span class=\"p\">))</span>\n",
       "    <span class=\"n\">res</span><span class=\"p\">[</span><span class=\"s1\">&#39;path_&#39;</span><span class=\"p\">]</span> <span class=\"o\">=</span> <span class=\"nb\">str</span><span class=\"p\">(</span><span class=\"n\">path</span><span class=\"p\">)</span>\n",
       "    <span class=\"k\">return</span> <span class=\"n\">res</span>\n",
       "</pre></div>\n",
       "</div>\n"
      ],
      "text/plain": [
       "<IPython.core.display.HTML object>"
      ]
     },
     "execution_count": 194,
     "metadata": {},
     "output_type": "execute_result"
    }
   ],
   "source": [
    "styled_container = Div(Style(sd), NotStr(h), id=\"container\")\n",
    "HTML(to_xml(styled_container))"
   ]
  },
  {
   "cell_type": "markdown",
   "id": "ce7a9cfa",
   "metadata": {},
   "source": [
    "## Combining Everything Into `show`"
   ]
  },
  {
   "cell_type": "markdown",
   "id": "f45b4c35",
   "metadata": {},
   "source": [
    "Let's combine everything we've learned into a function:"
   ]
  },
  {
   "cell_type": "code",
   "execution_count": 199,
   "id": "fee19c09",
   "metadata": {},
   "outputs": [],
   "source": [
    "def show(c=None, style='monokai'): \n",
    "    if not c: c = getsource(show)\n",
    "    fm = HtmlFormatter(style=style)\n",
    "    h = highlight(c, PythonLexer(), fm)\n",
    "    sd = fm.get_style_defs('.highlight')\n",
    "    styled_container = Div(Style(sd), NotStr(h), id=\"container\")\n",
    "    return HTML(to_xml(styled_container))"
   ]
  },
  {
   "cell_type": "code",
   "execution_count": 204,
   "id": "344ac379",
   "metadata": {},
   "outputs": [
    {
     "data": {
      "text/html": [
       "<div id=\"container\">\n",
       "  <style>pre { line-height: 125%; }\n",
       "td.linenos .normal { color: inherit; background-color: transparent; padding-left: 5px; padding-right: 5px; }\n",
       "span.linenos { color: inherit; background-color: transparent; padding-left: 5px; padding-right: 5px; }\n",
       "td.linenos .special { color: #000000; background-color: #ffffc0; padding-left: 5px; padding-right: 5px; }\n",
       "span.linenos.special { color: #000000; background-color: #ffffc0; padding-left: 5px; padding-right: 5px; }\n",
       ".highlight .hll { background-color: #49483e }\n",
       ".highlight { background: #272822; color: #f8f8f2 }\n",
       ".highlight .c { color: #959077 } /* Comment */\n",
       ".highlight .err { color: #ed007e; background-color: #1e0010 } /* Error */\n",
       ".highlight .esc { color: #f8f8f2 } /* Escape */\n",
       ".highlight .g { color: #f8f8f2 } /* Generic */\n",
       ".highlight .k { color: #66d9ef } /* Keyword */\n",
       ".highlight .l { color: #ae81ff } /* Literal */\n",
       ".highlight .n { color: #f8f8f2 } /* Name */\n",
       ".highlight .o { color: #ff4689 } /* Operator */\n",
       ".highlight .x { color: #f8f8f2 } /* Other */\n",
       ".highlight .p { color: #f8f8f2 } /* Punctuation */\n",
       ".highlight .ch { color: #959077 } /* Comment.Hashbang */\n",
       ".highlight .cm { color: #959077 } /* Comment.Multiline */\n",
       ".highlight .cp { color: #959077 } /* Comment.Preproc */\n",
       ".highlight .cpf { color: #959077 } /* Comment.PreprocFile */\n",
       ".highlight .c1 { color: #959077 } /* Comment.Single */\n",
       ".highlight .cs { color: #959077 } /* Comment.Special */\n",
       ".highlight .gd { color: #ff4689 } /* Generic.Deleted */\n",
       ".highlight .ge { color: #f8f8f2; font-style: italic } /* Generic.Emph */\n",
       ".highlight .ges { color: #f8f8f2; font-weight: bold; font-style: italic } /* Generic.EmphStrong */\n",
       ".highlight .gr { color: #f8f8f2 } /* Generic.Error */\n",
       ".highlight .gh { color: #f8f8f2 } /* Generic.Heading */\n",
       ".highlight .gi { color: #a6e22e } /* Generic.Inserted */\n",
       ".highlight .go { color: #66d9ef } /* Generic.Output */\n",
       ".highlight .gp { color: #ff4689; font-weight: bold } /* Generic.Prompt */\n",
       ".highlight .gs { color: #f8f8f2; font-weight: bold } /* Generic.Strong */\n",
       ".highlight .gu { color: #959077 } /* Generic.Subheading */\n",
       ".highlight .gt { color: #f8f8f2 } /* Generic.Traceback */\n",
       ".highlight .kc { color: #66d9ef } /* Keyword.Constant */\n",
       ".highlight .kd { color: #66d9ef } /* Keyword.Declaration */\n",
       ".highlight .kn { color: #ff4689 } /* Keyword.Namespace */\n",
       ".highlight .kp { color: #66d9ef } /* Keyword.Pseudo */\n",
       ".highlight .kr { color: #66d9ef } /* Keyword.Reserved */\n",
       ".highlight .kt { color: #66d9ef } /* Keyword.Type */\n",
       ".highlight .ld { color: #e6db74 } /* Literal.Date */\n",
       ".highlight .m { color: #ae81ff } /* Literal.Number */\n",
       ".highlight .s { color: #e6db74 } /* Literal.String */\n",
       ".highlight .na { color: #a6e22e } /* Name.Attribute */\n",
       ".highlight .nb { color: #f8f8f2 } /* Name.Builtin */\n",
       ".highlight .nc { color: #a6e22e } /* Name.Class */\n",
       ".highlight .no { color: #66d9ef } /* Name.Constant */\n",
       ".highlight .nd { color: #a6e22e } /* Name.Decorator */\n",
       ".highlight .ni { color: #f8f8f2 } /* Name.Entity */\n",
       ".highlight .ne { color: #a6e22e } /* Name.Exception */\n",
       ".highlight .nf { color: #a6e22e } /* Name.Function */\n",
       ".highlight .nl { color: #f8f8f2 } /* Name.Label */\n",
       ".highlight .nn { color: #f8f8f2 } /* Name.Namespace */\n",
       ".highlight .nx { color: #a6e22e } /* Name.Other */\n",
       ".highlight .py { color: #f8f8f2 } /* Name.Property */\n",
       ".highlight .nt { color: #ff4689 } /* Name.Tag */\n",
       ".highlight .nv { color: #f8f8f2 } /* Name.Variable */\n",
       ".highlight .ow { color: #ff4689 } /* Operator.Word */\n",
       ".highlight .pm { color: #f8f8f2 } /* Punctuation.Marker */\n",
       ".highlight .w { color: #f8f8f2 } /* Text.Whitespace */\n",
       ".highlight .mb { color: #ae81ff } /* Literal.Number.Bin */\n",
       ".highlight .mf { color: #ae81ff } /* Literal.Number.Float */\n",
       ".highlight .mh { color: #ae81ff } /* Literal.Number.Hex */\n",
       ".highlight .mi { color: #ae81ff } /* Literal.Number.Integer */\n",
       ".highlight .mo { color: #ae81ff } /* Literal.Number.Oct */\n",
       ".highlight .sa { color: #e6db74 } /* Literal.String.Affix */\n",
       ".highlight .sb { color: #e6db74 } /* Literal.String.Backtick */\n",
       ".highlight .sc { color: #e6db74 } /* Literal.String.Char */\n",
       ".highlight .dl { color: #e6db74 } /* Literal.String.Delimiter */\n",
       ".highlight .sd { color: #e6db74 } /* Literal.String.Doc */\n",
       ".highlight .s2 { color: #e6db74 } /* Literal.String.Double */\n",
       ".highlight .se { color: #ae81ff } /* Literal.String.Escape */\n",
       ".highlight .sh { color: #e6db74 } /* Literal.String.Heredoc */\n",
       ".highlight .si { color: #e6db74 } /* Literal.String.Interpol */\n",
       ".highlight .sx { color: #e6db74 } /* Literal.String.Other */\n",
       ".highlight .sr { color: #e6db74 } /* Literal.String.Regex */\n",
       ".highlight .s1 { color: #e6db74 } /* Literal.String.Single */\n",
       ".highlight .ss { color: #e6db74 } /* Literal.String.Symbol */\n",
       ".highlight .bp { color: #f8f8f2 } /* Name.Builtin.Pseudo */\n",
       ".highlight .fm { color: #a6e22e } /* Name.Function.Magic */\n",
       ".highlight .vc { color: #f8f8f2 } /* Name.Variable.Class */\n",
       ".highlight .vg { color: #f8f8f2 } /* Name.Variable.Global */\n",
       ".highlight .vi { color: #f8f8f2 } /* Name.Variable.Instance */\n",
       ".highlight .vm { color: #f8f8f2 } /* Name.Variable.Magic */\n",
       ".highlight .il { color: #ae81ff } /* Literal.Number.Integer.Long */</style>\n",
       "<div class=\"highlight\"><pre><span></span><span class=\"k\">def</span> <span class=\"nf\">show</span><span class=\"p\">(</span><span class=\"n\">c</span><span class=\"o\">=</span><span class=\"kc\">None</span><span class=\"p\">,</span> <span class=\"n\">style</span><span class=\"o\">=</span><span class=\"s1\">&#39;monokai&#39;</span><span class=\"p\">):</span> \n",
       "    <span class=\"k\">if</span> <span class=\"ow\">not</span> <span class=\"n\">c</span><span class=\"p\">:</span> <span class=\"n\">c</span> <span class=\"o\">=</span> <span class=\"n\">getsource</span><span class=\"p\">(</span><span class=\"n\">show</span><span class=\"p\">)</span>\n",
       "    <span class=\"n\">fm</span> <span class=\"o\">=</span> <span class=\"n\">HtmlFormatter</span><span class=\"p\">(</span><span class=\"n\">style</span><span class=\"o\">=</span><span class=\"n\">style</span><span class=\"p\">)</span>\n",
       "    <span class=\"n\">h</span> <span class=\"o\">=</span> <span class=\"n\">highlight</span><span class=\"p\">(</span><span class=\"n\">c</span><span class=\"p\">,</span> <span class=\"n\">PythonLexer</span><span class=\"p\">(),</span> <span class=\"n\">fm</span><span class=\"p\">)</span>\n",
       "    <span class=\"n\">sd</span> <span class=\"o\">=</span> <span class=\"n\">fm</span><span class=\"o\">.</span><span class=\"n\">get_style_defs</span><span class=\"p\">(</span><span class=\"s1\">&#39;.highlight&#39;</span><span class=\"p\">)</span>\n",
       "    <span class=\"n\">styled_container</span> <span class=\"o\">=</span> <span class=\"n\">Div</span><span class=\"p\">(</span><span class=\"n\">Style</span><span class=\"p\">(</span><span class=\"n\">sd</span><span class=\"p\">),</span> <span class=\"n\">NotStr</span><span class=\"p\">(</span><span class=\"n\">h</span><span class=\"p\">),</span> <span class=\"nb\">id</span><span class=\"o\">=</span><span class=\"s2\">&quot;container&quot;</span><span class=\"p\">)</span>\n",
       "    <span class=\"k\">return</span> <span class=\"n\">HTML</span><span class=\"p\">(</span><span class=\"n\">to_xml</span><span class=\"p\">(</span><span class=\"n\">styled_container</span><span class=\"p\">))</span>\n",
       "</pre></div>\n",
       "</div>\n"
      ],
      "text/plain": [
       "<IPython.core.display.HTML object>"
      ]
     },
     "execution_count": 204,
     "metadata": {},
     "output_type": "execute_result"
    }
   ],
   "source": [
    "show(style='monokai')"
   ]
  },
  {
   "cell_type": "code",
   "execution_count": 205,
   "id": "2f7b3700",
   "metadata": {},
   "outputs": [
    {
     "data": {
      "text/html": [
       "<div id=\"container\">\n",
       "  <style>pre { line-height: 125%; }\n",
       "td.linenos .normal { color: #3c4354; background-color: transparent; padding-left: 5px; padding-right: 5px; }\n",
       "span.linenos { color: #3c4354; background-color: transparent; padding-left: 5px; padding-right: 5px; }\n",
       "td.linenos .special { color: #3c4354; background-color: #ffffc0; padding-left: 5px; padding-right: 5px; }\n",
       "span.linenos.special { color: #3c4354; background-color: #ffffc0; padding-left: 5px; padding-right: 5px; }\n",
       ".highlight .hll { background-color: #6e7681 }\n",
       ".highlight { background: #1d2331; color: #d4d2c8 }\n",
       ".highlight .c { color: #7e8aa1 } /* Comment */\n",
       ".highlight .err { color: #f88f7f } /* Error */\n",
       ".highlight .esc { color: #d4d2c8 } /* Escape */\n",
       ".highlight .g { color: #d4d2c8 } /* Generic */\n",
       ".highlight .k { color: #FFAD66 } /* Keyword */\n",
       ".highlight .l { color: #D5FF80 } /* Literal */\n",
       ".highlight .n { color: #d4d2c8 } /* Name */\n",
       ".highlight .o { color: #FFAD66 } /* Operator */\n",
       ".highlight .x { color: #d4d2c8 } /* Other */\n",
       ".highlight .p { color: #d4d2c8 } /* Punctuation */\n",
       ".highlight .ch { color: #f88f7f; font-style: italic } /* Comment.Hashbang */\n",
       ".highlight .cm { color: #7e8aa1 } /* Comment.Multiline */\n",
       ".highlight .cp { color: #FFAD66; font-weight: bold } /* Comment.Preproc */\n",
       ".highlight .cpf { color: #7e8aa1 } /* Comment.PreprocFile */\n",
       ".highlight .c1 { color: #7e8aa1 } /* Comment.Single */\n",
       ".highlight .cs { color: #7e8aa1; font-style: italic } /* Comment.Special */\n",
       ".highlight .gd { color: #f88f7f; background-color: #3d1e20 } /* Generic.Deleted */\n",
       ".highlight .ge { color: #d4d2c8; font-style: italic } /* Generic.Emph */\n",
       ".highlight .ges { color: #d4d2c8 } /* Generic.EmphStrong */\n",
       ".highlight .gr { color: #f88f7f } /* Generic.Error */\n",
       ".highlight .gh { color: #d4d2c8 } /* Generic.Heading */\n",
       ".highlight .gi { color: #6ad4af; background-color: #19362c } /* Generic.Inserted */\n",
       ".highlight .go { color: #7e8aa1 } /* Generic.Output */\n",
       ".highlight .gp { color: #d4d2c8 } /* Generic.Prompt */\n",
       ".highlight .gs { color: #d4d2c8; font-weight: bold } /* Generic.Strong */\n",
       ".highlight .gu { color: #d4d2c8 } /* Generic.Subheading */\n",
       ".highlight .gt { color: #f88f7f } /* Generic.Traceback */\n",
       ".highlight .kc { color: #FFAD66 } /* Keyword.Constant */\n",
       ".highlight .kd { color: #FFAD66 } /* Keyword.Declaration */\n",
       ".highlight .kn { color: #FFAD66 } /* Keyword.Namespace */\n",
       ".highlight .kp { color: #FFAD66 } /* Keyword.Pseudo */\n",
       ".highlight .kr { color: #FFAD66 } /* Keyword.Reserved */\n",
       ".highlight .kt { color: #73D0FF } /* Keyword.Type */\n",
       ".highlight .ld { color: #D5FF80 } /* Literal.Date */\n",
       ".highlight .m { color: #DFBFFF } /* Literal.Number */\n",
       ".highlight .s { color: #D5FF80 } /* Literal.String */\n",
       ".highlight .na { color: #FFD173 } /* Name.Attribute */\n",
       ".highlight .nb { color: #FFD173 } /* Name.Builtin */\n",
       ".highlight .nc { color: #73D0FF } /* Name.Class */\n",
       ".highlight .no { color: #FFD173 } /* Name.Constant */\n",
       ".highlight .nd { color: #7e8aa1; font-weight: bold; font-style: italic } /* Name.Decorator */\n",
       ".highlight .ni { color: #95E6CB } /* Name.Entity */\n",
       ".highlight .ne { color: #73D0FF } /* Name.Exception */\n",
       ".highlight .nf { color: #FFD173 } /* Name.Function */\n",
       ".highlight .nl { color: #d4d2c8 } /* Name.Label */\n",
       ".highlight .nn { color: #d4d2c8 } /* Name.Namespace */\n",
       ".highlight .nx { color: #d4d2c8 } /* Name.Other */\n",
       ".highlight .py { color: #FFD173 } /* Name.Property */\n",
       ".highlight .nt { color: #5CCFE6 } /* Name.Tag */\n",
       ".highlight .nv { color: #d4d2c8 } /* Name.Variable */\n",
       ".highlight .ow { color: #FFAD66 } /* Operator.Word */\n",
       ".highlight .pm { color: #d4d2c8 } /* Punctuation.Marker */\n",
       ".highlight .w { color: #d4d2c8 } /* Text.Whitespace */\n",
       ".highlight .mb { color: #DFBFFF } /* Literal.Number.Bin */\n",
       ".highlight .mf { color: #DFBFFF } /* Literal.Number.Float */\n",
       ".highlight .mh { color: #DFBFFF } /* Literal.Number.Hex */\n",
       ".highlight .mi { color: #DFBFFF } /* Literal.Number.Integer */\n",
       ".highlight .mo { color: #DFBFFF } /* Literal.Number.Oct */\n",
       ".highlight .sa { color: #F29E74 } /* Literal.String.Affix */\n",
       ".highlight .sb { color: #D5FF80 } /* Literal.String.Backtick */\n",
       ".highlight .sc { color: #D5FF80 } /* Literal.String.Char */\n",
       ".highlight .dl { color: #D5FF80 } /* Literal.String.Delimiter */\n",
       ".highlight .sd { color: #7e8aa1 } /* Literal.String.Doc */\n",
       ".highlight .s2 { color: #D5FF80 } /* Literal.String.Double */\n",
       ".highlight .se { color: #95E6CB } /* Literal.String.Escape */\n",
       ".highlight .sh { color: #D5FF80 } /* Literal.String.Heredoc */\n",
       ".highlight .si { color: #95E6CB } /* Literal.String.Interpol */\n",
       ".highlight .sx { color: #95E6CB } /* Literal.String.Other */\n",
       ".highlight .sr { color: #95E6CB } /* Literal.String.Regex */\n",
       ".highlight .s1 { color: #D5FF80 } /* Literal.String.Single */\n",
       ".highlight .ss { color: #DFBFFF } /* Literal.String.Symbol */\n",
       ".highlight .bp { color: #5CCFE6 } /* Name.Builtin.Pseudo */\n",
       ".highlight .fm { color: #FFD173 } /* Name.Function.Magic */\n",
       ".highlight .vc { color: #d4d2c8 } /* Name.Variable.Class */\n",
       ".highlight .vg { color: #d4d2c8 } /* Name.Variable.Global */\n",
       ".highlight .vi { color: #d4d2c8 } /* Name.Variable.Instance */\n",
       ".highlight .vm { color: #d4d2c8 } /* Name.Variable.Magic */\n",
       ".highlight .il { color: #DFBFFF } /* Literal.Number.Integer.Long */</style>\n",
       "<div class=\"highlight\"><pre><span></span><span class=\"k\">def</span> <span class=\"nf\">show</span><span class=\"p\">(</span><span class=\"n\">c</span><span class=\"o\">=</span><span class=\"kc\">None</span><span class=\"p\">,</span> <span class=\"n\">style</span><span class=\"o\">=</span><span class=\"s1\">&#39;monokai&#39;</span><span class=\"p\">):</span> \n",
       "    <span class=\"k\">if</span> <span class=\"ow\">not</span> <span class=\"n\">c</span><span class=\"p\">:</span> <span class=\"n\">c</span> <span class=\"o\">=</span> <span class=\"n\">getsource</span><span class=\"p\">(</span><span class=\"n\">show</span><span class=\"p\">)</span>\n",
       "    <span class=\"n\">fm</span> <span class=\"o\">=</span> <span class=\"n\">HtmlFormatter</span><span class=\"p\">(</span><span class=\"n\">style</span><span class=\"o\">=</span><span class=\"n\">style</span><span class=\"p\">)</span>\n",
       "    <span class=\"n\">h</span> <span class=\"o\">=</span> <span class=\"n\">highlight</span><span class=\"p\">(</span><span class=\"n\">c</span><span class=\"p\">,</span> <span class=\"n\">PythonLexer</span><span class=\"p\">(),</span> <span class=\"n\">fm</span><span class=\"p\">)</span>\n",
       "    <span class=\"n\">sd</span> <span class=\"o\">=</span> <span class=\"n\">fm</span><span class=\"o\">.</span><span class=\"n\">get_style_defs</span><span class=\"p\">(</span><span class=\"s1\">&#39;.highlight&#39;</span><span class=\"p\">)</span>\n",
       "    <span class=\"n\">styled_container</span> <span class=\"o\">=</span> <span class=\"n\">Div</span><span class=\"p\">(</span><span class=\"n\">Style</span><span class=\"p\">(</span><span class=\"n\">sd</span><span class=\"p\">),</span> <span class=\"n\">NotStr</span><span class=\"p\">(</span><span class=\"n\">h</span><span class=\"p\">),</span> <span class=\"nb\">id</span><span class=\"o\">=</span><span class=\"s2\">&quot;container&quot;</span><span class=\"p\">)</span>\n",
       "    <span class=\"k\">return</span> <span class=\"n\">HTML</span><span class=\"p\">(</span><span class=\"n\">to_xml</span><span class=\"p\">(</span><span class=\"n\">styled_container</span><span class=\"p\">))</span>\n",
       "</pre></div>\n",
       "</div>\n"
      ],
      "text/plain": [
       "<IPython.core.display.HTML object>"
      ]
     },
     "execution_count": 205,
     "metadata": {},
     "output_type": "execute_result"
    }
   ],
   "source": [
    "show(style='lightbulb')"
   ]
  },
  {
   "cell_type": "markdown",
   "id": "5dbd8f45",
   "metadata": {},
   "source": [
    "## Fixing CSS Scope Leakage"
   ]
  },
  {
   "cell_type": "markdown",
   "id": "446d6e96",
   "metadata": {},
   "source": [
    "Let's see if we can customize the `highlight` class"
   ]
  },
  {
   "cell_type": "code",
   "execution_count": 209,
   "id": "73b00488",
   "metadata": {},
   "outputs": [
    {
     "data": {
      "text/plain": [
       "'<div class=\"highlight\"><pre><span></span><span class=\"nb\">print</span><span class=\"p\">(</span><span class=\"s1\">&#39;Hi&#39;</span><span class=\"p\">)</span>\\n</pre></div>\\n'"
      ]
     },
     "execution_count": 209,
     "metadata": {},
     "output_type": "execute_result"
    }
   ],
   "source": [
    "fm = HtmlFormatter(style='monokai')\n",
    "h = highlight(\"print('Hi')\", PythonLexer(), fm)\n",
    "h"
   ]
  },
  {
   "cell_type": "code",
   "execution_count": 211,
   "id": "66a1cb62",
   "metadata": {},
   "outputs": [],
   "source": [
    "def show(c=None, style='monokai'): \n",
    "    if not c: c = getsource(show)\n",
    "    fm = HtmlFormatter(style=style)\n",
    "    h = highlight(c, PythonLexer(), fm)\n",
    "    sd = fm.get_style_defs(f'#{style}')\n",
    "    styled_container = Div(Style(sd), NotStr(h), id=style)\n",
    "    return HTML(to_xml(styled_container))"
   ]
  },
  {
   "cell_type": "code",
   "execution_count": 213,
   "id": "ea6e9a5b",
   "metadata": {},
   "outputs": [
    {
     "data": {
      "text/html": [
       "<div id=\"monokai\">\n",
       "  <style>pre { line-height: 125%; }\n",
       "td.linenos .normal { color: inherit; background-color: transparent; padding-left: 5px; padding-right: 5px; }\n",
       "span.linenos { color: inherit; background-color: transparent; padding-left: 5px; padding-right: 5px; }\n",
       "td.linenos .special { color: #000000; background-color: #ffffc0; padding-left: 5px; padding-right: 5px; }\n",
       "span.linenos.special { color: #000000; background-color: #ffffc0; padding-left: 5px; padding-right: 5px; }\n",
       "#monokai .hll { background-color: #49483e }\n",
       "#monokai { background: #272822; color: #f8f8f2 }\n",
       "#monokai .c { color: #959077 } /* Comment */\n",
       "#monokai .err { color: #ed007e; background-color: #1e0010 } /* Error */\n",
       "#monokai .esc { color: #f8f8f2 } /* Escape */\n",
       "#monokai .g { color: #f8f8f2 } /* Generic */\n",
       "#monokai .k { color: #66d9ef } /* Keyword */\n",
       "#monokai .l { color: #ae81ff } /* Literal */\n",
       "#monokai .n { color: #f8f8f2 } /* Name */\n",
       "#monokai .o { color: #ff4689 } /* Operator */\n",
       "#monokai .x { color: #f8f8f2 } /* Other */\n",
       "#monokai .p { color: #f8f8f2 } /* Punctuation */\n",
       "#monokai .ch { color: #959077 } /* Comment.Hashbang */\n",
       "#monokai .cm { color: #959077 } /* Comment.Multiline */\n",
       "#monokai .cp { color: #959077 } /* Comment.Preproc */\n",
       "#monokai .cpf { color: #959077 } /* Comment.PreprocFile */\n",
       "#monokai .c1 { color: #959077 } /* Comment.Single */\n",
       "#monokai .cs { color: #959077 } /* Comment.Special */\n",
       "#monokai .gd { color: #ff4689 } /* Generic.Deleted */\n",
       "#monokai .ge { color: #f8f8f2; font-style: italic } /* Generic.Emph */\n",
       "#monokai .ges { color: #f8f8f2; font-weight: bold; font-style: italic } /* Generic.EmphStrong */\n",
       "#monokai .gr { color: #f8f8f2 } /* Generic.Error */\n",
       "#monokai .gh { color: #f8f8f2 } /* Generic.Heading */\n",
       "#monokai .gi { color: #a6e22e } /* Generic.Inserted */\n",
       "#monokai .go { color: #66d9ef } /* Generic.Output */\n",
       "#monokai .gp { color: #ff4689; font-weight: bold } /* Generic.Prompt */\n",
       "#monokai .gs { color: #f8f8f2; font-weight: bold } /* Generic.Strong */\n",
       "#monokai .gu { color: #959077 } /* Generic.Subheading */\n",
       "#monokai .gt { color: #f8f8f2 } /* Generic.Traceback */\n",
       "#monokai .kc { color: #66d9ef } /* Keyword.Constant */\n",
       "#monokai .kd { color: #66d9ef } /* Keyword.Declaration */\n",
       "#monokai .kn { color: #ff4689 } /* Keyword.Namespace */\n",
       "#monokai .kp { color: #66d9ef } /* Keyword.Pseudo */\n",
       "#monokai .kr { color: #66d9ef } /* Keyword.Reserved */\n",
       "#monokai .kt { color: #66d9ef } /* Keyword.Type */\n",
       "#monokai .ld { color: #e6db74 } /* Literal.Date */\n",
       "#monokai .m { color: #ae81ff } /* Literal.Number */\n",
       "#monokai .s { color: #e6db74 } /* Literal.String */\n",
       "#monokai .na { color: #a6e22e } /* Name.Attribute */\n",
       "#monokai .nb { color: #f8f8f2 } /* Name.Builtin */\n",
       "#monokai .nc { color: #a6e22e } /* Name.Class */\n",
       "#monokai .no { color: #66d9ef } /* Name.Constant */\n",
       "#monokai .nd { color: #a6e22e } /* Name.Decorator */\n",
       "#monokai .ni { color: #f8f8f2 } /* Name.Entity */\n",
       "#monokai .ne { color: #a6e22e } /* Name.Exception */\n",
       "#monokai .nf { color: #a6e22e } /* Name.Function */\n",
       "#monokai .nl { color: #f8f8f2 } /* Name.Label */\n",
       "#monokai .nn { color: #f8f8f2 } /* Name.Namespace */\n",
       "#monokai .nx { color: #a6e22e } /* Name.Other */\n",
       "#monokai .py { color: #f8f8f2 } /* Name.Property */\n",
       "#monokai .nt { color: #ff4689 } /* Name.Tag */\n",
       "#monokai .nv { color: #f8f8f2 } /* Name.Variable */\n",
       "#monokai .ow { color: #ff4689 } /* Operator.Word */\n",
       "#monokai .pm { color: #f8f8f2 } /* Punctuation.Marker */\n",
       "#monokai .w { color: #f8f8f2 } /* Text.Whitespace */\n",
       "#monokai .mb { color: #ae81ff } /* Literal.Number.Bin */\n",
       "#monokai .mf { color: #ae81ff } /* Literal.Number.Float */\n",
       "#monokai .mh { color: #ae81ff } /* Literal.Number.Hex */\n",
       "#monokai .mi { color: #ae81ff } /* Literal.Number.Integer */\n",
       "#monokai .mo { color: #ae81ff } /* Literal.Number.Oct */\n",
       "#monokai .sa { color: #e6db74 } /* Literal.String.Affix */\n",
       "#monokai .sb { color: #e6db74 } /* Literal.String.Backtick */\n",
       "#monokai .sc { color: #e6db74 } /* Literal.String.Char */\n",
       "#monokai .dl { color: #e6db74 } /* Literal.String.Delimiter */\n",
       "#monokai .sd { color: #e6db74 } /* Literal.String.Doc */\n",
       "#monokai .s2 { color: #e6db74 } /* Literal.String.Double */\n",
       "#monokai .se { color: #ae81ff } /* Literal.String.Escape */\n",
       "#monokai .sh { color: #e6db74 } /* Literal.String.Heredoc */\n",
       "#monokai .si { color: #e6db74 } /* Literal.String.Interpol */\n",
       "#monokai .sx { color: #e6db74 } /* Literal.String.Other */\n",
       "#monokai .sr { color: #e6db74 } /* Literal.String.Regex */\n",
       "#monokai .s1 { color: #e6db74 } /* Literal.String.Single */\n",
       "#monokai .ss { color: #e6db74 } /* Literal.String.Symbol */\n",
       "#monokai .bp { color: #f8f8f2 } /* Name.Builtin.Pseudo */\n",
       "#monokai .fm { color: #a6e22e } /* Name.Function.Magic */\n",
       "#monokai .vc { color: #f8f8f2 } /* Name.Variable.Class */\n",
       "#monokai .vg { color: #f8f8f2 } /* Name.Variable.Global */\n",
       "#monokai .vi { color: #f8f8f2 } /* Name.Variable.Instance */\n",
       "#monokai .vm { color: #f8f8f2 } /* Name.Variable.Magic */\n",
       "#monokai .il { color: #ae81ff } /* Literal.Number.Integer.Long */</style>\n",
       "<div class=\"highlight\"><pre><span></span><span class=\"k\">def</span> <span class=\"nf\">show</span><span class=\"p\">(</span><span class=\"n\">c</span><span class=\"o\">=</span><span class=\"kc\">None</span><span class=\"p\">,</span> <span class=\"n\">style</span><span class=\"o\">=</span><span class=\"s1\">&#39;monokai&#39;</span><span class=\"p\">):</span> \n",
       "    <span class=\"k\">if</span> <span class=\"ow\">not</span> <span class=\"n\">c</span><span class=\"p\">:</span> <span class=\"n\">c</span> <span class=\"o\">=</span> <span class=\"n\">getsource</span><span class=\"p\">(</span><span class=\"n\">show</span><span class=\"p\">)</span>\n",
       "    <span class=\"n\">fm</span> <span class=\"o\">=</span> <span class=\"n\">HtmlFormatter</span><span class=\"p\">(</span><span class=\"n\">style</span><span class=\"o\">=</span><span class=\"n\">style</span><span class=\"p\">)</span>\n",
       "    <span class=\"n\">h</span> <span class=\"o\">=</span> <span class=\"n\">highlight</span><span class=\"p\">(</span><span class=\"n\">c</span><span class=\"p\">,</span> <span class=\"n\">PythonLexer</span><span class=\"p\">(),</span> <span class=\"n\">fm</span><span class=\"p\">)</span>\n",
       "    <span class=\"n\">sd</span> <span class=\"o\">=</span> <span class=\"n\">fm</span><span class=\"o\">.</span><span class=\"n\">get_style_defs</span><span class=\"p\">(</span><span class=\"sa\">f</span><span class=\"s1\">&#39;#</span><span class=\"si\">{</span><span class=\"n\">style</span><span class=\"si\">}</span><span class=\"s1\">&#39;</span><span class=\"p\">)</span>\n",
       "    <span class=\"n\">styled_container</span> <span class=\"o\">=</span> <span class=\"n\">Div</span><span class=\"p\">(</span><span class=\"n\">Style</span><span class=\"p\">(</span><span class=\"n\">sd</span><span class=\"p\">),</span> <span class=\"n\">NotStr</span><span class=\"p\">(</span><span class=\"n\">h</span><span class=\"p\">),</span> <span class=\"nb\">id</span><span class=\"o\">=</span><span class=\"n\">style</span><span class=\"p\">)</span>\n",
       "    <span class=\"k\">return</span> <span class=\"n\">HTML</span><span class=\"p\">(</span><span class=\"n\">to_xml</span><span class=\"p\">(</span><span class=\"n\">styled_container</span><span class=\"p\">))</span>\n",
       "</pre></div>\n",
       "</div>\n"
      ],
      "text/plain": [
       "<IPython.core.display.HTML object>"
      ]
     },
     "execution_count": 213,
     "metadata": {},
     "output_type": "execute_result"
    }
   ],
   "source": [
    "show(style='monokai')"
   ]
  },
  {
   "cell_type": "code",
   "execution_count": 214,
   "id": "0a55fa52",
   "metadata": {
    "scrolled": true
   },
   "outputs": [
    {
     "data": {
      "text/html": [
       "<div id=\"lightbulb\">\n",
       "  <style>pre { line-height: 125%; }\n",
       "td.linenos .normal { color: #3c4354; background-color: transparent; padding-left: 5px; padding-right: 5px; }\n",
       "span.linenos { color: #3c4354; background-color: transparent; padding-left: 5px; padding-right: 5px; }\n",
       "td.linenos .special { color: #3c4354; background-color: #ffffc0; padding-left: 5px; padding-right: 5px; }\n",
       "span.linenos.special { color: #3c4354; background-color: #ffffc0; padding-left: 5px; padding-right: 5px; }\n",
       "#lightbulb .hll { background-color: #6e7681 }\n",
       "#lightbulb { background: #1d2331; color: #d4d2c8 }\n",
       "#lightbulb .c { color: #7e8aa1 } /* Comment */\n",
       "#lightbulb .err { color: #f88f7f } /* Error */\n",
       "#lightbulb .esc { color: #d4d2c8 } /* Escape */\n",
       "#lightbulb .g { color: #d4d2c8 } /* Generic */\n",
       "#lightbulb .k { color: #FFAD66 } /* Keyword */\n",
       "#lightbulb .l { color: #D5FF80 } /* Literal */\n",
       "#lightbulb .n { color: #d4d2c8 } /* Name */\n",
       "#lightbulb .o { color: #FFAD66 } /* Operator */\n",
       "#lightbulb .x { color: #d4d2c8 } /* Other */\n",
       "#lightbulb .p { color: #d4d2c8 } /* Punctuation */\n",
       "#lightbulb .ch { color: #f88f7f; font-style: italic } /* Comment.Hashbang */\n",
       "#lightbulb .cm { color: #7e8aa1 } /* Comment.Multiline */\n",
       "#lightbulb .cp { color: #FFAD66; font-weight: bold } /* Comment.Preproc */\n",
       "#lightbulb .cpf { color: #7e8aa1 } /* Comment.PreprocFile */\n",
       "#lightbulb .c1 { color: #7e8aa1 } /* Comment.Single */\n",
       "#lightbulb .cs { color: #7e8aa1; font-style: italic } /* Comment.Special */\n",
       "#lightbulb .gd { color: #f88f7f; background-color: #3d1e20 } /* Generic.Deleted */\n",
       "#lightbulb .ge { color: #d4d2c8; font-style: italic } /* Generic.Emph */\n",
       "#lightbulb .ges { color: #d4d2c8 } /* Generic.EmphStrong */\n",
       "#lightbulb .gr { color: #f88f7f } /* Generic.Error */\n",
       "#lightbulb .gh { color: #d4d2c8 } /* Generic.Heading */\n",
       "#lightbulb .gi { color: #6ad4af; background-color: #19362c } /* Generic.Inserted */\n",
       "#lightbulb .go { color: #7e8aa1 } /* Generic.Output */\n",
       "#lightbulb .gp { color: #d4d2c8 } /* Generic.Prompt */\n",
       "#lightbulb .gs { color: #d4d2c8; font-weight: bold } /* Generic.Strong */\n",
       "#lightbulb .gu { color: #d4d2c8 } /* Generic.Subheading */\n",
       "#lightbulb .gt { color: #f88f7f } /* Generic.Traceback */\n",
       "#lightbulb .kc { color: #FFAD66 } /* Keyword.Constant */\n",
       "#lightbulb .kd { color: #FFAD66 } /* Keyword.Declaration */\n",
       "#lightbulb .kn { color: #FFAD66 } /* Keyword.Namespace */\n",
       "#lightbulb .kp { color: #FFAD66 } /* Keyword.Pseudo */\n",
       "#lightbulb .kr { color: #FFAD66 } /* Keyword.Reserved */\n",
       "#lightbulb .kt { color: #73D0FF } /* Keyword.Type */\n",
       "#lightbulb .ld { color: #D5FF80 } /* Literal.Date */\n",
       "#lightbulb .m { color: #DFBFFF } /* Literal.Number */\n",
       "#lightbulb .s { color: #D5FF80 } /* Literal.String */\n",
       "#lightbulb .na { color: #FFD173 } /* Name.Attribute */\n",
       "#lightbulb .nb { color: #FFD173 } /* Name.Builtin */\n",
       "#lightbulb .nc { color: #73D0FF } /* Name.Class */\n",
       "#lightbulb .no { color: #FFD173 } /* Name.Constant */\n",
       "#lightbulb .nd { color: #7e8aa1; font-weight: bold; font-style: italic } /* Name.Decorator */\n",
       "#lightbulb .ni { color: #95E6CB } /* Name.Entity */\n",
       "#lightbulb .ne { color: #73D0FF } /* Name.Exception */\n",
       "#lightbulb .nf { color: #FFD173 } /* Name.Function */\n",
       "#lightbulb .nl { color: #d4d2c8 } /* Name.Label */\n",
       "#lightbulb .nn { color: #d4d2c8 } /* Name.Namespace */\n",
       "#lightbulb .nx { color: #d4d2c8 } /* Name.Other */\n",
       "#lightbulb .py { color: #FFD173 } /* Name.Property */\n",
       "#lightbulb .nt { color: #5CCFE6 } /* Name.Tag */\n",
       "#lightbulb .nv { color: #d4d2c8 } /* Name.Variable */\n",
       "#lightbulb .ow { color: #FFAD66 } /* Operator.Word */\n",
       "#lightbulb .pm { color: #d4d2c8 } /* Punctuation.Marker */\n",
       "#lightbulb .w { color: #d4d2c8 } /* Text.Whitespace */\n",
       "#lightbulb .mb { color: #DFBFFF } /* Literal.Number.Bin */\n",
       "#lightbulb .mf { color: #DFBFFF } /* Literal.Number.Float */\n",
       "#lightbulb .mh { color: #DFBFFF } /* Literal.Number.Hex */\n",
       "#lightbulb .mi { color: #DFBFFF } /* Literal.Number.Integer */\n",
       "#lightbulb .mo { color: #DFBFFF } /* Literal.Number.Oct */\n",
       "#lightbulb .sa { color: #F29E74 } /* Literal.String.Affix */\n",
       "#lightbulb .sb { color: #D5FF80 } /* Literal.String.Backtick */\n",
       "#lightbulb .sc { color: #D5FF80 } /* Literal.String.Char */\n",
       "#lightbulb .dl { color: #D5FF80 } /* Literal.String.Delimiter */\n",
       "#lightbulb .sd { color: #7e8aa1 } /* Literal.String.Doc */\n",
       "#lightbulb .s2 { color: #D5FF80 } /* Literal.String.Double */\n",
       "#lightbulb .se { color: #95E6CB } /* Literal.String.Escape */\n",
       "#lightbulb .sh { color: #D5FF80 } /* Literal.String.Heredoc */\n",
       "#lightbulb .si { color: #95E6CB } /* Literal.String.Interpol */\n",
       "#lightbulb .sx { color: #95E6CB } /* Literal.String.Other */\n",
       "#lightbulb .sr { color: #95E6CB } /* Literal.String.Regex */\n",
       "#lightbulb .s1 { color: #D5FF80 } /* Literal.String.Single */\n",
       "#lightbulb .ss { color: #DFBFFF } /* Literal.String.Symbol */\n",
       "#lightbulb .bp { color: #5CCFE6 } /* Name.Builtin.Pseudo */\n",
       "#lightbulb .fm { color: #FFD173 } /* Name.Function.Magic */\n",
       "#lightbulb .vc { color: #d4d2c8 } /* Name.Variable.Class */\n",
       "#lightbulb .vg { color: #d4d2c8 } /* Name.Variable.Global */\n",
       "#lightbulb .vi { color: #d4d2c8 } /* Name.Variable.Instance */\n",
       "#lightbulb .vm { color: #d4d2c8 } /* Name.Variable.Magic */\n",
       "#lightbulb .il { color: #DFBFFF } /* Literal.Number.Integer.Long */</style>\n",
       "<div class=\"highlight\"><pre><span></span><span class=\"k\">def</span> <span class=\"nf\">show</span><span class=\"p\">(</span><span class=\"n\">c</span><span class=\"o\">=</span><span class=\"kc\">None</span><span class=\"p\">,</span> <span class=\"n\">style</span><span class=\"o\">=</span><span class=\"s1\">&#39;monokai&#39;</span><span class=\"p\">):</span> \n",
       "    <span class=\"k\">if</span> <span class=\"ow\">not</span> <span class=\"n\">c</span><span class=\"p\">:</span> <span class=\"n\">c</span> <span class=\"o\">=</span> <span class=\"n\">getsource</span><span class=\"p\">(</span><span class=\"n\">show</span><span class=\"p\">)</span>\n",
       "    <span class=\"n\">fm</span> <span class=\"o\">=</span> <span class=\"n\">HtmlFormatter</span><span class=\"p\">(</span><span class=\"n\">style</span><span class=\"o\">=</span><span class=\"n\">style</span><span class=\"p\">)</span>\n",
       "    <span class=\"n\">h</span> <span class=\"o\">=</span> <span class=\"n\">highlight</span><span class=\"p\">(</span><span class=\"n\">c</span><span class=\"p\">,</span> <span class=\"n\">PythonLexer</span><span class=\"p\">(),</span> <span class=\"n\">fm</span><span class=\"p\">)</span>\n",
       "    <span class=\"n\">sd</span> <span class=\"o\">=</span> <span class=\"n\">fm</span><span class=\"o\">.</span><span class=\"n\">get_style_defs</span><span class=\"p\">(</span><span class=\"sa\">f</span><span class=\"s1\">&#39;#</span><span class=\"si\">{</span><span class=\"n\">style</span><span class=\"si\">}</span><span class=\"s1\">&#39;</span><span class=\"p\">)</span>\n",
       "    <span class=\"n\">styled_container</span> <span class=\"o\">=</span> <span class=\"n\">Div</span><span class=\"p\">(</span><span class=\"n\">Style</span><span class=\"p\">(</span><span class=\"n\">sd</span><span class=\"p\">),</span> <span class=\"n\">NotStr</span><span class=\"p\">(</span><span class=\"n\">h</span><span class=\"p\">),</span> <span class=\"nb\">id</span><span class=\"o\">=</span><span class=\"n\">style</span><span class=\"p\">)</span>\n",
       "    <span class=\"k\">return</span> <span class=\"n\">HTML</span><span class=\"p\">(</span><span class=\"n\">to_xml</span><span class=\"p\">(</span><span class=\"n\">styled_container</span><span class=\"p\">))</span>\n",
       "</pre></div>\n",
       "</div>\n"
      ],
      "text/plain": [
       "<IPython.core.display.HTML object>"
      ]
     },
     "execution_count": 214,
     "metadata": {},
     "output_type": "execute_result"
    }
   ],
   "source": [
    "show(style='lightbulb')"
   ]
  },
  {
   "cell_type": "markdown",
   "id": "e8bdd3c4",
   "metadata": {},
   "source": [
    "The above 2 appeared to work correctly, but this didn't, so something's wrong:"
   ]
  },
  {
   "cell_type": "code",
   "execution_count": 215,
   "id": "92f34ebe",
   "metadata": {},
   "outputs": [
    {
     "data": {
      "text/html": [
       "<div id=\"paraiso-light\">\n",
       "  <style>pre { line-height: 125%; }\n",
       "td.linenos .normal { color: inherit; background-color: transparent; padding-left: 5px; padding-right: 5px; }\n",
       "span.linenos { color: inherit; background-color: transparent; padding-left: 5px; padding-right: 5px; }\n",
       "td.linenos .special { color: #000000; background-color: #ffffc0; padding-left: 5px; padding-right: 5px; }\n",
       "span.linenos.special { color: #000000; background-color: #ffffc0; padding-left: 5px; padding-right: 5px; }\n",
       "#paraiso-light .hll { background-color: #a39e9b }\n",
       "#paraiso-light { background: #e7e9db; color: #2f1e2e }\n",
       "#paraiso-light .c { color: #8d8687 } /* Comment */\n",
       "#paraiso-light .err { color: #ef6155 } /* Error */\n",
       "#paraiso-light .k { color: #815ba4 } /* Keyword */\n",
       "#paraiso-light .l { color: #f99b15 } /* Literal */\n",
       "#paraiso-light .n { color: #2f1e2e } /* Name */\n",
       "#paraiso-light .o { color: #5bc4bf } /* Operator */\n",
       "#paraiso-light .p { color: #2f1e2e } /* Punctuation */\n",
       "#paraiso-light .ch { color: #8d8687 } /* Comment.Hashbang */\n",
       "#paraiso-light .cm { color: #8d8687 } /* Comment.Multiline */\n",
       "#paraiso-light .cp { color: #8d8687 } /* Comment.Preproc */\n",
       "#paraiso-light .cpf { color: #8d8687 } /* Comment.PreprocFile */\n",
       "#paraiso-light .c1 { color: #8d8687 } /* Comment.Single */\n",
       "#paraiso-light .cs { color: #8d8687 } /* Comment.Special */\n",
       "#paraiso-light .gd { color: #ef6155 } /* Generic.Deleted */\n",
       "#paraiso-light .ge { font-style: italic } /* Generic.Emph */\n",
       "#paraiso-light .ges { font-weight: bold; font-style: italic } /* Generic.EmphStrong */\n",
       "#paraiso-light .gh { color: #2f1e2e; font-weight: bold } /* Generic.Heading */\n",
       "#paraiso-light .gi { color: #48b685 } /* Generic.Inserted */\n",
       "#paraiso-light .gp { color: #8d8687; font-weight: bold } /* Generic.Prompt */\n",
       "#paraiso-light .gs { font-weight: bold } /* Generic.Strong */\n",
       "#paraiso-light .gu { color: #5bc4bf; font-weight: bold } /* Generic.Subheading */\n",
       "#paraiso-light .kc { color: #815ba4 } /* Keyword.Constant */\n",
       "#paraiso-light .kd { color: #815ba4 } /* Keyword.Declaration */\n",
       "#paraiso-light .kn { color: #5bc4bf } /* Keyword.Namespace */\n",
       "#paraiso-light .kp { color: #815ba4 } /* Keyword.Pseudo */\n",
       "#paraiso-light .kr { color: #815ba4 } /* Keyword.Reserved */\n",
       "#paraiso-light .kt { color: #fec418 } /* Keyword.Type */\n",
       "#paraiso-light .ld { color: #48b685 } /* Literal.Date */\n",
       "#paraiso-light .m { color: #f99b15 } /* Literal.Number */\n",
       "#paraiso-light .s { color: #48b685 } /* Literal.String */\n",
       "#paraiso-light .na { color: #06b6ef } /* Name.Attribute */\n",
       "#paraiso-light .nb { color: #2f1e2e } /* Name.Builtin */\n",
       "#paraiso-light .nc { color: #fec418 } /* Name.Class */\n",
       "#paraiso-light .no { color: #ef6155 } /* Name.Constant */\n",
       "#paraiso-light .nd { color: #5bc4bf } /* Name.Decorator */\n",
       "#paraiso-light .ni { color: #2f1e2e } /* Name.Entity */\n",
       "#paraiso-light .ne { color: #ef6155 } /* Name.Exception */\n",
       "#paraiso-light .nf { color: #06b6ef } /* Name.Function */\n",
       "#paraiso-light .nl { color: #2f1e2e } /* Name.Label */\n",
       "#paraiso-light .nn { color: #fec418 } /* Name.Namespace */\n",
       "#paraiso-light .nx { color: #06b6ef } /* Name.Other */\n",
       "#paraiso-light .py { color: #2f1e2e } /* Name.Property */\n",
       "#paraiso-light .nt { color: #5bc4bf } /* Name.Tag */\n",
       "#paraiso-light .nv { color: #ef6155 } /* Name.Variable */\n",
       "#paraiso-light .ow { color: #5bc4bf } /* Operator.Word */\n",
       "#paraiso-light .pm { color: #2f1e2e } /* Punctuation.Marker */\n",
       "#paraiso-light .w { color: #2f1e2e } /* Text.Whitespace */\n",
       "#paraiso-light .mb { color: #f99b15 } /* Literal.Number.Bin */\n",
       "#paraiso-light .mf { color: #f99b15 } /* Literal.Number.Float */\n",
       "#paraiso-light .mh { color: #f99b15 } /* Literal.Number.Hex */\n",
       "#paraiso-light .mi { color: #f99b15 } /* Literal.Number.Integer */\n",
       "#paraiso-light .mo { color: #f99b15 } /* Literal.Number.Oct */\n",
       "#paraiso-light .sa { color: #48b685 } /* Literal.String.Affix */\n",
       "#paraiso-light .sb { color: #48b685 } /* Literal.String.Backtick */\n",
       "#paraiso-light .sc { color: #2f1e2e } /* Literal.String.Char */\n",
       "#paraiso-light .dl { color: #48b685 } /* Literal.String.Delimiter */\n",
       "#paraiso-light .sd { color: #8d8687 } /* Literal.String.Doc */\n",
       "#paraiso-light .s2 { color: #48b685 } /* Literal.String.Double */\n",
       "#paraiso-light .se { color: #f99b15 } /* Literal.String.Escape */\n",
       "#paraiso-light .sh { color: #48b685 } /* Literal.String.Heredoc */\n",
       "#paraiso-light .si { color: #f99b15 } /* Literal.String.Interpol */\n",
       "#paraiso-light .sx { color: #48b685 } /* Literal.String.Other */\n",
       "#paraiso-light .sr { color: #48b685 } /* Literal.String.Regex */\n",
       "#paraiso-light .s1 { color: #48b685 } /* Literal.String.Single */\n",
       "#paraiso-light .ss { color: #48b685 } /* Literal.String.Symbol */\n",
       "#paraiso-light .bp { color: #2f1e2e } /* Name.Builtin.Pseudo */\n",
       "#paraiso-light .fm { color: #06b6ef } /* Name.Function.Magic */\n",
       "#paraiso-light .vc { color: #ef6155 } /* Name.Variable.Class */\n",
       "#paraiso-light .vg { color: #ef6155 } /* Name.Variable.Global */\n",
       "#paraiso-light .vi { color: #ef6155 } /* Name.Variable.Instance */\n",
       "#paraiso-light .vm { color: #ef6155 } /* Name.Variable.Magic */\n",
       "#paraiso-light .il { color: #f99b15 } /* Literal.Number.Integer.Long */</style>\n",
       "<div class=\"highlight\"><pre><span></span><span class=\"k\">def</span> <span class=\"nf\">show</span><span class=\"p\">(</span><span class=\"n\">c</span><span class=\"o\">=</span><span class=\"kc\">None</span><span class=\"p\">,</span> <span class=\"n\">style</span><span class=\"o\">=</span><span class=\"s1\">&#39;monokai&#39;</span><span class=\"p\">):</span> \n",
       "    <span class=\"k\">if</span> <span class=\"ow\">not</span> <span class=\"n\">c</span><span class=\"p\">:</span> <span class=\"n\">c</span> <span class=\"o\">=</span> <span class=\"n\">getsource</span><span class=\"p\">(</span><span class=\"n\">show</span><span class=\"p\">)</span>\n",
       "    <span class=\"n\">fm</span> <span class=\"o\">=</span> <span class=\"n\">HtmlFormatter</span><span class=\"p\">(</span><span class=\"n\">style</span><span class=\"o\">=</span><span class=\"n\">style</span><span class=\"p\">)</span>\n",
       "    <span class=\"n\">h</span> <span class=\"o\">=</span> <span class=\"n\">highlight</span><span class=\"p\">(</span><span class=\"n\">c</span><span class=\"p\">,</span> <span class=\"n\">PythonLexer</span><span class=\"p\">(),</span> <span class=\"n\">fm</span><span class=\"p\">)</span>\n",
       "    <span class=\"n\">sd</span> <span class=\"o\">=</span> <span class=\"n\">fm</span><span class=\"o\">.</span><span class=\"n\">get_style_defs</span><span class=\"p\">(</span><span class=\"sa\">f</span><span class=\"s1\">&#39;#</span><span class=\"si\">{</span><span class=\"n\">style</span><span class=\"si\">}</span><span class=\"s1\">&#39;</span><span class=\"p\">)</span>\n",
       "    <span class=\"n\">styled_container</span> <span class=\"o\">=</span> <span class=\"n\">Div</span><span class=\"p\">(</span><span class=\"n\">Style</span><span class=\"p\">(</span><span class=\"n\">sd</span><span class=\"p\">),</span> <span class=\"n\">NotStr</span><span class=\"p\">(</span><span class=\"n\">h</span><span class=\"p\">),</span> <span class=\"nb\">id</span><span class=\"o\">=</span><span class=\"n\">style</span><span class=\"p\">)</span>\n",
       "    <span class=\"k\">return</span> <span class=\"n\">HTML</span><span class=\"p\">(</span><span class=\"n\">to_xml</span><span class=\"p\">(</span><span class=\"n\">styled_container</span><span class=\"p\">))</span>\n",
       "</pre></div>\n",
       "</div>\n"
      ],
      "text/plain": [
       "<IPython.core.display.HTML object>"
      ]
     },
     "execution_count": 215,
     "metadata": {},
     "output_type": "execute_result"
    }
   ],
   "source": [
    "show(style='paraiso-light')"
   ]
  },
  {
   "cell_type": "code",
   "execution_count": 221,
   "id": "0c90e839",
   "metadata": {},
   "outputs": [
    {
     "name": "stdout",
     "output_type": "stream",
     "text": [
      "pre { line-height: 125%; }\n",
      "td.linenos .normal { color: inherit; background-color: transparent; padding-left: 5px; padding-right: 5px; }\n",
      "span.linenos { color: inherit; background-color: transparent; padding-left: 5px; padding-right: 5px; }\n",
      "td.linenos .special { color: #000000; background-color: #ffffc0; padding-left: 5px; padding-right: 5px; }\n",
      "span.linenos.special { color: #000000; background-color: #ffffc0; padding-left: 5px; padding-right: 5px; }\n",
      "#paraiso-light .hll { background-color: #a39e9b }\n",
      "#paraiso-light { background: #e7e9db; color: #2f1e2e }\n",
      "#paraiso-light .c { color: #8d8687 } /* Comment */\n",
      "#paraiso-light .err { color: #ef6155 } /* Error */\n",
      "#paraiso-light .k { color: #815ba4 } /* Keyword */\n",
      "#paraiso-light .l { color: #f99b15 } /* Literal */\n",
      "#paraiso-light .n { color: #2f1e2e } /* Name */\n",
      "#paraiso-light .o { color: #5bc4bf } /* Operator */\n",
      "#paraiso-light .p { color: #2f1e2e } /* Punctuation */\n",
      "#paraiso-light .ch { color: #8d8687 } /* Comment.Hashbang */\n",
      "#paraiso-light .cm { co\n"
     ]
    }
   ],
   "source": [
    "print(HtmlFormatter(style='paraiso-light').get_style_defs('#paraiso-light')[:1000])"
   ]
  },
  {
   "cell_type": "markdown",
   "id": "7076dddd",
   "metadata": {},
   "source": [
    "The background color is supposed to be:"
   ]
  },
  {
   "cell_type": "code",
   "execution_count": 223,
   "id": "45f125e8",
   "metadata": {},
   "outputs": [
    {
     "data": {
      "text/html": [
       "<div style=\"background-color:#a39e9b;\">#a39e9b</div>\n"
      ],
      "text/plain": [
       "<IPython.core.display.HTML object>"
      ]
     },
     "execution_count": 223,
     "metadata": {},
     "output_type": "execute_result"
    }
   ],
   "source": [
    "show_color(\"#a39e9b\")"
   ]
  },
  {
   "cell_type": "markdown",
   "id": "dc6de258",
   "metadata": {},
   "source": [
    "I think `get_style_defs('#paraiso-light')` where that ID is on the parent div is too hacky here. I feel like `<div class=\"highlight\">` itself should get the ID."
   ]
  },
  {
   "cell_type": "code",
   "execution_count": 224,
   "id": "37496952",
   "metadata": {},
   "outputs": [
    {
     "name": "stdout",
     "output_type": "stream",
     "text": [
      "['#paraiso-light .hll { background-color: #a39e9b }', '#paraiso-light { background: #e7e9db; color: #2f1e2e }']\n"
     ]
    }
   ],
   "source": [
    "print(HtmlFormatter(style='paraiso-light').get_background_style_defs('#paraiso-light')[:1000])"
   ]
  },
  {
   "cell_type": "code",
   "execution_count": 226,
   "id": "8b94055f",
   "metadata": {},
   "outputs": [
    {
     "data": {
      "text/plain": [
       "'<div class=\"audrey\"><pre><span></span><span class=\"nb\">print</span><span class=\"p\">(</span><span class=\"s2\">&quot;Hi&quot;</span><span class=\"p\">)</span>\\n</pre></div>\\n'"
      ]
     },
     "execution_count": 226,
     "metadata": {},
     "output_type": "execute_result"
    }
   ],
   "source": [
    "c = 'print(\"Hi\")'\n",
    "fm = HtmlFormatter(style='paraiso-light', cssclass='audrey')\n",
    "h = highlight(c, PythonLexer(), fm)\n",
    "h"
   ]
  },
  {
   "cell_type": "code",
   "execution_count": 241,
   "id": "3f5c13dd",
   "metadata": {},
   "outputs": [],
   "source": [
    "def show(c=None, style='monokai'): \n",
    "    if not c: c = getsource(show)\n",
    "    fm = HtmlFormatter(style=style, cssclass=style)\n",
    "    h = highlight(c, PythonLexer(), fm)\n",
    "    sd = fm.get_style_defs(f\".{style}\")\n",
    "    styled_container = Div(Style(sd), NotStr(h), id=style)\n",
    "    return HTML(to_xml(styled_container))"
   ]
  },
  {
   "cell_type": "code",
   "execution_count": 242,
   "id": "b43d4bbb",
   "metadata": {},
   "outputs": [
    {
     "data": {
      "text/html": [
       "<div id=\"paraiso-light\">\n",
       "  <style>pre { line-height: 125%; }\n",
       "td.linenos .normal { color: inherit; background-color: transparent; padding-left: 5px; padding-right: 5px; }\n",
       "span.linenos { color: inherit; background-color: transparent; padding-left: 5px; padding-right: 5px; }\n",
       "td.linenos .special { color: #000000; background-color: #ffffc0; padding-left: 5px; padding-right: 5px; }\n",
       "span.linenos.special { color: #000000; background-color: #ffffc0; padding-left: 5px; padding-right: 5px; }\n",
       ".paraiso-light .hll { background-color: #a39e9b }\n",
       ".paraiso-light { background: #e7e9db; color: #2f1e2e }\n",
       ".paraiso-light .c { color: #8d8687 } /* Comment */\n",
       ".paraiso-light .err { color: #ef6155 } /* Error */\n",
       ".paraiso-light .k { color: #815ba4 } /* Keyword */\n",
       ".paraiso-light .l { color: #f99b15 } /* Literal */\n",
       ".paraiso-light .n { color: #2f1e2e } /* Name */\n",
       ".paraiso-light .o { color: #5bc4bf } /* Operator */\n",
       ".paraiso-light .p { color: #2f1e2e } /* Punctuation */\n",
       ".paraiso-light .ch { color: #8d8687 } /* Comment.Hashbang */\n",
       ".paraiso-light .cm { color: #8d8687 } /* Comment.Multiline */\n",
       ".paraiso-light .cp { color: #8d8687 } /* Comment.Preproc */\n",
       ".paraiso-light .cpf { color: #8d8687 } /* Comment.PreprocFile */\n",
       ".paraiso-light .c1 { color: #8d8687 } /* Comment.Single */\n",
       ".paraiso-light .cs { color: #8d8687 } /* Comment.Special */\n",
       ".paraiso-light .gd { color: #ef6155 } /* Generic.Deleted */\n",
       ".paraiso-light .ge { font-style: italic } /* Generic.Emph */\n",
       ".paraiso-light .ges { font-weight: bold; font-style: italic } /* Generic.EmphStrong */\n",
       ".paraiso-light .gh { color: #2f1e2e; font-weight: bold } /* Generic.Heading */\n",
       ".paraiso-light .gi { color: #48b685 } /* Generic.Inserted */\n",
       ".paraiso-light .gp { color: #8d8687; font-weight: bold } /* Generic.Prompt */\n",
       ".paraiso-light .gs { font-weight: bold } /* Generic.Strong */\n",
       ".paraiso-light .gu { color: #5bc4bf; font-weight: bold } /* Generic.Subheading */\n",
       ".paraiso-light .kc { color: #815ba4 } /* Keyword.Constant */\n",
       ".paraiso-light .kd { color: #815ba4 } /* Keyword.Declaration */\n",
       ".paraiso-light .kn { color: #5bc4bf } /* Keyword.Namespace */\n",
       ".paraiso-light .kp { color: #815ba4 } /* Keyword.Pseudo */\n",
       ".paraiso-light .kr { color: #815ba4 } /* Keyword.Reserved */\n",
       ".paraiso-light .kt { color: #fec418 } /* Keyword.Type */\n",
       ".paraiso-light .ld { color: #48b685 } /* Literal.Date */\n",
       ".paraiso-light .m { color: #f99b15 } /* Literal.Number */\n",
       ".paraiso-light .s { color: #48b685 } /* Literal.String */\n",
       ".paraiso-light .na { color: #06b6ef } /* Name.Attribute */\n",
       ".paraiso-light .nb { color: #2f1e2e } /* Name.Builtin */\n",
       ".paraiso-light .nc { color: #fec418 } /* Name.Class */\n",
       ".paraiso-light .no { color: #ef6155 } /* Name.Constant */\n",
       ".paraiso-light .nd { color: #5bc4bf } /* Name.Decorator */\n",
       ".paraiso-light .ni { color: #2f1e2e } /* Name.Entity */\n",
       ".paraiso-light .ne { color: #ef6155 } /* Name.Exception */\n",
       ".paraiso-light .nf { color: #06b6ef } /* Name.Function */\n",
       ".paraiso-light .nl { color: #2f1e2e } /* Name.Label */\n",
       ".paraiso-light .nn { color: #fec418 } /* Name.Namespace */\n",
       ".paraiso-light .nx { color: #06b6ef } /* Name.Other */\n",
       ".paraiso-light .py { color: #2f1e2e } /* Name.Property */\n",
       ".paraiso-light .nt { color: #5bc4bf } /* Name.Tag */\n",
       ".paraiso-light .nv { color: #ef6155 } /* Name.Variable */\n",
       ".paraiso-light .ow { color: #5bc4bf } /* Operator.Word */\n",
       ".paraiso-light .pm { color: #2f1e2e } /* Punctuation.Marker */\n",
       ".paraiso-light .w { color: #2f1e2e } /* Text.Whitespace */\n",
       ".paraiso-light .mb { color: #f99b15 } /* Literal.Number.Bin */\n",
       ".paraiso-light .mf { color: #f99b15 } /* Literal.Number.Float */\n",
       ".paraiso-light .mh { color: #f99b15 } /* Literal.Number.Hex */\n",
       ".paraiso-light .mi { color: #f99b15 } /* Literal.Number.Integer */\n",
       ".paraiso-light .mo { color: #f99b15 } /* Literal.Number.Oct */\n",
       ".paraiso-light .sa { color: #48b685 } /* Literal.String.Affix */\n",
       ".paraiso-light .sb { color: #48b685 } /* Literal.String.Backtick */\n",
       ".paraiso-light .sc { color: #2f1e2e } /* Literal.String.Char */\n",
       ".paraiso-light .dl { color: #48b685 } /* Literal.String.Delimiter */\n",
       ".paraiso-light .sd { color: #8d8687 } /* Literal.String.Doc */\n",
       ".paraiso-light .s2 { color: #48b685 } /* Literal.String.Double */\n",
       ".paraiso-light .se { color: #f99b15 } /* Literal.String.Escape */\n",
       ".paraiso-light .sh { color: #48b685 } /* Literal.String.Heredoc */\n",
       ".paraiso-light .si { color: #f99b15 } /* Literal.String.Interpol */\n",
       ".paraiso-light .sx { color: #48b685 } /* Literal.String.Other */\n",
       ".paraiso-light .sr { color: #48b685 } /* Literal.String.Regex */\n",
       ".paraiso-light .s1 { color: #48b685 } /* Literal.String.Single */\n",
       ".paraiso-light .ss { color: #48b685 } /* Literal.String.Symbol */\n",
       ".paraiso-light .bp { color: #2f1e2e } /* Name.Builtin.Pseudo */\n",
       ".paraiso-light .fm { color: #06b6ef } /* Name.Function.Magic */\n",
       ".paraiso-light .vc { color: #ef6155 } /* Name.Variable.Class */\n",
       ".paraiso-light .vg { color: #ef6155 } /* Name.Variable.Global */\n",
       ".paraiso-light .vi { color: #ef6155 } /* Name.Variable.Instance */\n",
       ".paraiso-light .vm { color: #ef6155 } /* Name.Variable.Magic */\n",
       ".paraiso-light .il { color: #f99b15 } /* Literal.Number.Integer.Long */</style>\n",
       "<div class=\"paraiso-light\"><pre><span></span><span class=\"k\">def</span> <span class=\"nf\">show</span><span class=\"p\">(</span><span class=\"n\">c</span><span class=\"o\">=</span><span class=\"kc\">None</span><span class=\"p\">,</span> <span class=\"n\">style</span><span class=\"o\">=</span><span class=\"s1\">&#39;monokai&#39;</span><span class=\"p\">):</span> \n",
       "    <span class=\"k\">if</span> <span class=\"ow\">not</span> <span class=\"n\">c</span><span class=\"p\">:</span> <span class=\"n\">c</span> <span class=\"o\">=</span> <span class=\"n\">getsource</span><span class=\"p\">(</span><span class=\"n\">show</span><span class=\"p\">)</span>\n",
       "    <span class=\"n\">fm</span> <span class=\"o\">=</span> <span class=\"n\">HtmlFormatter</span><span class=\"p\">(</span><span class=\"n\">style</span><span class=\"o\">=</span><span class=\"n\">style</span><span class=\"p\">,</span> <span class=\"n\">cssclass</span><span class=\"o\">=</span><span class=\"n\">style</span><span class=\"p\">)</span>\n",
       "    <span class=\"n\">h</span> <span class=\"o\">=</span> <span class=\"n\">highlight</span><span class=\"p\">(</span><span class=\"n\">c</span><span class=\"p\">,</span> <span class=\"n\">PythonLexer</span><span class=\"p\">(),</span> <span class=\"n\">fm</span><span class=\"p\">)</span>\n",
       "    <span class=\"n\">sd</span> <span class=\"o\">=</span> <span class=\"n\">fm</span><span class=\"o\">.</span><span class=\"n\">get_style_defs</span><span class=\"p\">(</span><span class=\"sa\">f</span><span class=\"s2\">&quot;.</span><span class=\"si\">{</span><span class=\"n\">style</span><span class=\"si\">}</span><span class=\"s2\">&quot;</span><span class=\"p\">)</span>\n",
       "    <span class=\"n\">styled_container</span> <span class=\"o\">=</span> <span class=\"n\">Div</span><span class=\"p\">(</span><span class=\"n\">Style</span><span class=\"p\">(</span><span class=\"n\">sd</span><span class=\"p\">),</span> <span class=\"n\">NotStr</span><span class=\"p\">(</span><span class=\"n\">h</span><span class=\"p\">),</span> <span class=\"nb\">id</span><span class=\"o\">=</span><span class=\"n\">style</span><span class=\"p\">)</span>\n",
       "    <span class=\"k\">return</span> <span class=\"n\">HTML</span><span class=\"p\">(</span><span class=\"n\">to_xml</span><span class=\"p\">(</span><span class=\"n\">styled_container</span><span class=\"p\">))</span>\n",
       "</pre></div>\n",
       "</div>\n"
      ],
      "text/plain": [
       "<IPython.core.display.HTML object>"
      ]
     },
     "execution_count": 242,
     "metadata": {},
     "output_type": "execute_result"
    }
   ],
   "source": [
    "show(style='paraiso-light')"
   ]
  },
  {
   "cell_type": "code",
   "execution_count": 243,
   "id": "61e8b515",
   "metadata": {},
   "outputs": [
    {
     "data": {
      "text/html": [
       "<div id=\"dracula\">\n",
       "  <style>pre { line-height: 125%; }\n",
       "td.linenos .normal { color: #f1fa8c; background-color: #44475a; padding-left: 5px; padding-right: 5px; }\n",
       "span.linenos { color: #f1fa8c; background-color: #44475a; padding-left: 5px; padding-right: 5px; }\n",
       "td.linenos .special { color: #50fa7b; background-color: #6272a4; padding-left: 5px; padding-right: 5px; }\n",
       "span.linenos.special { color: #50fa7b; background-color: #6272a4; padding-left: 5px; padding-right: 5px; }\n",
       ".dracula .hll { background-color: #44475a }\n",
       ".dracula { background: #282a36; color: #f8f8f2 }\n",
       ".dracula .c { color: #6272a4 } /* Comment */\n",
       ".dracula .err { color: #f8f8f2 } /* Error */\n",
       ".dracula .g { color: #f8f8f2 } /* Generic */\n",
       ".dracula .k { color: #ff79c6 } /* Keyword */\n",
       ".dracula .l { color: #f8f8f2 } /* Literal */\n",
       ".dracula .n { color: #f8f8f2 } /* Name */\n",
       ".dracula .o { color: #ff79c6 } /* Operator */\n",
       ".dracula .x { color: #f8f8f2 } /* Other */\n",
       ".dracula .p { color: #f8f8f2 } /* Punctuation */\n",
       ".dracula .ch { color: #6272a4 } /* Comment.Hashbang */\n",
       ".dracula .cm { color: #6272a4 } /* Comment.Multiline */\n",
       ".dracula .cp { color: #ff79c6 } /* Comment.Preproc */\n",
       ".dracula .cpf { color: #6272a4 } /* Comment.PreprocFile */\n",
       ".dracula .c1 { color: #6272a4 } /* Comment.Single */\n",
       ".dracula .cs { color: #6272a4 } /* Comment.Special */\n",
       ".dracula .gd { color: #8b080b } /* Generic.Deleted */\n",
       ".dracula .ge { color: #f8f8f2; text-decoration: underline } /* Generic.Emph */\n",
       ".dracula .ges { color: #f8f8f2; text-decoration: underline } /* Generic.EmphStrong */\n",
       ".dracula .gr { color: #f8f8f2 } /* Generic.Error */\n",
       ".dracula .gh { color: #f8f8f2; font-weight: bold } /* Generic.Heading */\n",
       ".dracula .gi { color: #f8f8f2; font-weight: bold } /* Generic.Inserted */\n",
       ".dracula .go { color: #44475a } /* Generic.Output */\n",
       ".dracula .gp { color: #f8f8f2 } /* Generic.Prompt */\n",
       ".dracula .gs { color: #f8f8f2 } /* Generic.Strong */\n",
       ".dracula .gu { color: #f8f8f2; font-weight: bold } /* Generic.Subheading */\n",
       ".dracula .gt { color: #f8f8f2 } /* Generic.Traceback */\n",
       ".dracula .kc { color: #ff79c6 } /* Keyword.Constant */\n",
       ".dracula .kd { color: #8be9fd; font-style: italic } /* Keyword.Declaration */\n",
       ".dracula .kn { color: #ff79c6 } /* Keyword.Namespace */\n",
       ".dracula .kp { color: #ff79c6 } /* Keyword.Pseudo */\n",
       ".dracula .kr { color: #ff79c6 } /* Keyword.Reserved */\n",
       ".dracula .kt { color: #8be9fd } /* Keyword.Type */\n",
       ".dracula .ld { color: #f8f8f2 } /* Literal.Date */\n",
       ".dracula .m { color: #ffb86c } /* Literal.Number */\n",
       ".dracula .s { color: #bd93f9 } /* Literal.String */\n",
       ".dracula .na { color: #50fa7b } /* Name.Attribute */\n",
       ".dracula .nb { color: #8be9fd; font-style: italic } /* Name.Builtin */\n",
       ".dracula .nc { color: #50fa7b } /* Name.Class */\n",
       ".dracula .no { color: #f8f8f2 } /* Name.Constant */\n",
       ".dracula .nd { color: #f8f8f2 } /* Name.Decorator */\n",
       ".dracula .ni { color: #f8f8f2 } /* Name.Entity */\n",
       ".dracula .ne { color: #f8f8f2 } /* Name.Exception */\n",
       ".dracula .nf { color: #50fa7b } /* Name.Function */\n",
       ".dracula .nl { color: #8be9fd; font-style: italic } /* Name.Label */\n",
       ".dracula .nn { color: #f8f8f2 } /* Name.Namespace */\n",
       ".dracula .nx { color: #f8f8f2 } /* Name.Other */\n",
       ".dracula .py { color: #f8f8f2 } /* Name.Property */\n",
       ".dracula .nt { color: #ff79c6 } /* Name.Tag */\n",
       ".dracula .nv { color: #8be9fd; font-style: italic } /* Name.Variable */\n",
       ".dracula .ow { color: #ff79c6 } /* Operator.Word */\n",
       ".dracula .pm { color: #f8f8f2 } /* Punctuation.Marker */\n",
       ".dracula .w { color: #f8f8f2 } /* Text.Whitespace */\n",
       ".dracula .mb { color: #ffb86c } /* Literal.Number.Bin */\n",
       ".dracula .mf { color: #ffb86c } /* Literal.Number.Float */\n",
       ".dracula .mh { color: #ffb86c } /* Literal.Number.Hex */\n",
       ".dracula .mi { color: #ffb86c } /* Literal.Number.Integer */\n",
       ".dracula .mo { color: #ffb86c } /* Literal.Number.Oct */\n",
       ".dracula .sa { color: #bd93f9 } /* Literal.String.Affix */\n",
       ".dracula .sb { color: #bd93f9 } /* Literal.String.Backtick */\n",
       ".dracula .sc { color: #bd93f9 } /* Literal.String.Char */\n",
       ".dracula .dl { color: #bd93f9 } /* Literal.String.Delimiter */\n",
       ".dracula .sd { color: #bd93f9 } /* Literal.String.Doc */\n",
       ".dracula .s2 { color: #bd93f9 } /* Literal.String.Double */\n",
       ".dracula .se { color: #bd93f9 } /* Literal.String.Escape */\n",
       ".dracula .sh { color: #bd93f9 } /* Literal.String.Heredoc */\n",
       ".dracula .si { color: #bd93f9 } /* Literal.String.Interpol */\n",
       ".dracula .sx { color: #bd93f9 } /* Literal.String.Other */\n",
       ".dracula .sr { color: #bd93f9 } /* Literal.String.Regex */\n",
       ".dracula .s1 { color: #bd93f9 } /* Literal.String.Single */\n",
       ".dracula .ss { color: #bd93f9 } /* Literal.String.Symbol */\n",
       ".dracula .bp { color: #f8f8f2; font-style: italic } /* Name.Builtin.Pseudo */\n",
       ".dracula .fm { color: #50fa7b } /* Name.Function.Magic */\n",
       ".dracula .vc { color: #8be9fd; font-style: italic } /* Name.Variable.Class */\n",
       ".dracula .vg { color: #8be9fd; font-style: italic } /* Name.Variable.Global */\n",
       ".dracula .vi { color: #8be9fd; font-style: italic } /* Name.Variable.Instance */\n",
       ".dracula .vm { color: #8be9fd; font-style: italic } /* Name.Variable.Magic */\n",
       ".dracula .il { color: #ffb86c } /* Literal.Number.Integer.Long */</style>\n",
       "<div class=\"dracula\"><pre><span></span><span class=\"nb\">print</span><span class=\"p\">(</span><span class=\"s1\">&#39;Hey&#39;</span><span class=\"p\">)</span>\n",
       "</pre></div>\n",
       "</div>\n"
      ],
      "text/plain": [
       "<IPython.core.display.HTML object>"
      ]
     },
     "execution_count": 243,
     "metadata": {},
     "output_type": "execute_result"
    }
   ],
   "source": [
    "show(c=\"print('Hey')\", style=\"dracula\")"
   ]
  },
  {
   "cell_type": "code",
   "execution_count": 244,
   "id": "565fe994",
   "metadata": {
    "scrolled": true
   },
   "outputs": [
    {
     "data": {
      "text/html": [
       "<div id=\"dracula\">\n",
       "  <style>pre { line-height: 125%; }\n",
       "td.linenos .normal { color: #f1fa8c; background-color: #44475a; padding-left: 5px; padding-right: 5px; }\n",
       "span.linenos { color: #f1fa8c; background-color: #44475a; padding-left: 5px; padding-right: 5px; }\n",
       "td.linenos .special { color: #50fa7b; background-color: #6272a4; padding-left: 5px; padding-right: 5px; }\n",
       "span.linenos.special { color: #50fa7b; background-color: #6272a4; padding-left: 5px; padding-right: 5px; }\n",
       ".dracula .hll { background-color: #44475a }\n",
       ".dracula { background: #282a36; color: #f8f8f2 }\n",
       ".dracula .c { color: #6272a4 } /* Comment */\n",
       ".dracula .err { color: #f8f8f2 } /* Error */\n",
       ".dracula .g { color: #f8f8f2 } /* Generic */\n",
       ".dracula .k { color: #ff79c6 } /* Keyword */\n",
       ".dracula .l { color: #f8f8f2 } /* Literal */\n",
       ".dracula .n { color: #f8f8f2 } /* Name */\n",
       ".dracula .o { color: #ff79c6 } /* Operator */\n",
       ".dracula .x { color: #f8f8f2 } /* Other */\n",
       ".dracula .p { color: #f8f8f2 } /* Punctuation */\n",
       ".dracula .ch { color: #6272a4 } /* Comment.Hashbang */\n",
       ".dracula .cm { color: #6272a4 } /* Comment.Multiline */\n",
       ".dracula .cp { color: #ff79c6 } /* Comment.Preproc */\n",
       ".dracula .cpf { color: #6272a4 } /* Comment.PreprocFile */\n",
       ".dracula .c1 { color: #6272a4 } /* Comment.Single */\n",
       ".dracula .cs { color: #6272a4 } /* Comment.Special */\n",
       ".dracula .gd { color: #8b080b } /* Generic.Deleted */\n",
       ".dracula .ge { color: #f8f8f2; text-decoration: underline } /* Generic.Emph */\n",
       ".dracula .ges { color: #f8f8f2; text-decoration: underline } /* Generic.EmphStrong */\n",
       ".dracula .gr { color: #f8f8f2 } /* Generic.Error */\n",
       ".dracula .gh { color: #f8f8f2; font-weight: bold } /* Generic.Heading */\n",
       ".dracula .gi { color: #f8f8f2; font-weight: bold } /* Generic.Inserted */\n",
       ".dracula .go { color: #44475a } /* Generic.Output */\n",
       ".dracula .gp { color: #f8f8f2 } /* Generic.Prompt */\n",
       ".dracula .gs { color: #f8f8f2 } /* Generic.Strong */\n",
       ".dracula .gu { color: #f8f8f2; font-weight: bold } /* Generic.Subheading */\n",
       ".dracula .gt { color: #f8f8f2 } /* Generic.Traceback */\n",
       ".dracula .kc { color: #ff79c6 } /* Keyword.Constant */\n",
       ".dracula .kd { color: #8be9fd; font-style: italic } /* Keyword.Declaration */\n",
       ".dracula .kn { color: #ff79c6 } /* Keyword.Namespace */\n",
       ".dracula .kp { color: #ff79c6 } /* Keyword.Pseudo */\n",
       ".dracula .kr { color: #ff79c6 } /* Keyword.Reserved */\n",
       ".dracula .kt { color: #8be9fd } /* Keyword.Type */\n",
       ".dracula .ld { color: #f8f8f2 } /* Literal.Date */\n",
       ".dracula .m { color: #ffb86c } /* Literal.Number */\n",
       ".dracula .s { color: #bd93f9 } /* Literal.String */\n",
       ".dracula .na { color: #50fa7b } /* Name.Attribute */\n",
       ".dracula .nb { color: #8be9fd; font-style: italic } /* Name.Builtin */\n",
       ".dracula .nc { color: #50fa7b } /* Name.Class */\n",
       ".dracula .no { color: #f8f8f2 } /* Name.Constant */\n",
       ".dracula .nd { color: #f8f8f2 } /* Name.Decorator */\n",
       ".dracula .ni { color: #f8f8f2 } /* Name.Entity */\n",
       ".dracula .ne { color: #f8f8f2 } /* Name.Exception */\n",
       ".dracula .nf { color: #50fa7b } /* Name.Function */\n",
       ".dracula .nl { color: #8be9fd; font-style: italic } /* Name.Label */\n",
       ".dracula .nn { color: #f8f8f2 } /* Name.Namespace */\n",
       ".dracula .nx { color: #f8f8f2 } /* Name.Other */\n",
       ".dracula .py { color: #f8f8f2 } /* Name.Property */\n",
       ".dracula .nt { color: #ff79c6 } /* Name.Tag */\n",
       ".dracula .nv { color: #8be9fd; font-style: italic } /* Name.Variable */\n",
       ".dracula .ow { color: #ff79c6 } /* Operator.Word */\n",
       ".dracula .pm { color: #f8f8f2 } /* Punctuation.Marker */\n",
       ".dracula .w { color: #f8f8f2 } /* Text.Whitespace */\n",
       ".dracula .mb { color: #ffb86c } /* Literal.Number.Bin */\n",
       ".dracula .mf { color: #ffb86c } /* Literal.Number.Float */\n",
       ".dracula .mh { color: #ffb86c } /* Literal.Number.Hex */\n",
       ".dracula .mi { color: #ffb86c } /* Literal.Number.Integer */\n",
       ".dracula .mo { color: #ffb86c } /* Literal.Number.Oct */\n",
       ".dracula .sa { color: #bd93f9 } /* Literal.String.Affix */\n",
       ".dracula .sb { color: #bd93f9 } /* Literal.String.Backtick */\n",
       ".dracula .sc { color: #bd93f9 } /* Literal.String.Char */\n",
       ".dracula .dl { color: #bd93f9 } /* Literal.String.Delimiter */\n",
       ".dracula .sd { color: #bd93f9 } /* Literal.String.Doc */\n",
       ".dracula .s2 { color: #bd93f9 } /* Literal.String.Double */\n",
       ".dracula .se { color: #bd93f9 } /* Literal.String.Escape */\n",
       ".dracula .sh { color: #bd93f9 } /* Literal.String.Heredoc */\n",
       ".dracula .si { color: #bd93f9 } /* Literal.String.Interpol */\n",
       ".dracula .sx { color: #bd93f9 } /* Literal.String.Other */\n",
       ".dracula .sr { color: #bd93f9 } /* Literal.String.Regex */\n",
       ".dracula .s1 { color: #bd93f9 } /* Literal.String.Single */\n",
       ".dracula .ss { color: #bd93f9 } /* Literal.String.Symbol */\n",
       ".dracula .bp { color: #f8f8f2; font-style: italic } /* Name.Builtin.Pseudo */\n",
       ".dracula .fm { color: #50fa7b } /* Name.Function.Magic */\n",
       ".dracula .vc { color: #8be9fd; font-style: italic } /* Name.Variable.Class */\n",
       ".dracula .vg { color: #8be9fd; font-style: italic } /* Name.Variable.Global */\n",
       ".dracula .vi { color: #8be9fd; font-style: italic } /* Name.Variable.Instance */\n",
       ".dracula .vm { color: #8be9fd; font-style: italic } /* Name.Variable.Magic */\n",
       ".dracula .il { color: #ffb86c } /* Literal.Number.Integer.Long */</style>\n",
       "<div class=\"dracula\"><pre><span></span><span class=\"k\">def</span> <span class=\"nf\">show</span><span class=\"p\">(</span><span class=\"n\">c</span><span class=\"o\">=</span><span class=\"kc\">None</span><span class=\"p\">,</span> <span class=\"n\">style</span><span class=\"o\">=</span><span class=\"s1\">&#39;monokai&#39;</span><span class=\"p\">):</span> \n",
       "    <span class=\"k\">if</span> <span class=\"ow\">not</span> <span class=\"n\">c</span><span class=\"p\">:</span> <span class=\"n\">c</span> <span class=\"o\">=</span> <span class=\"n\">getsource</span><span class=\"p\">(</span><span class=\"n\">show</span><span class=\"p\">)</span>\n",
       "    <span class=\"n\">fm</span> <span class=\"o\">=</span> <span class=\"n\">HtmlFormatter</span><span class=\"p\">(</span><span class=\"n\">style</span><span class=\"o\">=</span><span class=\"n\">style</span><span class=\"p\">,</span> <span class=\"n\">cssclass</span><span class=\"o\">=</span><span class=\"n\">style</span><span class=\"p\">)</span>\n",
       "    <span class=\"n\">h</span> <span class=\"o\">=</span> <span class=\"n\">highlight</span><span class=\"p\">(</span><span class=\"n\">c</span><span class=\"p\">,</span> <span class=\"n\">PythonLexer</span><span class=\"p\">(),</span> <span class=\"n\">fm</span><span class=\"p\">)</span>\n",
       "    <span class=\"n\">sd</span> <span class=\"o\">=</span> <span class=\"n\">fm</span><span class=\"o\">.</span><span class=\"n\">get_style_defs</span><span class=\"p\">(</span><span class=\"sa\">f</span><span class=\"s2\">&quot;.</span><span class=\"si\">{</span><span class=\"n\">style</span><span class=\"si\">}</span><span class=\"s2\">&quot;</span><span class=\"p\">)</span>\n",
       "    <span class=\"n\">styled_container</span> <span class=\"o\">=</span> <span class=\"n\">Div</span><span class=\"p\">(</span><span class=\"n\">Style</span><span class=\"p\">(</span><span class=\"n\">sd</span><span class=\"p\">),</span> <span class=\"n\">NotStr</span><span class=\"p\">(</span><span class=\"n\">h</span><span class=\"p\">),</span> <span class=\"nb\">id</span><span class=\"o\">=</span><span class=\"n\">style</span><span class=\"p\">)</span>\n",
       "    <span class=\"k\">return</span> <span class=\"n\">HTML</span><span class=\"p\">(</span><span class=\"n\">to_xml</span><span class=\"p\">(</span><span class=\"n\">styled_container</span><span class=\"p\">))</span>\n",
       "</pre></div>\n",
       "</div>\n"
      ],
      "text/plain": [
       "<IPython.core.display.HTML object>"
      ]
     },
     "execution_count": 244,
     "metadata": {},
     "output_type": "execute_result"
    }
   ],
   "source": [
    "show(style=\"dracula\")"
   ]
  },
  {
   "cell_type": "code",
   "execution_count": 245,
   "id": "52fb9464",
   "metadata": {
    "scrolled": true
   },
   "outputs": [
    {
     "data": {
      "text/html": [
       "<div id=\"gruvbox-dark\">\n",
       "  <style>pre { line-height: 125%; }\n",
       "td.linenos .normal { color: inherit; background-color: transparent; padding-left: 5px; padding-right: 5px; }\n",
       "span.linenos { color: inherit; background-color: transparent; padding-left: 5px; padding-right: 5px; }\n",
       "td.linenos .special { color: #000000; background-color: #ffffc0; padding-left: 5px; padding-right: 5px; }\n",
       "span.linenos.special { color: #000000; background-color: #ffffc0; padding-left: 5px; padding-right: 5px; }\n",
       ".gruvbox-dark .hll { background-color: #ebdbb2 }\n",
       ".gruvbox-dark { background: #282828; color: #dddddd }\n",
       ".gruvbox-dark .c { color: #928374; font-style: italic } /* Comment */\n",
       ".gruvbox-dark .err { color: #282828; background-color: #fb4934 } /* Error */\n",
       ".gruvbox-dark .esc { color: #dddddd } /* Escape */\n",
       ".gruvbox-dark .g { color: #dddddd } /* Generic */\n",
       ".gruvbox-dark .k { color: #fb4934 } /* Keyword */\n",
       ".gruvbox-dark .l { color: #dddddd } /* Literal */\n",
       ".gruvbox-dark .n { color: #dddddd } /* Name */\n",
       ".gruvbox-dark .o { color: #dddddd } /* Operator */\n",
       ".gruvbox-dark .x { color: #dddddd } /* Other */\n",
       ".gruvbox-dark .p { color: #dddddd } /* Punctuation */\n",
       ".gruvbox-dark .ch { color: #928374; font-style: italic } /* Comment.Hashbang */\n",
       ".gruvbox-dark .cm { color: #928374; font-style: italic } /* Comment.Multiline */\n",
       ".gruvbox-dark .c-PreProc { color: #8ec07c; font-style: italic } /* Comment.PreProc */\n",
       ".gruvbox-dark .cp { color: #928374; font-style: italic } /* Comment.Preproc */\n",
       ".gruvbox-dark .cpf { color: #928374; font-style: italic } /* Comment.PreprocFile */\n",
       ".gruvbox-dark .c1 { color: #928374; font-style: italic } /* Comment.Single */\n",
       ".gruvbox-dark .cs { color: #ebdbb2; font-weight: bold; font-style: italic } /* Comment.Special */\n",
       ".gruvbox-dark .gd { color: #282828; background-color: #fb4934 } /* Generic.Deleted */\n",
       ".gruvbox-dark .ge { color: #dddddd; font-style: italic } /* Generic.Emph */\n",
       ".gruvbox-dark .ges { color: #dddddd; font-weight: bold; font-style: italic } /* Generic.EmphStrong */\n",
       ".gruvbox-dark .gr { color: #fb4934 } /* Generic.Error */\n",
       ".gruvbox-dark .gh { color: #ebdbb2; font-weight: bold } /* Generic.Heading */\n",
       ".gruvbox-dark .gi { color: #282828; background-color: #b8bb26 } /* Generic.Inserted */\n",
       ".gruvbox-dark .go { color: #f2e5bc } /* Generic.Output */\n",
       ".gruvbox-dark .gp { color: #a89984 } /* Generic.Prompt */\n",
       ".gruvbox-dark .gs { color: #dddddd; font-weight: bold } /* Generic.Strong */\n",
       ".gruvbox-dark .gu { color: #ebdbb2; text-decoration: underline } /* Generic.Subheading */\n",
       ".gruvbox-dark .gt { color: #fb4934 } /* Generic.Traceback */\n",
       ".gruvbox-dark .kc { color: #fb4934 } /* Keyword.Constant */\n",
       ".gruvbox-dark .kd { color: #fb4934 } /* Keyword.Declaration */\n",
       ".gruvbox-dark .kn { color: #fb4934 } /* Keyword.Namespace */\n",
       ".gruvbox-dark .kp { color: #fb4934 } /* Keyword.Pseudo */\n",
       ".gruvbox-dark .kr { color: #fb4934 } /* Keyword.Reserved */\n",
       ".gruvbox-dark .kt { color: #fb4934 } /* Keyword.Type */\n",
       ".gruvbox-dark .ld { color: #dddddd } /* Literal.Date */\n",
       ".gruvbox-dark .m { color: #d3869b } /* Literal.Number */\n",
       ".gruvbox-dark .s { color: #b8bb26 } /* Literal.String */\n",
       ".gruvbox-dark .na { color: #fabd2f } /* Name.Attribute */\n",
       ".gruvbox-dark .nb { color: #fe8019 } /* Name.Builtin */\n",
       ".gruvbox-dark .nc { color: #8ec07c } /* Name.Class */\n",
       ".gruvbox-dark .no { color: #d3869b } /* Name.Constant */\n",
       ".gruvbox-dark .nd { color: #fb4934 } /* Name.Decorator */\n",
       ".gruvbox-dark .ni { color: #dddddd } /* Name.Entity */\n",
       ".gruvbox-dark .ne { color: #fb4934 } /* Name.Exception */\n",
       ".gruvbox-dark .nf { color: #8ec07c } /* Name.Function */\n",
       ".gruvbox-dark .nl { color: #dddddd } /* Name.Label */\n",
       ".gruvbox-dark .nn { color: #8ec07c } /* Name.Namespace */\n",
       ".gruvbox-dark .nx { color: #dddddd } /* Name.Other */\n",
       ".gruvbox-dark .py { color: #dddddd } /* Name.Property */\n",
       ".gruvbox-dark .nt { color: #8ec07c } /* Name.Tag */\n",
       ".gruvbox-dark .nv { color: #83a598 } /* Name.Variable */\n",
       ".gruvbox-dark .ow { color: #fb4934 } /* Operator.Word */\n",
       ".gruvbox-dark .pm { color: #dddddd } /* Punctuation.Marker */\n",
       ".gruvbox-dark .w { color: #dddddd } /* Text.Whitespace */\n",
       ".gruvbox-dark .mb { color: #d3869b } /* Literal.Number.Bin */\n",
       ".gruvbox-dark .mf { color: #d3869b } /* Literal.Number.Float */\n",
       ".gruvbox-dark .mh { color: #d3869b } /* Literal.Number.Hex */\n",
       ".gruvbox-dark .mi { color: #d3869b } /* Literal.Number.Integer */\n",
       ".gruvbox-dark .mo { color: #d3869b } /* Literal.Number.Oct */\n",
       ".gruvbox-dark .sa { color: #b8bb26 } /* Literal.String.Affix */\n",
       ".gruvbox-dark .sb { color: #b8bb26 } /* Literal.String.Backtick */\n",
       ".gruvbox-dark .sc { color: #b8bb26 } /* Literal.String.Char */\n",
       ".gruvbox-dark .dl { color: #b8bb26 } /* Literal.String.Delimiter */\n",
       ".gruvbox-dark .sd { color: #b8bb26 } /* Literal.String.Doc */\n",
       ".gruvbox-dark .s2 { color: #b8bb26 } /* Literal.String.Double */\n",
       ".gruvbox-dark .se { color: #fe8019 } /* Literal.String.Escape */\n",
       ".gruvbox-dark .sh { color: #b8bb26 } /* Literal.String.Heredoc */\n",
       ".gruvbox-dark .si { color: #b8bb26 } /* Literal.String.Interpol */\n",
       ".gruvbox-dark .sx { color: #b8bb26 } /* Literal.String.Other */\n",
       ".gruvbox-dark .sr { color: #b8bb26 } /* Literal.String.Regex */\n",
       ".gruvbox-dark .s1 { color: #b8bb26 } /* Literal.String.Single */\n",
       ".gruvbox-dark .ss { color: #b8bb26 } /* Literal.String.Symbol */\n",
       ".gruvbox-dark .bp { color: #fe8019 } /* Name.Builtin.Pseudo */\n",
       ".gruvbox-dark .fm { color: #8ec07c } /* Name.Function.Magic */\n",
       ".gruvbox-dark .vc { color: #83a598 } /* Name.Variable.Class */\n",
       ".gruvbox-dark .vg { color: #83a598 } /* Name.Variable.Global */\n",
       ".gruvbox-dark .vi { color: #83a598 } /* Name.Variable.Instance */\n",
       ".gruvbox-dark .vm { color: #83a598 } /* Name.Variable.Magic */\n",
       ".gruvbox-dark .il { color: #d3869b } /* Literal.Number.Integer.Long */</style>\n",
       "<div class=\"gruvbox-dark\"><pre><span></span><span class=\"k\">def</span> <span class=\"nf\">show</span><span class=\"p\">(</span><span class=\"n\">c</span><span class=\"o\">=</span><span class=\"kc\">None</span><span class=\"p\">,</span> <span class=\"n\">style</span><span class=\"o\">=</span><span class=\"s1\">&#39;monokai&#39;</span><span class=\"p\">):</span> \n",
       "    <span class=\"k\">if</span> <span class=\"ow\">not</span> <span class=\"n\">c</span><span class=\"p\">:</span> <span class=\"n\">c</span> <span class=\"o\">=</span> <span class=\"n\">getsource</span><span class=\"p\">(</span><span class=\"n\">show</span><span class=\"p\">)</span>\n",
       "    <span class=\"n\">fm</span> <span class=\"o\">=</span> <span class=\"n\">HtmlFormatter</span><span class=\"p\">(</span><span class=\"n\">style</span><span class=\"o\">=</span><span class=\"n\">style</span><span class=\"p\">,</span> <span class=\"n\">cssclass</span><span class=\"o\">=</span><span class=\"n\">style</span><span class=\"p\">)</span>\n",
       "    <span class=\"n\">h</span> <span class=\"o\">=</span> <span class=\"n\">highlight</span><span class=\"p\">(</span><span class=\"n\">c</span><span class=\"p\">,</span> <span class=\"n\">PythonLexer</span><span class=\"p\">(),</span> <span class=\"n\">fm</span><span class=\"p\">)</span>\n",
       "    <span class=\"n\">sd</span> <span class=\"o\">=</span> <span class=\"n\">fm</span><span class=\"o\">.</span><span class=\"n\">get_style_defs</span><span class=\"p\">(</span><span class=\"sa\">f</span><span class=\"s2\">&quot;.</span><span class=\"si\">{</span><span class=\"n\">style</span><span class=\"si\">}</span><span class=\"s2\">&quot;</span><span class=\"p\">)</span>\n",
       "    <span class=\"n\">styled_container</span> <span class=\"o\">=</span> <span class=\"n\">Div</span><span class=\"p\">(</span><span class=\"n\">Style</span><span class=\"p\">(</span><span class=\"n\">sd</span><span class=\"p\">),</span> <span class=\"n\">NotStr</span><span class=\"p\">(</span><span class=\"n\">h</span><span class=\"p\">),</span> <span class=\"nb\">id</span><span class=\"o\">=</span><span class=\"n\">style</span><span class=\"p\">)</span>\n",
       "    <span class=\"k\">return</span> <span class=\"n\">HTML</span><span class=\"p\">(</span><span class=\"n\">to_xml</span><span class=\"p\">(</span><span class=\"n\">styled_container</span><span class=\"p\">))</span>\n",
       "</pre></div>\n",
       "</div>\n"
      ],
      "text/plain": [
       "<IPython.core.display.HTML object>"
      ]
     },
     "execution_count": 245,
     "metadata": {},
     "output_type": "execute_result"
    }
   ],
   "source": [
    "show(style=\"gruvbox-dark\")"
   ]
  },
  {
   "cell_type": "code",
   "execution_count": 246,
   "id": "34fbd51c",
   "metadata": {
    "scrolled": false
   },
   "outputs": [
    {
     "data": {
      "text/html": [
       "<div id=\"solarized-dark\">\n",
       "  <style>pre { line-height: 125%; }\n",
       "td.linenos .normal { color: #586e75; background-color: #073642; padding-left: 5px; padding-right: 5px; }\n",
       "span.linenos { color: #586e75; background-color: #073642; padding-left: 5px; padding-right: 5px; }\n",
       "td.linenos .special { color: #000000; background-color: #ffffc0; padding-left: 5px; padding-right: 5px; }\n",
       "span.linenos.special { color: #000000; background-color: #ffffc0; padding-left: 5px; padding-right: 5px; }\n",
       ".solarized-dark .hll { background-color: #073642 }\n",
       ".solarized-dark { background: #002b36; color: #839496 }\n",
       ".solarized-dark .c { color: #586e75; font-style: italic } /* Comment */\n",
       ".solarized-dark .err { color: #839496; background-color: #dc322f } /* Error */\n",
       ".solarized-dark .esc { color: #839496 } /* Escape */\n",
       ".solarized-dark .g { color: #839496 } /* Generic */\n",
       ".solarized-dark .k { color: #859900 } /* Keyword */\n",
       ".solarized-dark .l { color: #839496 } /* Literal */\n",
       ".solarized-dark .n { color: #839496 } /* Name */\n",
       ".solarized-dark .o { color: #586e75 } /* Operator */\n",
       ".solarized-dark .x { color: #839496 } /* Other */\n",
       ".solarized-dark .p { color: #839496 } /* Punctuation */\n",
       ".solarized-dark .ch { color: #586e75; font-style: italic } /* Comment.Hashbang */\n",
       ".solarized-dark .cm { color: #586e75; font-style: italic } /* Comment.Multiline */\n",
       ".solarized-dark .cp { color: #d33682 } /* Comment.Preproc */\n",
       ".solarized-dark .cpf { color: #586e75 } /* Comment.PreprocFile */\n",
       ".solarized-dark .c1 { color: #586e75; font-style: italic } /* Comment.Single */\n",
       ".solarized-dark .cs { color: #586e75; font-style: italic } /* Comment.Special */\n",
       ".solarized-dark .gd { color: #dc322f } /* Generic.Deleted */\n",
       ".solarized-dark .ge { color: #839496; font-style: italic } /* Generic.Emph */\n",
       ".solarized-dark .ges { color: #839496; font-weight: bold; font-style: italic } /* Generic.EmphStrong */\n",
       ".solarized-dark .gr { color: #dc322f } /* Generic.Error */\n",
       ".solarized-dark .gh { color: #839496; font-weight: bold } /* Generic.Heading */\n",
       ".solarized-dark .gi { color: #859900 } /* Generic.Inserted */\n",
       ".solarized-dark .go { color: #839496 } /* Generic.Output */\n",
       ".solarized-dark .gp { color: #268bd2; font-weight: bold } /* Generic.Prompt */\n",
       ".solarized-dark .gs { color: #839496; font-weight: bold } /* Generic.Strong */\n",
       ".solarized-dark .gu { color: #839496; text-decoration: underline } /* Generic.Subheading */\n",
       ".solarized-dark .gt { color: #268bd2 } /* Generic.Traceback */\n",
       ".solarized-dark .kc { color: #2aa198 } /* Keyword.Constant */\n",
       ".solarized-dark .kd { color: #2aa198 } /* Keyword.Declaration */\n",
       ".solarized-dark .kn { color: #cb4b16 } /* Keyword.Namespace */\n",
       ".solarized-dark .kp { color: #859900 } /* Keyword.Pseudo */\n",
       ".solarized-dark .kr { color: #859900 } /* Keyword.Reserved */\n",
       ".solarized-dark .kt { color: #b58900 } /* Keyword.Type */\n",
       ".solarized-dark .ld { color: #839496 } /* Literal.Date */\n",
       ".solarized-dark .m { color: #2aa198 } /* Literal.Number */\n",
       ".solarized-dark .s { color: #2aa198 } /* Literal.String */\n",
       ".solarized-dark .na { color: #839496 } /* Name.Attribute */\n",
       ".solarized-dark .nb { color: #268bd2 } /* Name.Builtin */\n",
       ".solarized-dark .nc { color: #268bd2 } /* Name.Class */\n",
       ".solarized-dark .no { color: #268bd2 } /* Name.Constant */\n",
       ".solarized-dark .nd { color: #268bd2 } /* Name.Decorator */\n",
       ".solarized-dark .ni { color: #268bd2 } /* Name.Entity */\n",
       ".solarized-dark .ne { color: #268bd2 } /* Name.Exception */\n",
       ".solarized-dark .nf { color: #268bd2 } /* Name.Function */\n",
       ".solarized-dark .nl { color: #268bd2 } /* Name.Label */\n",
       ".solarized-dark .nn { color: #268bd2 } /* Name.Namespace */\n",
       ".solarized-dark .nx { color: #839496 } /* Name.Other */\n",
       ".solarized-dark .py { color: #839496 } /* Name.Property */\n",
       ".solarized-dark .nt { color: #268bd2 } /* Name.Tag */\n",
       ".solarized-dark .nv { color: #268bd2 } /* Name.Variable */\n",
       ".solarized-dark .ow { color: #859900 } /* Operator.Word */\n",
       ".solarized-dark .pm { color: #839496 } /* Punctuation.Marker */\n",
       ".solarized-dark .w { color: #839496 } /* Text.Whitespace */\n",
       ".solarized-dark .mb { color: #2aa198 } /* Literal.Number.Bin */\n",
       ".solarized-dark .mf { color: #2aa198 } /* Literal.Number.Float */\n",
       ".solarized-dark .mh { color: #2aa198 } /* Literal.Number.Hex */\n",
       ".solarized-dark .mi { color: #2aa198 } /* Literal.Number.Integer */\n",
       ".solarized-dark .mo { color: #2aa198 } /* Literal.Number.Oct */\n",
       ".solarized-dark .sa { color: #2aa198 } /* Literal.String.Affix */\n",
       ".solarized-dark .sb { color: #2aa198 } /* Literal.String.Backtick */\n",
       ".solarized-dark .sc { color: #2aa198 } /* Literal.String.Char */\n",
       ".solarized-dark .dl { color: #2aa198 } /* Literal.String.Delimiter */\n",
       ".solarized-dark .sd { color: #586e75 } /* Literal.String.Doc */\n",
       ".solarized-dark .s2 { color: #2aa198 } /* Literal.String.Double */\n",
       ".solarized-dark .se { color: #2aa198 } /* Literal.String.Escape */\n",
       ".solarized-dark .sh { color: #2aa198 } /* Literal.String.Heredoc */\n",
       ".solarized-dark .si { color: #2aa198 } /* Literal.String.Interpol */\n",
       ".solarized-dark .sx { color: #2aa198 } /* Literal.String.Other */\n",
       ".solarized-dark .sr { color: #cb4b16 } /* Literal.String.Regex */\n",
       ".solarized-dark .s1 { color: #2aa198 } /* Literal.String.Single */\n",
       ".solarized-dark .ss { color: #2aa198 } /* Literal.String.Symbol */\n",
       ".solarized-dark .bp { color: #268bd2 } /* Name.Builtin.Pseudo */\n",
       ".solarized-dark .fm { color: #268bd2 } /* Name.Function.Magic */\n",
       ".solarized-dark .vc { color: #268bd2 } /* Name.Variable.Class */\n",
       ".solarized-dark .vg { color: #268bd2 } /* Name.Variable.Global */\n",
       ".solarized-dark .vi { color: #268bd2 } /* Name.Variable.Instance */\n",
       ".solarized-dark .vm { color: #268bd2 } /* Name.Variable.Magic */\n",
       ".solarized-dark .il { color: #2aa198 } /* Literal.Number.Integer.Long */</style>\n",
       "<div class=\"solarized-dark\"><pre><span></span><span class=\"k\">def</span> <span class=\"nf\">show</span><span class=\"p\">(</span><span class=\"n\">c</span><span class=\"o\">=</span><span class=\"kc\">None</span><span class=\"p\">,</span> <span class=\"n\">style</span><span class=\"o\">=</span><span class=\"s1\">&#39;monokai&#39;</span><span class=\"p\">):</span> \n",
       "    <span class=\"k\">if</span> <span class=\"ow\">not</span> <span class=\"n\">c</span><span class=\"p\">:</span> <span class=\"n\">c</span> <span class=\"o\">=</span> <span class=\"n\">getsource</span><span class=\"p\">(</span><span class=\"n\">show</span><span class=\"p\">)</span>\n",
       "    <span class=\"n\">fm</span> <span class=\"o\">=</span> <span class=\"n\">HtmlFormatter</span><span class=\"p\">(</span><span class=\"n\">style</span><span class=\"o\">=</span><span class=\"n\">style</span><span class=\"p\">,</span> <span class=\"n\">cssclass</span><span class=\"o\">=</span><span class=\"n\">style</span><span class=\"p\">)</span>\n",
       "    <span class=\"n\">h</span> <span class=\"o\">=</span> <span class=\"n\">highlight</span><span class=\"p\">(</span><span class=\"n\">c</span><span class=\"p\">,</span> <span class=\"n\">PythonLexer</span><span class=\"p\">(),</span> <span class=\"n\">fm</span><span class=\"p\">)</span>\n",
       "    <span class=\"n\">sd</span> <span class=\"o\">=</span> <span class=\"n\">fm</span><span class=\"o\">.</span><span class=\"n\">get_style_defs</span><span class=\"p\">(</span><span class=\"sa\">f</span><span class=\"s2\">&quot;.</span><span class=\"si\">{</span><span class=\"n\">style</span><span class=\"si\">}</span><span class=\"s2\">&quot;</span><span class=\"p\">)</span>\n",
       "    <span class=\"n\">styled_container</span> <span class=\"o\">=</span> <span class=\"n\">Div</span><span class=\"p\">(</span><span class=\"n\">Style</span><span class=\"p\">(</span><span class=\"n\">sd</span><span class=\"p\">),</span> <span class=\"n\">NotStr</span><span class=\"p\">(</span><span class=\"n\">h</span><span class=\"p\">),</span> <span class=\"nb\">id</span><span class=\"o\">=</span><span class=\"n\">style</span><span class=\"p\">)</span>\n",
       "    <span class=\"k\">return</span> <span class=\"n\">HTML</span><span class=\"p\">(</span><span class=\"n\">to_xml</span><span class=\"p\">(</span><span class=\"n\">styled_container</span><span class=\"p\">))</span>\n",
       "</pre></div>\n",
       "</div>\n"
      ],
      "text/plain": [
       "<IPython.core.display.HTML object>"
      ]
     },
     "execution_count": 246,
     "metadata": {},
     "output_type": "execute_result"
    }
   ],
   "source": [
    "show(style=\"solarized-dark\")"
   ]
  },
  {
   "cell_type": "markdown",
   "id": "b29db6ec",
   "metadata": {},
   "source": [
    "Success! The cells above are syntax-highlighted without their CSS interfering with each other."
   ]
  },
  {
   "cell_type": "markdown",
   "id": "f90ef70f",
   "metadata": {},
   "source": [
    "## Summary"
   ]
  },
  {
   "cell_type": "markdown",
   "id": "b675b723",
   "metadata": {},
   "source": [
    "I've created a function for displaying Pygments syntax-highlighted code in Jupyter notebooks with properly-scoped CSS. To do this, I discovered I could:\n",
    "\n",
    "1. Use Pygments' `HtmlFormatter`'s `cssclass` parameter to change the name of the outer `highlight` div to the Pygments style name.\n",
    "2. Use `get_style_defs` to scope style definitions to that name, to prevent CSS conflicts\n",
    "3. Combine it into a tiny `show` function for use in future notebooks"
   ]
  },
  {
   "cell_type": "code",
   "execution_count": null,
   "id": "ac5b3dfb",
   "metadata": {},
   "outputs": [],
   "source": [
    "def show(c=None, style='monokai'): \n",
    "    if not c: c = getsource(show)\n",
    "    fm = HtmlFormatter(style=style, cssclass=style)\n",
    "    h = highlight(c, PythonLexer(), fm)\n",
    "    sd = fm.get_style_defs(f\".{style}\")\n",
    "    styled_container = Div(Style(sd), NotStr(h), id=style)\n",
    "    return HTML(to_xml(styled_container))"
   ]
  },
  {
   "cell_type": "markdown",
   "id": "0b22a949",
   "metadata": {},
   "source": [
    "You can use this to show code blocks in Jupyter notebooks, allowing different Pygments syntax highlighting themes in the same notebook. All without CSS leaking between Pygments styles."
   ]
  }
 ],
 "metadata": {
  "kernelspec": {
   "display_name": "Python 3 (ipykernel)",
   "language": "python",
   "name": "python3"
  },
  "language_info": {
   "codemirror_mode": {
    "name": "ipython",
    "version": 3
   },
   "file_extension": ".py",
   "mimetype": "text/x-python",
   "name": "python",
   "nbconvert_exporter": "python",
   "pygments_lexer": "ipython3",
   "version": "3.12.7"
  },
  "toc": {
   "base_numbering": 1,
   "nav_menu": {},
   "number_sections": true,
   "sideBar": true,
   "skip_h1_title": false,
   "title_cell": "Table of Contents",
   "title_sidebar": "Contents",
   "toc_cell": false,
   "toc_position": {},
   "toc_section_display": true,
   "toc_window_display": false
  }
 },
 "nbformat": 4,
 "nbformat_minor": 5
}
