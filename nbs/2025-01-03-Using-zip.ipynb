{
 "cells": [
  {
   "cell_type": "markdown",
   "id": "f6c7d4a8",
   "metadata": {},
   "source": [
    "# Using zip"
   ]
  },
  {
   "cell_type": "markdown",
   "id": "645ab685",
   "metadata": {},
   "source": [
    "The [zip docs](https://docs.python.org/3/library/functions.html#zip) say that `zip(*iterables, strict=False)`:\n",
    "\n",
    "> Iterate over several iterables in parallel, producing tuples with an item from each one."
   ]
  },
  {
   "cell_type": "markdown",
   "id": "a88d699f",
   "metadata": {},
   "source": [
    "## Showing the Lists"
   ]
  },
  {
   "cell_type": "markdown",
   "id": "41c90840",
   "metadata": {},
   "source": [
    "I use fastcore's `L` to show the lists."
   ]
  },
  {
   "cell_type": "code",
   "execution_count": 42,
   "id": "885455cc",
   "metadata": {},
   "outputs": [],
   "source": [
    "from fastcore.all import L"
   ]
  },
  {
   "cell_type": "markdown",
   "id": "722b78be",
   "metadata": {},
   "source": [
    "Otherwise the cell output is a `zip` object:"
   ]
  },
  {
   "cell_type": "code",
   "execution_count": 43,
   "id": "026528d5",
   "metadata": {},
   "outputs": [
    {
     "data": {
      "text/plain": [
       "<zip at 0x107ee1d00>"
      ]
     },
     "execution_count": 43,
     "metadata": {},
     "output_type": "execute_result"
    }
   ],
   "source": [
    "zip(range(2))"
   ]
  },
  {
   "cell_type": "markdown",
   "id": "26f6a105",
   "metadata": {},
   "source": [
    "## Create 2 Iterables"
   ]
  },
  {
   "cell_type": "code",
   "execution_count": 44,
   "id": "7e3d2477",
   "metadata": {},
   "outputs": [
    {
     "data": {
      "text/plain": [
       "(#5) [0,1,2,3,4]"
      ]
     },
     "execution_count": 44,
     "metadata": {},
     "output_type": "execute_result"
    }
   ],
   "source": [
    "l1 = L(range(5))\n",
    "l1"
   ]
  },
  {
   "cell_type": "code",
   "execution_count": 45,
   "id": "be2aea82",
   "metadata": {},
   "outputs": [
    {
     "data": {
      "text/plain": [
       "(#5) [6,7,8,9,10]"
      ]
     },
     "execution_count": 45,
     "metadata": {},
     "output_type": "execute_result"
    }
   ],
   "source": [
    "l2 = L(range(6,11))\n",
    "l2"
   ]
  },
  {
   "cell_type": "markdown",
   "id": "56d23644",
   "metadata": {},
   "source": [
    "## Zip the 2 Iterables Together"
   ]
  },
  {
   "cell_type": "markdown",
   "id": "f8379ca1",
   "metadata": {},
   "source": [
    "The most common scenario is zipping 2 same-length iterables together:"
   ]
  },
  {
   "cell_type": "code",
   "execution_count": 46,
   "id": "ca2c042d",
   "metadata": {},
   "outputs": [
    {
     "data": {
      "text/plain": [
       "(#5) [(0, 6),(1, 7),(2, 8),(3, 9),(4, 10)]"
      ]
     },
     "execution_count": 46,
     "metadata": {},
     "output_type": "execute_result"
    }
   ],
   "source": [
    "L(zip(l1,l2))"
   ]
  },
  {
   "cell_type": "markdown",
   "id": "4ee1cff5",
   "metadata": {},
   "source": [
    "## Zip a Long and Short Iterable Together"
   ]
  },
  {
   "cell_type": "markdown",
   "id": "35a18888",
   "metadata": {},
   "source": [
    "It stops when the shortest iterable is exhausted:"
   ]
  },
  {
   "cell_type": "code",
   "execution_count": 47,
   "id": "bc1e1770",
   "metadata": {},
   "outputs": [
    {
     "data": {
      "text/plain": [
       "(#2) [(0, 9),(1, 10)]"
      ]
     },
     "execution_count": 47,
     "metadata": {},
     "output_type": "execute_result"
    }
   ],
   "source": [
    "L(zip(l1,l2[3:]))"
   ]
  },
  {
   "cell_type": "markdown",
   "id": "a4ac5ace",
   "metadata": {},
   "source": [
    "## Zip 1 Iterable"
   ]
  },
  {
   "cell_type": "markdown",
   "id": "6f7bef4b",
   "metadata": {},
   "source": [
    "With 1 iterable, you get an iterator of tuples:"
   ]
  },
  {
   "cell_type": "code",
   "execution_count": 48,
   "id": "778f168b",
   "metadata": {},
   "outputs": [
    {
     "data": {
      "text/plain": [
       "(#5) [(0,),(1,),(2,),(3,),(4,)]"
      ]
     },
     "execution_count": 48,
     "metadata": {},
     "output_type": "execute_result"
    }
   ],
   "source": [
    "L(zip(l1))"
   ]
  },
  {
   "cell_type": "markdown",
   "id": "210118f4",
   "metadata": {},
   "source": [
    "## Zip Nothing"
   ]
  },
  {
   "cell_type": "markdown",
   "id": "b06bcce6",
   "metadata": {},
   "source": [
    "With no args, you get an empty iterator:"
   ]
  },
  {
   "cell_type": "code",
   "execution_count": 49,
   "id": "b6f2c880",
   "metadata": {},
   "outputs": [
    {
     "data": {
      "text/plain": [
       "(#0) []"
      ]
     },
     "execution_count": 49,
     "metadata": {},
     "output_type": "execute_result"
    }
   ],
   "source": [
    "L(zip())"
   ]
  },
  {
   "cell_type": "markdown",
   "id": "165aa4ab",
   "metadata": {},
   "source": [
    "## Zip Dict Items"
   ]
  },
  {
   "cell_type": "markdown",
   "id": "40e60cc5",
   "metadata": {},
   "source": [
    "`items` gives you an iterator of tuples, each tuple being a k,v pair:"
   ]
  },
  {
   "cell_type": "code",
   "execution_count": 50,
   "id": "dc11cdd1",
   "metadata": {
    "scrolled": true
   },
   "outputs": [
    {
     "data": {
      "text/plain": [
       "(#3) [(1, 'one'),(2, 'two'),(3, 'three')]"
      ]
     },
     "execution_count": 50,
     "metadata": {},
     "output_type": "execute_result"
    }
   ],
   "source": [
    "d = {1: \"one\", 2: \"two\", 3: \"three\"}\n",
    "L(d.items())"
   ]
  },
  {
   "cell_type": "markdown",
   "id": "021f199d",
   "metadata": {},
   "source": [
    "Destructuring and zipping that transposes the tuples:"
   ]
  },
  {
   "cell_type": "code",
   "execution_count": 51,
   "id": "674eebb8",
   "metadata": {},
   "outputs": [
    {
     "data": {
      "text/plain": [
       "(#2) [(1, 2, 3),('one', 'two', 'three')]"
      ]
     },
     "execution_count": 51,
     "metadata": {},
     "output_type": "execute_result"
    }
   ],
   "source": [
    "L(zip(*d.items()))"
   ]
  },
  {
   "cell_type": "markdown",
   "id": "d7da11eb",
   "metadata": {},
   "source": [
    "## Application: Zip a Dict Tree"
   ]
  },
  {
   "cell_type": "markdown",
   "id": "e216a353",
   "metadata": {},
   "source": [
    "This tree is from [Jeremy Howard's bfs tweet](https://x.com/jeremyphoward/status/1873810934608912550):"
   ]
  },
  {
   "cell_type": "code",
   "execution_count": 52,
   "id": "58826f79",
   "metadata": {
    "scrolled": true
   },
   "outputs": [
    {
     "data": {
      "text/plain": [
       "(#1) [1]"
      ]
     },
     "execution_count": 52,
     "metadata": {},
     "output_type": "execute_result"
    }
   ],
   "source": [
    "tree = {1: {2: {4: {}}, 3: {5: {}, 6: {}}}}\n",
    "L(tree)"
   ]
  },
  {
   "cell_type": "markdown",
   "id": "0d1a9e6d",
   "metadata": {},
   "source": [
    "It represents this:"
   ]
  },
  {
   "cell_type": "markdown",
   "id": "865a0045",
   "metadata": {},
   "source": [
    "```\n",
    "1\n",
    "├── 2\n",
    "│   └── 4\n",
    "└── 3\n",
    "    ├── 5\n",
    "    └── 6\n",
    "```"
   ]
  },
  {
   "cell_type": "markdown",
   "id": "e1f2706f",
   "metadata": {},
   "source": [
    "Breadth-first search (BFS) would traverse the tree from shallow to deep, printing each number as: `1 2 3 4 5 6`"
   ]
  },
  {
   "cell_type": "markdown",
   "id": "95e0c5e7",
   "metadata": {},
   "source": [
    "Jeremy implemented BFS as:"
   ]
  },
  {
   "cell_type": "code",
   "execution_count": 53,
   "id": "ace42e0a",
   "metadata": {},
   "outputs": [],
   "source": [
    "def bfs(q):\n",
    "    while q:\n",
    "        k,v = zip(*q)\n",
    "        print(*k)\n",
    "        q = [x for o in v for x in o.items()]"
   ]
  },
  {
   "cell_type": "markdown",
   "id": "e4ca2265",
   "metadata": {},
   "source": [
    "To use it, he calls it with the tree's items:"
   ]
  },
  {
   "cell_type": "code",
   "execution_count": 54,
   "id": "dc2ece1b",
   "metadata": {
    "scrolled": true
   },
   "outputs": [
    {
     "name": "stdout",
     "output_type": "stream",
     "text": [
      "1\n",
      "2 3\n",
      "4 5 6\n"
     ]
    }
   ],
   "source": [
    "bfs(tree.items())"
   ]
  },
  {
   "cell_type": "markdown",
   "id": "0ff57da2",
   "metadata": {},
   "source": [
    "The tree's items are"
   ]
  },
  {
   "cell_type": "code",
   "execution_count": 55,
   "id": "68ed16cf",
   "metadata": {},
   "outputs": [
    {
     "data": {
      "text/plain": [
       "(#1) [(1, {2: {4: {}}, 3: {5: {}, 6: {}}})]"
      ]
     },
     "execution_count": 55,
     "metadata": {},
     "output_type": "execute_result"
    }
   ],
   "source": [
    "L(tree.items())"
   ]
  },
  {
   "cell_type": "code",
   "execution_count": 22,
   "id": "770f2141",
   "metadata": {},
   "outputs": [
    {
     "data": {
      "text/plain": [
       "(#2) [(1,),({2: {4: {}}, 3: {5: {}, 6: {}}},)]"
      ]
     },
     "execution_count": 22,
     "metadata": {},
     "output_type": "execute_result"
    }
   ],
   "source": [
    "L(zip(*tree.items()))"
   ]
  },
  {
   "cell_type": "markdown",
   "id": "04c47007",
   "metadata": {},
   "source": [
    "Current node:"
   ]
  },
  {
   "cell_type": "code",
   "execution_count": 23,
   "id": "8bf57539",
   "metadata": {},
   "outputs": [
    {
     "data": {
      "text/plain": [
       "(1,)"
      ]
     },
     "execution_count": 23,
     "metadata": {},
     "output_type": "execute_result"
    }
   ],
   "source": [
    "L(zip(*tree.items()))[0]"
   ]
  },
  {
   "cell_type": "markdown",
   "id": "72abe032",
   "metadata": {},
   "source": [
    "Child nodes:"
   ]
  },
  {
   "cell_type": "code",
   "execution_count": 24,
   "id": "73b99fba",
   "metadata": {
    "scrolled": true
   },
   "outputs": [
    {
     "data": {
      "text/plain": [
       "({2: {4: {}}, 3: {5: {}, 6: {}}},)"
      ]
     },
     "execution_count": 24,
     "metadata": {},
     "output_type": "execute_result"
    }
   ],
   "source": [
    "L(zip(*tree.items()))[1]"
   ]
  },
  {
   "cell_type": "markdown",
   "id": "02d8f99c",
   "metadata": {},
   "source": [
    "### Why zip in bfs()?"
   ]
  },
  {
   "cell_type": "markdown",
   "id": "065d8db6",
   "metadata": {},
   "source": [
    "The `zip` in `k,v = zip(*q)` serves to separate node values from their children at each level. Let's see how:\n",
    "\n",
    "1. First iteration:\n",
    "   ```python\n",
    "   q = [(1, {2: {4: {}}, 3: {5: {}, 6: {}}})]\n",
    "   k,v = zip(*q)  # k=(1,), v=({2: {4: {}}, 3: {5: {}, 6: {}}},)\n",
    "   ```\n",
    "\n",
    "2. Second iteration:\n",
    "   ```python\n",
    "   q = [(2, {4: {}}), (3, {5: {}, 6: {}})]\n",
    "   k,v = zip(*q)  # k=(2,3), v=({4: {}}, {5: {}, 6: {}})\n",
    "   ```\n",
    "\n",
    "3. Third iteration:\n",
    "   ```python\n",
    "   q = [(4, {}), (5, {}), (6, {})]\n",
    "   k,v = zip(*q)  # k=(4,5,6), v=({},{},{})\n",
    "   ```\n",
    "\n",
    "The `zip` cleanly separates values (`k`) to print from their children (`v`) needed for the next level of traversal."
   ]
  }
 ],
 "metadata": {
  "kernelspec": {
   "display_name": "Python 3 (ipykernel)",
   "language": "python",
   "name": "python3"
  },
  "language_info": {
   "codemirror_mode": {
    "name": "ipython",
    "version": 3
   },
   "file_extension": ".py",
   "mimetype": "text/x-python",
   "name": "python",
   "nbconvert_exporter": "python",
   "pygments_lexer": "ipython3",
   "version": "3.12.8"
  }
 },
 "nbformat": 4,
 "nbformat_minor": 5
}
