{
 "cells": [
  {
   "cell_type": "markdown",
   "id": "0",
   "metadata": {},
   "source": [
    "# FastHTML Piano, Part 2"
   ]
  },
  {
   "cell_type": "code",
   "execution_count": null,
   "id": "1",
   "metadata": {},
   "outputs": [],
   "source": [
    "from fastcore.all import *\n",
    "from fasthtml.common import *\n",
    "from fasthtml.jupyter import *\n",
    "from IPython.display import display, Javascript"
   ]
  },
  {
   "cell_type": "markdown",
   "id": "2",
   "metadata": {},
   "source": [
    "## Piano Keys"
   ]
  },
  {
   "cell_type": "markdown",
   "id": "3",
   "metadata": {},
   "source": [
    "In Part 1 we defined piano keys like this:"
   ]
  },
  {
   "cell_type": "code",
   "execution_count": null,
   "id": "4",
   "metadata": {},
   "outputs": [],
   "source": [
    "def Key(note, octave): return Div(\n",
    "    Div(note, Sub(octave, style='font-size:10px;pointer-events:none;'), style='position:absolute;bottom:0;text-align:center;width:100%;pointer-events:none;'),\n",
    "    onmouseover=\"event.target.style.backgroundColor = '#eef';\",\n",
    "    onmouseout=\"event.target.style.backgroundColor = '#fff';\",\n",
    "    style='cursor:pointer;font:16px \"Open Sans\",\"Lucida Grande\",\"Arial\",sans-serif;text-align:center;border:1px solid black;border-radius:5px;width:20px;height:80px;margin-right:3px;box-shadow:2px 2px darkgray;display:inline-block;position:relative;user-select:none;-moz-user-select:none;-webkit-user-select:none;-ms-user-select:none;')"
   ]
  },
  {
   "cell_type": "code",
   "execution_count": null,
   "id": "5",
   "metadata": {},
   "outputs": [],
   "source": [
    "show(Key('C','5'), Key('D','5'))"
   ]
  },
  {
   "cell_type": "markdown",
   "id": "6",
   "metadata": {},
   "source": [
    "We'll be adding frequencies to the keys."
   ]
  },
  {
   "cell_type": "markdown",
   "id": "7",
   "metadata": {},
   "source": [
    "## Frequencies of Notes"
   ]
  },
  {
   "cell_type": "markdown",
   "id": "8",
   "metadata": {},
   "source": [
    "Even though our piano has just the white keys, we need all the notes to calculate the frequencies:"
   ]
  },
  {
   "cell_type": "code",
   "execution_count": null,
   "id": "9",
   "metadata": {},
   "outputs": [],
   "source": [
    "notes_in_octave = L(['C', 'C#', 'D', 'D#', 'E', 'F', 'F#', 'G', 'G#', 'A', 'A#', 'B'])\n",
    "notes_in_octave"
   ]
  },
  {
   "cell_type": "markdown",
   "id": "10",
   "metadata": {},
   "source": [
    "There are 12 notes per octave. I define `npo` for later use:"
   ]
  },
  {
   "cell_type": "code",
   "execution_count": null,
   "id": "11",
   "metadata": {},
   "outputs": [],
   "source": [
    "npo = len(notes_in_octave)\n",
    "npo"
   ]
  },
  {
   "cell_type": "markdown",
   "id": "12",
   "metadata": {},
   "source": [
    "We use a4's frequency to calculate the other note frequencies:"
   ]
  },
  {
   "cell_type": "code",
   "execution_count": null,
   "id": "13",
   "metadata": {},
   "outputs": [],
   "source": [
    "a4_freq = 440.0"
   ]
  },
  {
   "cell_type": "code",
   "execution_count": null,
   "id": "14",
   "metadata": {},
   "outputs": [],
   "source": [
    "notes_in_octave.index('A')"
   ]
  },
  {
   "cell_type": "markdown",
   "id": "15",
   "metadata": {},
   "source": [
    "And a4's index:"
   ]
  },
  {
   "cell_type": "code",
   "execution_count": null,
   "id": "16",
   "metadata": {},
   "outputs": [],
   "source": [
    "a4i = notes_in_octave.index('A') + (4 * npo)\n",
    "a4i"
   ]
  },
  {
   "cell_type": "markdown",
   "id": "17",
   "metadata": {},
   "source": [
    "Instead of a hardcoded table in JS with all the note frequencies for all octaves, we define this Python function:"
   ]
  },
  {
   "cell_type": "code",
   "execution_count": null,
   "id": "18",
   "metadata": {},
   "outputs": [],
   "source": [
    "def freq(note, octave):\n",
    "    ni = notes_in_octave.index(note) + (octave * npo)\n",
    "    semitones_from_a4 = ni - a4i\n",
    "    freq = a4_freq * (2 ** (semitones_from_a4 / npo))\n",
    "    return round(freq, ndigits=1)\n",
    "freq('A', 4)"
   ]
  },
  {
   "cell_type": "code",
   "execution_count": null,
   "id": "19",
   "metadata": {},
   "outputs": [],
   "source": [
    "freq('C', 3)"
   ]
  },
  {
   "cell_type": "markdown",
   "id": "20",
   "metadata": {},
   "source": [
    "## Keys With Frequencies"
   ]
  },
  {
   "cell_type": "markdown",
   "id": "21",
   "metadata": {},
   "source": [
    "I like the idea of showing the frequencies on the piano keys."
   ]
  },
  {
   "cell_type": "code",
   "execution_count": null,
   "id": "22",
   "metadata": {},
   "outputs": [],
   "source": [
    "def Key(note, octave): \n",
    "    f = freq(note,octave)\n",
    "    return Div(\n",
    "        Div(Div(f, style=\"font-size:10px;transform:rotate(90deg);position:absolute;left:-6px;bottom:50px;\"), note, Sub(octave, style='font-size:10px;pointer-events:none;'), style='position:absolute;bottom:1px;text-align:center;width:100%;pointer-events:none;'),\n",
    "        onmouseover=\"event.target.style.backgroundColor = '#eef';\",\n",
    "        onmouseout=\"event.target.style.backgroundColor = '#fff';\",\n",
    "        style='cursor:pointer;font:10px \"Open Sans\",\"Lucida Grande\",\"Arial\",sans-serif;text-align:center;border:1px solid black;border-radius:5px;width:22px;height:80px;margin-right:3px;box-shadow:2px 2px darkgray;display:inline-block;position:relative;user-select:none;-moz-user-select:none;-webkit-user-select:none;-ms-user-select:none;')"
   ]
  },
  {
   "cell_type": "code",
   "execution_count": null,
   "id": "23",
   "metadata": {},
   "outputs": [],
   "source": [
    "show(Key('A', 4))"
   ]
  },
  {
   "cell_type": "markdown",
   "id": "24",
   "metadata": {},
   "source": [
    "## Octaves"
   ]
  },
  {
   "cell_type": "code",
   "execution_count": null,
   "id": "25",
   "metadata": {},
   "outputs": [],
   "source": [
    "def Octave(n):\n",
    "    return Div(*notes.map(partial(Key,octave=n)),\n",
    "        style='display:inline-block;padding:0 6px 0 0;')\n",
    "show(Octave(4))"
   ]
  },
  {
   "cell_type": "markdown",
   "id": "26",
   "metadata": {},
   "source": [
    "## Keyboard"
   ]
  },
  {
   "cell_type": "code",
   "execution_count": null,
   "id": "27",
   "metadata": {},
   "outputs": [],
   "source": [
    "def Keyboard(): return Div(*L(range(8)).map(Octave), style=\"width:auto;padding:0;margin:0;\")\n",
    "show(Keyboard())"
   ]
  },
  {
   "cell_type": "markdown",
   "id": "28",
   "metadata": {},
   "source": [
    "The MDN article had this:"
   ]
  },
  {
   "cell_type": "code",
   "execution_count": null,
   "id": "29",
   "metadata": {},
   "outputs": [],
   "source": [
    "show(Div(Keyboard(), style=\"overflow-x:scroll;overflow-y:hidden;width:100%;height:110px;white-space:nowrap;margin:10px;\"))"
   ]
  },
  {
   "cell_type": "markdown",
   "id": "30",
   "metadata": {},
   "source": [
    "But I think wrapping the keys without a horizontal scrollbar is nicer."
   ]
  },
  {
   "cell_type": "markdown",
   "id": "31",
   "metadata": {},
   "source": [
    "## Settings Bar"
   ]
  },
  {
   "cell_type": "markdown",
   "id": "32",
   "metadata": {},
   "source": [
    "For now, I convert the original to a FastTag here:"
   ]
  },
  {
   "cell_type": "code",
   "execution_count": null,
   "id": "33",
   "metadata": {},
   "outputs": [],
   "source": [
    "def SettingsBar():\n",
    "    return Div(\n",
    "        Div(\n",
    "            Span(\"Volume: \",style=\"vertical-align:middle;\"),\n",
    "            Input(type=\"range\",min=0,max=1.0,step=0.01,value=0.5,list=\"volumes\",name=\"volume\",style=\"vertical-align:middle;\"),\n",
    "            Datalist(\n",
    "                Option(value=0.0,label=\"Mute\"),\n",
    "                Option(value=1.0,label=\"100%\"),\n",
    "                id=\"volumes\",),\n",
    "            style=\"width:50%;position:absolute;left:0;display:table-cell;vertical-align:middle;\"),\n",
    "        Div(\n",
    "            Span(\"Waveform: \", style=\"vertical-align:middle;\"),\n",
    "            Select(\n",
    "                Option(\"Sine\", value=\"sine\"),\n",
    "                Option(\"Square\", value=\"square\"),\n",
    "                Option(\"Sawtooth\", value=\"sawtooth\"),\n",
    "                Option(\"Triangle\", value=\"triangle\"),\n",
    "                Option(\"Custom\", value=\"custom\"),\n",
    "                name=\"waveform\",\n",
    "                style=\"vertical-align:middle;\"),\n",
    "            style=\"width:50%;position:absolute;right:0;display:table-cell;vertical-align:middle;\"),\n",
    "        style='padding-top:8px;font:14px \"Open Sans\",\"Lucida Grande\",\"Arial\",sans-serif;position:relative;vertical-align:middle;width:100%;height:80px;')"
   ]
  },
  {
   "cell_type": "code",
   "execution_count": null,
   "id": "34",
   "metadata": {},
   "outputs": [],
   "source": [
    "show(SettingsBar())"
   ]
  },
  {
   "cell_type": "markdown",
   "id": "35",
   "metadata": {},
   "source": [
    "## Creating Oscillators in JS"
   ]
  },
  {
   "cell_type": "code",
   "execution_count": null,
   "id": "36",
   "metadata": {},
   "outputs": [],
   "source": [
    "%%javascript\n",
    "window.audioContext = new AudioContext();\n",
    "window.gainNode = audioContext.createGain();\n",
    "window.gainNode.gain.value = 0.5;\n",
    "\n",
    "function playTone(freq) {\n",
    "    const osc = window.audioContext.createOscillator();\n",
    "    osc.type = 'sine';\n",
    "    osc.frequency.value = freq;\n",
    "    osc.connect(window.gainNode);\n",
    "    window.gainNode.connect(window.audioContext.destination);\n",
    "    osc.start();\n",
    "}\n",
    "playTone(400)"
   ]
  },
  {
   "cell_type": "markdown",
   "id": "37",
   "metadata": {},
   "source": [
    "## Creating Oscillators in Python"
   ]
  },
  {
   "cell_type": "markdown",
   "id": "38",
   "metadata": {},
   "source": [
    "The MDN example creates 1 oscillator per note. I'm just playing around here and may change this later: instead of doing it in JS, I define a Python function to generate the Web Audio API JS code to do this:"
   ]
  },
  {
   "cell_type": "code",
   "execution_count": null,
   "id": "39",
   "metadata": {},
   "outputs": [],
   "source": [
    "def mk_osc(freq): \n",
    "    return f\"\"\"if (!window.audioContext) {{\n",
    "      window.audioContext = new AudioContext();\n",
    "      window.gainNode = audioContext.createGain();\n",
    "      window.gainNode.gain.value = 0.5;\n",
    "    }}\n",
    "    const osc=window.audioContext.createOscillator();\n",
    "    osc.type='sine';\n",
    "    osc.frequency.value={freq};\n",
    "    osc.connect(window.gainNode);\n",
    "    window.gainNode.connect(window.audioContext.destination);\n",
    "    console.log('Starting freq {freq}');\n",
    "    osc.start()\"\"\""
   ]
  },
  {
   "cell_type": "code",
   "execution_count": null,
   "id": "40",
   "metadata": {},
   "outputs": [],
   "source": [
    "mk_osc(440.0)"
   ]
  },
  {
   "cell_type": "markdown",
   "id": "41",
   "metadata": {},
   "source": [
    "Running this cell plays the 440Hz tone:"
   ]
  },
  {
   "cell_type": "code",
   "execution_count": null,
   "id": "42",
   "metadata": {},
   "outputs": [],
   "source": [
    "display(Javascript(mk_osc(440.0)))"
   ]
  },
  {
   "cell_type": "code",
   "execution_count": null,
   "id": "43",
   "metadata": {},
   "outputs": [],
   "source": [
    "def mk_stoposc(freq): return f\"console.log('Stopping freq {freq}');osc.stop();\";"
   ]
  },
  {
   "cell_type": "code",
   "execution_count": null,
   "id": "44",
   "metadata": {},
   "outputs": [],
   "source": [
    "mk_stoposc(440.0)"
   ]
  },
  {
   "cell_type": "code",
   "execution_count": null,
   "id": "45",
   "metadata": {},
   "outputs": [],
   "source": [
    "display(Javascript(mk_stoposc(440.0)))"
   ]
  },
  {
   "cell_type": "markdown",
   "id": "46",
   "metadata": {},
   "source": [
    "This is tricker than I thought. mk_stoposc needs to get osc from window, I think. We probably want to create a list of oscillators for all note frequencies and waveforms, and attach it to window."
   ]
  },
  {
   "cell_type": "markdown",
   "id": "47",
   "metadata": {},
   "source": [
    "## Playing Frequencies"
   ]
  },
  {
   "cell_type": "code",
   "execution_count": null,
   "id": "48",
   "metadata": {},
   "outputs": [],
   "source": [
    "def Key(note, octave): \n",
    "    f = freq(note,octave)\n",
    "    return Div(\n",
    "        Div(Div(f, style=\"font-size:10px;transform:rotate(90deg);position:absolute;left:-6px;bottom:50px;\"), note, Sub(octave, style='font-size:10px;pointer-events:none;'), style='position:absolute;bottom:1px;text-align:center;width:100%;pointer-events:none;'),\n",
    "        onmouseover=\"event.target.style.backgroundColor = '#eef';\",\n",
    "        onmouseout=\"event.target.style.backgroundColor = '#fff';\",\n",
    "        onmousedown=mk_osc(f),\n",
    "        onmouseup=mk_stoposc(f),\n",
    "        style='cursor:pointer;font:10px \"Open Sans\",\"Lucida Grande\",\"Arial\",sans-serif;text-align:center;border:1px solid black;border-radius:5px;width:22px;height:80px;margin-right:3px;box-shadow:2px 2px darkgray;display:inline-block;position:relative;user-select:none;-moz-user-select:none;-webkit-user-select:none;-ms-user-select:none;')"
   ]
  },
  {
   "cell_type": "code",
   "execution_count": null,
   "id": "49",
   "metadata": {},
   "outputs": [],
   "source": [
    "show(Key('A', 4))"
   ]
  },
  {
   "cell_type": "markdown",
   "id": "50",
   "metadata": {},
   "source": [
    "The tone plays, but `mk_stoposc` doesn't actually work here. To be continued..."
   ]
  }
 ],
 "metadata": {
  "kernelspec": {
   "display_name": "Python 3 (ipykernel)",
   "language": "python",
   "name": "python3"
  },
  "language_info": {
   "codemirror_mode": {
    "name": "ipython",
    "version": 3
   },
   "file_extension": ".py",
   "mimetype": "text/x-python",
   "name": "python",
   "nbconvert_exporter": "python",
   "pygments_lexer": "ipython3",
   "version": "3.12.7"
  }
 },
 "nbformat": 4,
 "nbformat_minor": 5
}
