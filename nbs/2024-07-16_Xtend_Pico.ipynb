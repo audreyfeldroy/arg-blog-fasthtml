{
 "cells": [
  {
   "cell_type": "markdown",
   "metadata": {},
   "source": [
    "# Understanding FastHTML xtend\n",
    "\n",
    "Current FastHTML Pico Card: https://github.com/AnswerDotAI/fasthtml/blob/main/fasthtml/xtend.py#L76"
   ]
  },
  {
   "cell_type": "code",
   "execution_count": null,
   "metadata": {},
   "outputs": [],
   "source": [
    "from fasthtml.common import *"
   ]
  },
  {
   "cell_type": "code",
   "execution_count": null,
   "metadata": {},
   "outputs": [],
   "source": [
    "Card"
   ]
  },
  {
   "cell_type": "markdown",
   "metadata": {},
   "source": [
    "What interesting things can we find out about the Card function?"
   ]
  },
  {
   "cell_type": "code",
   "execution_count": null,
   "metadata": {},
   "outputs": [],
   "source": [
    "help(Card)"
   ]
  },
  {
   "cell_type": "code",
   "execution_count": null,
   "metadata": {},
   "outputs": [],
   "source": [
    "dir(Card)"
   ]
  },
  {
   "cell_type": "code",
   "execution_count": null,
   "metadata": {},
   "outputs": [],
   "source": [
    "import inspect\n",
    "\n",
    "print(inspect.getsource(Card))"
   ]
  },
  {
   "cell_type": "markdown",
   "metadata": {},
   "source": [
    "@delegates(xt_hx, keep=True) means it can accept and pass along any arguments that the xt_hx function accepts.\n",
    "\n",
    "It's defined in https://github.com/fastai/fastcore/blob/005ffd986df737cfc46c7cb1eadec5d214d08da7/fastcore/meta.py#L109\n",
    "\n",
    "Not sure what xt_hx is, probably a function that does something with the XML tree and HTMX attributes.\n",
    "\n",
    "I'll run 02_xtend.ipynb to try and learn more."
   ]
  },
  {
   "cell_type": "code",
   "execution_count": null,
   "metadata": {},
   "outputs": [],
   "source": [
    "from functools import partial\n",
    "from fasthtml.components import ft_hx\n",
    "my_a = partial(ft_hx, \"A\")\n",
    "my_a"
   ]
  },
  {
   "cell_type": "code",
   "execution_count": null,
   "metadata": {},
   "outputs": [],
   "source": [
    "my_a()"
   ]
  },
  {
   "cell_type": "code",
   "execution_count": null,
   "metadata": {},
   "outputs": [],
   "source": [
    "my_a('Hi')"
   ]
  },
  {
   "cell_type": "code",
   "execution_count": null,
   "metadata": {},
   "outputs": [],
   "source": [
    "my_a(\"Hi\", cls='linky')"
   ]
  },
  {
   "cell_type": "code",
   "execution_count": null,
   "metadata": {},
   "outputs": [],
   "source": [
    "my_b = partial(ft_hx, \"B\")\n",
    "my_b(\"Hello\")"
   ]
  },
  {
   "cell_type": "code",
   "execution_count": null,
   "metadata": {},
   "outputs": [],
   "source": [
    "C = partial(ft_hx, \"C\")\n",
    "C(\"Hee hee\")"
   ]
  },
  {
   "cell_type": "code",
   "execution_count": null,
   "metadata": {},
   "outputs": [],
   "source": [
    "Uma = partial(ft_hx, \"Uma\")\n",
    "Uma(\"Hi mommy\", cls='cute', mood='happy', id=\"UmaTheKid\")"
   ]
  },
  {
   "cell_type": "code",
   "execution_count": null,
   "metadata": {},
   "outputs": [],
   "source": [
    "Mommy = partial(ft_hx, \"Mommy\")\n",
    "Mommy(\"Hi Uma\", cls='mom', hx_trigger=\"mouseenter\", hx_get=\"/inbox\")"
   ]
  },
  {
   "cell_type": "code",
   "execution_count": null,
   "metadata": {},
   "outputs": [],
   "source": [
    "Daddy = partial(ft_hx, \"Daddy\")\n",
    "Daddy(\"Hi fam\", cls=\"dad\", hx_target=\"#UmaTheKid\")"
   ]
  },
  {
   "cell_type": "code",
   "execution_count": null,
   "metadata": {},
   "outputs": [],
   "source": [
    "from fastcore.meta import delegates"
   ]
  },
  {
   "cell_type": "code",
   "execution_count": null,
   "metadata": {},
   "outputs": [],
   "source": [
    "@delegates(ft_hx, keep=True)\n",
    "def Mom(*c, title, description, **kwargs) -> FT:\n",
    "    print(f\"Type of c: {type(c)}\")\n",
    "    if title: c = H1(title, 1) + list(c)\n",
    "    if description: c += P(description)\n",
    "    return Mommy(*c, **kwargs)"
   ]
  },
  {
   "cell_type": "code",
   "execution_count": null,
   "metadata": {},
   "outputs": [],
   "source": [
    "Mom(\"Hi Uma\", title=\"Mother\", description=\"Director of Motherhood\", cls=\"ma\", hx_trigger=\"mouseenter\", hx_get=\"/inbox\")"
   ]
  },
  {
   "cell_type": "code",
   "execution_count": null,
   "metadata": {},
   "outputs": [],
   "source": [
    "type(H1(\"Hi\"))"
   ]
  },
  {
   "cell_type": "code",
   "execution_count": null,
   "metadata": {},
   "outputs": [],
   "source": [
    "@delegates(ft_hx, keep=True)\n",
    "def Card(*c, header=None, footer=None, **kwargs) -> FT:\n",
    "    \"A PicoCSS Card, implemented as an Article with optional Header and Footer\"\n",
    "    if header:\n",
    "        c = (Header(header),) + c\n",
    "    if footer:\n",
    "        c += (Footer(footer),)\n",
    "    return Article(*c, **kwargs)"
   ]
  },
  {
   "cell_type": "code",
   "execution_count": null,
   "metadata": {},
   "outputs": [],
   "source": [
    "Card(\"Hi Uma\", header=\"Mother\", footer=\"Director of Motherhood\", cls=\"ma\", hx_trigger=\"mouseenter\", hx_get=\"/inbox\")"
   ]
  }
 ],
 "metadata": {
  "kernelspec": {
   "display_name": "python3",
   "language": "python",
   "name": "python3"
  }
 },
 "nbformat": 4,
 "nbformat_minor": 2
}
