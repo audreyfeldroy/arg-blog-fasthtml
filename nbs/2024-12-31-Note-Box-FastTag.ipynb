{
 "cells": [
  {
   "cell_type": "markdown",
   "id": "88b4072e",
   "metadata": {},
   "source": [
    "# Note Box FastTag"
   ]
  },
  {
   "cell_type": "markdown",
   "id": "2296ec7c",
   "metadata": {},
   "source": [
    "I needed a quick note box for the index page of this site, without affecting the CSS of my notebooks that explore weird CSS stuff deeply."
   ]
  },
  {
   "cell_type": "code",
   "execution_count": 2,
   "id": "409cc1d9",
   "metadata": {},
   "outputs": [],
   "source": [
    "from fasthtml.common import *"
   ]
  },
  {
   "cell_type": "markdown",
   "id": "9624c88a",
   "metadata": {},
   "source": [
    "So I whipped out this quick FastTag:"
   ]
  },
  {
   "cell_type": "code",
   "execution_count": 15,
   "id": "80304634",
   "metadata": {},
   "outputs": [],
   "source": [
    "def Note(c): return Div(H3(\"Note\"), *c, style=\"padding:10px;border:1px lightblue solid; border-left:6px lightblue solid;\")"
   ]
  },
  {
   "cell_type": "markdown",
   "id": "12e258f0",
   "metadata": {},
   "source": [
    "Then I realized I should write about it, because creating a little FastTag like this doesn't come naturally for most people. In fact it took me probably too long to get into the flow of writing these little functions."
   ]
  },
  {
   "cell_type": "markdown",
   "id": "eb613dbd",
   "metadata": {},
   "source": [
    "## Showing It in a Notebook"
   ]
  },
  {
   "cell_type": "markdown",
   "id": "e204eae0",
   "metadata": {},
   "source": [
    "You can show it in a notebook like this:"
   ]
  },
  {
   "cell_type": "code",
   "execution_count": 16,
   "id": "0d809a9d",
   "metadata": {},
   "outputs": [
    {
     "data": {
      "text/html": [
       "<div style=\"padding:10px;border:1px lightblue solid; border-left:6px lightblue solid;\">\n",
       "  <h3>Note</h3>\n",
       "Hey, I have something small to say in this box. And it&#x27;s tangential to the main intent of the page, so I&#x27;ve put it into a note box. Now back to whatever we were talking about.</div>\n"
      ],
      "text/plain": [
       "<IPython.core.display.HTML object>"
      ]
     },
     "metadata": {},
     "output_type": "display_data"
    }
   ],
   "source": [
    "show(Note(\n",
    "    P(\"Hey, I have something small to say in this box. And it's tangential to the main intent of the page, so I've put it into a note box. Now back to whatever we were talking about.\")))"
   ]
  },
  {
   "cell_type": "markdown",
   "id": "1ca4b04c",
   "metadata": {},
   "source": [
    "## `c` Can Be an Iterator"
   ]
  },
  {
   "cell_type": "markdown",
   "id": "c92540f3",
   "metadata": {},
   "source": [
    "For multiple paragraphs or other elements, just pass in a tuple or other iterator:"
   ]
  },
  {
   "cell_type": "code",
   "execution_count": 22,
   "id": "03e1e270",
   "metadata": {
    "scrolled": false
   },
   "outputs": [
    {
     "data": {
      "text/html": [
       "<div style=\"padding:10px;border:1px lightblue solid; border-left:6px lightblue solid;\">\n",
       "  <h3>Note</h3>\n",
       "  <p>Hey, I have something small to say in this box. It&#x27;s really, really small, I promise. But as I write in this box that allows me to put anything into it, it&#x27;s getting a tiny bit bigger. I suppose it&#x27;s growing quickly like a child as the years go by.</p>\n",
       "  <p>And it&#x27;s tangential to the main intent of the page, so I&#x27;ve put it into a note box. Now back to whatever we were talking about.</p>\n",
       "</div>\n"
      ],
      "text/plain": [
       "<IPython.core.display.HTML object>"
      ]
     },
     "metadata": {},
     "output_type": "display_data"
    }
   ],
   "source": [
    "show(Note((\n",
    "    P(\"Hey, I have something small to say in this box. It's really, really small, I promise. But as I write in this box that allows me to put anything into it, it's getting a tiny bit bigger. I suppose it's growing quickly like a child as the years go by.\"), \n",
    "    P(\"And it's tangential to the main intent of the page, so I've put it into a note box. Now back to whatever we were talking about.\"))))"
   ]
  },
  {
   "cell_type": "markdown",
   "id": "8c67b850",
   "metadata": {},
   "source": [
    "## Typography and Jupyter Notebook Classic"
   ]
  },
  {
   "cell_type": "markdown",
   "id": "c743543f",
   "metadata": {},
   "source": [
    "The note box doesn't show up pixel-perfectly in Jupyter Notebook classic (where I'm working right now) because the CSS styles for notebook typography are changing it:"
   ]
  },
  {
   "cell_type": "markdown",
   "id": "83ef3dbb",
   "metadata": {},
   "source": [
    "* I see that nbclassic uses Bootstrap 3's scaffolding.less and normalize.less to change font properties on the `body` and `html` elements. Some are overridden in `div#notebook` in notebook.less.\n",
    "* In my FastHTML site the user agent stylesheet is also changing the styles, so perhaps it's more pixel-perfect in nbclassic than on the site. Hmm.\n",
    "* Looks like [Bootstrap 5.3's reboot](https://getbootstrap.com/docs/5.3/content/reboot/#approach) no longer uses scaffolding.less and now builds upon Normalize.\n",
    "\n",
    "This is quite a rabbit hole so I think I'm going to be okay with my note box looking a little off, and end this exploration for now."
   ]
  },
  {
   "cell_type": "markdown",
   "id": "60060ed8",
   "metadata": {},
   "source": [
    "## Reflection"
   ]
  },
  {
   "cell_type": "markdown",
   "id": "801610d2",
   "metadata": {},
   "source": [
    "If you need a quick note box or other component and are experimenting in weird ways with CSS so you can't bring in a UI framework easily, making quick little FastTags like this is a \"good enough\" solution. "
   ]
  }
 ],
 "metadata": {
  "kernelspec": {
   "display_name": "Python 3 (ipykernel)",
   "language": "python",
   "name": "python3"
  },
  "language_info": {
   "codemirror_mode": {
    "name": "ipython",
    "version": 3
   },
   "file_extension": ".py",
   "mimetype": "text/x-python",
   "name": "python",
   "nbconvert_exporter": "python",
   "pygments_lexer": "ipython3",
   "version": "3.12.7"
  }
 },
 "nbformat": 4,
 "nbformat_minor": 5
}
