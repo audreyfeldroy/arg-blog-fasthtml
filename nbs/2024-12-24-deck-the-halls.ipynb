{
 "cells": [
  {
   "cell_type": "markdown",
   "id": "6c0b43cc",
   "metadata": {},
   "source": [
    "# Deck the Halls"
   ]
  },
  {
   "cell_type": "code",
   "execution_count": 3,
   "id": "2c5c8d57",
   "metadata": {},
   "outputs": [],
   "source": [
    "from fastcore.all import *"
   ]
  },
  {
   "cell_type": "code",
   "execution_count": 2,
   "id": "a31573bc",
   "metadata": {},
   "outputs": [
    {
     "data": {
      "text/plain": [
       "'Deck the halls with boughs of holly'"
      ]
     },
     "execution_count": 2,
     "metadata": {},
     "output_type": "execute_result"
    }
   ],
   "source": [
    "x = \"Deck the halls with boughs of holly\"\n",
    "x"
   ]
  },
  {
   "cell_type": "code",
   "execution_count": 12,
   "id": "f66cd4ca",
   "metadata": {},
   "outputs": [
    {
     "data": {
      "text/plain": [
       "(#8) ['la','la','la','la','la','la','la','la']"
      ]
     },
     "execution_count": 12,
     "metadata": {},
     "output_type": "execute_result"
    }
   ],
   "source": [
    "L(\"la\")*8"
   ]
  },
  {
   "cell_type": "code",
   "execution_count": 20,
   "id": "5679e31d",
   "metadata": {},
   "outputs": [],
   "source": [
    "def sing(): return L(\"Fa\", *L(\"la\")*8)"
   ]
  },
  {
   "cell_type": "code",
   "execution_count": 21,
   "id": "f7a31a21",
   "metadata": {},
   "outputs": [
    {
     "data": {
      "text/plain": [
       "(#9) ['Fa','la','la','la','la','la','la','la','la']"
      ]
     },
     "execution_count": 21,
     "metadata": {},
     "output_type": "execute_result"
    }
   ],
   "source": [
    "sing()"
   ]
  },
  {
   "cell_type": "code",
   "execution_count": 22,
   "id": "8814096d",
   "metadata": {},
   "outputs": [
    {
     "name": "stdout",
     "output_type": "stream",
     "text": [
      "Tis the season to be jolly\n"
     ]
    }
   ],
   "source": [
    "print(\"Tis the season to be jolly\")"
   ]
  },
  {
   "cell_type": "code",
   "execution_count": 24,
   "id": "80737234",
   "metadata": {},
   "outputs": [
    {
     "data": {
      "text/plain": [
       "'Fa la la la la la la la la'"
      ]
     },
     "execution_count": 24,
     "metadata": {},
     "output_type": "execute_result"
    }
   ],
   "source": [
    "\" \".join(sing())"
   ]
  },
  {
   "cell_type": "code",
   "execution_count": 28,
   "id": "5ba2904c",
   "metadata": {},
   "outputs": [
    {
     "data": {
      "text/plain": [
       "\"'Don we now our gay apparel'\""
      ]
     },
     "execution_count": 28,
     "metadata": {},
     "output_type": "execute_result"
    }
   ],
   "source": [
    "repr(\"Don we now our gay apparel\")"
   ]
  },
  {
   "cell_type": "code",
   "execution_count": 29,
   "id": "d94365b6",
   "metadata": {},
   "outputs": [
    {
     "data": {
      "text/plain": [
       "(#9) ['Fa','la','la','la','la','la','la','la','la']"
      ]
     },
     "execution_count": 29,
     "metadata": {},
     "output_type": "execute_result"
    }
   ],
   "source": [
    "s = sing()\n",
    "s"
   ]
  },
  {
   "cell_type": "code",
   "execution_count": 31,
   "id": "159e7dc1",
   "metadata": {},
   "outputs": [
    {
     "data": {
      "text/plain": [
       "'Falala'"
      ]
     },
     "execution_count": 31,
     "metadata": {},
     "output_type": "execute_result"
    }
   ],
   "source": [
    "\"\".join(s[0:3])"
   ]
  },
  {
   "cell_type": "code",
   "execution_count": 32,
   "id": "1c60d90d",
   "metadata": {},
   "outputs": [
    {
     "name": "stdout",
     "output_type": "stream",
     "text": [
      "Falala\n",
      "lalala\n",
      "lalala\n"
     ]
    }
   ],
   "source": [
    "for i in range(0,3): print(\"\".join(s[i:i+3]))"
   ]
  },
  {
   "cell_type": "code",
   "execution_count": 33,
   "id": "9e2e2d82",
   "metadata": {},
   "outputs": [
    {
     "data": {
      "text/plain": [
       "'Troll the ancient yuletide carol'"
      ]
     },
     "execution_count": 33,
     "metadata": {},
     "output_type": "execute_result"
    }
   ],
   "source": [
    "\"Troll the ancient yuletide carol\""
   ]
  },
  {
   "cell_type": "code",
   "execution_count": 63,
   "id": "1dcfca68",
   "metadata": {},
   "outputs": [
    {
     "data": {
      "text/plain": [
       "(#5) [('Fa', 'la'),('la', 'la'),('la', 'la'),('la', 'la'),'la']"
      ]
     },
     "execution_count": 63,
     "metadata": {},
     "output_type": "execute_result"
    }
   ],
   "source": [
    "L(zip(s[0:5], s[1:5])) + 'la'"
   ]
  }
 ],
 "metadata": {
  "kernelspec": {
   "display_name": "Python 3 (ipykernel)",
   "language": "python",
   "name": "python3"
  },
  "language_info": {
   "codemirror_mode": {
    "name": "ipython",
    "version": 3
   },
   "file_extension": ".py",
   "mimetype": "text/x-python",
   "name": "python",
   "nbconvert_exporter": "python",
   "pygments_lexer": "ipython3",
   "version": "3.12.7"
  },
  "toc": {
   "base_numbering": 1,
   "nav_menu": {},
   "number_sections": true,
   "sideBar": true,
   "skip_h1_title": false,
   "title_cell": "Table of Contents",
   "title_sidebar": "Contents",
   "toc_cell": false,
   "toc_position": {},
   "toc_section_display": true,
   "toc_window_display": false
  }
 },
 "nbformat": 4,
 "nbformat_minor": 5
}
