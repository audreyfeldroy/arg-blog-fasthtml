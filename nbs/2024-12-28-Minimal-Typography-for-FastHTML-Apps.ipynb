{
 "cells": [
  {
   "cell_type": "markdown",
   "id": "882fefcb",
   "metadata": {},
   "source": [
    "# Minimal Typography for FastHTML Apps"
   ]
  },
  {
   "cell_type": "markdown",
   "id": "c253d3f0",
   "metadata": {},
   "source": [
    "When using `pico=False` and no CSS framework, a FastHTML page doesn't look great. Can we use minimal typography to make it look decent, without dependencies?"
   ]
  },
  {
   "cell_type": "markdown",
   "id": "bb35d02c",
   "metadata": {},
   "source": [
    "## Setup"
   ]
  },
  {
   "cell_type": "code",
   "execution_count": 79,
   "id": "a695993f",
   "metadata": {},
   "outputs": [],
   "source": [
    "from fasthtml.common import *\n",
    "from fasthtml.jupyter import *"
   ]
  },
  {
   "cell_type": "markdown",
   "id": "dea52e1a",
   "metadata": {},
   "source": [
    "## Styling the Bare Minimum"
   ]
  },
  {
   "cell_type": "markdown",
   "id": "b4aee6f0",
   "metadata": {},
   "source": [
    "I style `:root` because it's the highest-level CSS selector. The bare minimum to make a page look decent is `font-family`:"
   ]
  },
  {
   "cell_type": "code",
   "execution_count": 80,
   "id": "1fbb6e1a",
   "metadata": {},
   "outputs": [
    {
     "data": {
      "text/markdown": [
       "```html\n",
       "<style>:root {font-family: system-ui, -apple-system, \"Segoe UI\", Roboto, \"Helvetica Neue\", sans-serif;} p {line-height: 1.5;}</style>\n",
       "\n",
       "```"
      ],
      "text/plain": [
       "style((':root {font-family: system-ui, -apple-system, \"Segoe UI\", Roboto, \"Helvetica Neue\", sans-serif;} p {line-height: 1.5;}',),{})"
      ]
     },
     "execution_count": 80,
     "metadata": {},
     "output_type": "execute_result"
    }
   ],
   "source": [
    "css = ':root {font-family: system-ui, -apple-system, \"Segoe UI\", Roboto, \"Helvetica Neue\", sans-serif;} p {line-height: 1.5;}'\n",
    "s = Style(css)\n",
    "s"
   ]
  },
  {
   "cell_type": "code",
   "execution_count": 81,
   "id": "cb2a9c53",
   "metadata": {},
   "outputs": [
    {
     "data": {
      "text/html": [
       "<div>\n",
       "  <style>:root {font-family: system-ui, -apple-system, \"Segoe UI\", Roboto, \"Helvetica Neue\", sans-serif;} p {line-height: 1.5;}</style>\n",
       "  <h1>Typography Experiment</h1>\n",
       "  <p>Here&#x27;s a paragraph of text for testing. Here&#x27;s a paragraph of text for testing. Here&#x27;s a paragraph of text for testing. Here&#x27;s a paragraph of text for testing. Here&#x27;s a paragraph of text for testing. Here&#x27;s a paragraph of text for testing. Here&#x27;s a paragraph of text for testing. Here&#x27;s a paragraph of text for testing. Here&#x27;s a paragraph of text for testing. Here&#x27;s a paragraph of text for testing. Here&#x27;s a paragraph of text for testing. Here&#x27;s a paragraph of text for testing. Here&#x27;s a paragraph of text for testing. Here&#x27;s a paragraph of text for testing. Here&#x27;s a paragraph of text for testing. Here&#x27;s a paragraph of text for testing. Here&#x27;s a paragraph of text for testing. Here&#x27;s a paragraph of text for testing. Here&#x27;s a paragraph of text for testing. Here&#x27;s a paragraph of text for testing. </p>\n",
       "</div>\n",
       "<script>if (window.htmx) htmx.process(document.body)</script>"
      ],
      "text/plain": [
       "<IPython.core.display.HTML object>"
      ]
     },
     "metadata": {},
     "output_type": "display_data"
    }
   ],
   "source": [
    "d = Div(s, H1(\"Typography Experiment\"), P(\"Here's a paragraph of text for testing. \"*20))\n",
    "show(d)"
   ]
  },
  {
   "cell_type": "markdown",
   "id": "19b19423",
   "metadata": {},
   "source": [
    "## Constraining Width"
   ]
  },
  {
   "cell_type": "markdown",
   "id": "49227fd4",
   "metadata": {},
   "source": [
    "The only thing remaining to make the text look good is to constrain the width. Best to do that in a container div."
   ]
  },
  {
   "cell_type": "code",
   "execution_count": 82,
   "id": "a4e361c7",
   "metadata": {},
   "outputs": [
    {
     "data": {
      "text/html": [
       "<div id=\"container\">\n",
       "  <style>:root {font-family: system-ui, -apple-system, \"Segoe UI\", Roboto, \"Helvetica Neue\", sans-serif;} p {line-height: 1.5;} #container {width: 800px; margin: 0 auto;}</style>\n",
       "  <h1>Typography Experiment</h1>\n",
       "  <p>Here&#x27;s a paragraph of text for testing. Here&#x27;s a paragraph of text for testing. Here&#x27;s a paragraph of text for testing. Here&#x27;s a paragraph of text for testing. Here&#x27;s a paragraph of text for testing. Here&#x27;s a paragraph of text for testing. Here&#x27;s a paragraph of text for testing. Here&#x27;s a paragraph of text for testing. Here&#x27;s a paragraph of text for testing. Here&#x27;s a paragraph of text for testing. Here&#x27;s a paragraph of text for testing. Here&#x27;s a paragraph of text for testing. Here&#x27;s a paragraph of text for testing. Here&#x27;s a paragraph of text for testing. Here&#x27;s a paragraph of text for testing. Here&#x27;s a paragraph of text for testing. Here&#x27;s a paragraph of text for testing. Here&#x27;s a paragraph of text for testing. Here&#x27;s a paragraph of text for testing. Here&#x27;s a paragraph of text for testing. </p>\n",
       "</div>\n",
       "<script>if (window.htmx) htmx.process(document.body)</script>"
      ],
      "text/plain": [
       "<IPython.core.display.HTML object>"
      ]
     },
     "metadata": {},
     "output_type": "display_data"
    }
   ],
   "source": [
    "css = ':root {font-family: system-ui, -apple-system, \"Segoe UI\", Roboto, \"Helvetica Neue\", sans-serif;} p {line-height: 1.5;} #container {width: 800px; margin: 0 auto;}'\n",
    "s = Style(css)\n",
    "d = Div(s, H1(\"Typography Experiment\"), P(\"Here's a paragraph of text for testing. \"*20), id=\"container\")\n",
    "show(d)"
   ]
  },
  {
   "cell_type": "markdown",
   "id": "4e352b6f",
   "metadata": {},
   "source": [
    "## FastHTML App"
   ]
  },
  {
   "cell_type": "markdown",
   "id": "a07fd8bb",
   "metadata": {},
   "source": [
    "Putting it into a page in a FastHTML app:"
   ]
  },
  {
   "cell_type": "code",
   "execution_count": 83,
   "id": "78ea710b",
   "metadata": {},
   "outputs": [],
   "source": [
    "app, rt = fast_app(pico=False)"
   ]
  },
  {
   "cell_type": "markdown",
   "id": "43543863",
   "metadata": {},
   "source": [
    "Here I run Uvicorn from this notebook. Replace this with `serve()` at the bottom if you are using this in a main.py:"
   ]
  },
  {
   "cell_type": "code",
   "execution_count": null,
   "id": "f229974c",
   "metadata": {},
   "outputs": [
    {
     "name": "stderr",
     "output_type": "stream",
     "text": [
      "ERROR:    [Errno 48] error while attempting to bind on address ('0.0.0.0', 8000): [errno 48] address already in use\n"
     ]
    }
   ],
   "source": [
    "server = JupyUvi(app)"
   ]
  },
  {
   "cell_type": "code",
   "execution_count": 67,
   "id": "20cf4fcd",
   "metadata": {},
   "outputs": [],
   "source": [
    "@rt\n",
    "def index():\n",
    "    return Div(\n",
    "        Style(css),\n",
    "        H1(\"Typography Experiment\"),\n",
    "        P(\"Here's a paragraph of some text. \"*20),\n",
    "        id=\"container\"\n",
    "    )"
   ]
  },
  {
   "cell_type": "markdown",
   "id": "5b3a2a64",
   "metadata": {},
   "source": [
    "## Stop Server"
   ]
  },
  {
   "cell_type": "markdown",
   "id": "da996bed",
   "metadata": {},
   "source": [
    "Run this cell to stop Uvicorn:"
   ]
  },
  {
   "cell_type": "code",
   "execution_count": null,
   "id": "a972d46d",
   "metadata": {},
   "outputs": [],
   "source": [
    "if 'server' in globals: server.stop()"
   ]
  }
 ],
 "metadata": {
  "kernelspec": {
   "display_name": "Python 3 (ipykernel)",
   "language": "python",
   "name": "python3"
  },
  "language_info": {
   "codemirror_mode": {
    "name": "ipython",
    "version": 3
   },
   "file_extension": ".py",
   "mimetype": "text/x-python",
   "name": "python",
   "nbconvert_exporter": "python",
   "pygments_lexer": "ipython3",
   "version": "3.12.7"
  }
 },
 "nbformat": 4,
 "nbformat_minor": 5
}
