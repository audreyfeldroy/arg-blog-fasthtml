{
 "cells": [
  {
   "cell_type": "markdown",
   "id": "83797d71",
   "metadata": {},
   "source": [
    "# Understanding FastHTML Headers"
   ]
  },
  {
   "cell_type": "markdown",
   "id": "3cd1f424",
   "metadata": {},
   "source": [
    "FastHTML provides default headers for every page, which are also fully customizable. This notebook explores how this works."
   ]
  },
  {
   "cell_type": "code",
   "execution_count": 71,
   "id": "6ae8e28d",
   "metadata": {},
   "outputs": [],
   "source": [
    "from fasthtml.common import *\n",
    "from fasthtml.jupyter import *\n",
    "from IPython.display import display,HTML"
   ]
  },
  {
   "cell_type": "markdown",
   "id": "6a7a834f",
   "metadata": {},
   "source": [
    "## Default Headers"
   ]
  },
  {
   "cell_type": "markdown",
   "id": "de4ba13b",
   "metadata": {},
   "source": [
    "In [00_core](https://github.com/AnswerDotAI/fasthtml/blob/main/nbs/api/00_core.ipynb) there is a `def_hdrs` function that returns the \"default headers for a FastHTML app\":"
   ]
  },
  {
   "cell_type": "code",
   "execution_count": 23,
   "id": "cdac7d4e",
   "metadata": {
    "scrolled": true
   },
   "outputs": [
    {
     "data": {
      "text/plain": [
       "[meta((),{'charset': 'utf-8'}),\n",
       " meta((),{'name': 'viewport', 'content': 'width=device-width, initial-scale=1, viewport-fit=cover'}),\n",
       " script((),{'src': 'https://unpkg.com/htmx.org@2.0.4/dist/htmx.min.js'}),\n",
       " script((),{'src': 'https://cdn.jsdelivr.net/gh/answerdotai/fasthtml-js@1.0.12/fasthtml.js'}),\n",
       " script((),{'src': 'https://cdn.jsdelivr.net/gh/answerdotai/surreal@main/surreal.js'}),\n",
       " script((),{'src': 'https://cdn.jsdelivr.net/gh/gnat/css-scope-inline@main/script.js'})]"
      ]
     },
     "execution_count": 23,
     "metadata": {},
     "output_type": "execute_result"
    }
   ],
   "source": [
    "def_hdrs()"
   ]
  },
  {
   "cell_type": "markdown",
   "id": "227e4e36",
   "metadata": {},
   "source": [
    "JS files for these libraries are included by default:\n",
    "\n",
    "* [HTMX](https://htmx.org/): For interactivity! Allows any HTML attribute to have actions, handlers, etc. providing dynamic behavior via DOM element AJAX swaps and modification\n",
    "* [fasthtml-js](https://github.com/answerdotai/fasthtml-js): JS for FastHTML apps\n",
    "* [Surreal](https://github.com/gnat/surreal): Inline Locality of Behavior (LoB) for JS + tiny jQuery alternative\n",
    "* [CSS Scope Inline](https://github.com/gnat/css-scope-inline/): Inline LoB for CSS"
   ]
  },
  {
   "cell_type": "markdown",
   "id": "a3d3915c",
   "metadata": {},
   "source": [
    "### How They're Defined"
   ]
  },
  {
   "cell_type": "markdown",
   "id": "9ab90fb3",
   "metadata": {},
   "source": [
    "In that same 00_core notebook each of the default script headers above is defined with `Script`, like:"
   ]
  },
  {
   "cell_type": "code",
   "execution_count": 79,
   "id": "76928e6d",
   "metadata": {},
   "outputs": [
    {
     "data": {
      "text/markdown": [
       "```html\n",
       "<script src=\"https://unpkg.com/htmx.org@2.0.4/dist/htmx.min.js\"></script>\n",
       "```"
      ],
      "text/plain": [
       "script(('',),{'src': 'https://unpkg.com/htmx.org@2.0.4/dist/htmx.min.js'})"
      ]
     },
     "execution_count": 79,
     "metadata": {},
     "output_type": "execute_result"
    }
   ],
   "source": [
    "htmxsrc   = Script(src=\"https://unpkg.com/htmx.org@2.0.4/dist/htmx.min.js\")\n",
    "htmxsrc"
   ]
  },
  {
   "cell_type": "markdown",
   "id": "a56e9863",
   "metadata": {},
   "source": [
    "The meta headers are defined with `Meta` like:"
   ]
  },
  {
   "cell_type": "code",
   "execution_count": 78,
   "id": "3d411913",
   "metadata": {},
   "outputs": [
    {
     "data": {
      "text/markdown": [
       "```html\n",
       "<meta name=\"viewport\" content=\"width=device-width, initial-scale=1, viewport-fit=cover\">\n",
       "\n",
       "```"
      ],
      "text/plain": [
       "meta((),{'name': 'viewport', 'content': 'width=device-width, initial-scale=1, viewport-fit=cover'})"
      ]
     },
     "execution_count": 78,
     "metadata": {},
     "output_type": "execute_result"
    }
   ],
   "source": [
    "viewport  = Meta(name=\"viewport\", content=\"width=device-width, initial-scale=1, viewport-fit=cover\")\n",
    "viewport"
   ]
  },
  {
   "cell_type": "markdown",
   "id": "a4c0b5a1",
   "metadata": {},
   "source": [
    "## In the FastHTML app instance"
   ]
  },
  {
   "cell_type": "markdown",
   "id": "e11288e2",
   "metadata": {},
   "source": [
    "Later in 00_core when `FastHTML` is defined, these are the relevant lines related to headers:\n",
    "    \n",
    "```python\n",
    "class FastHTML(Starlette):\n",
    "    def __init__(self, ..., hdrs=None)\n",
    "        ...\n",
    "        if default_hdrs: hdrs = def_hdrs(htmx, surreal=surreal) + hdrs\n",
    "        hdrs += [Script(src=ext) for ext in exts.values()]\n",
    "        if IN_NOTEBOOK:\n",
    "            hdrs.append(iframe_scr)\n",
    "            from IPython.display import display,HTML\n",
    "            if nb_hdrs: display(HTML(to_xml(tuple(hdrs))))\n",
    "            middleware.append(cors_allow)\n",
    "        self.on_startup,self.on_shutdown,self.lifespan,self.hdrs,self.ftrs = on_startup,on_shutdown,lifespan,hdrs,ftrs\n",
    "        ...\n",
    "```"
   ]
  },
  {
   "cell_type": "markdown",
   "id": "7b6f762c",
   "metadata": {},
   "source": [
    "## In the app from `fast_app`"
   ]
  },
  {
   "cell_type": "markdown",
   "id": "51ea3c2f",
   "metadata": {},
   "source": [
    "If you instantiate `FastHTML` via the [fast_app](https://github.com/AnswerDotAI/fasthtml/blob/main/fasthtml/fastapp.py#L29) convenience function, you can see those same default JS headers here, plus Pico and a `sendmsg` JS function:"
   ]
  },
  {
   "cell_type": "code",
   "execution_count": 24,
   "id": "46403f89",
   "metadata": {},
   "outputs": [],
   "source": [
    "app,rt = fast_app()"
   ]
  },
  {
   "cell_type": "code",
   "execution_count": 25,
   "id": "fe378d47",
   "metadata": {},
   "outputs": [
    {
     "data": {
      "text/plain": [
       "[meta((),{'charset': 'utf-8'}),\n",
       " meta((),{'name': 'viewport', 'content': 'width=device-width, initial-scale=1, viewport-fit=cover'}),\n",
       " script((),{'src': 'https://unpkg.com/htmx.org@2.0.4/dist/htmx.min.js'}),\n",
       " script((),{'src': 'https://cdn.jsdelivr.net/gh/answerdotai/fasthtml-js@1.0.12/fasthtml.js'}),\n",
       " script((),{'src': 'https://cdn.jsdelivr.net/gh/answerdotai/surreal@main/surreal.js'}),\n",
       " script((),{'src': 'https://cdn.jsdelivr.net/gh/gnat/css-scope-inline@main/script.js'}),\n",
       " (link((),{'rel': 'stylesheet', 'href': 'https://cdn.jsdelivr.net/npm/@picocss/pico@latest/css/pico.min.css'}),\n",
       "  style((':root { --pico-font-size: 100%; }',),{})),\n",
       " script((\"\\n    function sendmsg() {\\n        window.parent.postMessage({height: document.documentElement.offsetHeight}, '*');\\n    }\\n    window.onload = function() {\\n        sendmsg();\\n        document.body.addEventListener('htmx:afterSettle',    sendmsg);\\n        document.body.addEventListener('htmx:wsAfterMessage', sendmsg);\\n    };\",),{})]"
      ]
     },
     "execution_count": 25,
     "metadata": {},
     "output_type": "execute_result"
    }
   ],
   "source": [
    "app.hdrs"
   ]
  },
  {
   "cell_type": "markdown",
   "id": "280f6582",
   "metadata": {},
   "source": [
    "## In-Notebook Behavior"
   ]
  },
  {
   "cell_type": "markdown",
   "id": "9b71f696",
   "metadata": {},
   "source": [
    "One of the things I love about FastHTML is how it's designed to work in Jupyter notebooks, and built that way from its core. \n",
    "\n",
    "The more I use notebooks, the more I realize they're key to writing simple code that you understand thorougly inside and out. That is what makes code truly maintainable and long-lasting."
   ]
  },
  {
   "cell_type": "code",
   "execution_count": 26,
   "id": "7ce45dbf",
   "metadata": {},
   "outputs": [
    {
     "data": {
      "text/plain": [
       "True"
      ]
     },
     "execution_count": 26,
     "metadata": {},
     "output_type": "execute_result"
    }
   ],
   "source": [
    "IN_NOTEBOOK"
   ]
  },
  {
   "cell_type": "markdown",
   "id": "46abb663",
   "metadata": {},
   "source": [
    "This is defined earlier in 00_core and appended to the in-notebook headers. Here iframes' height is auto-resized to their content, allowing FastHTML pages to be better shown in-notebook:"
   ]
  },
  {
   "cell_type": "code",
   "execution_count": 27,
   "id": "c806ee69",
   "metadata": {
    "scrolled": true
   },
   "outputs": [
    {
     "data": {
      "text/markdown": [
       "```html\n",
       "<script>\n",
       "    function sendmsg() {\n",
       "        window.parent.postMessage({height: document.documentElement.offsetHeight}, '*');\n",
       "    }\n",
       "    window.onload = function() {\n",
       "        sendmsg();\n",
       "        document.body.addEventListener('htmx:afterSettle',    sendmsg);\n",
       "        document.body.addEventListener('htmx:wsAfterMessage', sendmsg);\n",
       "    };</script>\n",
       "```"
      ],
      "text/plain": [
       "script((\"\\n    function sendmsg() {\\n        window.parent.postMessage({height: document.documentElement.offsetHeight}, '*');\\n    }\\n    window.onload = function() {\\n        sendmsg();\\n        document.body.addEventListener('htmx:afterSettle',    sendmsg);\\n        document.body.addEventListener('htmx:wsAfterMessage', sendmsg);\\n    };\",),{})"
      ]
     },
     "execution_count": 27,
     "metadata": {},
     "output_type": "execute_result"
    }
   ],
   "source": [
    "iframe_scr"
   ]
  },
  {
   "cell_type": "markdown",
   "id": "e7d1271a",
   "metadata": {},
   "source": [
    "If you set `nb_hdrs=True`, the line `display(HTML(to_xml(tuple(app.hdrs))))` will add the headers to the notebook."
   ]
  },
  {
   "cell_type": "markdown",
   "id": "2e4a6664",
   "metadata": {},
   "source": [
    "## Customizing Headers: Adding a JS File"
   ]
  },
  {
   "cell_type": "markdown",
   "id": "90d8f637",
   "metadata": {},
   "source": [
    "Here we add a simple 1-file JS library, Tone.js:"
   ]
  },
  {
   "cell_type": "code",
   "execution_count": 45,
   "id": "25678ad6",
   "metadata": {},
   "outputs": [
    {
     "data": {
      "text/markdown": [
       "```html\n",
       "<script src=\"http://unpkg.com/tone\"></script>\n",
       "```"
      ],
      "text/plain": [
       "script(('',),{'src': 'http://unpkg.com/tone'})"
      ]
     },
     "execution_count": 45,
     "metadata": {},
     "output_type": "execute_result"
    }
   ],
   "source": [
    "Script(src=\"http://unpkg.com/tone\")"
   ]
  },
  {
   "cell_type": "markdown",
   "id": "84f4f85f",
   "metadata": {},
   "source": [
    "We see the Tone.js header was added after the default FastHTML headers:"
   ]
  },
  {
   "cell_type": "code",
   "execution_count": 51,
   "id": "75821ed2",
   "metadata": {},
   "outputs": [
    {
     "data": {
      "text/plain": [
       "[meta((),{'charset': 'utf-8'}),\n",
       " meta((),{'name': 'viewport', 'content': 'width=device-width, initial-scale=1, viewport-fit=cover'}),\n",
       " script((),{'src': 'https://unpkg.com/htmx.org@2.0.4/dist/htmx.min.js'}),\n",
       " script((),{'src': 'https://cdn.jsdelivr.net/gh/answerdotai/fasthtml-js@1.0.12/fasthtml.js'}),\n",
       " script((),{'src': 'https://cdn.jsdelivr.net/gh/answerdotai/surreal@main/surreal.js'}),\n",
       " script((),{'src': 'https://cdn.jsdelivr.net/gh/gnat/css-scope-inline@main/script.js'}),\n",
       " (link((),{'rel': 'stylesheet', 'href': 'https://cdn.jsdelivr.net/npm/@picocss/pico@latest/css/pico.min.css'}),\n",
       "  style((':root { --pico-font-size: 100%; }',),{})),\n",
       " script(('',),{'src': 'https://unpkg.com/tone'}),\n",
       " script((\"\\n    function sendmsg() {\\n        window.parent.postMessage({height: document.documentElement.offsetHeight}, '*');\\n    }\\n    window.onload = function() {\\n        sendmsg();\\n        document.body.addEventListener('htmx:afterSettle',    sendmsg);\\n        document.body.addEventListener('htmx:wsAfterMessage', sendmsg);\\n    };\",),{})]"
      ]
     },
     "execution_count": 51,
     "metadata": {},
     "output_type": "execute_result"
    }
   ],
   "source": [
    "app,rt = fast_app(hdrs=(Script(src=\"https://unpkg.com/tone\"),))\n",
    "app.hdrs"
   ]
  },
  {
   "cell_type": "markdown",
   "id": "08b6e7f2",
   "metadata": {},
   "source": [
    "This route handler has code from the Tone.js Hello World example:"
   ]
  },
  {
   "cell_type": "code",
   "execution_count": 59,
   "id": "633969e0",
   "metadata": {},
   "outputs": [],
   "source": [
    "@rt\n",
    "def index():\n",
    "    return Div(\n",
    "        Script('const synth = new Tone.Synth().toDestination();synth.triggerAttackRelease(\"C4\", \"8n\");'),\n",
    "        P(\"This page should include the Tone.js header and play a tone\")\n",
    "    )\n"
   ]
  },
  {
   "cell_type": "code",
   "execution_count": 55,
   "id": "21ede62c",
   "metadata": {},
   "outputs": [
    {
     "data": {
      "text/html": [
       "\n",
       "<script>\n",
       "document.body.addEventListener('htmx:configRequest', (event) => {\n",
       "    if(event.detail.path.includes('://')) return;\n",
       "    htmx.config.selfRequestsOnly=false;\n",
       "    event.detail.path = `${location.protocol}//${location.hostname}:8000${event.detail.path}`;\n",
       "});\n",
       "</script>"
      ],
      "text/plain": [
       "<IPython.core.display.HTML object>"
      ]
     },
     "metadata": {},
     "output_type": "display_data"
    }
   ],
   "source": [
    "server = JupyUvi(app)"
   ]
  },
  {
   "cell_type": "markdown",
   "id": "da81b1e0",
   "metadata": {},
   "source": [
    "Uncomment and run this to play a tone:"
   ]
  },
  {
   "cell_type": "code",
   "execution_count": 58,
   "id": "7ed97ef1",
   "metadata": {},
   "outputs": [
    {
     "data": {
      "text/html": [
       "<iframe src=\"http://localhost:8000\" style=\"width: 100%; height: auto; border: none;\" onload=\"{\n",
       "        let frame = this;\n",
       "        window.addEventListener('message', function(e) {\n",
       "            if (e.source !== frame.contentWindow) return; // Only proceed if the message is from this iframe\n",
       "            if (e.data.height) frame.style.height = (e.data.height+1) + 'px';\n",
       "        }, false);\n",
       "    }\" allow=\"accelerometer; autoplay; camera; clipboard-read; clipboard-write; display-capture; encrypted-media; fullscreen; gamepad; geolocation; gyroscope; hid; identity-credentials-get; idle-detection; magnetometer; microphone; midi; payment; picture-in-picture; publickey-credentials-get; screen-wake-lock; serial; usb; web-share; xr-spatial-tracking\"></iframe> "
      ],
      "text/plain": [
       "<IPython.core.display.HTML object>"
      ]
     },
     "execution_count": 58,
     "metadata": {},
     "output_type": "execute_result"
    }
   ],
   "source": [
    "# HTMX()"
   ]
  },
  {
   "cell_type": "markdown",
   "id": "19341018",
   "metadata": {},
   "source": [
    "That works because the Tone.js header file was added."
   ]
  },
  {
   "cell_type": "markdown",
   "id": "79ba12c0",
   "metadata": {},
   "source": [
    "## Customizing Headers: Adding MonsterUI"
   ]
  },
  {
   "cell_type": "markdown",
   "id": "26548480",
   "metadata": {},
   "source": [
    "MonsterUI has a great [tutorial app](https://monsterui.answer.ai/tutorial_app) showing how to customize FastHTML headers. It starts with adding the MonsterUI headers to `fast_app`."
   ]
  },
  {
   "cell_type": "code",
   "execution_count": 64,
   "id": "4636efde",
   "metadata": {},
   "outputs": [],
   "source": [
    "from monsterui.all import Theme, fast_app\n",
    "hdrs = Theme.blue.headers()"
   ]
  },
  {
   "cell_type": "markdown",
   "id": "056347a7",
   "metadata": {},
   "source": [
    "MonsterUI's theme headers include FrankenUI, Tailwind CSS, and theming code:"
   ]
  },
  {
   "cell_type": "code",
   "execution_count": 65,
   "id": "754d4ec4",
   "metadata": {},
   "outputs": [
    {
     "data": {
      "text/plain": [
       "[link((),{'rel': 'stylesheet', 'href': 'https://unpkg.com/franken-ui@1.1.0/dist/css/core.min.css'}),\n",
       " script(('',),{'type': 'module', 'src': 'https://unpkg.com/franken-ui@1.1.0/dist/js/core.iife.js'}),\n",
       " script(('',),{'type': 'module', 'src': 'https://cdn.jsdelivr.net/gh/answerdotai/monsterui@main/monsterui/icon.iife.js'}),\n",
       " script(('',),{'src': 'https://cdn.tailwindcss.com'}),\n",
       " script(('\\n        const htmlElement = document.documentElement;\\n        \\n            if (\\n                localStorage.getItem(\"mode\") === \"dark\" ||\\n                (!(\"mode\" in localStorage) &&\\n                window.matchMedia(\"(prefers-color-scheme: dark)\").matches)\\n            ) {\\n                htmlElement.classList.add(\"dark\");\\n            } else {\\n                htmlElement.classList.remove(\"dark\");\\n            }\\n        \\n        htmlElement.classList.add(localStorage.getItem(\"theme\") || \"uk-theme-blue\");\\n    ',),{}),\n",
       " link((),{'rel': 'stylesheet', 'href': 'https://cdn.jsdelivr.net/npm/daisyui@4.12.22/dist/full.min.css'}),\n",
       " style(('\\n:root {\\n  --p: from hsl(var(--primary)) l c h;\\n  --pc: from hsl(var(--primary-foreground)) l c h;\\n  --s: from hsl(var(--secondary)) l c h;\\n  --sc: from hsl(var(--secondary-foreground)) l c h;\\n  --b2: from hsl(var(--card-background)) l c h;\\n  --b1: from hsl(var(--background)) l c h;\\n  --bc: from hsl(var(--foreground)) l c h;\\n  --b3: from hsl(var(--ring)) l c h;\\n  --er: from hsl(var(--destructive)) l c h;\\n  --erc: from hsl(var(--destructive-foreground)) l c h;\\n}\\n',),{})]"
      ]
     },
     "execution_count": 65,
     "metadata": {},
     "output_type": "execute_result"
    }
   ],
   "source": [
    "hdrs"
   ]
  },
  {
   "cell_type": "markdown",
   "id": "292679d5",
   "metadata": {},
   "source": [
    "MonsterUI is a little different because it comes with its own `fast_app` that extends the one from FastHTML's fastapp.py. That is defined in [monsterui/nbs/01_core.ipynb](https://github.com/AnswerDotAI/MonsterUI/blob/main/nbs/01_core.ipynb) and used here:"
   ]
  },
  {
   "cell_type": "code",
   "execution_count": 66,
   "id": "c601777f",
   "metadata": {},
   "outputs": [
    {
     "data": {
      "text/plain": [
       "[meta((),{'charset': 'utf-8'}),\n",
       " meta((),{'name': 'viewport', 'content': 'width=device-width, initial-scale=1, viewport-fit=cover'}),\n",
       " script((),{'src': 'https://unpkg.com/htmx.org@2.0.4/dist/htmx.min.js'}),\n",
       " script((),{'src': 'https://cdn.jsdelivr.net/gh/answerdotai/fasthtml-js@1.0.12/fasthtml.js'}),\n",
       " script((),{'src': 'https://cdn.jsdelivr.net/gh/answerdotai/surreal@main/surreal.js'}),\n",
       " script((),{'src': 'https://cdn.jsdelivr.net/gh/gnat/css-scope-inline@main/script.js'}),\n",
       " link((),{'rel': 'stylesheet', 'href': 'https://unpkg.com/franken-ui@1.1.0/dist/css/core.min.css'}),\n",
       " script(('',),{'type': 'module', 'src': 'https://unpkg.com/franken-ui@1.1.0/dist/js/core.iife.js'}),\n",
       " script(('',),{'type': 'module', 'src': 'https://cdn.jsdelivr.net/gh/answerdotai/monsterui@main/monsterui/icon.iife.js'}),\n",
       " script(('',),{'src': 'https://cdn.tailwindcss.com'}),\n",
       " script(('\\n        const htmlElement = document.documentElement;\\n        \\n            if (\\n                localStorage.getItem(\"mode\") === \"dark\" ||\\n                (!(\"mode\" in localStorage) &&\\n                window.matchMedia(\"(prefers-color-scheme: dark)\").matches)\\n            ) {\\n                htmlElement.classList.add(\"dark\");\\n            } else {\\n                htmlElement.classList.remove(\"dark\");\\n            }\\n        \\n        htmlElement.classList.add(localStorage.getItem(\"theme\") || \"uk-theme-blue\");\\n    ',),{}),\n",
       " link((),{'rel': 'stylesheet', 'href': 'https://cdn.jsdelivr.net/npm/daisyui@4.12.22/dist/full.min.css'}),\n",
       " style(('\\n:root {\\n  --p: from hsl(var(--primary)) l c h;\\n  --pc: from hsl(var(--primary-foreground)) l c h;\\n  --s: from hsl(var(--secondary)) l c h;\\n  --sc: from hsl(var(--secondary-foreground)) l c h;\\n  --b2: from hsl(var(--card-background)) l c h;\\n  --b1: from hsl(var(--background)) l c h;\\n  --bc: from hsl(var(--foreground)) l c h;\\n  --b3: from hsl(var(--ring)) l c h;\\n  --er: from hsl(var(--destructive)) l c h;\\n  --erc: from hsl(var(--destructive-foreground)) l c h;\\n}\\n',),{}),\n",
       " script((\"\\n    function sendmsg() {\\n        window.parent.postMessage({height: document.documentElement.offsetHeight}, '*');\\n    }\\n    window.onload = function() {\\n        sendmsg();\\n        document.body.addEventListener('htmx:afterSettle',    sendmsg);\\n        document.body.addEventListener('htmx:wsAfterMessage', sendmsg);\\n    };\",),{})]"
      ]
     },
     "execution_count": 66,
     "metadata": {},
     "output_type": "execute_result"
    }
   ],
   "source": [
    "app,rt = fast_app(hdrs=hdrs)\n",
    "app.hdrs"
   ]
  },
  {
   "cell_type": "markdown",
   "id": "da382d7e",
   "metadata": {},
   "source": [
    "The code in MonsterUI for this is:"
   ]
  },
  {
   "cell_type": "code",
   "execution_count": 72,
   "id": "ec6e5a2f",
   "metadata": {},
   "outputs": [],
   "source": [
    "from fastcore.all import delegates\n",
    "import fasthtml.common as fh\n",
    "\n",
    "@delegates(fh.fast_app, but=['pico'])\n",
    "def fast_app(*args, pico=False, **kwargs):\n",
    "    \"Create a FastHTML or FastHTMLWithLiveReload app with `bg-background text-foreground` to bodykw for frankenui themes\"\n",
    "    if 'bodykw' not in kwargs: kwargs['bodykw'] = {}\n",
    "    if 'class' not in kwargs['bodykw']: kwargs['bodykw']['class'] = ''\n",
    "    kwargs['bodykw']['class'] = stringify((kwargs['bodykw']['class'],'bg-background text-foreground'))\n",
    "    return fh.fast_app(*args, pico=pico, **kwargs)"
   ]
  },
  {
   "cell_type": "code",
   "execution_count": 73,
   "id": "e1b78f52",
   "metadata": {},
   "outputs": [
    {
     "data": {
      "text/plain": [
       "{'class': ' bg-background text-foreground'}"
      ]
     },
     "execution_count": 73,
     "metadata": {},
     "output_type": "execute_result"
    }
   ],
   "source": [
    "app.bodykw"
   ]
  }
 ],
 "metadata": {
  "kernelspec": {
   "display_name": "Python 3 (ipykernel)",
   "language": "python",
   "name": "python3"
  },
  "language_info": {
   "codemirror_mode": {
    "name": "ipython",
    "version": 3
   },
   "file_extension": ".py",
   "mimetype": "text/x-python",
   "name": "python",
   "nbconvert_exporter": "python",
   "pygments_lexer": "ipython3",
   "version": "3.12.8"
  }
 },
 "nbformat": 4,
 "nbformat_minor": 5
}
