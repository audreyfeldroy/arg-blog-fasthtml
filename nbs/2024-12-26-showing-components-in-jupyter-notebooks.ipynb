{
 "cells": [
  {
   "cell_type": "markdown",
   "id": "441550f9",
   "metadata": {},
   "source": [
    "# Showing Components in Notebooks"
   ]
  },
  {
   "cell_type": "markdown",
   "id": "7d2ff050",
   "metadata": {},
   "source": [
    "## Understand the Problem"
   ]
  },
  {
   "cell_type": "markdown",
   "id": "63f542e7",
   "metadata": {},
   "source": [
    "I currently have trouble following the SolveIt process while building FastHTML apps. I am able to build up an app's pieces as strings of HTML and think about if the strings are correct, but showing those pieces as rendered components in a notebook always trips me up."
   ]
  },
  {
   "cell_type": "markdown",
   "id": "5d782e54",
   "metadata": {},
   "source": [
    "## Devise Plan"
   ]
  },
  {
   "cell_type": "markdown",
   "id": "69c09e09",
   "metadata": {},
   "source": [
    "* Use this notebook to create a sample component\n",
    "* Display it in this notebook\n",
    "    * Look at other projects to see ways of rendering components in-notebook\n",
    "    * Play with different ways and see what works best for me"
   ]
  },
  {
   "cell_type": "markdown",
   "id": "217d9573",
   "metadata": {},
   "source": [
    "## Carry Out Plan"
   ]
  },
  {
   "cell_type": "markdown",
   "id": "2e52430f",
   "metadata": {},
   "source": [
    "### Setup"
   ]
  },
  {
   "cell_type": "code",
   "execution_count": 22,
   "id": "6ae62751",
   "metadata": {},
   "outputs": [],
   "source": [
    "from fasthtml.common import *\n",
    "from fasthtml.jupyter import *\n",
    "from IPython.display import display, HTML, IFrame"
   ]
  },
  {
   "cell_type": "code",
   "execution_count": 2,
   "id": "9a1ca2dd",
   "metadata": {},
   "outputs": [],
   "source": [
    "app, rt = fast_app()"
   ]
  },
  {
   "cell_type": "code",
   "execution_count": 3,
   "id": "c16cf32a",
   "metadata": {},
   "outputs": [
    {
     "data": {
      "text/html": [
       "\n",
       "<script>\n",
       "document.body.addEventListener('htmx:configRequest', (event) => {\n",
       "    if(event.detail.path.includes('://')) return;\n",
       "    htmx.config.selfRequestsOnly=false;\n",
       "    event.detail.path = `${location.protocol}//${location.hostname}:8000${event.detail.path}`;\n",
       "});\n",
       "</script>"
      ],
      "text/plain": [
       "<IPython.core.display.HTML object>"
      ]
     },
     "metadata": {},
     "output_type": "display_data"
    }
   ],
   "source": [
    "server = JupyUvi(app)"
   ]
  },
  {
   "cell_type": "code",
   "execution_count": null,
   "id": "3bfef488",
   "metadata": {},
   "outputs": [],
   "source": [
    "if 'server' in globals(): server.stop()"
   ]
  },
  {
   "cell_type": "markdown",
   "id": "568a7f66",
   "metadata": {},
   "source": [
    "### Sample Component: P With a Little Style"
   ]
  },
  {
   "cell_type": "code",
   "execution_count": 4,
   "id": "499960ee",
   "metadata": {},
   "outputs": [],
   "source": [
    "def RectP(c):\n",
    "    return P(c, style=\"border: 1px gray solid\")"
   ]
  },
  {
   "cell_type": "code",
   "execution_count": 5,
   "id": "c4a9f709",
   "metadata": {},
   "outputs": [
    {
     "data": {
      "text/markdown": [
       "```html\n",
       "<p style=\"border: 1px gray solid\">Hi</p>\n",
       "\n",
       "```"
      ],
      "text/plain": [
       "p(('Hi',),{'style': 'border: 1px gray solid'})"
      ]
     },
     "execution_count": 5,
     "metadata": {},
     "output_type": "execute_result"
    }
   ],
   "source": [
    "RectP(\"Hi\")"
   ]
  },
  {
   "cell_type": "markdown",
   "id": "266bbaf8",
   "metadata": {},
   "source": [
    "### Studying In-Notebook Component Rendering"
   ]
  },
  {
   "cell_type": "markdown",
   "id": "62bb87d5",
   "metadata": {},
   "source": [
    "Starting with the canonical docs:\n",
    "\n",
    "* https://docs.fastht.ml/tutorials/jupyter_and_fasthtml.html\n",
    "* https://docs.fastht.ml/api/jupyter.html"
   ]
  },
  {
   "cell_type": "markdown",
   "id": "824056f8",
   "metadata": {},
   "source": [
    "### Using render_ft"
   ]
  },
  {
   "cell_type": "markdown",
   "id": "c07b642e",
   "metadata": {},
   "source": [
    "> After importing fasthtml.jupyter and calling render_ft(), FT components render directly in the notebook."
   ]
  },
  {
   "cell_type": "code",
   "execution_count": null,
   "id": "ce102c40",
   "metadata": {},
   "outputs": [],
   "source": [
    "# render_ft()"
   ]
  },
  {
   "cell_type": "code",
   "execution_count": 6,
   "id": "38fbda35",
   "metadata": {},
   "outputs": [
    {
     "data": {
      "text/markdown": [
       "```html\n",
       "<p style=\"border: 1px gray solid\">Hi</p>\n",
       "\n",
       "```"
      ],
      "text/plain": [
       "p(('Hi',),{'style': 'border: 1px gray solid'})"
      ]
     },
     "execution_count": 6,
     "metadata": {},
     "output_type": "execute_result"
    }
   ],
   "source": [
    "RectP(\"Hi\")"
   ]
  },
  {
   "cell_type": "markdown",
   "id": "42693715",
   "metadata": {},
   "source": [
    "That worked! Though how do I view the string version of it now?"
   ]
  },
  {
   "cell_type": "code",
   "execution_count": 7,
   "id": "f8cab4a0",
   "metadata": {},
   "outputs": [
    {
     "data": {
      "text/plain": [
       "'<p style=\"border: 1px gray solid\">Hello</p>\\n'"
      ]
     },
     "execution_count": 7,
     "metadata": {},
     "output_type": "execute_result"
    }
   ],
   "source": [
    "to_xml(RectP(\"Hello\"))"
   ]
  },
  {
   "cell_type": "markdown",
   "id": "3ae5f301",
   "metadata": {},
   "source": [
    "That worked too!"
   ]
  },
  {
   "cell_type": "markdown",
   "id": "7504e856",
   "metadata": {},
   "source": [
    "### Rendering Without render_ft"
   ]
  },
  {
   "cell_type": "markdown",
   "id": "44ad750b",
   "metadata": {},
   "source": [
    "It feels a bit weird to change what `RectP` does. Ideally I can render the component only when I want to, not always. For now I am commenting out `render_ft` above, so that I can restart this notebook's kernel and continue without it."
   ]
  },
  {
   "cell_type": "markdown",
   "id": "bdc10700",
   "metadata": {},
   "source": [
    "Let's explore what `render_ft` does."
   ]
  },
  {
   "cell_type": "code",
   "execution_count": null,
   "id": "0282d112",
   "metadata": {},
   "outputs": [],
   "source": [
    "def render_ft():\n",
    "    @patch\n",
    "    def _repr_markdown_(self:FT): return to_xml(Div(self, Script('if (window.htmx) htmx.process(document.body)')))"
   ]
  },
  {
   "cell_type": "markdown",
   "id": "ab5c8f23",
   "metadata": {},
   "source": [
    "I asked AI: Wait so it patches a FT component's _repr_markdown_ method?"
   ]
  },
  {
   "cell_type": "markdown",
   "id": "d91d0ed2",
   "metadata": {},
   "source": [
    "Yes - it patches the `_repr_markdown_` method of the `FT` class, which is what Jupyter uses to determine how to display objects. The patch wraps the component in a `Div` with an HTMX processing script, and converts it to XML. This is why components automatically render as HTML after calling `render_ft()`.\n",
    "\n",
    "That's also why `to_xml()` still works to see the string version - it's a different method that isn't affected by the patch."
   ]
  },
  {
   "cell_type": "markdown",
   "id": "4f1bccfc",
   "metadata": {},
   "source": [
    "`htmx.process()` tells HTMX to scan the given element (in this case `document.body`) and initialize any HTMX attributes it finds. This is necessary when HTML is dynamically added to the page, as HTMX only automatically processes elements when the page first loads. Without this call, any HTMX attributes (like `hx-get`, `hx-post`, etc.) in dynamically rendered components wouldn't be activated."
   ]
  },
  {
   "cell_type": "markdown",
   "id": "be9a52e0",
   "metadata": {},
   "source": [
    "Since Jupyter dynamically inserts our component's HTML into the notebook after the page has loaded, we need `htmx.process()` to ensure any HTMX functionality in the component gets initialized. Even if our current simple `RectP` component doesn't use HTMX features, the script is included by default since FastHTML components often do use HTMX attributes and we want them to work properly when rendered in the notebook."
   ]
  },
  {
   "cell_type": "code",
   "execution_count": 16,
   "id": "b46b6c6e",
   "metadata": {},
   "outputs": [],
   "source": [
    "def show_ft(c):\n",
    "    html = to_xml(Div(c, Script('if (window.htmx) htmx.process(document.body)')))\n",
    "    display(HTML(html))"
   ]
  },
  {
   "cell_type": "code",
   "execution_count": 17,
   "id": "1899b75c",
   "metadata": {},
   "outputs": [
    {
     "data": {
      "text/html": [
       "<div>\n",
       "  <p style=\"border: 1px gray solid\">Hi</p>\n",
       "<script>if (window.htmx) htmx.process(document.body)</script></div>\n"
      ],
      "text/plain": [
       "<IPython.core.display.HTML object>"
      ]
     },
     "metadata": {},
     "output_type": "display_data"
    }
   ],
   "source": [
    "show_ft(RectP(\"Hi\"))"
   ]
  },
  {
   "cell_type": "markdown",
   "id": "1a6ea780",
   "metadata": {},
   "source": [
    "### IPython Display and HTML"
   ]
  },
  {
   "cell_type": "markdown",
   "id": "3566001f",
   "metadata": {},
   "source": [
    "Let's take a step back to understand IPython display, not worrying about JS for now."
   ]
  },
  {
   "cell_type": "code",
   "execution_count": 92,
   "id": "d6ee7c1e",
   "metadata": {},
   "outputs": [
    {
     "data": {
      "text/html": [
       "<p style=\"border: 1px red solid\">Hi</p>"
      ],
      "text/plain": [
       "<IPython.core.display.HTML object>"
      ]
     },
     "metadata": {},
     "output_type": "display_data"
    }
   ],
   "source": [
    "display(HTML('<p style=\"border: 1px red solid\">Hi</p>'))"
   ]
  },
  {
   "cell_type": "code",
   "execution_count": 26,
   "id": "4eca0ef5",
   "metadata": {},
   "outputs": [
    {
     "data": {
      "text/markdown": [
       "```html\n",
       "<p style=\"border: 1px gray solid\">Uma</p>\n",
       "\n",
       "```"
      ],
      "text/plain": [
       "p(('Uma',),{'style': 'border: 1px gray solid'})"
      ]
     },
     "execution_count": 26,
     "metadata": {},
     "output_type": "execute_result"
    }
   ],
   "source": [
    "RectP(\"Uma\")"
   ]
  },
  {
   "cell_type": "code",
   "execution_count": 28,
   "id": "943680e8",
   "metadata": {},
   "outputs": [
    {
     "data": {
      "text/markdown": [
       "```html\n",
       "<p style=\"border: 1px gray solid\">Uma</p>\n",
       "\n",
       "```"
      ],
      "text/plain": [
       "p(('Uma',),{'style': 'border: 1px gray solid'})"
      ]
     },
     "execution_count": 28,
     "metadata": {},
     "output_type": "execute_result"
    }
   ],
   "source": [
    "uma = RectP(\"Uma\")\n",
    "uma"
   ]
  },
  {
   "cell_type": "code",
   "execution_count": 32,
   "id": "7c4fc632",
   "metadata": {},
   "outputs": [
    {
     "data": {
      "text/html": [
       "<p style=\"border: 1px gray solid\">Uma</p>\n"
      ],
      "text/plain": [
       "<IPython.core.display.HTML object>"
      ]
     },
     "metadata": {},
     "output_type": "display_data"
    }
   ],
   "source": [
    "display(HTML(to_xml(uma)))"
   ]
  },
  {
   "cell_type": "code",
   "execution_count": 33,
   "id": "4bd2767f",
   "metadata": {},
   "outputs": [
    {
     "data": {
      "text/html": [
       "<p style=\"border: 1px gray solid\">Uma</p>\n"
      ],
      "text/plain": [
       "<IPython.core.display.HTML object>"
      ]
     },
     "metadata": {},
     "output_type": "display_data"
    }
   ],
   "source": [
    "display(HTML(to_xml(RectP(\"Uma\"))))"
   ]
  },
  {
   "cell_type": "markdown",
   "id": "f57e145e",
   "metadata": {},
   "source": [
    "### Defining a `show` Function"
   ]
  },
  {
   "cell_type": "code",
   "execution_count": 34,
   "id": "0aaaff0b",
   "metadata": {},
   "outputs": [],
   "source": [
    "def show(c): return display(HTML(to_xml(c)))"
   ]
  },
  {
   "cell_type": "code",
   "execution_count": 41,
   "id": "bc22fcb6",
   "metadata": {},
   "outputs": [
    {
     "data": {
      "text/html": [
       "<p style=\"border: 1px gray solid\">Uma is a girl who loves crafts, science, and magic. Uma is a girl who loves crafts, science, and magic. Uma is a girl who loves crafts, science, and magic. Uma is a girl who loves crafts, science, and magic. Uma is a girl who loves crafts, science, and magic. Uma is a girl who loves crafts, science, and magic. Uma is a girl who loves crafts, science, and magic. Uma is a girl who loves crafts, science, and magic. Uma is a girl who loves crafts, science, and magic. Uma is a girl who loves crafts, science, and magic. Uma is a girl who loves crafts, science, and magic. Uma is a girl who loves crafts, science, and magic. Uma is a girl who loves crafts, science, and magic. Uma is a girl who loves crafts, science, and magic. Uma is a girl who loves crafts, science, and magic. Uma is a girl who loves crafts, science, and magic. Uma is a girl who loves crafts, science, and magic. Uma is a girl who loves crafts, science, and magic. Uma is a girl who loves crafts, science, and magic. Uma is a girl who loves crafts, science, and magic. </p>\n"
      ],
      "text/plain": [
       "<IPython.core.display.HTML object>"
      ]
     },
     "metadata": {},
     "output_type": "display_data"
    }
   ],
   "source": [
    "show(RectP(\"Uma is a girl who loves crafts, science, and magic. \"*20))"
   ]
  },
  {
   "cell_type": "markdown",
   "id": "b54027aa",
   "metadata": {},
   "source": [
    "### Complex `show` Output: MonsterUI"
   ]
  },
  {
   "cell_type": "code",
   "execution_count": 55,
   "id": "b16323f1",
   "metadata": {},
   "outputs": [],
   "source": [
    "from monsterui.all import Card"
   ]
  },
  {
   "cell_type": "code",
   "execution_count": 66,
   "id": "30e5debd",
   "metadata": {},
   "outputs": [
    {
     "data": {
      "text/markdown": [
       "```html\n",
       "<div class=\"uk-card \">\n",
       "  <div class=\"uk-card-header \">Prepare yourself, it&#x27;s coming</div>\n",
       "  <div class=\"uk-card-body space-y-6\">I&#x27;m a card. I&#x27;m a card. I&#x27;m a card. I&#x27;m a card. I&#x27;m a card. I&#x27;m a card. I&#x27;m a card. I&#x27;m a card. I&#x27;m a card. I&#x27;m a card. I&#x27;m a card. I&#x27;m a card. I&#x27;m a card. I&#x27;m a card. I&#x27;m a card. I&#x27;m a card. I&#x27;m a card. I&#x27;m a card. I&#x27;m a card. I&#x27;m a card. </div>\n",
       "  <div class=\"uk-card-footer \">Thank you for your attention</div>\n",
       "</div>\n",
       "\n",
       "```"
      ],
      "text/plain": [
       "div((div((\"Prepare yourself, it's coming\",),{'class': 'uk-card-header '}), div((\"I'm a card. I'm a card. I'm a card. I'm a card. I'm a card. I'm a card. I'm a card. I'm a card. I'm a card. I'm a card. I'm a card. I'm a card. I'm a card. I'm a card. I'm a card. I'm a card. I'm a card. I'm a card. I'm a card. I'm a card. \",),{'class': 'uk-card-body space-y-6'}), div(('Thank you for your attention',),{'class': 'uk-card-footer '})),{'class': 'uk-card '})"
      ]
     },
     "execution_count": 66,
     "metadata": {},
     "output_type": "execute_result"
    }
   ],
   "source": [
    "c = Card(\"I'm a card. \"*20, header=\"Prepare yourself, it's coming\", footer=\"Thank you for your attention\")\n",
    "c"
   ]
  },
  {
   "cell_type": "code",
   "execution_count": 67,
   "id": "1a1d1c1e",
   "metadata": {},
   "outputs": [
    {
     "data": {
      "text/html": [
       "<div class=\"uk-card \">\n",
       "  <div class=\"uk-card-header \">Prepare yourself, it&#x27;s coming</div>\n",
       "  <div class=\"uk-card-body space-y-6\">I&#x27;m a card. I&#x27;m a card. I&#x27;m a card. I&#x27;m a card. I&#x27;m a card. I&#x27;m a card. I&#x27;m a card. I&#x27;m a card. I&#x27;m a card. I&#x27;m a card. I&#x27;m a card. I&#x27;m a card. I&#x27;m a card. I&#x27;m a card. I&#x27;m a card. I&#x27;m a card. I&#x27;m a card. I&#x27;m a card. I&#x27;m a card. I&#x27;m a card. </div>\n",
       "  <div class=\"uk-card-footer \">Thank you for your attention</div>\n",
       "</div>\n"
      ],
      "text/plain": [
       "<IPython.core.display.HTML object>"
      ]
     },
     "metadata": {},
     "output_type": "display_data"
    }
   ],
   "source": [
    "show(c)"
   ]
  },
  {
   "cell_type": "markdown",
   "id": "10a72111",
   "metadata": {},
   "source": [
    "I guess it would be nice to grab the card CSS without all of MonsterUI here, and put it into `Style()`. I don't think MonsterUI has that feature, but Pygments does. I'll try that."
   ]
  },
  {
   "cell_type": "markdown",
   "id": "cdf0016c",
   "metadata": {},
   "source": [
    "### Complex `show` Output: Pygments"
   ]
  },
  {
   "cell_type": "code",
   "execution_count": 68,
   "id": "99db1bc4",
   "metadata": {},
   "outputs": [],
   "source": [
    "from pygments import highlight\n",
    "from pygments.lexers import PythonLexer\n",
    "from pygments.formatters import HtmlFormatter"
   ]
  },
  {
   "cell_type": "code",
   "execution_count": 146,
   "id": "c9946675",
   "metadata": {},
   "outputs": [],
   "source": [
    "fm = HtmlFormatter(style='paraiso-light')"
   ]
  },
  {
   "cell_type": "code",
   "execution_count": 95,
   "id": "78f95679",
   "metadata": {
    "scrolled": true
   },
   "outputs": [
    {
     "data": {
      "text/plain": [
       "'<div class=\"highlight\"><pre><span></span><span class=\"nb\">print</span><span class=\"p\">(</span><span class=\"s2\">&quot;Hey&quot;</span><span class=\"p\">)</span>\\n</pre></div>\\n'"
      ]
     },
     "execution_count": 95,
     "metadata": {},
     "output_type": "execute_result"
    }
   ],
   "source": [
    "c = highlight('print(\"Hey\")', lexer=PythonLexer(), formatter=fm)\n",
    "c"
   ]
  },
  {
   "cell_type": "code",
   "execution_count": 112,
   "id": "dc8e02af",
   "metadata": {},
   "outputs": [
    {
     "data": {
      "text/plain": [
       "'<div class=\"highlight\"><pre><span></span><span class=\"nb\">print</span><span class=\"p\">(</span><span class=\"s2\">&quot;Hey&quot;</span><span class=\"p\">)</span>\\n</pre></div>\\n'"
      ]
     },
     "execution_count": 112,
     "metadata": {},
     "output_type": "execute_result"
    }
   ],
   "source": [
    "NotStr(c)"
   ]
  },
  {
   "cell_type": "code",
   "execution_count": 113,
   "id": "a4072fc5",
   "metadata": {},
   "outputs": [
    {
     "data": {
      "text/markdown": [
       "```html\n",
       "<div>&lt;div class=&quot;highlight&quot;&gt;&lt;pre&gt;&lt;span&gt;&lt;/span&gt;&lt;span class=&quot;nb&quot;&gt;print&lt;/span&gt;&lt;span class=&quot;p&quot;&gt;(&lt;/span&gt;&lt;span class=&quot;s2&quot;&gt;&amp;quot;Hey&amp;quot;&lt;/span&gt;&lt;span class=&quot;p&quot;&gt;)&lt;/span&gt;\n",
       "&lt;/pre&gt;&lt;/div&gt;\n",
       "</div>\n",
       "\n",
       "```"
      ],
      "text/plain": [
       "div(('<div class=\"highlight\"><pre><span></span><span class=\"nb\">print</span><span class=\"p\">(</span><span class=\"s2\">&quot;Hey&quot;</span><span class=\"p\">)</span>\\n</pre></div>\\n',),{})"
      ]
     },
     "execution_count": 113,
     "metadata": {},
     "output_type": "execute_result"
    }
   ],
   "source": [
    "Div(c)"
   ]
  },
  {
   "cell_type": "code",
   "execution_count": 114,
   "id": "003ee8c4",
   "metadata": {},
   "outputs": [
    {
     "data": {
      "text/markdown": [
       "```html\n",
       "<div><div class=\"highlight\"><pre><span></span><span class=\"nb\">print</span><span class=\"p\">(</span><span class=\"s2\">&quot;Hey&quot;</span><span class=\"p\">)</span>\n",
       "</pre></div>\n",
       "</div>\n",
       "\n",
       "```"
      ],
      "text/plain": [
       "div(('<div class=\"highlight\"><pre><span></span><span class=\"nb\">print</span><span class=\"p\">(</span><span class=\"s2\">&quot;Hey&quot;</span><span class=\"p\">)</span>\\n</pre></div>\\n',),{})"
      ]
     },
     "execution_count": 114,
     "metadata": {},
     "output_type": "execute_result"
    }
   ],
   "source": [
    "Div(NotStr(c))"
   ]
  },
  {
   "cell_type": "markdown",
   "id": "53e34f6a",
   "metadata": {},
   "source": [
    "Working examples directly below"
   ]
  },
  {
   "cell_type": "code",
   "execution_count": 142,
   "id": "dfd15eda",
   "metadata": {},
   "outputs": [
    {
     "data": {
      "text/html": [
       "<div>\n",
       "<div class=\"highlight\"><pre><span></span><span class=\"nb\">print</span><span class=\"p\">(</span><span class=\"s2\">&quot;Hey&quot;</span><span class=\"p\">)</span>\n",
       "</pre></div>\n",
       "  <style>pre { line-height: 125%; }\n",
       "td.linenos .normal { color: #f1fa8c; background-color: #44475a; padding-left: 5px; padding-right: 5px; }\n",
       "span.linenos { color: #f1fa8c; background-color: #44475a; padding-left: 5px; padding-right: 5px; }\n",
       "td.linenos .special { color: #50fa7b; background-color: #6272a4; padding-left: 5px; padding-right: 5px; }\n",
       "span.linenos.special { color: #50fa7b; background-color: #6272a4; padding-left: 5px; padding-right: 5px; }\n",
       ".hll { background-color: #44475a }\n",
       ".c { color: #6272a4 } /* Comment */\n",
       ".err { color: #f8f8f2 } /* Error */\n",
       ".g { color: #f8f8f2 } /* Generic */\n",
       ".k { color: #ff79c6 } /* Keyword */\n",
       ".l { color: #f8f8f2 } /* Literal */\n",
       ".n { color: #f8f8f2 } /* Name */\n",
       ".o { color: #ff79c6 } /* Operator */\n",
       ".x { color: #f8f8f2 } /* Other */\n",
       ".p { color: #f8f8f2 } /* Punctuation */\n",
       ".ch { color: #6272a4 } /* Comment.Hashbang */\n",
       ".cm { color: #6272a4 } /* Comment.Multiline */\n",
       ".cp { color: #ff79c6 } /* Comment.Preproc */\n",
       ".cpf { color: #6272a4 } /* Comment.PreprocFile */\n",
       ".c1 { color: #6272a4 } /* Comment.Single */\n",
       ".cs { color: #6272a4 } /* Comment.Special */\n",
       ".gd { color: #8b080b } /* Generic.Deleted */\n",
       ".ge { color: #f8f8f2; text-decoration: underline } /* Generic.Emph */\n",
       ".ges { color: #f8f8f2; text-decoration: underline } /* Generic.EmphStrong */\n",
       ".gr { color: #f8f8f2 } /* Generic.Error */\n",
       ".gh { color: #f8f8f2; font-weight: bold } /* Generic.Heading */\n",
       ".gi { color: #f8f8f2; font-weight: bold } /* Generic.Inserted */\n",
       ".go { color: #44475a } /* Generic.Output */\n",
       ".gp { color: #f8f8f2 } /* Generic.Prompt */\n",
       ".gs { color: #f8f8f2 } /* Generic.Strong */\n",
       ".gu { color: #f8f8f2; font-weight: bold } /* Generic.Subheading */\n",
       ".gt { color: #f8f8f2 } /* Generic.Traceback */\n",
       ".kc { color: #ff79c6 } /* Keyword.Constant */\n",
       ".kd { color: #8be9fd; font-style: italic } /* Keyword.Declaration */\n",
       ".kn { color: #ff79c6 } /* Keyword.Namespace */\n",
       ".kp { color: #ff79c6 } /* Keyword.Pseudo */\n",
       ".kr { color: #ff79c6 } /* Keyword.Reserved */\n",
       ".kt { color: #8be9fd } /* Keyword.Type */\n",
       ".ld { color: #f8f8f2 } /* Literal.Date */\n",
       ".m { color: #ffb86c } /* Literal.Number */\n",
       ".s { color: #bd93f9 } /* Literal.String */\n",
       ".na { color: #50fa7b } /* Name.Attribute */\n",
       ".nb { color: #8be9fd; font-style: italic } /* Name.Builtin */\n",
       ".nc { color: #50fa7b } /* Name.Class */\n",
       ".no { color: #f8f8f2 } /* Name.Constant */\n",
       ".nd { color: #f8f8f2 } /* Name.Decorator */\n",
       ".ni { color: #f8f8f2 } /* Name.Entity */\n",
       ".ne { color: #f8f8f2 } /* Name.Exception */\n",
       ".nf { color: #50fa7b } /* Name.Function */\n",
       ".nl { color: #8be9fd; font-style: italic } /* Name.Label */\n",
       ".nn { color: #f8f8f2 } /* Name.Namespace */\n",
       ".nx { color: #f8f8f2 } /* Name.Other */\n",
       ".py { color: #f8f8f2 } /* Name.Property */\n",
       ".nt { color: #ff79c6 } /* Name.Tag */\n",
       ".nv { color: #8be9fd; font-style: italic } /* Name.Variable */\n",
       ".ow { color: #ff79c6 } /* Operator.Word */\n",
       ".pm { color: #f8f8f2 } /* Punctuation.Marker */\n",
       ".w { color: #f8f8f2 } /* Text.Whitespace */\n",
       ".mb { color: #ffb86c } /* Literal.Number.Bin */\n",
       ".mf { color: #ffb86c } /* Literal.Number.Float */\n",
       ".mh { color: #ffb86c } /* Literal.Number.Hex */\n",
       ".mi { color: #ffb86c } /* Literal.Number.Integer */\n",
       ".mo { color: #ffb86c } /* Literal.Number.Oct */\n",
       ".sa { color: #bd93f9 } /* Literal.String.Affix */\n",
       ".sb { color: #bd93f9 } /* Literal.String.Backtick */\n",
       ".sc { color: #bd93f9 } /* Literal.String.Char */\n",
       ".dl { color: #bd93f9 } /* Literal.String.Delimiter */\n",
       ".sd { color: #bd93f9 } /* Literal.String.Doc */\n",
       ".s2 { color: #bd93f9 } /* Literal.String.Double */\n",
       ".se { color: #bd93f9 } /* Literal.String.Escape */\n",
       ".sh { color: #bd93f9 } /* Literal.String.Heredoc */\n",
       ".si { color: #bd93f9 } /* Literal.String.Interpol */\n",
       ".sx { color: #bd93f9 } /* Literal.String.Other */\n",
       ".sr { color: #bd93f9 } /* Literal.String.Regex */\n",
       ".s1 { color: #bd93f9 } /* Literal.String.Single */\n",
       ".ss { color: #bd93f9 } /* Literal.String.Symbol */\n",
       ".bp { color: #f8f8f2; font-style: italic } /* Name.Builtin.Pseudo */\n",
       ".fm { color: #50fa7b } /* Name.Function.Magic */\n",
       ".vc { color: #8be9fd; font-style: italic } /* Name.Variable.Class */\n",
       ".vg { color: #8be9fd; font-style: italic } /* Name.Variable.Global */\n",
       ".vi { color: #8be9fd; font-style: italic } /* Name.Variable.Instance */\n",
       ".vm { color: #8be9fd; font-style: italic } /* Name.Variable.Magic */\n",
       ".il { color: #ffb86c } /* Literal.Number.Integer.Long */</style>\n",
       "</div>\n"
      ],
      "text/plain": [
       "<IPython.core.display.HTML object>"
      ]
     },
     "metadata": {},
     "output_type": "display_data"
    }
   ],
   "source": [
    "display(HTML(to_xml(Div(NotStr(c),Style(fm.get_style_defs())))))"
   ]
  },
  {
   "cell_type": "markdown",
   "id": "bc754b75",
   "metadata": {},
   "source": [
    "Note: the following cell only works when the previous cell works:"
   ]
  },
  {
   "cell_type": "code",
   "execution_count": 143,
   "id": "2046eb48",
   "metadata": {
    "scrolled": true
   },
   "outputs": [
    {
     "data": {
      "text/html": [
       "<div class=\"highlight\"><pre><span></span><span class=\"nb\">print</span><span class=\"p\">(</span><span class=\"s2\">&quot;Hey&quot;</span><span class=\"p\">)</span>\n",
       "</pre></div>\n"
      ],
      "text/plain": [
       "<IPython.core.display.HTML object>"
      ]
     },
     "metadata": {},
     "output_type": "display_data"
    }
   ],
   "source": [
    "display(HTML(c))"
   ]
  },
  {
   "cell_type": "code",
   "execution_count": 147,
   "id": "e4b7df2d",
   "metadata": {},
   "outputs": [],
   "source": [
    "def show_highlight(c): return display(HTML(to_xml(Div(NotStr(c),Style(fm.get_style_defs())))))"
   ]
  },
  {
   "cell_type": "code",
   "execution_count": 148,
   "id": "a7ae3d26",
   "metadata": {},
   "outputs": [
    {
     "data": {
      "text/html": [
       "<div>\n",
       "<div class=\"highlight\"><pre><span></span><span class=\"n\">styles</span> <span class=\"o\">=</span> <span class=\"n\">L</span><span class=\"p\">(</span><span class=\"n\">pygments</span><span class=\"o\">.</span><span class=\"n\">styles</span><span class=\"o\">.</span><span class=\"n\">STYLES</span><span class=\"o\">.</span><span class=\"n\">items</span><span class=\"p\">())</span><span class=\"o\">.</span><span class=\"n\">itemgot</span><span class=\"p\">(</span><span class=\"mi\">1</span><span class=\"p\">)</span><span class=\"o\">.</span><span class=\"n\">itemgot</span><span class=\"p\">(</span><span class=\"mi\">1</span><span class=\"p\">)</span>\n",
       "</pre></div>\n",
       "  <style>pre { line-height: 125%; }\n",
       "td.linenos .normal { color: inherit; background-color: transparent; padding-left: 5px; padding-right: 5px; }\n",
       "span.linenos { color: inherit; background-color: transparent; padding-left: 5px; padding-right: 5px; }\n",
       "td.linenos .special { color: #000000; background-color: #ffffc0; padding-left: 5px; padding-right: 5px; }\n",
       "span.linenos.special { color: #000000; background-color: #ffffc0; padding-left: 5px; padding-right: 5px; }\n",
       ".hll { background-color: #a39e9b }\n",
       ".c { color: #8d8687 } /* Comment */\n",
       ".err { color: #ef6155 } /* Error */\n",
       ".k { color: #815ba4 } /* Keyword */\n",
       ".l { color: #f99b15 } /* Literal */\n",
       ".n { color: #2f1e2e } /* Name */\n",
       ".o { color: #5bc4bf } /* Operator */\n",
       ".p { color: #2f1e2e } /* Punctuation */\n",
       ".ch { color: #8d8687 } /* Comment.Hashbang */\n",
       ".cm { color: #8d8687 } /* Comment.Multiline */\n",
       ".cp { color: #8d8687 } /* Comment.Preproc */\n",
       ".cpf { color: #8d8687 } /* Comment.PreprocFile */\n",
       ".c1 { color: #8d8687 } /* Comment.Single */\n",
       ".cs { color: #8d8687 } /* Comment.Special */\n",
       ".gd { color: #ef6155 } /* Generic.Deleted */\n",
       ".ge { font-style: italic } /* Generic.Emph */\n",
       ".ges { font-weight: bold; font-style: italic } /* Generic.EmphStrong */\n",
       ".gh { color: #2f1e2e; font-weight: bold } /* Generic.Heading */\n",
       ".gi { color: #48b685 } /* Generic.Inserted */\n",
       ".gp { color: #8d8687; font-weight: bold } /* Generic.Prompt */\n",
       ".gs { font-weight: bold } /* Generic.Strong */\n",
       ".gu { color: #5bc4bf; font-weight: bold } /* Generic.Subheading */\n",
       ".kc { color: #815ba4 } /* Keyword.Constant */\n",
       ".kd { color: #815ba4 } /* Keyword.Declaration */\n",
       ".kn { color: #5bc4bf } /* Keyword.Namespace */\n",
       ".kp { color: #815ba4 } /* Keyword.Pseudo */\n",
       ".kr { color: #815ba4 } /* Keyword.Reserved */\n",
       ".kt { color: #fec418 } /* Keyword.Type */\n",
       ".ld { color: #48b685 } /* Literal.Date */\n",
       ".m { color: #f99b15 } /* Literal.Number */\n",
       ".s { color: #48b685 } /* Literal.String */\n",
       ".na { color: #06b6ef } /* Name.Attribute */\n",
       ".nb { color: #2f1e2e } /* Name.Builtin */\n",
       ".nc { color: #fec418 } /* Name.Class */\n",
       ".no { color: #ef6155 } /* Name.Constant */\n",
       ".nd { color: #5bc4bf } /* Name.Decorator */\n",
       ".ni { color: #2f1e2e } /* Name.Entity */\n",
       ".ne { color: #ef6155 } /* Name.Exception */\n",
       ".nf { color: #06b6ef } /* Name.Function */\n",
       ".nl { color: #2f1e2e } /* Name.Label */\n",
       ".nn { color: #fec418 } /* Name.Namespace */\n",
       ".nx { color: #06b6ef } /* Name.Other */\n",
       ".py { color: #2f1e2e } /* Name.Property */\n",
       ".nt { color: #5bc4bf } /* Name.Tag */\n",
       ".nv { color: #ef6155 } /* Name.Variable */\n",
       ".ow { color: #5bc4bf } /* Operator.Word */\n",
       ".pm { color: #2f1e2e } /* Punctuation.Marker */\n",
       ".w { color: #2f1e2e } /* Text.Whitespace */\n",
       ".mb { color: #f99b15 } /* Literal.Number.Bin */\n",
       ".mf { color: #f99b15 } /* Literal.Number.Float */\n",
       ".mh { color: #f99b15 } /* Literal.Number.Hex */\n",
       ".mi { color: #f99b15 } /* Literal.Number.Integer */\n",
       ".mo { color: #f99b15 } /* Literal.Number.Oct */\n",
       ".sa { color: #48b685 } /* Literal.String.Affix */\n",
       ".sb { color: #48b685 } /* Literal.String.Backtick */\n",
       ".sc { color: #2f1e2e } /* Literal.String.Char */\n",
       ".dl { color: #48b685 } /* Literal.String.Delimiter */\n",
       ".sd { color: #8d8687 } /* Literal.String.Doc */\n",
       ".s2 { color: #48b685 } /* Literal.String.Double */\n",
       ".se { color: #f99b15 } /* Literal.String.Escape */\n",
       ".sh { color: #48b685 } /* Literal.String.Heredoc */\n",
       ".si { color: #f99b15 } /* Literal.String.Interpol */\n",
       ".sx { color: #48b685 } /* Literal.String.Other */\n",
       ".sr { color: #48b685 } /* Literal.String.Regex */\n",
       ".s1 { color: #48b685 } /* Literal.String.Single */\n",
       ".ss { color: #48b685 } /* Literal.String.Symbol */\n",
       ".bp { color: #2f1e2e } /* Name.Builtin.Pseudo */\n",
       ".fm { color: #06b6ef } /* Name.Function.Magic */\n",
       ".vc { color: #ef6155 } /* Name.Variable.Class */\n",
       ".vg { color: #ef6155 } /* Name.Variable.Global */\n",
       ".vi { color: #ef6155 } /* Name.Variable.Instance */\n",
       ".vm { color: #ef6155 } /* Name.Variable.Magic */\n",
       ".il { color: #f99b15 } /* Literal.Number.Integer.Long */</style>\n",
       "</div>\n"
      ],
      "text/plain": [
       "<IPython.core.display.HTML object>"
      ]
     },
     "metadata": {},
     "output_type": "display_data"
    }
   ],
   "source": [
    "c = highlight('styles = L(pygments.styles.STYLES.items()).itemgot(1).itemgot(1)', lexer=PythonLexer(), formatter=fm)\n",
    "show_highlight(c)"
   ]
  },
  {
   "cell_type": "code",
   "execution_count": 147,
   "id": "248e34a0",
   "metadata": {},
   "outputs": [],
   "source": [
    "def show_highlight(c): return display(HTML(to_xml(Div(NotStr(c),Style(fm.get_style_defs())))))"
   ]
  },
  {
   "cell_type": "markdown",
   "id": "f85a160b",
   "metadata": {},
   "source": [
    "### Complex `show` Output: My Own"
   ]
  },
  {
   "cell_type": "code",
   "execution_count": 90,
   "id": "5bb3991c",
   "metadata": {},
   "outputs": [],
   "source": [
    "def RectP(c):\n",
    "    return P(c, style=\"border:1px lightgray solid;padding:6px;margin:0;\")"
   ]
  },
  {
   "cell_type": "code",
   "execution_count": 91,
   "id": "a3bc0c77",
   "metadata": {},
   "outputs": [
    {
     "data": {
      "text/html": [
       "<p style=\"border:1px lightgray solid;padding:6px;margin:0;\">Hi, I&#x27;m Audrey. Danny and Uma are sleeping. Hi, I&#x27;m Audrey. Danny and Uma are sleeping. Hi, I&#x27;m Audrey. Danny and Uma are sleeping. Hi, I&#x27;m Audrey. Danny and Uma are sleeping. Hi, I&#x27;m Audrey. Danny and Uma are sleeping. Hi, I&#x27;m Audrey. Danny and Uma are sleeping. Hi, I&#x27;m Audrey. Danny and Uma are sleeping. Hi, I&#x27;m Audrey. Danny and Uma are sleeping. Hi, I&#x27;m Audrey. Danny and Uma are sleeping. Hi, I&#x27;m Audrey. Danny and Uma are sleeping. Hi, I&#x27;m Audrey. Danny and Uma are sleeping. Hi, I&#x27;m Audrey. Danny and Uma are sleeping. Hi, I&#x27;m Audrey. Danny and Uma are sleeping. Hi, I&#x27;m Audrey. Danny and Uma are sleeping. Hi, I&#x27;m Audrey. Danny and Uma are sleeping. Hi, I&#x27;m Audrey. Danny and Uma are sleeping. Hi, I&#x27;m Audrey. Danny and Uma are sleeping. Hi, I&#x27;m Audrey. Danny and Uma are sleeping. Hi, I&#x27;m Audrey. Danny and Uma are sleeping. Hi, I&#x27;m Audrey. Danny and Uma are sleeping. </p>\n"
      ],
      "text/plain": [
       "<IPython.core.display.HTML object>"
      ]
     },
     "metadata": {},
     "output_type": "display_data"
    }
   ],
   "source": [
    "show(RectP(\"Hi, I'm Audrey. Danny and Uma are sleeping. \"*20))"
   ]
  },
  {
   "cell_type": "code",
   "execution_count": null,
   "id": "50dee518",
   "metadata": {},
   "outputs": [],
   "source": []
  }
 ],
 "metadata": {
  "kernelspec": {
   "display_name": "Python 3 (ipykernel)",
   "language": "python",
   "name": "python3"
  },
  "language_info": {
   "codemirror_mode": {
    "name": "ipython",
    "version": 3
   },
   "file_extension": ".py",
   "mimetype": "text/x-python",
   "name": "python",
   "nbconvert_exporter": "python",
   "pygments_lexer": "ipython3",
   "version": "3.12.7"
  },
  "toc": {
   "base_numbering": 1,
   "nav_menu": {},
   "number_sections": true,
   "sideBar": true,
   "skip_h1_title": false,
   "title_cell": "Table of Contents",
   "title_sidebar": "Contents",
   "toc_cell": false,
   "toc_position": {},
   "toc_section_display": true,
   "toc_window_display": false
  }
 },
 "nbformat": 4,
 "nbformat_minor": 5
}
