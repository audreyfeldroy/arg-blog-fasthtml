{
 "cells": [
  {
   "cell_type": "markdown",
   "id": "aadfe1c3",
   "metadata": {},
   "source": [
    "## Command Substitution in Bash"
   ]
  },
  {
   "cell_type": "markdown",
   "id": "f65770cd",
   "metadata": {},
   "source": [
    "## Simple Command Substitution"
   ]
  },
  {
   "cell_type": "markdown",
   "id": "240f28a5",
   "metadata": {},
   "source": [
    "Use `$()` not backticks"
   ]
  },
  {
   "cell_type": "code",
   "execution_count": null,
   "id": "eb930791",
   "metadata": {},
   "outputs": [],
   "source": [
    "%%bash\n",
    "echo \"Current directory is $(pwd)\""
   ]
  },
  {
   "cell_type": "markdown",
   "id": "fd601f39",
   "metadata": {},
   "source": [
    "It also works with backticks, but it's not the best way:"
   ]
  },
  {
   "cell_type": "code",
   "execution_count": null,
   "id": "5d11d181",
   "metadata": {},
   "outputs": [],
   "source": [
    "%%bash\n",
    "echo \"Current directory is `pwd`\""
   ]
  },
  {
   "cell_type": "markdown",
   "id": "fbd905d6",
   "metadata": {},
   "source": [
    "(Because when you nest these, you have to escape the backticks)"
   ]
  },
  {
   "cell_type": "markdown",
   "id": "4a76de87",
   "metadata": {},
   "source": [
    "## Example: Moving Untracked Files to `_drafts` Folder"
   ]
  },
  {
   "cell_type": "code",
   "execution_count": null,
   "id": "254081f4",
   "metadata": {},
   "outputs": [],
   "source": [
    "%%bash\n",
    "git ls-files --others --exclude-standard"
   ]
  },
  {
   "cell_type": "code",
   "execution_count": null,
   "id": "d72adce9",
   "metadata": {},
   "outputs": [],
   "source": [
    "%%bash\n",
    "mv $(git ls-files --others --exclude-standard) ./_drafts"
   ]
  },
  {
   "cell_type": "markdown",
   "id": "d7a514ea",
   "metadata": {},
   "source": [
    "It works for me and I'd be happy stopping here, but in the real world where files have spaces, it'll break."
   ]
  },
  {
   "cell_type": "markdown",
   "id": "5df07f35",
   "metadata": {},
   "source": [
    "## Fancy Command Substitution With `xargs`"
   ]
  },
  {
   "cell_type": "markdown",
   "id": "6bbe0c06",
   "metadata": {},
   "source": [
    "`xargs` lets you map a list to any command. Here I would use it like:"
   ]
  },
  {
   "cell_type": "markdown",
   "id": "051bb4b3",
   "metadata": {},
   "source": [
    "%%bash\n",
    "git ls-files --others --exclude-standard | xargs -I {} mv {} ./_drafts/"
   ]
  },
  {
   "cell_type": "markdown",
   "id": "044d9826",
   "metadata": {},
   "source": [
    "The untracked files list is piped to `xargs`, which lets us run a command for each line in the list. Then `mv` is run for each file in the list. "
   ]
  },
  {
   "cell_type": "markdown",
   "id": "845baf8d",
   "metadata": {},
   "source": [
    "`-I {}` is needed to put the filename somewhere other than the end of the `mv` command. Here, `-I` enables string replacement, and `{}` is the placeholder string that gets replaced."
   ]
  }
 ],
 "metadata": {
  "kernelspec": {
   "display_name": "Python 3 (ipykernel)",
   "language": "python",
   "name": "python3"
  },
  "language_info": {
   "codemirror_mode": {
    "name": "ipython",
    "version": 3
   },
   "file_extension": ".py",
   "mimetype": "text/x-python",
   "name": "python",
   "nbconvert_exporter": "python",
   "pygments_lexer": "ipython3",
   "version": "3.12.7"
  }
 },
 "nbformat": 4,
 "nbformat_minor": 5
}
